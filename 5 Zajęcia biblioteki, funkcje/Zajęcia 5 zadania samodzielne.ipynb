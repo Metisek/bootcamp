{
 "metadata": {
  "language_info": {
   "codemirror_mode": {
    "name": "ipython",
    "version": 3
   },
   "file_extension": ".py",
   "mimetype": "text/x-python",
   "name": "python",
   "nbconvert_exporter": "python",
   "pygments_lexer": "ipython3",
   "version": "3.7.9-final"
  },
  "orig_nbformat": 2,
  "kernelspec": {
   "name": "python3",
   "display_name": "Python 3.7.9 64-bit ('bootcamp': conda)",
   "metadata": {
    "interpreter": {
     "hash": "2fec4edc1429c0b0ab5d9b2e5c4f5e84226191a7c9385fb78ee37cfe586946c1"
    }
   }
  }
 },
 "nbformat": 4,
 "nbformat_minor": 2,
 "cells": [
  {
   "source": [
    "<h2> Dzisiaj ograniczyłem znacznie wykonywania kodu tak, by się nie wykrzaczał (tj.: nie ma mojej kochanej funkcji input_check). Pozwoliłem sobie na to ze względu na to, że mam dużo nadania na dziś, tj czwartek, oraz dlatego że będę jeszcze na to patrzeć w weekend (zwłaszcza zad 2) </h2>"
   ],
   "cell_type": "markdown",
   "metadata": {}
  },
  {
   "source": [
    "<h2> Zadanie 1</h2>"
   ],
   "cell_type": "markdown",
   "metadata": {}
  },
  {
   "cell_type": "code",
   "execution_count": 131,
   "metadata": {},
   "outputs": [
    {
     "output_type": "stream",
     "name": "stdout",
     "text": [
      "[22, 33, 10, 10000, 1, 1, 0, 2, 2, 3]\n[22, 33, 10, 1, 10000, 1, 0, 2, 2, 3]\n[22, 33, 10, 1, 1, 10000, 0, 2, 2, 3]\n[22, 33, 10, 1, 1, 0, 10000, 2, 2, 3]\n[22, 33, 10, 1, 1, 0, 2, 10000, 2, 3]\n[22, 33, 10, 1, 1, 0, 2, 2, 10000, 3]\n[22, 33, 10, 1, 1, 0, 2, 2, 3, 10000]\n[22, 10, 33, 1, 1, 0, 2, 2, 3, 10000]\n[22, 10, 1, 33, 1, 0, 2, 2, 3, 10000]\n[22, 10, 1, 1, 33, 0, 2, 2, 3, 10000]\n[22, 10, 1, 1, 0, 33, 2, 2, 3, 10000]\n[22, 10, 1, 1, 0, 2, 33, 2, 3, 10000]\n[22, 10, 1, 1, 0, 2, 2, 33, 3, 10000]\n[22, 10, 1, 1, 0, 2, 2, 3, 33, 10000]\n[10, 22, 1, 1, 0, 2, 2, 3, 33, 10000]\n[10, 1, 22, 1, 0, 2, 2, 3, 33, 10000]\n[10, 1, 1, 22, 0, 2, 2, 3, 33, 10000]\n[10, 1, 1, 0, 22, 2, 2, 3, 33, 10000]\n[10, 1, 1, 0, 2, 22, 2, 3, 33, 10000]\n[10, 1, 1, 0, 2, 2, 22, 3, 33, 10000]\n[10, 1, 1, 0, 2, 2, 3, 22, 33, 10000]\n[1, 10, 1, 0, 2, 2, 3, 22, 33, 10000]\n[1, 1, 10, 0, 2, 2, 3, 22, 33, 10000]\n[1, 1, 0, 10, 2, 2, 3, 22, 33, 10000]\n[1, 1, 0, 2, 10, 2, 3, 22, 33, 10000]\n[1, 1, 0, 2, 2, 10, 3, 22, 33, 10000]\n[1, 1, 0, 2, 2, 3, 10, 22, 33, 10000]\n[1, 0, 1, 2, 2, 3, 10, 22, 33, 10000]\n[0, 1, 1, 2, 2, 3, 10, 22, 33, 10000]\n[0, 1, 1, 2, 2, 3, 10, 22, 33, 10000]\n"
     ]
    }
   ],
   "source": [
    "def sortowanie(l):\n",
    "    x = len(l)\n",
    "    while x >= 1:\n",
    "        for i in range(0, x-1):\n",
    "            if l[i] > l[i+1]:\n",
    "                temp = l[i+1]\n",
    "                l[i+1] = l[i]\n",
    "                l[i] = temp\n",
    "                print(l)\n",
    "        x -= 1\n",
    "    return(l)\n",
    "\n",
    "print(sortowanie([22,33,10000,10,1,1,0,2,2,3]))"
   ]
  },
  {
   "source": [
    "<h2> Zadanie 2 </h2>"
   ],
   "cell_type": "markdown",
   "metadata": {}
  },
  {
   "cell_type": "code",
   "execution_count": 169,
   "metadata": {},
   "outputs": [
    {
     "output_type": "stream",
     "name": "stdout",
     "text": [
      "1. Trójkąt jest równoboczny.\n2. Trójkąt nie jest równoboczny.\n3. Zmienna nie jest listą\n4. Zła ilość zmiennych w liście\n5. Trójkąt nie jest równoboczny.\n15.588457268119896\n30.0\nNiepoprawne dane\nNiepoprawne dane\nNiepoprawne dane\nCacheInfo(hits=0, misses=1, maxsize=128, currsize=1)\n"
     ]
    }
   ],
   "source": [
    "import functools\n",
    "\n",
    "# Szczerze pierwszym pomysłem było to, aby odpowiednio połączyć zmienne tak, by był format w stylu:\n",
    "#\n",
    "# 1. Trójkąt jest równoboczny\n",
    "# 10.8253.....\n",
    "# 2. Trójkąt nie jest równoboczny\n",
    "# 30.0\n",
    "#\n",
    "# Nie jak jest obecnie. Zapewne jest na to sposób, aczkolwiek dam sobie czas z większym zrozumieniem wrapperów, na razie jestem zadowolony.\n",
    "#\n",
    "# Zapewne pobawię się tym w weekend jeszcze, zwłaszcza ze stworzeniem włąsnej funkcji robiącej cache, bez uzycia lru_cache\n",
    "#\n",
    "# Dodatkowo ograniczyłem ilość \"checków\", także podanie listy ze stringami o długości 3 wykrzaczy program\n",
    "\n",
    "@functools.lru_cache()\n",
    "def funkcja(x):\n",
    "    def dekorator(*y, **kwz):\n",
    "        for i in range(0, len(y)):\n",
    "            if type(y[i]) != list:\n",
    "                print(\"{}. Zmienna nie jest listą\".format(i+1))\n",
    "            elif len(y[i]) != 3:\n",
    "                print(\"{}. Zła ilość zmiennych w liście\".format(i+1))\n",
    "            else:\n",
    "                print(\"{}. Trójkąt {} równoboczny.\".format(i+1,\"jest\" if y[i][0] == y[i][1] and y[i][1] == y[i][2] else \"nie jest\"))\n",
    "        result = x(*y, *kwz)\n",
    "        return result\n",
    "    return dekorator\n",
    "\n",
    "\n",
    "@funkcja\n",
    "#@functools.lru_cache() Tutaj z jakiegoś powodu nie chce działać (błąd linii 44, unhashable type: 'list')\n",
    "def Herona(*args):\n",
    "    for i in range (0, len(args)):\n",
    "        if type(args[i]) == list:\n",
    "            if len(args[i]) == 3:\n",
    "                args[i].sort()\n",
    "                if args[i][0] + args[i][1] > args[i][2]:\n",
    "                    p = (args[i][0]+args[i][1]+args[i][2])/2\n",
    "                    pole = (p*(p-args[i][0])*(p-args[i][1])*(p-args[i][2]))**(1/2)\n",
    "                    print(pole)\n",
    "                    continue\n",
    "        print(\"Niepoprawne dane\")\n",
    "        continue   \n",
    "Herona([6,6,6], [12,13,5], \" \", [2,2], [3,10,2])\n",
    "print(funkcja.cache_info())"
   ]
  },
  {
   "source": [
    "<h2> Zadanie 3</h2>"
   ],
   "cell_type": "markdown",
   "metadata": {}
  },
  {
   "cell_type": "code",
   "execution_count": 199,
   "metadata": {},
   "outputs": [
    {
     "output_type": "stream",
     "name": "stdout",
     "text": [
      "Funkcja \"Kotek\" została uruchomiona o 22:02:25\nMiau Miau\n"
     ]
    }
   ],
   "source": [
    "import functools\n",
    "from datetime import datetime\n",
    "def funkcja(x):\n",
    "    def dekorator(*y, **kwz):\n",
    "        teraz = datetime.now()\n",
    "        print(\"Funkcja \\\"{}\\\" została uruchomiona o {}\".format(x.__name__, teraz.strftime(\"%H:%m:%S\")))\n",
    "        result = x(*y, *kwz)\n",
    "        return result\n",
    "    return dekorator\n",
    "\n",
    "@funkcja\n",
    "def Kotek():\n",
    "    print(\"Miau Miau\")\n",
    "Kotek()"
   ]
  },
  {
   "source": [
    "<h2> Zadanie 4</h2>"
   ],
   "cell_type": "markdown",
   "metadata": {}
  },
  {
   "cell_type": "code",
   "execution_count": 282,
   "metadata": {},
   "outputs": [
    {
     "output_type": "stream",
     "name": "stdout",
     "text": [
      "0.5\n"
     ]
    }
   ],
   "source": [
    "from math import sin, cos, tan\n",
    "from math import pi as lpi\n",
    "\n",
    "def rounding(x):\n",
    "    x = round(x, 3)\n",
    "    return(x)\n",
    "# Wyliczanie sinusa, cosinusa, tangensa z wartosci danego kąta.\n",
    "\n",
    "def trygo(znak):\n",
    "    znak = znak.casefold()\n",
    "    if znak == \"sinus\" or znak == \"sin\":\n",
    "        def f(kat):\n",
    "            k = (sin(kat/(180/lpi)))\n",
    "            return(rounding(k))\n",
    "        return f\n",
    "    elif znak == \"cosinus\" or znak == \"cos\":\n",
    "        def f(kat):\n",
    "            k = (cos(kat/(180/lpi)))\n",
    "            return(rounding(k))\n",
    "        return f\n",
    "    elif znak == \"tangens\" or znak == \"tg\":\n",
    "        def f(kat):\n",
    "            k = (tan(kat/(180/lpi)))\n",
    "            return(rounding(k))\n",
    "        return f\n",
    "    else: return False\n",
    "\n",
    "tryg = trygo(input(\"Podaj funkcję trygonometryczną: (sin)us, (cos)inus, tangens (tg): \"))\n",
    "if tryg != False:\n",
    "    print(tryg(int(input(\"Podaj kąt do wyliczenia funkcji trygonometrycznej podanej wcześniej: \"))))\n"
   ]
  },
  {
   "source": [
    "<h2> Zadanie 5 </h2>"
   ],
   "cell_type": "markdown",
   "metadata": {}
  },
  {
   "cell_type": "code",
   "execution_count": 267,
   "metadata": {},
   "outputs": [
    {
     "output_type": "stream",
     "name": "stdout",
     "text": [
      "2.0\n"
     ]
    }
   ],
   "source": [
    "def pole(a, b, h, **kwargs):\n",
    "    if 'skaluj' in kwargs.keys():\n",
    "        return((((a+b)*h)/2)*(kwargs['skaluj']**2))\n",
    "    else:\n",
    "        return(((a+b)*h)/2)\n",
    "a = list(map(float, input(\"Podaj a, b, h oraz ewentualnie przeskalowanie figury przez skalę k: \").split()))\n",
    "if len(a) == 3:\n",
    "    print(pole(*a))\n",
    "elif len(a) == 4:\n",
    "    k = a[-1]\n",
    "    a.pop(-1)\n",
    "    print(pole(*a, skaluj=k))\n",
    "else:\n",
    "    print(\"Podano złą ilość danych\")"
   ]
  },
  {
   "cell_type": "code",
   "execution_count": null,
   "metadata": {},
   "outputs": [],
   "source": []
  }
 ]
}