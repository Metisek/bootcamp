{
 "cells": [
  {
   "cell_type": "markdown",
   "metadata": {},
   "source": [
    "<h1> Zajęcia 5</h1>\n",
    "<h3> Instalowanie pandas w conda </h3>\n",
    "conda install -c anaconda pandas"
   ]
  },
  {
   "cell_type": "markdown",
   "metadata": {},
   "source": [
    "Importowanie bibliotek"
   ]
  },
  {
   "cell_type": "code",
   "execution_count": 1,
   "metadata": {},
   "outputs": [],
   "source": [
    "import pandas as pd\n",
    "\n",
    "from pandas import *"
   ]
  },
  {
   "cell_type": "markdown",
   "metadata": {},
   "source": [
    "<h3> Definiowanie funkcji </h3>"
   ]
  },
  {
   "cell_type": "code",
   "execution_count": 4,
   "metadata": {},
   "outputs": [
    {
     "name": "stdout",
     "output_type": "stream",
     "text": [
      "81\n",
      "Hello\n",
      "<class 'function'>\n",
      "Cześć Mateusz\n",
      "Cześć Mati\n"
     ]
    }
   ],
   "source": [
    "x2 = lambda x: x**2\n",
    "\n",
    "print(x2(9))\n",
    "\n",
    "def hello():\n",
    "    print(\"Hello\")\n",
    "    \n",
    "hello()\n",
    "print(type(hello))\n",
    "\n",
    "def betterHello(imie):\n",
    "    print(\"Cześć {}\".format(imie))\n",
    "    \n",
    "betterHello(\"Mateusz\")\n",
    "betterHello(\"Mati\")"
   ]
  },
  {
   "cell_type": "code",
   "execution_count": 3,
   "metadata": {},
   "outputs": [
    {
     "name": "stdout",
     "output_type": "stream",
     "text": [
      "12\n",
      "dy\n",
      "[3, 4, 5, 10, 9, 8]\n"
     ]
    },
    {
     "ename": "TypeError",
     "evalue": "unsupported operand type(s) for +: 'int' and 'str'",
     "output_type": "error",
     "traceback": [
      "\u001b[1;31m---------------------------------------------------------------------------\u001b[0m",
      "\u001b[1;31mTypeError\u001b[0m                                 Traceback (most recent call last)",
      "\u001b[1;32m<ipython-input-3-3899a7ec59f1>\u001b[0m in \u001b[0;36m<module>\u001b[1;34m\u001b[0m\n\u001b[0;32m      7\u001b[0m \u001b[0mdodawanie\u001b[0m\u001b[1;33m(\u001b[0m\u001b[1;33m[\u001b[0m\u001b[1;36m3\u001b[0m\u001b[1;33m,\u001b[0m\u001b[1;36m4\u001b[0m\u001b[1;33m,\u001b[0m\u001b[1;36m5\u001b[0m\u001b[1;33m]\u001b[0m\u001b[1;33m,\u001b[0m\u001b[1;33m[\u001b[0m\u001b[1;36m10\u001b[0m\u001b[1;33m,\u001b[0m\u001b[1;36m9\u001b[0m\u001b[1;33m,\u001b[0m\u001b[1;36m8\u001b[0m\u001b[1;33m]\u001b[0m\u001b[1;33m)\u001b[0m\u001b[1;33m\u001b[0m\u001b[1;33m\u001b[0m\u001b[0m\n\u001b[0;32m      8\u001b[0m \u001b[1;33m\u001b[0m\u001b[0m\n\u001b[1;32m----> 9\u001b[1;33m \u001b[0mdodawanie\u001b[0m\u001b[1;33m(\u001b[0m\u001b[1;36m5\u001b[0m\u001b[1;33m,\u001b[0m \u001b[1;34m\"ty\"\u001b[0m\u001b[1;33m)\u001b[0m\u001b[1;33m\u001b[0m\u001b[1;33m\u001b[0m\u001b[0m\n\u001b[0m",
      "\u001b[1;32m<ipython-input-3-3899a7ec59f1>\u001b[0m in \u001b[0;36mdodawanie\u001b[1;34m(a, b)\u001b[0m\n\u001b[0;32m      1\u001b[0m \u001b[1;32mdef\u001b[0m \u001b[0mdodawanie\u001b[0m\u001b[1;33m(\u001b[0m\u001b[0ma\u001b[0m\u001b[1;33m,\u001b[0m \u001b[0mb\u001b[0m\u001b[1;33m)\u001b[0m\u001b[1;33m:\u001b[0m\u001b[1;33m\u001b[0m\u001b[1;33m\u001b[0m\u001b[0m\n\u001b[1;32m----> 2\u001b[1;33m     \u001b[0mprint\u001b[0m\u001b[1;33m(\u001b[0m\u001b[0ma\u001b[0m\u001b[1;33m+\u001b[0m\u001b[0mb\u001b[0m\u001b[1;33m)\u001b[0m\u001b[1;33m\u001b[0m\u001b[1;33m\u001b[0m\u001b[0m\n\u001b[0m\u001b[0;32m      3\u001b[0m \u001b[1;33m\u001b[0m\u001b[0m\n\u001b[0;32m      4\u001b[0m \u001b[0mdodawanie\u001b[0m\u001b[1;33m(\u001b[0m\u001b[1;36m4\u001b[0m\u001b[1;33m,\u001b[0m \u001b[1;36m8\u001b[0m\u001b[1;33m)\u001b[0m\u001b[1;33m\u001b[0m\u001b[1;33m\u001b[0m\u001b[0m\n\u001b[0;32m      5\u001b[0m \u001b[0mdodawanie\u001b[0m\u001b[1;33m(\u001b[0m\u001b[1;34m\"d\"\u001b[0m\u001b[1;33m,\u001b[0m \u001b[1;34m\"y\"\u001b[0m\u001b[1;33m)\u001b[0m\u001b[1;33m\u001b[0m\u001b[1;33m\u001b[0m\u001b[0m\n",
      "\u001b[1;31mTypeError\u001b[0m: unsupported operand type(s) for +: 'int' and 'str'"
     ]
    }
   ],
   "source": [
    "def dodawanie(a, b):\n",
    "    print(a+b)\n",
    "\n",
    "dodawanie(4, 8)\n",
    "dodawanie(\"d\", \"y\")\n",
    "\n",
    "dodawanie([3,4,5],[10,9,8])\n",
    "\n",
    "dodawanie(5, \"ty\")"
   ]
  },
  {
   "cell_type": "code",
   "execution_count": 6,
   "metadata": {},
   "outputs": [
    {
     "name": "stdout",
     "output_type": "stream",
     "text": [
      "[1, 8, 27, 64, 125]\n",
      "Nie podano liczby\n"
     ]
    }
   ],
   "source": [
    "def cube(domain):\n",
    "    if type(domain) == type([]):\n",
    "        cubed = list(map(lambda x: x**3, domain))\n",
    "        print(cubed)\n",
    "    else: print(\"Nie podano liczby\")\n",
    "\n",
    "cube([1,2,3,4,5])\n",
    "cube(90)\n"
   ]
  },
  {
   "cell_type": "code",
   "execution_count": 17,
   "metadata": {},
   "outputs": [
    {
     "name": "stdout",
     "output_type": "stream",
     "text": [
      "{'p': 'd', 'i': 'o', 'e': 'g'} {'kot': 'cat', 'pies': 'dog'}\n"
     ]
    }
   ],
   "source": [
    "def giveObj(keys, values):\n",
    "    obj = {}\n",
    "    for key, value in zip(keys, values): obj[key] = value\n",
    "    return obj\n",
    "a = giveObj(\"pies\", \"dog\")\n",
    "b = giveObj([\"kot\", \"pies\"], [\"cat\", \"dog\"])\n",
    "print(a, b)"
   ]
  },
  {
   "cell_type": "code",
   "execution_count": 4,
   "metadata": {},
   "outputs": [
    {
     "ename": "AttributeError",
     "evalue": "'str' object has no attribute 'keys'",
     "output_type": "error",
     "traceback": [
      "\u001b[1;31m---------------------------------------------------------------------------\u001b[0m",
      "\u001b[1;31mAttributeError\u001b[0m                            Traceback (most recent call last)",
      "\u001b[1;32m<ipython-input-4-563525cc4a46>\u001b[0m in \u001b[0;36m<module>\u001b[1;34m\u001b[0m\n\u001b[0;32m      4\u001b[0m     \u001b[1;32mreturn\u001b[0m \u001b[0mkeys\u001b[0m\u001b[1;33m,\u001b[0m \u001b[0mvalues\u001b[0m\u001b[1;33m\u001b[0m\u001b[1;33m\u001b[0m\u001b[0m\n\u001b[0;32m      5\u001b[0m \u001b[1;33m\u001b[0m\u001b[0m\n\u001b[1;32m----> 6\u001b[1;33m \u001b[0mklucze\u001b[0m\u001b[1;33m,\u001b[0m \u001b[0mwartości\u001b[0m \u001b[1;33m=\u001b[0m \u001b[0msplitObj\u001b[0m\u001b[1;33m(\u001b[0m\u001b[1;34m\"myOutput\"\u001b[0m\u001b[1;33m)\u001b[0m\u001b[1;33m\u001b[0m\u001b[1;33m\u001b[0m\u001b[0m\n\u001b[0m\u001b[0;32m      7\u001b[0m \u001b[0mprint\u001b[0m\u001b[1;33m(\u001b[0m\u001b[0mklucze\u001b[0m\u001b[1;33m,\u001b[0m \u001b[0mwartości\u001b[0m\u001b[1;33m)\u001b[0m\u001b[1;33m\u001b[0m\u001b[1;33m\u001b[0m\u001b[0m\n",
      "\u001b[1;32m<ipython-input-4-563525cc4a46>\u001b[0m in \u001b[0;36msplitObj\u001b[1;34m(obj)\u001b[0m\n\u001b[0;32m      1\u001b[0m \u001b[1;32mdef\u001b[0m \u001b[0msplitObj\u001b[0m\u001b[1;33m(\u001b[0m\u001b[0mobj\u001b[0m\u001b[1;33m)\u001b[0m\u001b[1;33m:\u001b[0m\u001b[1;33m\u001b[0m\u001b[1;33m\u001b[0m\u001b[0m\n\u001b[1;32m----> 2\u001b[1;33m     \u001b[0mkeys\u001b[0m \u001b[1;33m=\u001b[0m \u001b[0mlist\u001b[0m\u001b[1;33m(\u001b[0m\u001b[0mobj\u001b[0m\u001b[1;33m.\u001b[0m\u001b[0mkeys\u001b[0m\u001b[1;33m(\u001b[0m\u001b[1;33m)\u001b[0m\u001b[1;33m)\u001b[0m\u001b[1;33m\u001b[0m\u001b[1;33m\u001b[0m\u001b[0m\n\u001b[0m\u001b[0;32m      3\u001b[0m     \u001b[0mvalues\u001b[0m \u001b[1;33m=\u001b[0m \u001b[0mlist\u001b[0m\u001b[1;33m(\u001b[0m\u001b[0mobj\u001b[0m\u001b[1;33m.\u001b[0m\u001b[0mvalues\u001b[0m\u001b[1;33m(\u001b[0m\u001b[1;33m)\u001b[0m\u001b[1;33m)\u001b[0m\u001b[1;33m\u001b[0m\u001b[1;33m\u001b[0m\u001b[0m\n\u001b[0;32m      4\u001b[0m     \u001b[1;32mreturn\u001b[0m \u001b[0mkeys\u001b[0m\u001b[1;33m,\u001b[0m \u001b[0mvalues\u001b[0m\u001b[1;33m\u001b[0m\u001b[1;33m\u001b[0m\u001b[0m\n\u001b[0;32m      5\u001b[0m \u001b[1;33m\u001b[0m\u001b[0m\n",
      "\u001b[1;31mAttributeError\u001b[0m: 'str' object has no attribute 'keys'"
     ]
    }
   ],
   "source": [
    "def splitObj(obj):\n",
    "    keys = list(obj.keys())\n",
    "    values = list(obj.values())\n",
    "    return keys, values\n",
    "\n",
    "klucze, wartości = splitObj(\"myOutput\")\n",
    "print(klucze, wartości)"
   ]
  },
  {
   "cell_type": "code",
   "execution_count": 8,
   "metadata": {},
   "outputs": [
    {
     "name": "stdout",
     "output_type": "stream",
     "text": [
      "<class 'function'>\n",
      "aa 12 27\n"
     ]
    }
   ],
   "source": [
    "# Ta funkcja zwraca funkcję f z dodawaniem (zagnieżdżanie funkcji w funkcji)\n",
    "def calculation(sign):\n",
    "    if sign == \"+\":\n",
    "        def f(a, b):\n",
    "            return(a + b)\n",
    "        return f\n",
    "    elif sign == \"-\":\n",
    "        def f(a, b):\n",
    "            return(a - b)\n",
    "        return f\n",
    "    elif sign == \"*\":\n",
    "        def f(a, b):\n",
    "            return(a * b)\n",
    "        return f\n",
    "    else: return None\n",
    "\n",
    "mojeDodawanie = calculation(\"+\")\n",
    "print(type(mojeDodawanie))\n",
    "suma = mojeDodawanie(9, 3)\n",
    "    \n",
    "mojeMnozenie = calculation(\"*\")\n",
    "mnozenie = mojeMnozenie(9, 3)\n",
    "\n",
    "print(suma, mnozenie)"
   ]
  },
  {
   "cell_type": "code",
   "execution_count": null,
   "metadata": {},
   "outputs": [],
   "source": [
    "def poleTrapezu(a, b, h):\n",
    "    print(\"Pole trapezu to {}\".format((a+b)*h/2))\n",
    "poleTrapezu(10,6,7)\n",
    "poleTrapezu(b=6, a=7, h=6)\n",
    "\n",
    "poleTrapezu (10, h=7, b=6)"
   ]
  },
  {
   "cell_type": "code",
   "execution_count": 12,
   "metadata": {},
   "outputs": [
    {
     "name": "stdout",
     "output_type": "stream",
     "text": [
      "Pole trapezu to 22.75\n",
      "Pole trapezu to 36.75\n"
     ]
    }
   ],
   "source": [
    "# Wartości domyślne\n",
    "\n",
    "def poleTrapezu(a=10, b=6, h=7):\n",
    "    print(\"Pole trapezu to {}\".format((a+b)*h/2))\n",
    "\n",
    "poleTrapezu(0.5)\n",
    "poleTrapezu(b=0.5)"
   ]
  },
  {
   "cell_type": "code",
   "execution_count": 11,
   "metadata": {},
   "outputs": [
    {
     "name": "stdout",
     "output_type": "stream",
     "text": [
      "Pole trapezu to 56.0\n"
     ]
    }
   ],
   "source": [
    "def poleTrapezu(a, b, h, Drukuj = True):\n",
    "    if Drukuj == True:\n",
    "        print(\"Pole trapezu to {}\".format((a+b)*h/2))\n",
    "\n",
    "poleTrapezu(10, 6, 7)\n",
    "poleTrapezu(10, 6, 7, False)"
   ]
  },
  {
   "cell_type": "code",
   "execution_count": 16,
   "metadata": {},
   "outputs": [
    {
     "name": "stdout",
     "output_type": "stream",
     "text": [
      "Należy kupić:\n",
      "Jajka\n",
      "Chleb\n",
      "Bułki\n",
      "Masło\n"
     ]
    }
   ],
   "source": [
    "def listaZakupow(lista):\n",
    "    print(\"Należy kupić:\")\n",
    "    for x in lista: print(x)\n",
    "        \n",
    "listaRzeczy = [\"Jajka\", \"Chleb\", \"Bułki\", \"Masło\"]\n",
    "\n",
    "listaZakupow(listaRzeczy)"
   ]
  },
  {
   "cell_type": "code",
   "execution_count": 17,
   "metadata": {},
   "outputs": [
    {
     "name": "stdout",
     "output_type": "stream",
     "text": [
      "należy kupić:\n",
      "Mleko\n",
      "Jajka\n"
     ]
    }
   ],
   "source": [
    "def listaZakupow(*args):\n",
    "    print(\"Należy kupić:\")\n",
    "    for x in args: print(x)\n",
    "listaZakupow(\"Mleko\", \"Jajka\")"
   ]
  },
  {
   "cell_type": "code",
   "execution_count": 20,
   "metadata": {},
   "outputs": [
    {
     "name": "stdout",
     "output_type": "stream",
     "text": [
      "[1, 3, [1, 2, 3, 4, 5], 'Tekst', True]\n"
     ]
    }
   ],
   "source": [
    "def przyklad(*args):\n",
    "    print(list(args))\n",
    "przyklad(1, 3, [1,2,3,4,5], \"Tekst\", True)"
   ]
  },
  {
   "cell_type": "code",
   "execution_count": 32,
   "metadata": {},
   "outputs": [
    {
     "name": "stdout",
     "output_type": "stream",
     "text": [
      "Należy kupić: \n",
      "- Mleko PIS\n",
      "- Jajka PIS\n",
      "- Chleb PIS\n"
     ]
    }
   ],
   "source": [
    "def listaZakupowPro(*args, **kwargs):\n",
    "    print(\"Należy kupić: \")\n",
    "    if 'punktor' in kwargs.keys() and 'konieclinii' in kwargs.keys():\n",
    "        for x in args:\n",
    "            print(kwargs['punktor'], x, kwargs['konieclinii'])\n",
    "    else:\n",
    "        for x in args: print(x)\n",
    "\n",
    "listaZakupowPro(\"Mleko\", \"Jajka\", \"Chleb\", punktor = '-', konieclinii = \"PIS\")"
   ]
  },
  {
   "cell_type": "code",
   "execution_count": 29,
   "metadata": {},
   "outputs": [
    {
     "name": "stdout",
     "output_type": "stream",
     "text": [
      "{'opcja1': 1, 'opcja2': 2, 'opcja3': 3, 'imie': 'Tomek'}\n",
      "JAKIS TEKSTkoniec printu"
     ]
    }
   ],
   "source": [
    "def przyklad(**kwargs):\n",
    "    print(kwargs)\n",
    "    \n",
    "przyklad(opcja1=1, opcja2=2, opcja3=3, imie=\"Tomek\")\n",
    "\n",
    "print(\"JAKIS TEKST\", end=\"koniec printu\")"
   ]
  },
  {
   "cell_type": "code",
   "execution_count": null,
   "metadata": {},
   "outputs": [],
   "source": []
  }
 ],
 "metadata": {
  "kernelspec": {
   "display_name": "Python 3",
   "language": "python",
   "name": "python3"
  },
  "language_info": {
   "codemirror_mode": {
    "name": "ipython",
    "version": 3
   },
   "file_extension": ".py",
   "mimetype": "text/x-python",
   "name": "python",
   "nbconvert_exporter": "python",
   "pygments_lexer": "ipython3",
   "version": "3.7.9"
  }
 },
 "nbformat": 4,
 "nbformat_minor": 4
}
