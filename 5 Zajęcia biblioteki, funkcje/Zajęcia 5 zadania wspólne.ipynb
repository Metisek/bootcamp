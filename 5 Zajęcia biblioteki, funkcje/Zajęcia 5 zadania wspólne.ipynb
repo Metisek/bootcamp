{
 "metadata": {
  "language_info": {
   "codemirror_mode": {
    "name": "ipython",
    "version": 3
   },
   "file_extension": ".py",
   "mimetype": "text/x-python",
   "name": "python",
   "nbconvert_exporter": "python",
   "pygments_lexer": "ipython3",
   "version": "3.7.9-final"
  },
  "orig_nbformat": 2,
  "kernelspec": {
   "name": "python3",
   "display_name": "Python 3.7.9 64-bit ('bootcamp': conda)",
   "metadata": {
    "interpreter": {
     "hash": "2fec4edc1429c0b0ab5d9b2e5c4f5e84226191a7c9385fb78ee37cfe586946c1"
    }
   }
  }
 },
 "nbformat": 4,
 "nbformat_minor": 2,
 "cells": [
  {
   "source": [
    "Zadanie 1"
   ],
   "cell_type": "markdown",
   "metadata": {}
  },
  {
   "cell_type": "code",
   "execution_count": 5,
   "metadata": {},
   "outputs": [
    {
     "output_type": "stream",
     "name": "stdout",
     "text": [
      "Objętość kuli: 113.0973\n"
     ]
    }
   ],
   "source": [
    "import math\n",
    "def kula(r):\n",
    "    V = ((4/3)*(math.pi)*r**3)\n",
    "    V = round(V,4)\n",
    "    print(\"Objętość kuli:\", V )\n",
    "\n",
    "kula(int(input()))"
   ]
  },
  {
   "source": [
    "Zadanie 2"
   ],
   "cell_type": "markdown",
   "metadata": {}
  },
  {
   "cell_type": "code",
   "execution_count": 7,
   "metadata": {},
   "outputs": [
    {
     "output_type": "stream",
     "name": "stdout",
     "text": [
      "12\n1\n"
     ]
    }
   ],
   "source": [
    "def najwieksza(*args):\n",
    "    print(max(args))\n",
    "def najmniejsza(*args):\n",
    "    print(min(args))\n",
    "\n",
    "najwieksza(1, 4, 6, 12)\n",
    "najmniejsza(1, 4, 6, 12)"
   ]
  },
  {
   "source": [
    "Zadanie 4"
   ],
   "cell_type": "markdown",
   "metadata": {}
  },
  {
   "cell_type": "code",
   "execution_count": 17,
   "metadata": {},
   "outputs": [
    {
     "output_type": "stream",
     "name": "stdout",
     "text": [
      "True\n"
     ]
    }
   ],
   "source": [
    "import math\n",
    "\n",
    "def prime(x):\n",
    "    for i in range (2, int(math.sqrt(x) + 1)):\n",
    "        if i % x == 0:\n",
    "            return False\n",
    "        else:\n",
    "            return True\n",
    "\n",
    "print(prime(4))"
   ]
  },
  {
   "source": [
    "Zadanie 5"
   ],
   "cell_type": "markdown",
   "metadata": {}
  },
  {
   "cell_type": "code",
   "execution_count": 27,
   "metadata": {},
   "outputs": [
    {
     "output_type": "stream",
     "name": "stdout",
     "text": [
      "Wylosowana liczba:  3.2650148328161994\n",
      "Sin:  -0.12310906875393408\n",
      "Cos:  -0.9923931464850708\n"
     ]
    },
    {
     "output_type": "error",
     "ename": "AttributeError",
     "evalue": "module 'math' has no attribute 'tag'",
     "traceback": [
      "\u001b[1;31m---------------------------------------------------------------------------\u001b[0m",
      "\u001b[1;31mAttributeError\u001b[0m                            Traceback (most recent call last)",
      "\u001b[1;32m<ipython-input-27-746c133746ed>\u001b[0m in \u001b[0;36m<module>\u001b[1;34m\u001b[0m\n\u001b[0;32m     12\u001b[0m     \u001b[0mprint\u001b[0m\u001b[1;33m(\u001b[0m\u001b[1;34m\"Tg: \"\u001b[0m\u001b[1;33m,\u001b[0m \u001b[0mmath\u001b[0m\u001b[1;33m.\u001b[0m\u001b[0mtag\u001b[0m\u001b[1;33m(\u001b[0m\u001b[0mx\u001b[0m\u001b[1;33m)\u001b[0m\u001b[1;33m)\u001b[0m\u001b[1;33m\u001b[0m\u001b[1;33m\u001b[0m\u001b[0m\n\u001b[0;32m     13\u001b[0m \u001b[1;33m\u001b[0m\u001b[0m\n\u001b[1;32m---> 14\u001b[1;33m \u001b[0mtryg\u001b[0m\u001b[1;33m(\u001b[0m\u001b[1;33m)\u001b[0m\u001b[1;33m\u001b[0m\u001b[1;33m\u001b[0m\u001b[0m\n\u001b[0m",
      "\u001b[1;32m<ipython-input-27-746c133746ed>\u001b[0m in \u001b[0;36mtryg\u001b[1;34m()\u001b[0m\n\u001b[0;32m     10\u001b[0m     \u001b[0mprint\u001b[0m\u001b[1;33m(\u001b[0m\u001b[1;34m\"Cos: \"\u001b[0m\u001b[1;33m,\u001b[0m \u001b[0mmath\u001b[0m\u001b[1;33m.\u001b[0m\u001b[0mcos\u001b[0m\u001b[1;33m(\u001b[0m\u001b[0mx\u001b[0m\u001b[1;33m)\u001b[0m\u001b[1;33m)\u001b[0m\u001b[1;33m\u001b[0m\u001b[1;33m\u001b[0m\u001b[0m\n\u001b[0;32m     11\u001b[0m     \u001b[0mtime\u001b[0m\u001b[1;33m.\u001b[0m\u001b[0msleep\u001b[0m\u001b[1;33m(\u001b[0m\u001b[1;36m3\u001b[0m\u001b[1;33m)\u001b[0m\u001b[1;33m\u001b[0m\u001b[1;33m\u001b[0m\u001b[0m\n\u001b[1;32m---> 12\u001b[1;33m     \u001b[0mprint\u001b[0m\u001b[1;33m(\u001b[0m\u001b[1;34m\"Tg: \"\u001b[0m\u001b[1;33m,\u001b[0m \u001b[0mmath\u001b[0m\u001b[1;33m.\u001b[0m\u001b[0mtag\u001b[0m\u001b[1;33m(\u001b[0m\u001b[0mx\u001b[0m\u001b[1;33m)\u001b[0m\u001b[1;33m)\u001b[0m\u001b[1;33m\u001b[0m\u001b[1;33m\u001b[0m\u001b[0m\n\u001b[0m\u001b[0;32m     13\u001b[0m \u001b[1;33m\u001b[0m\u001b[0m\n\u001b[0;32m     14\u001b[0m \u001b[0mtryg\u001b[0m\u001b[1;33m(\u001b[0m\u001b[1;33m)\u001b[0m\u001b[1;33m\u001b[0m\u001b[1;33m\u001b[0m\u001b[0m\n",
      "\u001b[1;31mAttributeError\u001b[0m: module 'math' has no attribute 'tag'"
     ]
    }
   ],
   "source": [
    "import math\n",
    "import random\n",
    "import time\n",
    "\n",
    "def tryg():\n",
    "    x = random.uniform(0, 2*math.pi)\n",
    "    print(\"Wylosowana liczba: \", x)\n",
    "    print(\"Sin: \", math.sin(x))\n",
    "    time.sleep(3)\n",
    "    print(\"Cos: \", math.cos(x))\n",
    "    time.sleep(3)\n",
    "    print(\"Tg: \", math.tag(x))\n",
    "\n",
    "tryg()"
   ]
  },
  {
   "cell_type": "code",
   "execution_count": 38,
   "metadata": {},
   "outputs": [
    {
     "output_type": "stream",
     "name": "stdout",
     "text": [
      "m9GOII1P%PY!9Ocd4#o7M5ziNmWR6i8As\n"
     ]
    }
   ],
   "source": [
    "import random as rd\n",
    "\n",
    "znaki = ['a', 'b', 'c', 'd', 'e', 'f', 'g', 'h', 'i', 'j', 'k', 'l', 'm', 'n', 'o', 'p', 'q', 'w', 's', 't', 'u', 'w', 'x', 'y', 'z', '1', '2', '3', '4', '5', '6', '7', '8', '9', '0', '!', '@', '#', '$', '%', '^', '&', '*', '(', ')', 'A', 'B', 'C', 'D', 'E', 'F', 'G', 'H', 'I', 'J', 'K', 'L', 'M', 'N', 'O', 'P', 'Q', 'R', 'S', 'T', 'U', 'W', 'X', 'Y', 'Z']\n",
    "\n",
    "def losoweHaslo(x):\n",
    "    haslo = \"\"\n",
    "    for i in range(0, x):\n",
    "        znak = znaki[rd.randint(0, len(znaki))]\n",
    "        haslo += znak\n",
    "    return haslo\n",
    "\n",
    "print(losoweHaslo(int(input(\"Długość hasła: \"))))\n"
   ]
  },
  {
   "source": [
    "ZADANIE 10"
   ],
   "cell_type": "markdown",
   "metadata": {}
  },
  {
   "cell_type": "code",
   "execution_count": 47,
   "metadata": {},
   "outputs": [
    {
     "output_type": "stream",
     "name": "stdout",
     "text": [
      "QOoXede\nQ4LJBta\nCwgA5JU\n^J5(1tu\nJwMwLkw\n"
     ]
    }
   ],
   "source": [
    "import random as rd\n",
    "\n",
    "znaki = ['a', 'b', 'c', 'd', 'e', 'f', 'g', 'h', 'i', 'j', 'k', 'l', 'm', 'n', 'o', 'p', 'q', 'w', 's', 't', 'u', 'w', 'x', 'y', 'z', '1', '2', '3', '4', '5', '6', '7', '8', '9', '0', '!', '@', '#', '$', '%', '^', '&', '*', '(', ')', 'A', 'B', 'C', 'D', 'E', 'F', 'G', 'H', 'I', 'J', 'K', 'L', 'M', 'N', 'O', 'P', 'Q', 'R', 'S', 'T', 'U', 'W', 'X', 'Y', 'Z']\n",
    "\n",
    "def losoweHaslo(x):\n",
    "    haslo = \"\"\n",
    "    for i in range(0, x):\n",
    "        znak = znaki[rd.randint(0, len(znaki) - 1)]\n",
    "        haslo += znak\n",
    "    return haslo\n",
    "\n",
    "def losoweHasla(y, z):\n",
    "    for _ in range(0, y):\n",
    "        x = losoweHaslo(z)\n",
    "        print(x)\n",
    "    \n",
    "a = int(input(\"Podaj ilość haseł do wygenerowania: \"))\n",
    "b = int(input(\"Podaj długość każdego hasła: \"))\n",
    "\n",
    "losoweHasla(a, b)"
   ]
  },
  {
   "cell_type": "code",
   "execution_count": null,
   "metadata": {},
   "outputs": [],
   "source": []
  }
 ]
}