{
 "cells": [
  {
   "cell_type": "markdown",
   "metadata": {},
   "source": [
    "<h1> ZAJĘCIA 1 </h1>"
   ]
  },
  {
   "cell_type": "markdown",
   "metadata": {},
   "source": [
    "<h2> Podstawowe rodzaje zmiennych w Pythonie </h2>"
   ]
  },
  {
   "cell_type": "code",
   "execution_count": 1,
   "metadata": {},
   "outputs": [
    {
     "name": "stdout",
     "output_type": "stream",
     "text": [
      "<class 'int'> <class 'float'> <class 'str'> <class 'bool'> <class 'list'> <class 'tuple'> <class 'set'> <class 'dict'>\n"
     ]
    }
   ],
   "source": [
    "liczba = 22 # liczba całkowita (integer)\n",
    "liczbaf = 4.6 # liczba zmiennoprzecinkowa (float)\n",
    "imie = \"Mateusz\" # łańcuch znaków (string)\n",
    "logiczna = True  # Zmienna logiczna (boolean)\n",
    "lista = [1, 2.0, \"tekst\"] # Lista (list)\n",
    "krotka = (1, 3.0, \"to jest krotka\") # Krotka (tuple)\n",
    "zbiory = {1, 2, 3, 4, 5, 6} # Zbiór (set) (nie można mieć 2 tych samych wartosci)\n",
    "slownik = {\"pies\":\"dog\", \"kot\":\"cat\"} # Słownik (dictionary)\n",
    "print(type(liczba), type(liczbaf), type(imie), type(logiczna),\n",
    "type(lista), type(krotka), type(zbiory), type(slownik))"
   ]
  },
  {
   "cell_type": "markdown",
   "metadata": {},
   "source": [
    "<h2> Przykłądy operacji arytmetycznych </h2>"
   ]
  },
  {
   "cell_type": "code",
   "execution_count": 7,
   "metadata": {},
   "outputs": [
    {
     "name": "stdout",
     "output_type": "stream",
     "text": [
      "7\n",
      "3\n",
      "2.5\n",
      "1\n",
      "2\n",
      "10\n",
      "25\n",
      "2.23606797749979\n",
      "100\n"
     ]
    }
   ],
   "source": [
    "# Liczenie\n",
    "\n",
    "a = 5\n",
    "b = 2\n",
    "c = -100\n",
    "print(a+b)\n",
    "print(a-b)\n",
    "print(a/b)\n",
    "# Modulo z liczby\n",
    "print(a%b)\n",
    "# Reszta z dzielenia, zaokraglane do liczby calkowitej\n",
    "print(a//b)\n",
    "print(a*b)\n",
    "# Potęgowanie\n",
    "print(a**b)\n",
    "# Pierwiastkowanie\n",
    "print(a**(1/2))\n",
    "# Wartosć bezwzględna\n",
    "print(abs(c))"
   ]
  },
  {
   "cell_type": "markdown",
   "metadata": {},
   "source": [
    "Komentowanie zaznaczonego tekstu ctrl + 1 w spyderze lub ctrl + / w VS code\n",
    "<h2> Podstawianie z pomocą .format (+ przykłady z print) </h2>"
   ]
  },
  {
   "cell_type": "code",
   "execution_count": 9,
   "metadata": {},
   "outputs": [
    {
     "name": "stdout",
     "output_type": "stream",
     "text": [
      "Jan oraz Kowalski\n",
      "xXxxXxxXxxXxxXxxXxxXxxXxxXxxXxxXxxXxxXxxXxxXxxXxxXxxXxxXxxXxxXxxXxxXxxXxxXxxXxxXxxXxxXxxXx\n",
      "Mam xxx lat\n",
      "Mam 15 lat\n",
      "Mam 15 lat i mam na imię Mateusz\n"
     ]
    }
   ],
   "source": [
    "imie = \"Mateusz\"\n",
    "nazwa = \"Jan\" + \" oraz \" + \"Kowalski\" \n",
    "znaczek = 30*\"xXx\"\n",
    "print(nazwa, znaczek, sep=\"\\n\")\n",
    "\n",
    "do_wstawienia = 15\n",
    "komunikat1 = \"Mam xxx lat\"\n",
    "print(komunikat1)\n",
    "print(komunikat1.replace(\"xxx\", str(do_wstawienia)))\n",
    "komunikat1 = \"Mam {} lat i mam na imię {}\".format(do_wstawienia, imie)\n",
    "print(komunikat1)"
   ]
  },
  {
   "cell_type": "markdown",
   "metadata": {},
   "source": [
    "<h2> Formatowanie tekstu </h2>"
   ]
  },
  {
   "cell_type": "code",
   "execution_count": 3,
   "metadata": {},
   "outputs": [
    {
     "name": "stdout",
     "output_type": "stream",
     "text": [
      "To jest przykładowe zdanie do nauki języka PYTHON\n",
      "to jest przykładowe zdanie do nauki języka python\n",
      "False True\n",
      "4\n",
      "3\n",
      "To Jest Przykładowe Zdanie Do Nauki Języka Python\n",
      "e\n"
     ]
    }
   ],
   "source": [
    "tekst = 'To jest przykładowe zdanie do nauki języka PYTHON'\n",
    "print(tekst)\n",
    "# Zamiana dużych liter na małe\n",
    "print(tekst.casefold())\n",
    "# Szukanie ostatniego słowa w ciągu znaków\n",
    "print(tekst.endswith('Pythona'),tekst.endswith('PYTHON'))\n",
    "# Liczenie liter a\n",
    "print(tekst.count('a'))\n",
    "# Szukanie słowa, liczone są znaki, zaczynając od indeksu 0\n",
    "print(tekst.find('jest')) # 0 - T; 1 - o; 2 - *spacja* ; 3 - j(est)\n",
    "# Zamiana pierwszych liter słowa na duże litery i pozostałych na małe\n",
    "print(tekst.title())\n",
    "# Printowanie znaku z indeksem 4 (zaczynając od 0)\n",
    "print(tekst[4])\n"
   ]
  },
  {
   "cell_type": "markdown",
   "metadata": {},
   "source": [
    "<h2> Operacje na listach </h2>"
   ]
  },
  {
   "cell_type": "code",
   "execution_count": 11,
   "metadata": {},
   "outputs": [
    {
     "name": "stdout",
     "output_type": "stream",
     "text": [
      "4\n",
      "[10, 1, 2, 3, 4, 5, 6, 7, 8, 9, 10]\n",
      "1\n",
      "0\n",
      "[10, 1, 2, 3, 4, 6, 7, 8, 9, 10]\n",
      "10 1\n"
     ]
    }
   ],
   "source": [
    "# indeksy list liczymy od 0\n",
    "lista = [1, 2, 3, 4, 5, 6, 7, 8, 9]\n",
    "print(lista[3])\n",
    "lista.append(10) # Daje na końcy listy 10\n",
    "lista.insert(0, 10) # Daje na początku listy 10\n",
    "print(lista)\n",
    "print(lista.count(1)) # Liczy wystąpienia liczby 1\n",
    "print(lista.index(10)) # Sprawdza indeks pierwszego wystąpienia liczby 10 w liście\n",
    "lista.pop(5) # Usuwa z listy element o indeksie 5\n",
    "print(lista)\n",
    "print(max(lista), min(lista)) # Najwięsza i najmniejsza wartość w liście"
   ]
  },
  {
   "cell_type": "code",
   "execution_count": null,
   "metadata": {},
   "outputs": [],
   "source": []
  },
  {
   "cell_type": "code",
   "execution_count": 10,
   "metadata": {},
   "outputs": [
    {
     "name": "stdout",
     "output_type": "stream",
     "text": [
      "{1, 2, 3, 4, 5, 6, 7, 8, 9}\n",
      "{10}\n",
      "{8, 2, 4, 6}\n",
      "{1, 2, 3, 4, 5, 6, 7, 8, 9, 10}\n"
     ]
    }
   ],
   "source": [
    "A = {1, 2, 3, 4, 5, 6, 7, 8}\n",
    "B = {2, 4, 6, 8, 10}\n",
    "A.add(9) # Dodaje 9 do zbioru\n",
    "print(A) \n",
    "print(B.difference(A)) # B - A \n",
    "print(B.intersection(A))# B u A\n",
    "print(B.union(A)) # B v A"
   ]
  },
  {
   "cell_type": "code",
   "execution_count": null,
   "metadata": {},
   "outputs": [],
   "source": []
  }
 ],
 "metadata": {
  "kernelspec": {
   "display_name": "Python 3",
   "language": "python",
   "name": "python3"
  },
  "language_info": {
   "codemirror_mode": {
    "name": "ipython",
    "version": 3
   },
   "file_extension": ".py",
   "mimetype": "text/x-python",
   "name": "python",
   "nbconvert_exporter": "python",
   "pygments_lexer": "ipython3",
   "version": "3.7.10"
  }
 },
 "nbformat": 4,
 "nbformat_minor": 4
}
