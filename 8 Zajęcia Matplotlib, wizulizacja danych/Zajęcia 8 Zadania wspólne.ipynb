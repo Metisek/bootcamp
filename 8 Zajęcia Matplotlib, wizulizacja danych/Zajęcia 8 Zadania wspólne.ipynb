{
 "metadata": {
  "language_info": {
   "codemirror_mode": {
    "name": "ipython",
    "version": 3
   },
   "file_extension": ".py",
   "mimetype": "text/x-python",
   "name": "python",
   "nbconvert_exporter": "python",
   "pygments_lexer": "ipython3",
   "version": "3.7.10-final"
  },
  "orig_nbformat": 2,
  "kernelspec": {
   "name": "python3",
   "display_name": "Python 3.7.10 64-bit ('bootcamp': conda)",
   "metadata": {
    "interpreter": {
     "hash": "2fec4edc1429c0b0ab5d9b2e5c4f5e84226191a7c9385fb78ee37cfe586946c1"
    }
   }
  }
 },
 "nbformat": 4,
 "nbformat_minor": 2,
 "cells": [
  {
   "source": [
    "<h1> Biblioteki </h1>"
   ],
   "cell_type": "markdown",
   "metadata": {}
  },
  {
   "cell_type": "code",
   "execution_count": 2,
   "metadata": {},
   "outputs": [],
   "source": [
    "import numpy as np\n",
    "from random import randint\n",
    "import matplotlib.pyplot as plt\n",
    "import requests"
   ]
  },
  {
   "source": [
    "<h3> Zadanie 1 </h1>"
   ],
   "cell_type": "markdown",
   "metadata": {}
  },
  {
   "source": [
    "zad1var = np.loadtxt(\"pomiary.txt\", dtype = int)"
   ],
   "cell_type": "code",
   "metadata": {},
   "execution_count": 3,
   "outputs": []
  },
  {
   "source": [
    "<h3> Zadanie 2 </h3>"
   ],
   "cell_type": "markdown",
   "metadata": {}
  },
  {
   "cell_type": "code",
   "execution_count": 5,
   "metadata": {},
   "outputs": [
    {
     "output_type": "stream",
     "name": "stdout",
     "text": [
      "[ 98  91 100  99  99 100  96  90  98  99 100  94  98  97  97 100 100]\n[ 0  6  7  5  1  1  1  1  2  4  3  8  0 13  4  2  0]\n[51.32432432 50.43243243 52.27027027 53.16216216 48.62162162 52.08108108\n 51.86486486 46.16216216 49.43243243 55.7027027  61.24324324 54.37837838\n 45.54054054 53.08108108 51.7027027  44.48648649 45.51351351]\n[29.42333515 26.68286275 28.19301106 29.23022641 32.25183955 31.62908205\n 28.76198896 26.33209275 30.54773893 27.69609677 25.10992633 25.92541417\n 29.9283781  23.38211187 26.7095133  26.09713831 33.03120688]\n"
     ]
    }
   ],
   "source": [
    "import numpy as np\n",
    "a = np.loadtxt(\"pomiary.txt\", dtype = int) #Wczytywanie pliku\n",
    "b = a.max(axis=0) #maxymalna waetoć dla danej kolumny\n",
    "c = a.min(axis=0) #minimalna wartoć dla danej kolumny\n",
    "d = np.average(a, axis=0) #Średnia dla danej kolumny\n",
    "e = np.std(a, axis=0) #Odchylenie standardowe\n",
    "\n",
    "print(b, c, d, e, sep=\"\\n\")"
   ]
  },
  {
   "source": [
    "<h3> Zadanie 2 wykonanie alternatywne </h3>"
   ],
   "cell_type": "markdown",
   "metadata": {}
  },
  {
   "cell_type": "code",
   "execution_count": null,
   "metadata": {},
   "outputs": [],
   "source": [
    "import numpy as np\n",
    "myData = np.loadtxt('pomiary.txt')\n",
    "for column in range(myData.shape[1]):\n",
    "    print(\"Column {} analysis:\".format(str(column)))\n",
    "    print(\"- maximum value: {}\".format(str(max(myData[:, column]))))\n",
    "    print(\"- minimum value: {}\".format(str(min(myData[:, column]))))\n",
    "    print(\"- mean value: {}\".format(str(np.mean(myData[:, column]))))\n",
    "    print(\"- standard deviation: {}\".format(str(np.std(myData[:, column]))))\n",
    "    print(30*\"-\")"
   ]
  }
 ]
}