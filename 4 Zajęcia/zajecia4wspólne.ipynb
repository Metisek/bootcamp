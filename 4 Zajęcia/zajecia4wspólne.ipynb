{
 "metadata": {
  "language_info": {
   "codemirror_mode": {
    "name": "ipython",
    "version": 3
   },
   "file_extension": ".py",
   "mimetype": "text/x-python",
   "name": "python",
   "nbconvert_exporter": "python",
   "pygments_lexer": "ipython3",
   "version": "3.7.9"
  },
  "orig_nbformat": 2,
  "kernelspec": {
   "name": "python3",
   "display_name": "Python 3.7.9 64-bit ('bootcamp': conda)",
   "metadata": {
    "interpreter": {
     "hash": "2fec4edc1429c0b0ab5d9b2e5c4f5e84226191a7c9385fb78ee37cfe586946c1"
    }
   }
  }
 },
 "nbformat": 4,
 "nbformat_minor": 2,
 "cells": [
  {
   "source": [
    "<h1> Mateusz Bojarski </h1>"
   ],
   "cell_type": "markdown",
   "metadata": {}
  },
  {
   "source": [
    "<h2> Zadania </h2>"
   ],
   "cell_type": "markdown",
   "metadata": {}
  },
  {
   "cell_type": "code",
   "execution_count": 27,
   "metadata": {},
   "outputs": [
    {
     "output_type": "stream",
     "name": "stdout",
     "text": [
      "1 2 3 4 5 6 7 8 9 10 "
     ]
    }
   ],
   "source": [
    "# ZAD 1\n",
    "for i in range (1, 11):\n",
    "    print(i, end = \" \")"
   ]
  },
  {
   "cell_type": "code",
   "execution_count": 28,
   "metadata": {},
   "outputs": [
    {
     "output_type": "stream",
     "name": "stdout",
     "text": [
      "10 9 8 7 6 5 4 3 2 1 "
     ]
    }
   ],
   "source": [
    "# ZAD 2\n",
    "#for i in range (0, 10):\n",
    "#    print(10 - i)\n",
    "i = 10\n",
    "while i > 0:\n",
    "    print(i, end=\" \")\n",
    "    i -= 1"
   ]
  },
  {
   "cell_type": "code",
   "execution_count": 29,
   "metadata": {},
   "outputs": [
    {
     "output_type": "stream",
     "name": "stdout",
     "text": [
      "M a t e u s z   B o j a r s k i "
     ]
    }
   ],
   "source": [
    "# ZAD 3\n",
    "#imie = list(map(str, input(\"Podaj swoje imię i nazwisko: \")))\n",
    "#for i in imie:\n",
    "#    print(i)\n",
    "imie = str(input(\"Podaj swoje imię i nazwisko: \"))\n",
    "for i in imie:\n",
    "    print(i, end = \" \")\n"
   ]
  },
  {
   "cell_type": "code",
   "execution_count": 22,
   "metadata": {},
   "outputs": [
    {
     "output_type": "stream",
     "name": "stdout",
     "text": [
      "30\n15.0\n"
     ]
    }
   ],
   "source": [
    "# ZAD 4\n",
    "liczby = list(map(int, input(\"Podaj liczby by wyliczyć średnią arytmetyczną: \").split()))\n",
    "suma = 0\n",
    "for i in liczby:\n",
    "    suma += i\n",
    "print(suma/len(liczby))"
   ]
  },
  {
   "cell_type": "code",
   "execution_count": 26,
   "metadata": {},
   "outputs": [
    {
     "output_type": "stream",
     "name": "stdout",
     "text": [
      "-10.0 -1111.0 "
     ]
    }
   ],
   "source": [
    "# ZAD 5\n",
    "liczby = list(map(float, input(\"Podaj dowolne liczby: \").split()))\n",
    "a = []\n",
    "for i in liczby:\n",
    "    if i < 0:\n",
    "        a.append(i)\n",
    "for i in a:\n",
    "    print(i, end=\" \")"
   ]
  },
  {
   "cell_type": "code",
   "execution_count": 31,
   "metadata": {},
   "outputs": [
    {
     "output_type": "stream",
     "name": "stdout",
     "text": [
      "22.0 1110.0 22222.0 "
     ]
    }
   ],
   "source": [
    "# ZAD 6\n",
    "liczby = list(map(float, input(\"Podaj dowolne liczby: \").split()))\n",
    "a = []\n",
    "for i in liczby:\n",
    "    if i > 0:\n",
    "        a.append(i)\n",
    "for i in a:\n",
    "    print(i, end=\" \")"
   ]
  },
  {
   "cell_type": "code",
   "execution_count": 36,
   "metadata": {},
   "outputs": [
    {
     "output_type": "stream",
     "name": "stdout",
     "text": [
      "-22.0 11.0 "
     ]
    }
   ],
   "source": [
    "# ZAD 7\n",
    "liczby = list(map(float, input(\"Podaj dowolne liczby: \").split()))\n",
    "for i in range (0, len(liczby)):\n",
    "    liczby.insert(i, -liczby[i])\n",
    "    liczby.pop(i+1)\n",
    "for i in liczby:\n",
    "    print(i, end=\" \")"
   ]
  },
  {
   "cell_type": "code",
   "execution_count": 38,
   "metadata": {},
   "outputs": [
    {
     "output_type": "stream",
     "name": "stdout",
     "text": [
      "2.0 1.0 0.5 0.25 "
     ]
    }
   ],
   "source": [
    "# ZAD 8\n",
    "liczby = list(map(float, input(\"Podaj dowolne liczby: \").split()))\n",
    "for i in range (0, len(liczby)):\n",
    "    liczby.insert(i, 1/liczby[i])\n",
    "    liczby.pop(i+1)\n",
    "for i in liczby:\n",
    "    print(i, end=\" \")"
   ]
  },
  {
   "cell_type": "code",
   "execution_count": 42,
   "metadata": {},
   "outputs": [
    {
     "output_type": "stream",
     "name": "stdout",
     "text": [
      "[2, 3, 5, 7, 11, 13, 17, 19, 23, 29, 31, 37, 41, 43, 47, 53, 59, 61, 67, 71, 73, 79, 83, 89, 97, 101, 103, 107, 109, 113, 127, 131, 137, 139, 149, 151, 157, 163, 167, 173, 179, 181, 191, 193, 197, 199, 211, 223, 227, 229, 233, 239, 241, 251, 257, 263, 269, 271, 277, 281, 283, 293, 307, 311, 313, 317, 331, 337, 347, 349, 353, 359, 367, 373, 379, 383, 389, 397, 401, 409, 419, 421, 431, 433, 439, 443, 449, 457, 461, 463, 467, 479, 487, 491, 499, 503, 509, 521, 523, 541, 547, 557, 563, 569, 571, 577, 587, 593, 599, 601, 607, 613, 617, 619, 631, 641, 643, 647, 653, 659, 661, 673, 677, 683, 691, 701, 709, 719, 727, 733, 739, 743, 751, 757, 761, 769, 773, 787, 797, 809, 811, 821, 823, 827, 829, 839, 853, 857, 859, 863, 877, 881, 883, 887, 907, 911, 919, 929, 937, 941, 947, 953, 967, 971, 977, 983, 991, 997]\n"
     ]
    }
   ],
   "source": [
    "# ZAD 9\n",
    "przedzial = int(input(\"Podaj liczbę będącą końcem przedziału (liczbę x) od 2 do x: \"))\n",
    "wynik = []\n",
    "for i in range (2, przedzial):\n",
    "    checksum = 0\n",
    "    for j in range (2, i-1):\n",
    "        if i % j == 0:\n",
    "            checksum = 1\n",
    "            break\n",
    "    if checksum == 0:\n",
    "        wynik.append(i)\n",
    "print(wynik)\n"
   ]
  },
  {
   "cell_type": "code",
   "execution_count": 60,
   "metadata": {},
   "outputs": [
    {
     "output_type": "stream",
     "name": "stdout",
     "text": [
      "2 0 111\n2 1 110\n2 2 109\n2 3 108\n2 4 107\n2 5 106\n2 6 105\n2 7 104\n2 8 103\n2 9 102\n2 10 101\n2 11 100\n2 12 99\n2 13 98\n2 14 97\n2 15 96\n2 16 95\n2 17 94\n2 18 93\n2 19 92\n2 20 91\n2 21 90\n2 22 89\n2 23 88\n2 24 87\n2 25 86\n2 26 85\n2 27 84\n2 28 83\n2 29 82\n2 30 81\n2 31 80\n2 32 79\n2 33 78\n2 34 77\n2 35 76\n2 36 75\n2 37 74\n2 38 73\n2 39 72\n2 40 71\n2 41 70\n2 42 69\n2 43 68\n2 44 67\n2 45 66\n2 46 65\n2 47 64\n2 48 63\n2 49 62\n2 50 61\n2 51 60\n2 52 59\n2 53 58\n2 54 57\n2 55 56\n2 1 55\n2 3 54\n2 5 53\n2 7 52\n2 9 51\n2 11 50\n2 13 49\n2 15 48\n2 17 47\n2 19 46\n2 21 45\n2 23 44\n2 25 43\n2 27 42\n2 29 41\n2 31 40\n2 33 39\n2 35 38\n2 0 37\n2 3 36\n2 6 35\n2 9 34\n2 12 33\n2 15 32\n2 18 31\n2 21 30\n2 24 29\n2 27 28\n2 3 27\n2 7 26\n2 11 25\n2 15 24\n2 19 23\n2 1 22\n2 6 21\n2 11 20\n2 16 19\n2 3 18\n2 9 17\n2 15 16\n2 6 15\n2 13 14\n2 7 13\n2 3 12\n2 1 11\n2 1 10\n2 3 9\n2 7 8\n2 6 7\n2 3 6\n2 1 5\n2 3 4\n2 0 3\n0 1 2\n0 0 1\n110\n"
     ]
    }
   ],
   "source": [
    "# ZAD 15\n",
    "a = list(map(int, input(\"Podaj 2 liczby do wyliczenia NWD\").split()))\n",
    "for i in range (0, max(a)):\n",
    "    print(a[0] % (max(a) - i), a[1] % (max(a) - i), (max(a)-i))\n",
    "    if a[0] % (max(a) - i) == 0 and a[1] % (max(a) - i) == 0:\n",
    "        print(i)"
   ]
  },
  {
   "cell_type": "code",
   "execution_count": null,
   "metadata": {},
   "outputs": [],
   "source": []
  }
 ]
}