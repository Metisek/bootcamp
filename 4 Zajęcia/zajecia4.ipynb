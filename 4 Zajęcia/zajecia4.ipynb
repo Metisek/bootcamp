{
 "metadata": {
  "language_info": {
   "codemirror_mode": {
    "name": "ipython",
    "version": 3
   },
   "file_extension": ".py",
   "mimetype": "text/x-python",
   "name": "python",
   "nbconvert_exporter": "python",
   "pygments_lexer": "ipython3",
   "version": "3.7.9"
  },
  "orig_nbformat": 2,
  "kernelspec": {
   "name": "python3",
   "display_name": "Python 3.7.9 64-bit ('bootcamp': conda)",
   "metadata": {
    "interpreter": {
     "hash": "2fec4edc1429c0b0ab5d9b2e5c4f5e84226191a7c9385fb78ee37cfe586946c1"
    }
   }
  }
 },
 "nbformat": 4,
 "nbformat_minor": 2,
 "cells": [
  {
   "source": [
    "<h1> ZAJĘCIA 4 </h1>"
   ],
   "cell_type": "markdown",
   "metadata": {}
  },
  {
   "source": [
    "<h3> Pętla for </h3>"
   ],
   "cell_type": "markdown",
   "metadata": {}
  },
  {
   "cell_type": "code",
   "execution_count": 39,
   "metadata": {},
   "outputs": [
    {
     "output_type": "stream",
     "name": "stdout",
     "text": [
      "1\n2\n3\n4\n5\n6\n7\ncześć\n0.1\n0.2\n0.3\n0.4\n0.5\n0.6\n0.7\n0.8\na b c d e f g h i j k l m n o p q r s t u w x y z\na\nb\nc\nd\ne\nf\ng\nh\ni\nj\nk\nl\nm\nn\no\np\nq\nr\ns\nt\nu\nw\nx\ny\nz\nNie wiem jaka jest następna litera\nNie wiem jaka jest następna litera\nNie wiem jaka jest następna litera\nNie wiem jaka jest następna litera\nNie wiem jaka jest następna litera\nNie wiem jaka jest następna litera\nNie wiem jaka jest następna litera\nNie wiem jaka jest następna litera\nNie wiem jaka jest następna litera\nNie wiem jaka jest następna litera\nNie wiem jaka jest następna litera\nNie wiem jaka jest następna litera\nNie wiem jaka jest następna litera\nNie wiem jaka jest następna litera\nNie wiem jaka jest następna litera\nNie wiem jaka jest następna litera\nNie wiem jaka jest następna litera\nNie wiem jaka jest następna litera\nNie wiem jaka jest następna litera\nNie wiem jaka jest następna litera\nNie wiem jaka jest następna litera\nNie wiem jaka jest następna litera\nNie wiem jaka jest następna litera\nNie wiem jaka jest następna litera\nNie wiem jaka jest następna litera\n"
     ]
    }
   ],
   "source": [
    "lista = [1, 2, 3, 4, 5, 6, 7, \"cześć\"]\n",
    "\n",
    "for element in lista:\n",
    "    print(element)\n",
    "\n",
    "zbior = {1, 2, 3, 4, 5, 6, 7, 8}\n",
    "\n",
    "for element in zbior:\n",
    "    print(element/10)\n",
    "\n",
    "alfabet = \"abcdefghijklmnopqrstuwxyz\"\n",
    "\n",
    "print(*alfabet)\n",
    "\n",
    "for litera in alfabet: print(litera)\n",
    "\n",
    "for _ in alfabet:\n",
    "    print(\"Nie wiem jaka jest następna litera\")"
   ]
  },
  {
   "source": [
    "<h3> Funkcja lambda stara </h3>"
   ],
   "cell_type": "markdown",
   "metadata": {}
  },
  {
   "cell_type": "code",
   "execution_count": 7,
   "metadata": {},
   "outputs": [
    {
     "output_type": "stream",
     "name": "stdout",
     "text": [
      "[4, 16, 64, 256, 1024, 4096, 16384, 65536, 262144, 1048576]\n"
     ]
    }
   ],
   "source": [
    "krotka = (1, 2, 3, 4, 5, 6, 7, 8,9, 10)\n",
    "\n",
    "mojaFunkcja = lambda x: 4**x\n",
    "\n",
    "y1 = mojaFunkcja(krotka[3])\n",
    "\n",
    "wartosci = (list(map(mojaFunkcja, krotka)))\n",
    "print(wartosci)"
   ]
  },
  {
   "source": [
    "<h3> Short-hand for </h3>"
   ],
   "cell_type": "markdown",
   "metadata": {}
  },
  {
   "cell_type": "code",
   "execution_count": 10,
   "metadata": {},
   "outputs": [
    {
     "output_type": "stream",
     "name": "stdout",
     "text": [
      "4\n16\n64\n256\n1024\n4096\n16384\n65536\n262144\n1048576\n"
     ]
    }
   ],
   "source": [
    "fwykladnicza = [4**x for x in krotka]\n",
    "\n",
    "for wynik in fwykladnicza: print(wynik)"
   ]
  },
  {
   "source": [
    "<h3>Zmienna generator</h3>"
   ],
   "cell_type": "markdown",
   "metadata": {}
  },
  {
   "source": [
    "krotka = (1, 2, 3, 4, 5, 6, 7, 8,9, 10)\n",
    "gen = (4**x for x in krotka)\n",
    "print(type(gen))\n",
    "print(next(gen))\n",
    "for liczba in gen:\n",
    "    print(liczba)\n",
    "print(next(gen))"
   ],
   "cell_type": "code",
   "metadata": {},
   "execution_count": 25,
   "outputs": [
    {
     "output_type": "stream",
     "name": "stdout",
     "text": [
      "<class 'generator'>\n4\n16\n64\n256\n1024\n4096\n16384\n65536\n262144\n1048576\n"
     ]
    },
    {
     "output_type": "error",
     "ename": "StopIteration",
     "evalue": "",
     "traceback": [
      "\u001b[1;31m---------------------------------------------------------------------------\u001b[0m",
      "\u001b[1;31mStopIteration\u001b[0m                             Traceback (most recent call last)",
      "\u001b[1;32m<ipython-input-25-045145aba8c6>\u001b[0m in \u001b[0;36m<module>\u001b[1;34m\u001b[0m\n\u001b[0;32m      5\u001b[0m \u001b[1;32mfor\u001b[0m \u001b[0mliczba\u001b[0m \u001b[1;32min\u001b[0m \u001b[0mgen\u001b[0m\u001b[1;33m:\u001b[0m\u001b[1;33m\u001b[0m\u001b[1;33m\u001b[0m\u001b[0m\n\u001b[0;32m      6\u001b[0m     \u001b[0mprint\u001b[0m\u001b[1;33m(\u001b[0m\u001b[0mliczba\u001b[0m\u001b[1;33m)\u001b[0m\u001b[1;33m\u001b[0m\u001b[1;33m\u001b[0m\u001b[0m\n\u001b[1;32m----> 7\u001b[1;33m \u001b[0mprint\u001b[0m\u001b[1;33m(\u001b[0m\u001b[0mnext\u001b[0m\u001b[1;33m(\u001b[0m\u001b[0mgen\u001b[0m\u001b[1;33m)\u001b[0m\u001b[1;33m)\u001b[0m\u001b[1;33m\u001b[0m\u001b[1;33m\u001b[0m\u001b[0m\n\u001b[0m",
      "\u001b[1;31mStopIteration\u001b[0m: "
     ]
    }
   ]
  },
  {
   "source": [
    "<h3> Funkcja range </h3>"
   ],
   "cell_type": "markdown",
   "metadata": {}
  },
  {
   "source": [
    "\n",
    "zakres = range(0, 10)\n",
    "print(type(zakres))\n",
    "\n",
    "for x in zakres:\n",
    "    print(x, end=\" \")\n",
    "print(\" \")\n",
    "\n",
    "for i in range(0, 10):\n",
    "    print(10-i, end=\" \")\n",
    "print(\" \")\n",
    "\n",
    "#zakres2 = range(0, 10)\n",
    "#print(next(zakres2))\n",
    "\n",
    "znaki = \"Imię i nazwisko\"\n",
    "for index in range(len(znaki)):\n",
    "    print(znaki[index], end=\" \")\n",
    "\n",
    "mojeLiczby = [i for i in range (1, 101)]\n",
    "mojeLiczby2 = list(range(1, 101))\n",
    "print(\"\\n\",len(mojeLiczby),len(mojeLiczby2))\n",
    "\n",
    "for i in range (0, 51, 5):\n",
    "    print(i, end=\" \")\n",
    "\n",
    "for num in range(6):\n",
    "    for i in range(num):\n",
    "        print(\"*\", end=\" \")\n",
    "    print()\n",
    "\n",
    "import time\n",
    "for sekunda in range(10, -1, -1):\n",
    "    time.sleep(1)\n",
    "    print(sekunda, end=\" | \")"
   ],
   "cell_type": "code",
   "metadata": {},
   "execution_count": 50,
   "outputs": [
    {
     "output_type": "stream",
     "name": "stdout",
     "text": [
      "<class 'range'>\n",
      "0 1 2 3 4 5 6 7 8 9  \n",
      "10 9 8 7 6 5 4 3 2 1  \n",
      "I m i ę   i   n a z w i s k o \n",
      " 100 100\n",
      "0 5 10 15 20 25 30 35 40 45 50 \n",
      "* \n",
      "* * \n",
      "* * * \n",
      "* * * * \n",
      "* * * * * \n",
      "10 | 9 | 8 | 7 | 6 | 5 | 4 | 3 | 2 | 1 | 0 | "
     ]
    }
   ]
  },
  {
   "source": [
    "<h3> Łączenie 2 list</h3>"
   ],
   "cell_type": "markdown",
   "metadata": {}
  },
  {
   "cell_type": "code",
   "execution_count": 62,
   "metadata": {},
   "outputs": [
    {
     "output_type": "stream",
     "name": "stdout",
     "text": [
      "Bartosz Miśkiewicz\nKasia Tracz\n"
     ]
    }
   ],
   "source": [
    "imiona = [\"Bartosz\", \"Kasia\", \"Dodatkowe zbędne imię\"]\n",
    "nazwiska = [\"Miśkiewicz\", \"Tracz\"]\n",
    "\n",
    "#i = 0\n",
    "#for imie in imiona:\n",
    "#    print(imie, nazwiska[i])\n",
    "#    i += 1\n",
    "\n",
    "for imie, nazwisko in zip(imiona, nazwiska):\n",
    "    print(imie, nazwisko)"
   ]
  },
  {
   "source": [
    "<h3> Dodanie listy porządkowej </h3>"
   ],
   "cell_type": "markdown",
   "metadata": {}
  },
  {
   "cell_type": "code",
   "execution_count": 60,
   "metadata": {},
   "outputs": [
    {
     "output_type": "stream",
     "name": "stdout",
     "text": [
      "1 Mleko\n2 Jajka\n3 Chleb\n4 Gumy\n[(1, 'Mleko'), (2, 'Jajka'), (3, 'Chleb'), (4, 'Gumy')]\n(1, 'Mleko')\n(2, 'Jajka')\n(3, 'Chleb')\n(4, 'Gumy')\n1. Mleko\n2. Jajka\n3. Chleb\n4. Gumy\n"
     ]
    }
   ],
   "source": [
    "listaZakupow = [\"Mleko\", \"Jajka\", \"Chleb\", \"Gumy\"]\n",
    "\n",
    "i = 0\n",
    "for produkt in listaZakupow:\n",
    "    i+=1\n",
    "    print(i, produkt)\n",
    "\n",
    "listaNumerowana = enumerate(listaZakupow, start=1)\n",
    "print(list(listaNumerowana))\n",
    "\n",
    "for produkt in enumerate(listaZakupow, start=1):\n",
    "    print(produkt)\n",
    "\n",
    "for numer, produkt in enumerate(listaZakupow, start=1):\n",
    "    print(str(numer)+ '.', produkt)"
   ]
  },
  {
   "source": [
    "<h2> Pętla while </h2>"
   ],
   "cell_type": "markdown",
   "metadata": {}
  },
  {
   "cell_type": "code",
   "execution_count": 3,
   "metadata": {},
   "outputs": [],
   "source": [
    "j = 0\n",
    "\n",
    "while j < 0:\n",
    "    print(\"Robie cos\", j)\n",
    "    j += 1\n",
    "haslo = \"admin\"\n",
    "login = \"admin\"\n",
    "\n",
    "podanyLogin= input(\"Podaj login: \")\n",
    "podanyHaslo= input(\"Podaj hasło: \")\n",
    "while haslo != podanyHaslo or login !=  podanyLogin:\n",
    "    podanyLogin= input(\"Podaj login: \")\n",
    "    podanyHaslo= input(\"Podaj hasło: \")\n",
    "\n"
   ]
  },
  {
   "cell_type": "code",
   "execution_count": 6,
   "metadata": {},
   "outputs": [],
   "source": [
    "i = 0\n",
    "\n",
    "while i < 1000000:\n",
    "    pass\n",
    "    i+=1"
   ]
  },
  {
   "cell_type": "code",
   "execution_count": null,
   "metadata": {},
   "outputs": [],
   "source": []
  }
 ]
}