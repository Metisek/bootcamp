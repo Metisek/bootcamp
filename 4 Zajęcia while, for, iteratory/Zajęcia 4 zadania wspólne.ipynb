{
 "metadata": {
  "language_info": {
   "codemirror_mode": {
    "name": "ipython",
    "version": 3
   },
   "file_extension": ".py",
   "mimetype": "text/x-python",
   "name": "python",
   "nbconvert_exporter": "python",
   "pygments_lexer": "ipython3",
   "version": "3.7.9"
  },
  "orig_nbformat": 2,
  "kernelspec": {
   "name": "python3",
   "display_name": "Python 3.7.9 64-bit ('bootcamp': conda)",
   "metadata": {
    "interpreter": {
     "hash": "2fec4edc1429c0b0ab5d9b2e5c4f5e84226191a7c9385fb78ee37cfe586946c1"
    }
   }
  }
 },
 "nbformat": 4,
 "nbformat_minor": 2,
 "cells": [
  {
   "source": [
    "<h1> Mateusz Bojarski </h1>\n",
    "<p> Informacja: funkcje sprawdzające poprawność podanych typów zmiennych została pominięta ze względu na szybkość wykonywania zadań </p>"
   ],
   "cell_type": "markdown",
   "metadata": {}
  },
  {
   "cell_type": "code",
   "execution_count": 27,
   "metadata": {},
   "outputs": [
    {
     "output_type": "stream",
     "name": "stdout",
     "text": [
      "1 2 3 4 5 6 7 8 9 10 "
     ]
    }
   ],
   "source": [
    "# ZAD 1\n",
    "for i in range (1, 11):\n",
    "    print(i, end = \" \")"
   ]
  },
  {
   "cell_type": "code",
   "execution_count": 28,
   "metadata": {},
   "outputs": [
    {
     "output_type": "stream",
     "name": "stdout",
     "text": [
      "10 9 8 7 6 5 4 3 2 1 "
     ]
    }
   ],
   "source": [
    "# ZAD 2\n",
    "#for i in range (0, 10):\n",
    "#    print(10 - i)\n",
    "i = 10\n",
    "while i > 0:\n",
    "    print(i, end=\" \")\n",
    "    i -= 1"
   ]
  },
  {
   "cell_type": "code",
   "execution_count": 29,
   "metadata": {},
   "outputs": [
    {
     "output_type": "stream",
     "name": "stdout",
     "text": [
      "M a t e u s z   B o j a r s k i "
     ]
    }
   ],
   "source": [
    "# ZAD 3\n",
    "#imie = list(map(str, input(\"Podaj swoje imię i nazwisko: \")))\n",
    "#for i in imie:\n",
    "#    print(i)\n",
    "imie = str(input(\"Podaj swoje imię i nazwisko: \"))\n",
    "for i in imie:\n",
    "    print(i, end = \" \")\n"
   ]
  },
  {
   "cell_type": "code",
   "execution_count": 3,
   "metadata": {},
   "outputs": [
    {
     "output_type": "stream",
     "name": "stdout",
     "text": [
      "15.0\n"
     ]
    }
   ],
   "source": [
    "# ZAD 4\n",
    "liczby = list(map(int, input(\"Podaj liczby by wyliczyć średnią arytmetyczną: \").split()))\n",
    "suma = 0\n",
    "for i in liczby:\n",
    "    suma += i\n",
    "print(suma/len(liczby))"
   ]
  },
  {
   "cell_type": "code",
   "execution_count": 5,
   "metadata": {},
   "outputs": [
    {
     "output_type": "stream",
     "name": "stdout",
     "text": [
      "-1.0 "
     ]
    }
   ],
   "source": [
    "# ZAD 5\n",
    "liczby = list(map(float, input(\"Podaj dowolne liczby: \").split()))\n",
    "a = []\n",
    "for i in liczby:\n",
    "    if i < 0:\n",
    "        a.append(i)\n",
    "for i in a:\n",
    "    print(i, end=\" \")"
   ]
  },
  {
   "cell_type": "code",
   "execution_count": 6,
   "metadata": {},
   "outputs": [
    {
     "output_type": "stream",
     "name": "stdout",
     "text": [
      "2.0 3.0 4.0 5.0 "
     ]
    }
   ],
   "source": [
    "# ZAD 6\n",
    "liczby = list(map(float, input(\"Podaj dowolne liczby: \").split()))\n",
    "a = []\n",
    "for i in liczby:\n",
    "    if i > 0:\n",
    "        a.append(i)\n",
    "for i in a:\n",
    "    print(i, end=\" \")"
   ]
  },
  {
   "cell_type": "code",
   "execution_count": 9,
   "metadata": {},
   "outputs": [
    {
     "output_type": "stream",
     "name": "stdout",
     "text": [
      "-22.0 0.0 -10.0 "
     ]
    }
   ],
   "source": [
    "# ZAD 7\n",
    "liczby = list(map(float, input(\"Podaj dowolne liczby: \").split()))\n",
    "for i in range (0, len(liczby)):\n",
    "    if liczby[i] == 0:\n",
    "        continue\n",
    "    liczby.insert(i, -liczby[i])\n",
    "    liczby.pop(i+1)\n",
    "for i in liczby:\n",
    "    print(i, end=\" \")"
   ]
  },
  {
   "cell_type": "code",
   "execution_count": 10,
   "metadata": {},
   "outputs": [
    {
     "output_type": "stream",
     "name": "stdout",
     "text": [
      "-1.0 0.0 2.0 0.5 "
     ]
    }
   ],
   "source": [
    "# ZAD 8\n",
    "liczby = list(map(float, input(\"Podaj dowolne liczby: \").split()))\n",
    "for i in range (0, len(liczby)):\n",
    "    if liczby[i] == 0:\n",
    "        continue\n",
    "    liczby.insert(i, 1/liczby[i])\n",
    "    liczby.pop(i+1)\n",
    "for i in liczby:\n",
    "    print(i, end=\" \")"
   ]
  },
  {
   "cell_type": "code",
   "execution_count": 26,
   "metadata": {},
   "outputs": [
    {
     "output_type": "stream",
     "name": "stdout",
     "text": [
      "[2, 3, 5, 7, 11, 13, 17, 19, 23, 29, 31, 37, 41, 43, 47, 53, 59, 61, 67, 71, 73, 79, 83, 89, 97]\n"
     ]
    }
   ],
   "source": [
    "# ZAD 9\n",
    "przedzial = int(input(\"Podaj liczbę będącą końcem przedziału (liczbę x) od 2 do x: \"))\n",
    "wynik = []\n",
    "for i in range (2, przedzial):\n",
    "    for j in range (2, int(i**(1/2)+1)):\n",
    "        if i % j == 0:\n",
    "            break\n",
    "    else:\n",
    "        wynik.append(i)\n",
    "print(wynik)\n"
   ]
  },
  {
   "cell_type": "code",
   "execution_count": 15,
   "metadata": {},
   "outputs": [
    {
     "output_type": "stream",
     "name": "stdout",
     "text": [
      "111\n"
     ]
    }
   ],
   "source": [
    "# ZAD 10\n",
    "liczby = list(map(int, input(\"Podaj liczby by wybrać największą liczbę: \").split()))\n",
    "a = None\n",
    "for i in liczby:\n",
    "    if a == None or i > a:\n",
    "        a = i\n",
    "print(a)"
   ]
  },
  {
   "cell_type": "code",
   "execution_count": 16,
   "metadata": {},
   "outputs": [
    {
     "output_type": "stream",
     "name": "stdout",
     "text": [
      "-11\n"
     ]
    }
   ],
   "source": [
    "# ZAD 11\n",
    "liczby = list(map(int, input(\"Podaj liczby by wybrać najmniejszą liczbę: \").split()))\n",
    "a = None\n",
    "for i in liczby:\n",
    "    if a == None or i < a:\n",
    "        a = i\n",
    "print(a)"
   ]
  },
  {
   "cell_type": "code",
   "execution_count": null,
   "metadata": {},
   "outputs": [],
   "source": [
    "# ZAD 12\n",
    "a = input(\"Podaj liczbę całkowitą\")\n",
    "a = int(a)\n",
    "for dzielnik in range(1,a+1):\n",
    "    if a%dzielnik == 0:\n",
    "        print(\"Dzielnik tej liczby wynosi\", dzielnik)"
   ]
  },
  {
   "cell_type": "code",
   "execution_count": null,
   "metadata": {},
   "outputs": [],
   "source": [
    "# ZAD 13\n",
    "a = input(\"Podaj liczbe: \")\n",
    "#b = []\n",
    "b = list()\n",
    "b.append(a)\n",
    "while a != \"stop\":\n",
    "    a = input(\"Podaj liczbe: \")\n",
    "    if a != \"stop\":\n",
    "        b.append(a)\n",
    "s = 0\n",
    "for i in b:\n",
    "    s += int(i)\n",
    "s /= len(b)\n",
    "print(s)"
   ]
  },
  {
   "cell_type": "code",
   "execution_count": 34,
   "metadata": {},
   "outputs": [
    {
     "output_type": "stream",
     "name": "stdout",
     "text": [
      "Podane 2 liczby zgodnie z rozkładem na czyniiki pierwsze powinny być sobie równe:  13332 13332\n"
     ]
    }
   ],
   "source": [
    "# ZAD 14\n",
    "a = list(map(int, input(\"Podaj 2 liczby do wyliczenia NWW: \").split()))\n",
    "lista0, lista1 = None, None\n",
    "def pierwsze(x):\n",
    "    wynik = []\n",
    "    for i in range (2, x+1):\n",
    "        for j in range (2, int(i**(1/2)+1)):\n",
    "            if i % j == 0:\n",
    "                break\n",
    "        else:\n",
    "            wynik.append(i)\n",
    "    return wynik\n",
    "for i in range (len(a)):\n",
    "    exec(\"lista{} = []\".format(i))\n",
    "    if a[i] >= 2:\n",
    "        dzielnikipierwsze = pierwsze(a[i])\n",
    "        dzielona = a[i]\n",
    "        while dzielona > 2:\n",
    "            for j in dzielnikipierwsze:\n",
    "                if dzielona % j == 0:\n",
    "                    exec(\"lista{}.append(j)\".format(i))\n",
    "                    dzielona = dzielona / j\n",
    "                    break\n",
    "    else:\n",
    "        break\n",
    "aa = []\n",
    "b = []\n",
    "lista0.sort()\n",
    "lista1.sort()\n",
    "while len(lista0) != 0 and len(lista1) != 0:\n",
    "    if lista0[0] == lista1[0]:\n",
    "        lista0.pop(0)\n",
    "        lista1.pop(0)\n",
    "        continue\n",
    "    elif lista0[0] > lista1[0]:\n",
    "        b.append(lista1[0])\n",
    "        lista1.pop(0)\n",
    "        continue\n",
    "    elif lista0[0] < lista1[0]:\n",
    "        aa.append(lista0[0])\n",
    "        lista0.pop(0)\n",
    "        continue\n",
    "if len(lista0) != 0:\n",
    "    for i in range(len(lista0)):\n",
    "        aa.append(lista0[i])\n",
    "elif len(lista1) != 0:\n",
    "    for i in range(len(lista1)):\n",
    "        b.append(lista1[i])\n",
    "mn1 = 1\n",
    "mn2 = 1\n",
    "for i in aa:\n",
    "    mn1 = mn1 * i\n",
    "for i in b:\n",
    "    mn2 = mn2 * i\n",
    "print(\"Podane 2 liczby zgodnie z rozkładem na czyniiki pierwsze powinny być sobie równe: \",mn1*a[1], mn2*a[0])"
   ]
  },
  {
   "cell_type": "code",
   "execution_count": 41,
   "metadata": {},
   "outputs": [
    {
     "output_type": "stream",
     "name": "stdout",
     "text": [
      "NWD: 22\nNWW: 44.0\n"
     ]
    }
   ],
   "source": [
    "# ZAD 14 i 15 rozwiązanie Kuby\n",
    "a = int(input(\"Podaj a: \"))\n",
    "b = int(input(\"Podaj b: \"))\n",
    "pomA = a\n",
    "pomB = b\n",
    "while pomB > 0:\n",
    "    r = pomA % pomB\n",
    "    pomA = pomB\n",
    "    pomB = r\n",
    "print(\"NWD:\", pomA)\n",
    "print(\"NWW:\", a*b/pomA)"
   ]
  },
  {
   "cell_type": "code",
   "execution_count": 37,
   "metadata": {},
   "outputs": [
    {
     "output_type": "stream",
     "name": "stdout",
     "text": [
      "1\n"
     ]
    }
   ],
   "source": [
    "# ZAD 15\n",
    "a = list(map(int, input(\"Podaj 2 liczby do wyliczenia NWD\").split()))\n",
    "for i in range (0, max(a)):\n",
    "    if a[0] % (max(a) - i) == 0 and a[1] % (max(a) - i) == 0:\n",
    "        print(max(a)-i)\n",
    "        break"
   ]
  },
  {
   "source": [
    "Zadanie 16 jeszcze jest nieobecne\n"
   ],
   "cell_type": "markdown",
   "metadata": {}
  },
  {
   "cell_type": "code",
   "execution_count": null,
   "metadata": {},
   "outputs": [],
   "source": []
  }
 ]
}