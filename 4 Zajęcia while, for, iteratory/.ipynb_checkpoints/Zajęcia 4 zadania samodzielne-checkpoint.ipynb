{
 "metadata": {
  "language_info": {
   "codemirror_mode": {
    "name": "ipython",
    "version": 3
   },
   "file_extension": ".py",
   "mimetype": "text/x-python",
   "name": "python",
   "nbconvert_exporter": "python",
   "pygments_lexer": "ipython3",
   "version": "3.7.9-final"
  },
  "orig_nbformat": 2,
  "kernelspec": {
   "name": "python3",
   "display_name": "Python 3.7.9 64-bit",
   "metadata": {
    "interpreter": {
     "hash": "2fec4edc1429c0b0ab5d9b2e5c4f5e84226191a7c9385fb78ee37cfe586946c1"
    }
   }
  }
 },
 "nbformat": 4,
 "nbformat_minor": 2,
 "cells": [
  {
   "source": [
    "<h1> Mateusz Bojarski </h1>\n",
    "<h3> Zadanie 1 </h3>"
   ],
   "cell_type": "markdown",
   "metadata": {}
  },
  {
   "cell_type": "code",
   "execution_count": 2,
   "metadata": {},
   "outputs": [
    {
     "output_type": "stream",
     "name": "stdout",
     "text": [
      "22323 -1\n"
     ]
    }
   ],
   "source": [
    "def input_check(x):\n",
    "    try:\n",
    "        if int(x) <= 0:\n",
    "            return str(x)\n",
    "        return int(x)\n",
    "    except ValueError:\n",
    "        return str(x)\n",
    "def float_check(x):\n",
    "    try:\n",
    "        return float(x)\n",
    "    except ValueError:\n",
    "        return str(x)\n",
    "a = input(\"Podaj ilość liczb do wpisania: \")\n",
    "while True:\n",
    "    if type(input_check(a)) == str:\n",
    "        a = input(\"Proszę podać liczbę całkowitą większą od 0: \")\n",
    "        continue\n",
    "    break\n",
    "b = []\n",
    "for _ in range(int(a)):\n",
    "    c = input(\"Podaj dowolną liczbę: \")\n",
    "    while True:\n",
    "        if type(float_check(c)) == str:\n",
    "            c = input(\"Podane dane nie można zamienić na liczbę. Proszę podać inne dane: \")\n",
    "            continue\n",
    "        break\n",
    "    b.append(int(c))\n",
    "print(max(b), min(b))\n"
   ]
  },
  {
   "source": [
    "<h3> Zadanie 2 </h3>"
   ],
   "cell_type": "markdown",
   "metadata": {}
  },
  {
   "cell_type": "code",
   "execution_count": 33,
   "metadata": {},
   "outputs": [
    {
     "output_type": "stream",
     "name": "stdout",
     "text": [
      "a1 = Wyraz nie istnieje\na2 = Wyraz nie istnieje\na3 = Wyraz nie istnieje\na4 = Wyraz nie istnieje\na5 = 13.4\n"
     ]
    }
   ],
   "source": [
    "a = int(input(\"Ilosć wyrazów pocątkowych: \"))\n",
    "b = []\n",
    "for n in range(1, a+1):\n",
    "    if n <= 4:\n",
    "        b.append(\"Wyraz nie istnieje\")\n",
    "    else:\n",
    "        b.append(((3*n)-(8/n))/((n-4)**(1/2)))\n",
    "for n, i in enumerate(b, start=1):\n",
    "    print(\"a{} = {}\".format(n,i))\n"
   ]
  },
  {
   "source": [
    "<h3> Zadanie 3 </h3>\n"
   ],
   "cell_type": "markdown",
   "metadata": {}
  },
  {
   "cell_type": "code",
   "execution_count": 31,
   "metadata": {},
   "outputs": [
    {
     "output_type": "stream",
     "name": "stdout",
     "text": [
      "Suma cyfr parzystych w tej liczbie wynosi: 8\n"
     ]
    }
   ],
   "source": [
    "def input_check(x):\n",
    "    try:\n",
    "        if int(x) >= 0:\n",
    "            return x\n",
    "        else:\n",
    "            return False\n",
    "    except ValueError:\n",
    "        return False\n",
    "a = input(\"Podaj dowolną liczbę naturalną: \")\n",
    "while True:\n",
    "    if input_check(a) == False:\n",
    "        a = input(\"Podana liczba nie jest naturalna, lub to nie jest liczba. Podaj inną: \")\n",
    "        continue\n",
    "    break\n",
    "suma = 0\n",
    "for i in a:\n",
    "    if int(i) % 2 == 0:\n",
    "        suma += int(i)\n",
    "print(\"Suma cyfr parzystych w tej liczbie wynosi:\",suma)\n",
    "    "
   ]
  },
  {
   "source": [
    "<h3> Zadanie 4 </h3>"
   ],
   "cell_type": "markdown",
   "metadata": {}
  },
  {
   "cell_type": "code",
   "execution_count": 53,
   "metadata": {},
   "outputs": [
    {
     "output_type": "stream",
     "name": "stdout",
     "text": [
      "Numer 1: 4\nNumer 2: 2\nNumer 3: 2\nNumer 4: 4\nNumer 5: 1\nNumer 6: 5\n"
     ]
    }
   ],
   "source": [
    "wynik = []\n",
    "dziennik = [2, 4, 6, 1, 5, 3]\n",
    "ocena = [2, 4, 5, 4, 1, 2]\n",
    "for i, j in zip(dziennik, ocena):\n",
    "    wynik.append((i, j))\n",
    "wynik.sort()\n",
    "for i, j in enumerate(wynik, start=wynik[0][0]):\n",
    "    print(\"Numer {}:\".format(i), j[1])"
   ]
  },
  {
   "source": [
    "<h3> Zadanie 5 </h3>"
   ],
   "cell_type": "markdown",
   "metadata": {}
  },
  {
   "cell_type": "code",
   "execution_count": 63,
   "metadata": {},
   "outputs": [
    {
     "output_type": "stream",
     "name": "stdout",
     "text": [
      "8. Justyna\n9. Mateusz\n10. Oliwia\n11. Piotr\n"
     ]
    }
   ],
   "source": [
    "imiona = list(input(\"Podaj imiona oddzielone spacjami: \").split())\n",
    "imiona.sort()\n",
    "for i, j in enumerate(imiona, start=8):\n",
    "    print(\"{}. {}\".format(i,j))"
   ]
  },
  {
   "source": [
    "<h3> Zadanie 6 </h3>"
   ],
   "cell_type": "markdown",
   "metadata": {}
  },
  {
   "cell_type": "code",
   "execution_count": 8,
   "metadata": {},
   "outputs": [
    {
     "output_type": "stream",
     "name": "stdout",
     "text": [
      "\n",
      "Za mało! Podaj inną liczbę \n",
      "Za dużo! Podaj inną liczbę \n",
      "Za dużo! Podaj inną liczbę \n",
      "Za mało! Podaj inną liczbę \n",
      "Za mało! Podaj inną liczbę \n",
      "Za mało! Podaj inną liczbę \n",
      "Za mało! Podaj inną liczbę \n",
      "Za mało! Podaj inną liczbę \n",
      "Za mało! Podaj inną liczbę \n",
      "Za dużo! Podaj inną liczbę \n",
      "Zgadłeś!\n"
     ]
    }
   ],
   "source": [
    "import random\n",
    "def input_check(x):\n",
    "    try:\n",
    "        return int(x)\n",
    "    except ValueError:\n",
    "        return False\n",
    "\n",
    "losowa = random.randint(1,100)\n",
    "a = input(\"Podaj liczbę całkowitą by zgadnąć liczbę z przedziału od 1 do 100\")\n",
    "while True:\n",
    "    while True:\n",
    "        if input_check(a) == False:\n",
    "            a = input(\"Popraw dane: \")\n",
    "            continue\n",
    "        break\n",
    "    a = int(a)\n",
    "    print(\"\")\n",
    "    if a < losowa:\n",
    "        print(\"Za mało! Podaj inną liczbę\", end=\" \")\n",
    "        a = input()\n",
    "        continue\n",
    "    elif a > losowa:\n",
    "        print(\"Za dużo! Podaj inną liczbę\", end=\" \")\n",
    "        a = input()\n",
    "        continue\n",
    "    else:\n",
    "        print(\"Zgadłeś!\")\n",
    "        break"
   ]
  },
  {
   "source": [
    "<h3> Zadanie 7 </h3>"
   ],
   "cell_type": "markdown",
   "metadata": {}
  },
  {
   "cell_type": "code",
   "execution_count": 24,
   "metadata": {},
   "outputs": [
    {
     "output_type": "stream",
     "name": "stdout",
     "text": [
      "31 DOWN\n32 DOWN\n83 UP\n37 DOWN\n71 UP\n70 UP\n57 UP\n44 DOWN\n53 UP\n51 UP\n46 DOWN\n47 DOWN\n50 GOOD\n"
     ]
    }
   ],
   "source": [
    "import random\n",
    "def input_check(x):\n",
    "    try:\n",
    "        if 1 <= int(x) <= 100:\n",
    "            return int(x)\n",
    "        return False\n",
    "    except ValueError:\n",
    "        return False\n",
    "a = input(\"Podaj liczbę od 1 do 100 do zgadniecia dla komputera: \")\n",
    "while input_check(a) == False:\n",
    "    a = input(\"Popraw dane: \")\n",
    "    continue\n",
    "a = int(a)\n",
    "przedział = [0, 100]\n",
    "while True:\n",
    "    losowa = random.randint(przedział[0], przedział[1])\n",
    "    if losowa > a:\n",
    "        przedział[1] = losowa-1\n",
    "        print(losowa, \"UP\")\n",
    "        continue\n",
    "    elif losowa < a:\n",
    "        przedział[0] = losowa+1\n",
    "        print(losowa, \"DOWN\")\n",
    "        continue\n",
    "    else:\n",
    "        print(losowa, \"GOOD\")\n",
    "        break\n"
   ]
  },
  {
   "cell_type": "code",
   "execution_count": null,
   "metadata": {},
   "outputs": [],
   "source": []
  }
 ]
}