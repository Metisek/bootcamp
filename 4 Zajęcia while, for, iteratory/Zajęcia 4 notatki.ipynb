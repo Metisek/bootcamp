{
 "metadata": {
  "language_info": {
   "codemirror_mode": {
    "name": "ipython",
    "version": 3
   },
   "file_extension": ".py",
   "mimetype": "text/x-python",
   "name": "python",
   "nbconvert_exporter": "python",
   "pygments_lexer": "ipython3",
   "version": "3.7.9"
  },
  "orig_nbformat": 2,
  "kernelspec": {
   "name": "python3",
   "display_name": "Python 3.7.9 64-bit ('bootcamp': conda)",
   "metadata": {
    "interpreter": {
     "hash": "2fec4edc1429c0b0ab5d9b2e5c4f5e84226191a7c9385fb78ee37cfe586946c1"
    }
   }
  }
 },
 "nbformat": 4,
 "nbformat_minor": 2,
 "cells": [
  {
   "source": [
    "<h1> ZAJĘCIA 4 </h1>"
   ],
   "cell_type": "markdown",
   "metadata": {}
  },
  {
   "source": [
    "<h3> Pętla for podstawy </h3>"
   ],
   "cell_type": "markdown",
   "metadata": {}
  },
  {
   "cell_type": "code",
   "execution_count": 14,
   "metadata": {},
   "outputs": [
    {
     "output_type": "stream",
     "name": "stdout",
     "text": [
      "1\n2\n3\n4\n5\n6\n7\ncześć\n"
     ]
    }
   ],
   "source": [
    "# Print elementów każdej listy\n",
    "lista = [1, 2, 3, 4, 5, 6, 7, \"cześć\"]\n",
    "\n",
    "for element in lista:\n",
    "    print(element)"
   ]
  },
  {
   "cell_type": "code",
   "execution_count": 13,
   "metadata": {},
   "outputs": [
    {
     "output_type": "stream",
     "name": "stdout",
     "text": [
      "0.1 0.2 0.3 0.4 0.5 0.6 0.7 0.8 "
     ]
    }
   ],
   "source": [
    "# Print i liczenie każdego elementu zbioru\n",
    "zbior = {1, 2, 3, 4, 5, 6, 7, 8}\n",
    "\n",
    "for element in zbior:\n",
    "    print(element/10, end=\" \")"
   ]
  },
  {
   "cell_type": "code",
   "execution_count": 12,
   "metadata": {},
   "outputs": [
    {
     "output_type": "stream",
     "name": "stdout",
     "text": [
      "a b c d e f g h i j k l m n o p q r s t u w x y z\na\nb\nc\nd\ne\nf\ng\nh\ni\nj\nk\nl\nm\nn\no\np\nq\nr\ns\nt\nu\nw\nx\ny\nz\nNie wiem jaka jest następna litera\nNie wiem jaka jest następna litera\nNie wiem jaka jest następna litera\nNie wiem jaka jest następna litera\nNie wiem jaka jest następna litera\nNie wiem jaka jest następna litera\nNie wiem jaka jest następna litera\nNie wiem jaka jest następna litera\nNie wiem jaka jest następna litera\nNie wiem jaka jest następna litera\nNie wiem jaka jest następna litera\nNie wiem jaka jest następna litera\nNie wiem jaka jest następna litera\nNie wiem jaka jest następna litera\nNie wiem jaka jest następna litera\nNie wiem jaka jest następna litera\nNie wiem jaka jest następna litera\nNie wiem jaka jest następna litera\nNie wiem jaka jest następna litera\nNie wiem jaka jest następna litera\nNie wiem jaka jest następna litera\nNie wiem jaka jest następna litera\nNie wiem jaka jest następna litera\nNie wiem jaka jest następna litera\nNie wiem jaka jest następna litera\n"
     ]
    }
   ],
   "source": [
    "alfabet = \"abcdefghijklmnopqrstuwxyz\"\n",
    "# Printowanie ze spacją każdego znaku z osobna\n",
    "print(*alfabet)\n",
    "# Short-hand for z printowaniem każdej litery z osobna\n",
    "for litera in alfabet: print(litera)\n",
    "# Pętla for bez zmiennej (iteruje tylko długość listy)\n",
    "for _ in alfabet:\n",
    "    print(\"Nie wiem jaka jest następna litera\")"
   ]
  },
  {
   "source": [
    "<h3> Funkcja lambda stara </h3>"
   ],
   "cell_type": "markdown",
   "metadata": {}
  },
  {
   "cell_type": "code",
   "execution_count": 7,
   "metadata": {},
   "outputs": [
    {
     "output_type": "stream",
     "name": "stdout",
     "text": [
      "[4, 16, 64, 256, 1024, 4096, 16384, 65536, 262144, 1048576]\n"
     ]
    }
   ],
   "source": [
    "krotka = (1, 2, 3, 4, 5, 6, 7, 8,9, 10)\n",
    "\n",
    "mojaFunkcja = lambda x: 4**x\n",
    "\n",
    "y1 = mojaFunkcja(krotka[3])\n",
    "\n",
    "wartosci = (list(map(mojaFunkcja, krotka)))\n",
    "print(wartosci)"
   ]
  },
  {
   "source": [
    "<h3> Short-hand for </h3>"
   ],
   "cell_type": "markdown",
   "metadata": {}
  },
  {
   "cell_type": "code",
   "execution_count": 6,
   "metadata": {},
   "outputs": [
    {
     "output_type": "stream",
     "name": "stdout",
     "text": [
      "4\n16\n64\n256\n1024\n4096\n16384\n65536\n262144\n1048576\n"
     ]
    }
   ],
   "source": [
    "krotka = (1, 2, 3, 4, 5, 6, 7, 8,9, 10)\n",
    "\n",
    "fwykladnicza = [4**x for x in krotka]\n",
    "\n",
    "for wynik in fwykladnicza: print(wynik)"
   ]
  },
  {
   "source": [
    "<h3>Zmienna generator</h3>"
   ],
   "cell_type": "markdown",
   "metadata": {}
  },
  {
   "source": [
    "krotka = (1, 2, 3, 4, 5, 6, 7, 8,9, 10)\n",
    "gen = (4**x for x in krotka)\n",
    "print(type(gen))\n",
    "print(next(gen))\n",
    "for liczba in gen:\n",
    "    print(liczba)\n",
    "print(next(gen)) #traceback wywali"
   ],
   "cell_type": "code",
   "metadata": {},
   "execution_count": 8,
   "outputs": [
    {
     "output_type": "stream",
     "name": "stdout",
     "text": [
      "<class 'generator'>\n4\n16\n64\n256\n1024\n4096\n16384\n65536\n262144\n1048576\n"
     ]
    },
    {
     "output_type": "error",
     "ename": "StopIteration",
     "evalue": "",
     "traceback": [
      "\u001b[1;31m---------------------------------------------------------------------------\u001b[0m",
      "\u001b[1;31mStopIteration\u001b[0m                             Traceback (most recent call last)",
      "\u001b[1;32m<ipython-input-8-045145aba8c6>\u001b[0m in \u001b[0;36m<module>\u001b[1;34m\u001b[0m\n\u001b[0;32m      5\u001b[0m \u001b[1;32mfor\u001b[0m \u001b[0mliczba\u001b[0m \u001b[1;32min\u001b[0m \u001b[0mgen\u001b[0m\u001b[1;33m:\u001b[0m\u001b[1;33m\u001b[0m\u001b[1;33m\u001b[0m\u001b[0m\n\u001b[0;32m      6\u001b[0m     \u001b[0mprint\u001b[0m\u001b[1;33m(\u001b[0m\u001b[0mliczba\u001b[0m\u001b[1;33m)\u001b[0m\u001b[1;33m\u001b[0m\u001b[1;33m\u001b[0m\u001b[0m\n\u001b[1;32m----> 7\u001b[1;33m \u001b[0mprint\u001b[0m\u001b[1;33m(\u001b[0m\u001b[0mnext\u001b[0m\u001b[1;33m(\u001b[0m\u001b[0mgen\u001b[0m\u001b[1;33m)\u001b[0m\u001b[1;33m)\u001b[0m\u001b[1;33m\u001b[0m\u001b[1;33m\u001b[0m\u001b[0m\n\u001b[0m",
      "\u001b[1;31mStopIteration\u001b[0m: "
     ]
    }
   ]
  },
  {
   "source": [
    "<h3> Funkcja range </h3>"
   ],
   "cell_type": "markdown",
   "metadata": {}
  },
  {
   "source": [
    "# Range jako zmienna\n",
    "zakres = range(0, 10)\n",
    "print(type(zakres))\n",
    "\n",
    "for x in zakres:\n",
    "    print(x, end=\" \")\n",
    "print(\" \")"
   ],
   "cell_type": "code",
   "metadata": {},
   "execution_count": 15,
   "outputs": [
    {
     "output_type": "stream",
     "name": "stdout",
     "text": [
      "<class 'range'>\n0 1 2 3 4 5 6 7 8 9  \n"
     ]
    }
   ]
  },
  {
   "cell_type": "code",
   "execution_count": null,
   "metadata": {},
   "outputs": [],
   "source": [
    "# Range jako zmienna do iterowania w pętli for\n",
    "for i in range(0, 10):\n",
    "    print(10-i, end=\" \")\n",
    "print(\" \")\n",
    "\n",
    "#zakres2 = range(0, 10)\n",
    "#print(next(zakres2)) # Ten kod wywala traceback, range to nie iterator\n"
   ]
  },
  {
   "cell_type": "code",
   "execution_count": 16,
   "metadata": {},
   "outputs": [
    {
     "output_type": "stream",
     "name": "stdout",
     "text": [
      "I m i ę   i   n a z w i s k o "
     ]
    }
   ],
   "source": [
    "# For i długość listy z range\n",
    "znaki = \"Imię i nazwisko\"\n",
    "for index in range(len(znaki)):\n",
    "    print(znaki[index], end=\" \")"
   ]
  },
  {
   "cell_type": "code",
   "execution_count": 17,
   "metadata": {},
   "outputs": [
    {
     "output_type": "stream",
     "name": "stdout",
     "text": [
      "0 5 10 15 20 25 30 35 40 45 50 "
     ]
    }
   ],
   "source": [
    "# Range w for: przeskok co 5 zamiast co 1\n",
    "for i in range (0, 51, 5):\n",
    "    print(i, end=\" \")"
   ]
  },
  {
   "cell_type": "code",
   "execution_count": null,
   "metadata": {},
   "outputs": [],
   "source": [
    "# Inne przykłądy zastosowania range\n",
    "mojeLiczby = [i for i in range (1, 101)]\n",
    "mojeLiczby2 = list(range(1, 101))\n",
    "print(\"\\n\",len(mojeLiczby),len(mojeLiczby2))"
   ]
  },
  {
   "cell_type": "code",
   "execution_count": null,
   "metadata": {},
   "outputs": [],
   "source": [
    "# Zagnieżdżanie for w innej pętli for\n",
    "for num in range(6):\n",
    "    for i in range(num):\n",
    "        print(\"*\", end=\" \")\n",
    "    print()"
   ]
  },
  {
   "cell_type": "code",
   "execution_count": null,
   "metadata": {},
   "outputs": [],
   "source": [
    "# Przykład: odliczanie\n",
    "import time\n",
    "for sekunda in range(10, -1, -1):\n",
    "    time.sleep(1)\n",
    "    print(sekunda, end=\" | \")"
   ]
  },
  {
   "source": [
    "<h3> Łączenie 2 list</h3>"
   ],
   "cell_type": "markdown",
   "metadata": {}
  },
  {
   "cell_type": "code",
   "execution_count": 11,
   "metadata": {},
   "outputs": [
    {
     "output_type": "stream",
     "name": "stdout",
     "text": [
      "Bartosz Miśkiewicz\nKasia Tracz\n"
     ]
    }
   ],
   "source": [
    "imiona = [\"Bartosz\", \"Kasia\", \"Dodatkowe zbędne imię\"]\n",
    "nazwiska = [\"Miśkiewicz\", \"Tracz\"]\n",
    "\n",
    "#i = 0\n",
    "#for imie in imiona:\n",
    "#    print(imie, nazwiska[i])\n",
    "#    i += 1\n",
    "\n",
    "for imie, nazwisko in zip(imiona, nazwiska):\n",
    "    print(imie, nazwisko)\n",
    "\n",
    "# Funkcja zip wywala nadmiarowe elementy z listy, gdy nie można ich połączyć (łączy listy do momentu skończenia długości najkrótszej listy)"
   ]
  },
  {
   "source": [
    "<h3> Dodanie listy porządkowej (enumerate) </h3>"
   ],
   "cell_type": "markdown",
   "metadata": {}
  },
  {
   "cell_type": "code",
   "execution_count": 23,
   "metadata": {},
   "outputs": [
    {
     "output_type": "stream",
     "name": "stdout",
     "text": [
      "1 Mleko\n2 Jajka\n3 Chleb\n4 Gumy\n[(1, 'Mleko'), (2, 'Jajka'), (3, 'Chleb'), (4, 'Gumy')]\n(1, 'Mleko')\n(2, 'Jajka')\n(3, 'Chleb')\n(4, 'Gumy')\n2. Mleko\n3. Jajka\n4. Chleb\n5. Gumy\n"
     ]
    }
   ],
   "source": [
    "listaZakupow = [\"Mleko\", \"Jajka\", \"Chleb\", \"Gumy\"]\n",
    "\n",
    "# Przykłąd primitywny, ale działający\n",
    "i = 0\n",
    "for produkt in listaZakupow:\n",
    "    i+=1\n",
    "    print(i, produkt)\n",
    "\n",
    "# Tworzenie listy z krotkami zawierajacymi produkt oraz liczbę odliczjacą co 1 z pomocą enumerate\n",
    "listaNumerowana = enumerate(listaZakupow, 1)\n",
    "print(list(listaNumerowana))\n",
    "\n",
    "# Wyciąganie krotek z listy\n",
    "for produkt in enumerate(listaZakupow, start=1):\n",
    "    print(produkt)\n",
    "\n",
    "# Inny sposób wyciąganie zmiennych z krotki\n",
    "for numer, produkt in enumerate(listaZakupow, start=1):\n",
    "    print(str(numer)+ '.', produkt)"
   ]
  },
  {
   "source": [
    "<h2> Pętla while </h2>"
   ],
   "cell_type": "markdown",
   "metadata": {}
  },
  {
   "cell_type": "code",
   "execution_count": 3,
   "metadata": {},
   "outputs": [],
   "source": [
    "# Najprostszy przykad\n",
    "j = 0\n",
    "\n",
    "while j < 0:\n",
    "    print(\"Robie cos\", j)\n",
    "    j += 1\n"
   ]
  },
  {
   "cell_type": "code",
   "execution_count": 28,
   "metadata": {},
   "outputs": [],
   "source": [
    "# Symulowanie logowania do serwisu\n",
    "haslo = \"admin\"\n",
    "login = \"admin\"\n",
    "\n",
    "podanyLogin= input(\"Podaj login: \")\n",
    "podanyHaslo= input(\"Podaj hasło: \")\n",
    "while haslo != podanyHaslo or login !=  podanyLogin:\n",
    "    podanyLogin= input(\"Podaj login: \")\n",
    "    podanyHaslo= input(\"Podaj hasło: \")"
   ]
  },
  {
   "source": [
    "<h3> Pass jako zapychacz dla pętli/if </h3>"
   ],
   "cell_type": "markdown",
   "metadata": {}
  },
  {
   "cell_type": "code",
   "execution_count": 33,
   "metadata": {
    "tags": []
   },
   "outputs": [],
   "source": [
    "# Przykad użycia funkcji pass w while (pass pełni funkcję zapełniacza w momencie gdy jest wymagane, by coś było poniżej jakiejś komendy, np.: pętli czy if)\n",
    "i = 0\n",
    "while i < 10000:\n",
    "    if i < 10000:\n",
    "        pass\n",
    "    i += 1"
   ]
  },
  {
   "source": [
    "<h3> Przykład użycia funkcji break </h3>"
   ],
   "cell_type": "markdown",
   "metadata": {}
  },
  {
   "cell_type": "code",
   "execution_count": null,
   "metadata": {},
   "outputs": [],
   "source": [
    "# Przykład z breakiem listy\n",
    "odpowiedz = 'Tak'\n",
    "i = 0\n",
    "while i < 5:\n",
    "    if odpowiedz != 'Tak': break\n",
    "    odpowiedz = input(\"Czy mnie lubisz?: \")\n",
    "    i+=1\n",
    "else:\n",
    "    print(\"Super, że nie znudziło się odpowiadanie na to pytanie!\")"
   ]
  },
  {
   "source": [
    "<h3> Przykład użycia funkcji continue </h3>"
   ],
   "cell_type": "markdown",
   "metadata": {}
  },
  {
   "cell_type": "code",
   "execution_count": 37,
   "metadata": {},
   "outputs": [
    {
     "output_type": "stream",
     "name": "stdout",
     "text": [
      "1\n3\n5\n7\n9\n"
     ]
    }
   ],
   "source": [
    "mojeLiczby = [1, 2, 3, 4, 5, 6, 7, 8, 9, 10]\n",
    "for liczba in mojeLiczby:\n",
    "    if liczba%2 == 0:\n",
    "        continue\n",
    "    print(liczba)"
   ]
  },
  {
   "source": [
    "<h3> Else w pętli for </h3>"
   ],
   "cell_type": "markdown",
   "metadata": {}
  },
  {
   "cell_type": "code",
   "execution_count": 35,
   "metadata": {},
   "outputs": [
    {
     "output_type": "stream",
     "name": "stdout",
     "text": [
      "Podałeś niedodatnią liczbę :(\n"
     ]
    }
   ],
   "source": [
    "# Else w pętli for\n",
    "liczbyUzytkownika = []\n",
    "for _ in range(0, 10):\n",
    "    liczba = int(input(\"Podaj liczbę całkowitą dodatnią: \"))\n",
    "    if liczba <= 0:\n",
    "        print(\"Podałeś niedodatnią liczbę :(\")\n",
    "        break\n",
    "    liczbyUzytkownika.append(liczba)\n",
    "else:\n",
    "    print(\"Super, wszystkie podane liczby są dodatnie!\")\n",
    "    print(*liczbyUzytkownika)"
   ]
  },
  {
   "source": [
    "<h2> Iteratory </h2>\n",
    "<p> Pozwoliłem sobie ten kod wziać sobie z notatek, gdyż jeszcze tego nie rozumiem w pełni + przyda mi się to potem </p>"
   ],
   "cell_type": "markdown",
   "metadata": {}
  },
  {
   "cell_type": "code",
   "execution_count": 40,
   "metadata": {
    "tags": []
   },
   "outputs": [
    {
     "output_type": "stream",
     "name": "stdout",
     "text": [
      "Execution started at: 2021-02-19 22:01:05.664387\n",
      "2000-01-01\n",
      "2000-01-02\n",
      "2000-01-03\n",
      "2000-01-04\n",
      "Execution stopped at: 2021-02-19 22:01:10.688675\n",
      "Total time 0:00:05.024288\n"
     ]
    }
   ],
   "source": [
    "import datetime as dt\n",
    "import sys\n",
    "start = dt.datetime.now()\n",
    "print(\"Execution started at: {}\".format(start))\n",
    "class MilionDays:\n",
    "\tdef __init__(self, year, month, day, maxdays):\n",
    "\t\tself.date = dt.date(year, month, day)\n",
    "\t\tself.maxdays = maxdays\n",
    "\t\t\n",
    "\t### __next__() to funkcja wywoływana domyslnie przez iterator podczas pracy z klasą MilionDays\n",
    "\t### Jeśli klasa posiada funkcję __iter__() to jest iterable, można stosować na niej funkcję next()\n",
    "\t\n",
    "\tdef __next__(self):\n",
    "\t\tif self.maxdays <= 0:\n",
    "\t\t\traise StopIteration() # <-- wyjątek wywoływany, gdy chcemy przestać iterować\n",
    "\t\t\t\n",
    "\t\tret = self.date # <-- zapisanie bieżącej daty\n",
    "\t\tself.date += dt.timedelta(days=1) # <-- zwiekszenie daty o dzień\n",
    "\t\tself.maxdays -= 1 # <-- odliczanie 2500000 limitu dni do końca iteracji\n",
    "\t\treturn ret # <-- zwrócenie zapamiętanej, bieżącej daty ale teraz nowa data jest już o jeden dzień późniejsza\n",
    "\t\t\t\t\t\n",
    "\t### __iter__() to funkcja, która ma zwrócić iterator, czyli obiekt, który zawiera w sobie metodę __next__(). \n",
    "    ### Wtedy przez taki obiekt będzie można przejsć pętlą for\n",
    "\t\n",
    "\tdef __iter__(self):\n",
    "\t\treturn self\n",
    "md = MilionDays(2000, 1, 1, 2500000)\n",
    "\n",
    "### Kontrolne wyswietlenie kolejnych elementów klasy MilionDays za pomocą funkcji next().\n",
    "### Tej funkcji można używać na obiekcie tylko, gdy ma on zdefiniowaną metodę __next__().\n",
    "\n",
    "print(next(md))\n",
    "print(next(md))\n",
    "print(next(md))\n",
    "print(next(md))\n",
    "\n",
    "### Przejcie przez obiekt pętlą for\n",
    "\n",
    "md = MilionDays(2000, 1, 1, 2500000)\n",
    "for d in md:\n",
    "\tpass\n",
    "stop = dt.datetime.now()\n",
    "print(\"Execution stopped at: {}\".format(stop))\n",
    "print(\"Total time {}\".format(stop - start))"
   ]
  }
 ]
}