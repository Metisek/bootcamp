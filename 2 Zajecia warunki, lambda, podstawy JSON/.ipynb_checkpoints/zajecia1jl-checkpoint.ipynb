{
 "cells": [
  {
   "cell_type": "markdown",
   "metadata": {},
   "source": [
    "<h1> Mateusz Bojarski </h1>"
   ]
  },
  {
   "cell_type": "markdown",
   "metadata": {},
   "source": [
    "<h4> Zadanie 1 </h4>"
   ]
  },
  {
   "cell_type": "code",
   "execution_count": null,
   "metadata": {},
   "outputs": [],
   "source": [
    "a = 1\n",
    "b = 1.0\n",
    "c = \"Cyfra\"\n",
    "d = True\n",
    "e = [0, 1.1, \"Test listy\"] \n",
    "f = (0, 1.1, \"Test krotki\")\n",
    "g = {0, 1.1, \"Test zbioru\"}\n",
    "h = {\"test\":\"słownika\", \"Mateusz\":\"Bojarski\"}\n",
    "list = [\"a\", \"b\", \"c\", \"d\", \"e\", \"f\", \"g\", \"h\"]\n",
    "for i in list:\n",
    "    exec(\"print({})\".format(i))"
   ]
  },
  {
   "cell_type": "markdown",
   "metadata": {},
   "source": [
    "<h4> Zadanie 2 </h4>"
   ]
  },
  {
   "cell_type": "code",
   "execution_count": null,
   "metadata": {},
   "outputs": [],
   "source": [
    "a = 3\n",
    "b = 2\n",
    "print(a+b)\n",
    "print(a-b)\n",
    "print(a*b)\n",
    "print(a/b)\n",
    "print(a**b)"
   ]
  },
  {
   "cell_type": "markdown",
   "metadata": {},
   "source": [
    "<h4> Zadanie 3 </h4>"
   ]
  },
  {
   "cell_type": "code",
   "execution_count": 10,
   "metadata": {},
   "outputs": [
    {
     "name": "stdin",
     "output_type": "stream",
     "text": [
      "Podaj jakieś dane:  aa\n"
     ]
    },
    {
     "ename": "NameError",
     "evalue": "name 'aa' is not defined",
     "output_type": "error",
     "traceback": [
      "\u001b[1;31m---------------------------------------------------------------------------\u001b[0m",
      "\u001b[1;31mNameError\u001b[0m                                 Traceback (most recent call last)",
      "\u001b[1;32m<ipython-input-10-861c0e694051>\u001b[0m in \u001b[0;36m<module>\u001b[1;34m\u001b[0m\n\u001b[0;32m      1\u001b[0m \u001b[0ma\u001b[0m \u001b[1;33m=\u001b[0m \u001b[0minput\u001b[0m\u001b[1;33m(\u001b[0m\u001b[1;34m\"Podaj jakieś dane: \"\u001b[0m\u001b[1;33m)\u001b[0m\u001b[1;33m\u001b[0m\u001b[1;33m\u001b[0m\u001b[0m\n\u001b[1;32m----> 2\u001b[1;33m \u001b[0mexec\u001b[0m\u001b[1;33m(\u001b[0m\u001b[1;34m\"b = {}\"\u001b[0m\u001b[1;33m.\u001b[0m\u001b[0mformat\u001b[0m\u001b[1;33m(\u001b[0m\u001b[0ma\u001b[0m\u001b[1;33m)\u001b[0m\u001b[1;33m)\u001b[0m\u001b[1;33m\u001b[0m\u001b[1;33m\u001b[0m\u001b[0m\n\u001b[0m\u001b[0;32m      3\u001b[0m \u001b[0mprint\u001b[0m\u001b[1;33m(\u001b[0m\u001b[1;34m\"Nazwa zmiennej: \"\u001b[0m\u001b[1;33m,\u001b[0m \u001b[0mtype\u001b[0m\u001b[1;33m(\u001b[0m\u001b[0mb\u001b[0m\u001b[1;33m)\u001b[0m\u001b[1;33m)\u001b[0m\u001b[1;33m\u001b[0m\u001b[1;33m\u001b[0m\u001b[0m\n",
      "\u001b[1;32m<string>\u001b[0m in \u001b[0;36m<module>\u001b[1;34m\u001b[0m\n",
      "\u001b[1;31mNameError\u001b[0m: name 'aa' is not defined"
     ]
    }
   ],
   "source": [
    "a = input(\"Podaj jakieś dane: \")\n",
    "exec(\"b = {}\".format(a))\n",
    "print(\"Nazwa zmiennej: \", type(b))"
   ]
  },
  {
   "cell_type": "markdown",
   "metadata": {},
   "source": [
    "<h4> Zadanie 4 </h4>"
   ]
  },
  {
   "cell_type": "code",
   "execution_count": null,
   "metadata": {},
   "outputs": [],
   "source": [
    "a = int(2)\n",
    "a = float(a)\n",
    "a = int(a)\n",
    "print(type(a))"
   ]
  },
  {
   "cell_type": "markdown",
   "metadata": {},
   "source": [
    "<h4> Zadanie 5 </h4>"
   ]
  },
  {
   "cell_type": "code",
   "execution_count": 9,
   "metadata": {},
   "outputs": [
    {
     "name": "stdout",
     "output_type": "stream",
     "text": [
      "Mateusz Bojarski\n"
     ]
    }
   ],
   "source": [
    "a = \"Mateusz\"\n",
    "b = \"Bojarski\"\n",
    "print(a, b, sep=' ')"
   ]
  },
  {
   "cell_type": "markdown",
   "metadata": {},
   "source": [
    "<h4> Zadanie 6 </h4>"
   ]
  },
  {
   "cell_type": "code",
   "execution_count": 8,
   "metadata": {},
   "outputs": [
    {
     "name": "stdout",
     "output_type": "stream",
     "text": [
      "Wystąpienia liczby 1 w liście: 2 \n",
      "Lista:  ['Początek listy', 1, 1, 2, 3, 5, 8, 13, 'Koniec listy'] \n",
      "Pozycja liczby 8 w liście (licząc '1, 2, 3...'): 7\n"
     ]
    }
   ],
   "source": [
    "a = [1, 1, 2, 3, 5, 8, 13]\n",
    "a.append(\"Koniec listy\")\n",
    "a.insert(0, \"Początek listy\")\n",
    "print(\"Wystąpienia liczby 1 w liście:\", a.count(1), \"\\nLista: \", a, \"\\nPozycja liczby 8 w liście (licząc '1, 2, 3...'):\", a.index(8)+1 )"
   ]
  },
  {
   "cell_type": "markdown",
   "metadata": {},
   "source": [
    "<h4> Zadanie 7 </h4>"
   ]
  },
  {
   "cell_type": "code",
   "execution_count": 7,
   "metadata": {},
   "outputs": [
    {
     "name": "stdout",
     "output_type": "stream",
     "text": [
      "15\n",
      "32768\n"
     ]
    }
   ],
   "source": [
    "a = []\n",
    "for i in range (1,16):\n",
    "    a.append(2**i)\n",
    "print(len(a))\n",
    "print(max(a))"
   ]
  },
  {
   "cell_type": "markdown",
   "metadata": {},
   "source": [
    "<h4> Zadanie 8 </h4>"
   ]
  },
  {
   "cell_type": "code",
   "execution_count": 5,
   "metadata": {},
   "outputs": [
    {
     "name": "stdout",
     "output_type": "stream",
     "text": [
      "15\n",
      "2\n"
     ]
    }
   ],
   "source": [
    "a = []\n",
    "for i in range (1,16):\n",
    "    a.append(2**i)\n",
    "print(len(a))\n",
    "print(min(a))"
   ]
  },
  {
   "cell_type": "markdown",
   "metadata": {},
   "source": [
    "<h4> Zadanie 9 </h4>"
   ]
  },
  {
   "cell_type": "code",
   "execution_count": 6,
   "metadata": {},
   "outputs": [
    {
     "name": "stdout",
     "output_type": "stream",
     "text": [
      "{10, 11, 12, 13, 14, 15}\n",
      "{8, 9, 6, 7}\n",
      "{0, 1, 2, 3, 4, 5, 6, 7, 8, 9, 10, 11, 12, 13, 14, 15}\n"
     ]
    }
   ],
   "source": [
    "a = {0,1,2,3,4,5,6,7,8,9}\n",
    "b = {15,14,13,12,11,10,9,8,7,6}\n",
    "print(b.difference(a))\n",
    "print(b.intersection(a))\n",
    "print(b.union(a))"
   ]
  },
  {
   "cell_type": "markdown",
   "metadata": {},
   "source": [
    "<h4> Zadanie 10 </h4>"
   ]
  },
  {
   "cell_type": "code",
   "execution_count": 4,
   "metadata": {},
   "outputs": [
    {
     "name": "stdout",
     "output_type": "stream",
     "text": [
      "{1, 3, 5}\n",
      "{1, 2, 3, 4, 5, -5, -3, -1}\n",
      "{-5, -3, -1}\n",
      "{2, 4}\n"
     ]
    }
   ],
   "source": [
    "a = {-5, -3, -1, 1, 3, 5}\n",
    "b = {1, 2, 3, 4, 5}\n",
    "print(b.intersection(a))\n",
    "print(b.union(a))\n",
    "print(a.difference(b))\n",
    "print(b.difference(a))"
   ]
  },
  {
   "cell_type": "markdown",
   "metadata": {},
   "source": [
    "<h4> Zadanie 11 </h4>"
   ]
  },
  {
   "cell_type": "code",
   "execution_count": 3,
   "metadata": {},
   "outputs": [
    {
     "name": "stdin",
     "output_type": "stream",
     "text": [
      "Proszę podać imię i nazwisko:  aaa\n"
     ]
    },
    {
     "name": "stdout",
     "output_type": "stream",
     "text": [
      "Witaj aaa, miło Cię widzieć!\n"
     ]
    }
   ],
   "source": [
    "imienazwisko = input(\"Proszę podać imię i nazwisko: \")\n",
    "print(\"Witaj \", imienazwisko, \", miło Cię widzieć!\", sep=\"\")"
   ]
  },
  {
   "cell_type": "markdown",
   "metadata": {},
   "source": [
    "<h4> Zadanie 12 </h4>"
   ]
  },
  {
   "cell_type": "code",
   "execution_count": 2,
   "metadata": {},
   "outputs": [
    {
     "name": "stdout",
     "output_type": "stream",
     "text": [
      "kot\n"
     ]
    }
   ],
   "source": [
    "dic = {\"cat\":\"kot\", \"matthew\":\"mateusz\", \"wire\":\"kabel\"}\n",
    "print(dic[\"cat\"])"
   ]
  },
  {
   "cell_type": "markdown",
   "metadata": {},
   "source": [
    "<h4> Zadanie 13 </h4>"
   ]
  },
  {
   "cell_type": "code",
   "execution_count": null,
   "metadata": {},
   "outputs": [
    {
     "name": "stdin",
     "output_type": "stream",
     "text": [
      "Podaj pozycję zmiennej w liście:  6\n",
      "Podaj dane do wstawienia do listy 33\n"
     ]
    },
    {
     "name": "stdout",
     "output_type": "stream",
     "text": [
      "[1, 2, 3, 4, 5, 6, '33']\n"
     ]
    }
   ],
   "source": [
    "a = 0\n",
    "lista = [1,2,3,4,5,6]\n",
    "def funkcja():\n",
    "    print (lista)\n",
    "    p = int(input(\"Podaj pozycję zmiennej w liście: \"))\n",
    "    while True:\n",
    "        if p < 0 or p > len(lista):\n",
    "            print(\"Proszę podać cyfrę z przedziału od 0 do\", len(lista), \": \", end=\"\"); p = int(input())\n",
    "            continue\n",
    "        else:\n",
    "            break\n",
    "    q = input(\"Podaj dane do wstawienia do listy\")\n",
    "    lista.insert(p,q)\n",
    "\n",
    "while a < 3:\n",
    "    funkcja()\n",
    "    a += 1\n"
   ]
  },
  {
   "cell_type": "markdown",
   "metadata": {},
   "source": [
    "<h4> Zadanie 14 </h4>"
   ]
  },
  {
   "cell_type": "code",
   "execution_count": 1,
   "metadata": {},
   "outputs": [
    {
     "name": "stdin",
     "output_type": "stream",
     "text": [
      "Proszę podać liczbę całkowitą 4\n"
     ]
    },
    {
     "name": "stdout",
     "output_type": "stream",
     "text": [
      "4.0\n",
      "<class 'float'>\n"
     ]
    }
   ],
   "source": [
    "a = int(input(\"Proszę podać liczbę całkowitą\"))\n",
    "a = float(a)\n",
    "print(a, type(a), sep='\\n')"
   ]
  },
  {
   "cell_type": "markdown",
   "metadata": {},
   "source": [
    "<h4> Zadanie 15 </h4>"
   ]
  },
  {
   "cell_type": "code",
   "execution_count": null,
   "metadata": {},
   "outputs": [],
   "source": [
    "a = float(input(\"Długosc podstawy trapezu: \"))\n",
    "b = float(input(\"Długosc drugiej podstawy trapezu: \"))\n",
    "h = float(input(\"Wysokość trapezu: \"))\n",
    "print(\"Pole trapezu: \", ((a*b)/2)*h)"
   ]
  },
  {
   "cell_type": "markdown",
   "metadata": {},
   "source": [
    "<h4> Zadanie 16 </h4>"
   ]
  },
  {
   "cell_type": "code",
   "execution_count": 30,
   "metadata": {},
   "outputs": [
    {
     "name": "stdin",
     "output_type": "stream",
     "text": [
      "Podaj rok urodzin (na tym etapie robię wersję z miesiącami i latami):  2004\n"
     ]
    },
    {
     "name": "stdout",
     "output_type": "stream",
     "text": [
      "Jesteś niepełnoletni!\n"
     ]
    }
   ],
   "source": [
    "from datetime import date\n",
    "uro = int(input(\"Podaj rok urodzin (na tym etapie robię wersję z miesiącami i latami): \"))\n",
    "\n",
    "dzis = date.today()\n",
    "d1 = int(dzis.strftime(\"%Y\"))\n",
    "if d1 - uro >= 18:\n",
    "    print(\"Jesteś pełnoletni!\")\n",
    "else:\n",
    "    print(\"Jesteś niepełnoletni!\")"
   ]
  },
  {
   "cell_type": "markdown",
   "metadata": {},
   "source": [
    "<h4> Zadanie 17 </h4>"
   ]
  },
  {
   "cell_type": "code",
   "execution_count": null,
   "metadata": {},
   "outputs": [
    {
     "name": "stdin",
     "output_type": "stream",
     "text": [
      " 4 1000\n"
     ]
    },
    {
     "name": "stdout",
     "output_type": "stream",
     "text": [
      "260\n"
     ]
    }
   ],
   "source": [
    "def switch():\n",
    "# Sprawdzenie czy lista \"n\" jest w podanym w zadaniu zbiorze, jak jest to kod idzie dalej, albo się przerywa jak liczba n jest równa 0)\n",
    "    while True:\n",
    "        n = -1\n",
    "        n = list(map(int, input().split()))\n",
    "        if n[0] == 0:\n",
    "            break\n",
    "        elif len(n) != 2:\n",
    "            print(\"Podano niepoprawną długość listy. Proszę podać 2 liczby, pierwszą mniejszą od drugiej, albo 0 by przerwać program. \\n\")   \n",
    "        elif 1 <= (n[0] <= 1000000 or 1 <= n[1] <= 1000000) and n[0] >= n[1]:\n",
    "            print(\"Podano niepoprawnie dane. Proszę podać 2 liczby, pierwszą mniejszą od drugiej, albo 0 by przerwać program. \\n\")\n",
    "        else:\n",
    "            break\n",
    "    if n[0] == 0:\n",
    "        return False\n",
    "        \n",
    "#Rozwiązuje równanie\n",
    "    a = 0\n",
    "    for i in range (n[0], n[1]+1):\n",
    "        x = 0\n",
    "        if i % 7 == 0:\n",
    "            a += 1\n",
    "        else:\n",
    "            while i // 10 != 0:\n",
    "                x = x + ( i % 10 )\n",
    "                i = i // 10\n",
    "            x += i\n",
    "            if x % 7 == 0:\n",
    "                 a += 1\n",
    "    print(a)\n",
    "    return True    \n",
    "\n",
    "while switch() != False:\n",
    "    continue\n"
   ]
  },
  {
   "cell_type": "code",
   "execution_count": null,
   "metadata": {},
   "outputs": [],
   "source": []
  }
 ],
 "metadata": {
  "kernelspec": {
   "display_name": "Python 3",
   "language": "python",
   "name": "python3"
  },
  "language_info": {
   "codemirror_mode": {
    "name": "ipython",
    "version": 3
   },
   "file_extension": ".py",
   "mimetype": "text/x-python",
   "name": "python",
   "nbconvert_exporter": "python",
   "pygments_lexer": "ipython3",
   "version": "3.7.9"
  }
 },
 "nbformat": 4,
 "nbformat_minor": 4
}
