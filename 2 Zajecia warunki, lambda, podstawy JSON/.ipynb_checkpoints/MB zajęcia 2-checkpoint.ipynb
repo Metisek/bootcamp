{
 "cells": [
  {
   "cell_type": "markdown",
   "metadata": {},
   "source": [
    "<h1> Mateusz Bojarski </h1>"
   ]
  },
  {
   "cell_type": "markdown",
   "metadata": {},
   "source": [
    "<h4> Zadanie 1 </h4>"
   ]
  },
  {
   "cell_type": "code",
   "execution_count": null,
   "metadata": {},
   "outputs": [],
   "source": [
    "a = 1\n",
    "b = 1.0\n",
    "c = \"Cyfra\"\n",
    "d = True\n",
    "e = [0, 1.1, \"Test listy\"] \n",
    "f = (0, 1.1, \"Test krotki\")\n",
    "g = {0, 1.1, \"Test zbioru\"}\n",
    "h = {\"test\":\"słownika\", \"Mateusz\":\"Bojarski\"}\n",
    "list = [\"a\", \"b\", \"c\", \"d\", \"e\", \"f\", \"g\", \"h\"]\n",
    "for i in list:\n",
    "    exec(\"print({})\".format(i))"
   ]
  },
  {
   "cell_type": "markdown",
   "metadata": {},
   "source": [
    "<h4> Zadanie 2 </h4>"
   ]
  },
  {
   "cell_type": "code",
   "execution_count": null,
   "metadata": {},
   "outputs": [],
   "source": [
    "a = 3\n",
    "b = 2\n",
    "print(a+b)\n",
    "print(a-b)\n",
    "print(a*b)\n",
    "print(a/b)\n",
    "print(a**b)"
   ]
  },
  {
   "cell_type": "markdown",
   "metadata": {},
   "source": [
    "<h4> Zadanie 3 </h4>"
   ]
  },
  {
   "cell_type": "code",
   "execution_count": 21,
   "metadata": {},
   "outputs": [
    {
     "name": "stdin",
     "output_type": "stream",
     "text": [
      "Podaj jakieś dane:  {1, 2}\n"
     ]
    },
    {
     "name": "stdout",
     "output_type": "stream",
     "text": [
      "Nazwa zmiennej:  <class 'set'>\n"
     ]
    }
   ],
   "source": [
    "a = input(\"Podaj jakieś dane: \")\n",
    "try:\n",
    "    exec(\"b = {}\".format(a))\n",
    "    print(\"Nazwa zmiennej: \", type(b))\n",
    "except:\n",
    "    print(\"Nazwa zmiennej: \", type(a))\n",
    "\n",
    "\n"
   ]
  },
  {
   "cell_type": "markdown",
   "metadata": {},
   "source": [
    "<h4> Zadanie 4 </h4>"
   ]
  },
  {
   "cell_type": "code",
   "execution_count": null,
   "metadata": {},
   "outputs": [],
   "source": [
    "a = int(2)\n",
    "a = float(a)\n",
    "a = int(a)\n",
    "print(type(a))"
   ]
  },
  {
   "cell_type": "markdown",
   "metadata": {},
   "source": [
    "<h4> Zadanie 5 </h4>"
   ]
  },
  {
   "cell_type": "code",
   "execution_count": 9,
   "metadata": {},
   "outputs": [
    {
     "name": "stdout",
     "output_type": "stream",
     "text": [
      "Mateusz Bojarski\n"
     ]
    }
   ],
   "source": [
    "a = \"Mateusz\"\n",
    "b = \"Bojarski\"\n",
    "print(a, b, sep=' ')"
   ]
  },
  {
   "cell_type": "markdown",
   "metadata": {},
   "source": [
    "<h4> Zadanie 6 </h4>"
   ]
  },
  {
   "cell_type": "code",
   "execution_count": 8,
   "metadata": {},
   "outputs": [
    {
     "name": "stdout",
     "output_type": "stream",
     "text": [
      "Wystąpienia liczby 1 w liście: 2 \n",
      "Lista:  ['Początek listy', 1, 1, 2, 3, 5, 8, 13, 'Koniec listy'] \n",
      "Pozycja liczby 8 w liście (licząc '1, 2, 3...'): 7\n"
     ]
    }
   ],
   "source": [
    "a = [1, 1, 2, 3, 5, 8, 13]\n",
    "a.append(\"Koniec listy\")\n",
    "a.insert(0, \"Początek listy\")\n",
    "print(\"Wystąpienia liczby 1 w liście:\", a.count(1), \"\\nLista: \", a, \"\\nPozycja liczby 8 w liście (licząc '1, 2, 3...'):\", a.index(8)+1 )"
   ]
  },
  {
   "cell_type": "markdown",
   "metadata": {},
   "source": [
    "<h4> Zadanie 7 </h4>"
   ]
  },
  {
   "cell_type": "code",
   "execution_count": 7,
   "metadata": {},
   "outputs": [
    {
     "name": "stdout",
     "output_type": "stream",
     "text": [
      "15\n",
      "32768\n"
     ]
    }
   ],
   "source": [
    "a = []\n",
    "for i in range (1,16):\n",
    "    a.append(2**i)\n",
    "print(len(a))\n",
    "print(max(a))"
   ]
  },
  {
   "cell_type": "markdown",
   "metadata": {},
   "source": [
    "<h4> Zadanie 8 </h4>"
   ]
  },
  {
   "cell_type": "code",
   "execution_count": 5,
   "metadata": {},
   "outputs": [
    {
     "name": "stdout",
     "output_type": "stream",
     "text": [
      "15\n",
      "2\n"
     ]
    }
   ],
   "source": [
    "a = []\n",
    "for i in range (1,16):\n",
    "    a.append(2**i)\n",
    "print(len(a))\n",
    "print(min(a))"
   ]
  },
  {
   "cell_type": "markdown",
   "metadata": {},
   "source": [
    "<h4> Zadanie 9 </h4>"
   ]
  },
  {
   "cell_type": "code",
   "execution_count": 6,
   "metadata": {},
   "outputs": [
    {
     "name": "stdout",
     "output_type": "stream",
     "text": [
      "{10, 11, 12, 13, 14, 15}\n",
      "{8, 9, 6, 7}\n",
      "{0, 1, 2, 3, 4, 5, 6, 7, 8, 9, 10, 11, 12, 13, 14, 15}\n"
     ]
    }
   ],
   "source": [
    "a = {0,1,2,3,4,5,6,7,8,9}\n",
    "b = {15,14,13,12,11,10,9,8,7,6}\n",
    "print(b.difference(a))\n",
    "print(b.intersection(a))\n",
    "print(b.union(a))"
   ]
  },
  {
   "cell_type": "markdown",
   "metadata": {},
   "source": [
    "<h4> Zadanie 10 </h4>"
   ]
  },
  {
   "cell_type": "code",
   "execution_count": 4,
   "metadata": {},
   "outputs": [
    {
     "name": "stdout",
     "output_type": "stream",
     "text": [
      "{1, 3, 5}\n",
      "{1, 2, 3, 4, 5, -5, -3, -1}\n",
      "{-5, -3, -1}\n",
      "{2, 4}\n"
     ]
    }
   ],
   "source": [
    "a = {-5, -3, -1, 1, 3, 5}\n",
    "b = {1, 2, 3, 4, 5}\n",
    "print(b.intersection(a))\n",
    "print(b.union(a))\n",
    "print(a.difference(b))\n",
    "print(b.difference(a))"
   ]
  },
  {
   "cell_type": "markdown",
   "metadata": {},
   "source": [
    "<h4> Zadanie 11 </h4>"
   ]
  },
  {
   "cell_type": "code",
   "execution_count": 22,
   "metadata": {},
   "outputs": [
    {
     "name": "stdin",
     "output_type": "stream",
     "text": [
      "Proszę podać imię i nazwisko:  Mateusz Bojarski\n"
     ]
    },
    {
     "name": "stdout",
     "output_type": "stream",
     "text": [
      "Witaj Mateusz Bojarski, miło Cię widzieć!\n"
     ]
    }
   ],
   "source": [
    "imienazwisko = str(input(\"Proszę podać imię i nazwisko: \"))\n",
    "print(\"Witaj \", imienazwisko, \", miło Cię widzieć!\", sep=\"\")"
   ]
  },
  {
   "cell_type": "markdown",
   "metadata": {},
   "source": [
    "<h4> Zadanie 12 </h4>"
   ]
  },
  {
   "cell_type": "code",
   "execution_count": 2,
   "metadata": {},
   "outputs": [
    {
     "name": "stdout",
     "output_type": "stream",
     "text": [
      "kot\n"
     ]
    }
   ],
   "source": [
    "dic = {\"cat\":\"kot\", \"matthew\":\"mateusz\", \"wire\":\"kabel\"}\n",
    "print(dic[\"cat\"])"
   ]
  },
  {
   "cell_type": "markdown",
   "metadata": {},
   "source": [
    "<h4> Zadanie 13 </h4>"
   ]
  },
  {
   "cell_type": "code",
   "execution_count": 30,
   "metadata": {},
   "outputs": [
    {
     "name": "stdout",
     "output_type": "stream",
     "text": [
      "[1, 2, 3, 4, 5, 6]\n"
     ]
    },
    {
     "ename": "KeyboardInterrupt",
     "evalue": "Interrupted by user",
     "output_type": "error",
     "traceback": [
      "\u001b[1;31m---------------------------------------------------------------------------\u001b[0m",
      "\u001b[1;31mKeyboardInterrupt\u001b[0m                         Traceback (most recent call last)",
      "\u001b[1;32m<ipython-input-30-611b3f9374c4>\u001b[0m in \u001b[0;36m<module>\u001b[1;34m\u001b[0m\n\u001b[0;32m     21\u001b[0m     \u001b[0mlista\u001b[0m\u001b[1;33m.\u001b[0m\u001b[0minsert\u001b[0m\u001b[1;33m(\u001b[0m\u001b[0mp\u001b[0m\u001b[1;33m,\u001b[0m\u001b[0mq\u001b[0m\u001b[1;33m)\u001b[0m\u001b[1;33m\u001b[0m\u001b[1;33m\u001b[0m\u001b[0m\n\u001b[0;32m     22\u001b[0m \u001b[1;32mwhile\u001b[0m \u001b[0ma\u001b[0m \u001b[1;33m<\u001b[0m \u001b[1;36m3\u001b[0m\u001b[1;33m:\u001b[0m\u001b[1;33m\u001b[0m\u001b[1;33m\u001b[0m\u001b[0m\n\u001b[1;32m---> 23\u001b[1;33m     \u001b[0mfunkcja\u001b[0m\u001b[1;33m(\u001b[0m\u001b[1;33m)\u001b[0m\u001b[1;33m\u001b[0m\u001b[1;33m\u001b[0m\u001b[0m\n\u001b[0m\u001b[0;32m     24\u001b[0m     \u001b[0ma\u001b[0m \u001b[1;33m+=\u001b[0m \u001b[1;36m1\u001b[0m\u001b[1;33m\u001b[0m\u001b[1;33m\u001b[0m\u001b[0m\n",
      "\u001b[1;32m<ipython-input-30-611b3f9374c4>\u001b[0m in \u001b[0;36mfunkcja\u001b[1;34m()\u001b[0m\n\u001b[0;32m      8\u001b[0m \u001b[1;32mdef\u001b[0m \u001b[0mfunkcja\u001b[0m\u001b[1;33m(\u001b[0m\u001b[1;33m)\u001b[0m\u001b[1;33m:\u001b[0m\u001b[1;33m\u001b[0m\u001b[1;33m\u001b[0m\u001b[0m\n\u001b[0;32m      9\u001b[0m     \u001b[0mprint\u001b[0m \u001b[1;33m(\u001b[0m\u001b[0mlista\u001b[0m\u001b[1;33m)\u001b[0m\u001b[1;33m\u001b[0m\u001b[1;33m\u001b[0m\u001b[0m\n\u001b[1;32m---> 10\u001b[1;33m     \u001b[0mp\u001b[0m \u001b[1;33m=\u001b[0m \u001b[0minput\u001b[0m\u001b[1;33m(\u001b[0m\u001b[1;34m\"Podaj pozycję zmiennej w liście: \"\u001b[0m\u001b[1;33m)\u001b[0m\u001b[1;33m\u001b[0m\u001b[1;33m\u001b[0m\u001b[0m\n\u001b[0m\u001b[0;32m     11\u001b[0m     \u001b[1;32mwhile\u001b[0m \u001b[1;32mTrue\u001b[0m\u001b[1;33m:\u001b[0m\u001b[1;33m\u001b[0m\u001b[1;33m\u001b[0m\u001b[0m\n\u001b[0;32m     12\u001b[0m         \u001b[1;32mif\u001b[0m \u001b[0minput_check\u001b[0m\u001b[1;33m(\u001b[0m\u001b[0mp\u001b[0m\u001b[1;33m)\u001b[0m \u001b[1;33m==\u001b[0m \u001b[1;32mFalse\u001b[0m\u001b[1;33m:\u001b[0m\u001b[1;33m\u001b[0m\u001b[1;33m\u001b[0m\u001b[0m\n",
      "\u001b[1;32m~\\miniconda3\\envs\\bootcamp\\lib\\site-packages\\ipykernel\\kernelbase.py\u001b[0m in \u001b[0;36mraw_input\u001b[1;34m(self, prompt)\u001b[0m\n\u001b[0;32m    861\u001b[0m             \u001b[0mself\u001b[0m\u001b[1;33m.\u001b[0m\u001b[0m_parent_ident\u001b[0m\u001b[1;33m,\u001b[0m\u001b[1;33m\u001b[0m\u001b[1;33m\u001b[0m\u001b[0m\n\u001b[0;32m    862\u001b[0m             \u001b[0mself\u001b[0m\u001b[1;33m.\u001b[0m\u001b[0m_parent_header\u001b[0m\u001b[1;33m,\u001b[0m\u001b[1;33m\u001b[0m\u001b[1;33m\u001b[0m\u001b[0m\n\u001b[1;32m--> 863\u001b[1;33m             \u001b[0mpassword\u001b[0m\u001b[1;33m=\u001b[0m\u001b[1;32mFalse\u001b[0m\u001b[1;33m,\u001b[0m\u001b[1;33m\u001b[0m\u001b[1;33m\u001b[0m\u001b[0m\n\u001b[0m\u001b[0;32m    864\u001b[0m         )\n\u001b[0;32m    865\u001b[0m \u001b[1;33m\u001b[0m\u001b[0m\n",
      "\u001b[1;32m~\\miniconda3\\envs\\bootcamp\\lib\\site-packages\\ipykernel\\kernelbase.py\u001b[0m in \u001b[0;36m_input_request\u001b[1;34m(self, prompt, ident, parent, password)\u001b[0m\n\u001b[0;32m    902\u001b[0m             \u001b[1;32mexcept\u001b[0m \u001b[0mKeyboardInterrupt\u001b[0m\u001b[1;33m:\u001b[0m\u001b[1;33m\u001b[0m\u001b[1;33m\u001b[0m\u001b[0m\n\u001b[0;32m    903\u001b[0m                 \u001b[1;31m# re-raise KeyboardInterrupt, to truncate traceback\u001b[0m\u001b[1;33m\u001b[0m\u001b[1;33m\u001b[0m\u001b[1;33m\u001b[0m\u001b[0m\n\u001b[1;32m--> 904\u001b[1;33m                 \u001b[1;32mraise\u001b[0m \u001b[0mKeyboardInterrupt\u001b[0m\u001b[1;33m(\u001b[0m\u001b[1;34m\"Interrupted by user\"\u001b[0m\u001b[1;33m)\u001b[0m \u001b[1;32mfrom\u001b[0m \u001b[1;32mNone\u001b[0m\u001b[1;33m\u001b[0m\u001b[1;33m\u001b[0m\u001b[0m\n\u001b[0m\u001b[0;32m    905\u001b[0m             \u001b[1;32mexcept\u001b[0m \u001b[0mException\u001b[0m \u001b[1;32mas\u001b[0m \u001b[0me\u001b[0m\u001b[1;33m:\u001b[0m\u001b[1;33m\u001b[0m\u001b[1;33m\u001b[0m\u001b[0m\n\u001b[0;32m    906\u001b[0m                 \u001b[0mself\u001b[0m\u001b[1;33m.\u001b[0m\u001b[0mlog\u001b[0m\u001b[1;33m.\u001b[0m\u001b[0mwarning\u001b[0m\u001b[1;33m(\u001b[0m\u001b[1;34m\"Invalid Message:\"\u001b[0m\u001b[1;33m,\u001b[0m \u001b[0mexc_info\u001b[0m\u001b[1;33m=\u001b[0m\u001b[1;32mTrue\u001b[0m\u001b[1;33m)\u001b[0m\u001b[1;33m\u001b[0m\u001b[1;33m\u001b[0m\u001b[0m\n",
      "\u001b[1;31mKeyboardInterrupt\u001b[0m: Interrupted by user"
     ]
    }
   ],
   "source": [
    "a = 0\n",
    "lista = [1,2,3,4,5,6]\n",
    "def input_check(x):\n",
    "    try:\n",
    "        return(int(x))\n",
    "    except ValueError:\n",
    "        return False\n",
    "def funkcja():\n",
    "    print (lista)\n",
    "    p = input(\"Podaj pozycję zmiennej w liście: \")\n",
    "    while True:\n",
    "        if input_check(p) == False:\n",
    "            print(\"Proszę podać liczbę całkowitą: \", end=\"\"); p = input()\n",
    "            continue  \n",
    "        p = int(p)\n",
    "        if p < 0 or p > len(lista):\n",
    "            print(\"Proszę podać cyfrę z przedziału od 0 do\", len(lista), \": \", end=\"\"); p = input()\n",
    "            continue\n",
    "        break\n",
    "    q = input(\"Podaj dane do wstawienia do listy\")\n",
    "    lista.insert(p,q)\n",
    "while a < 3:\n",
    "    funkcja()\n",
    "    a += 1\n"
   ]
  },
  {
   "cell_type": "markdown",
   "metadata": {},
   "source": [
    "<h4> Zadanie 14 </h4>"
   ]
  },
  {
   "cell_type": "code",
   "execution_count": 32,
   "metadata": {},
   "outputs": [
    {
     "name": "stdin",
     "output_type": "stream",
     "text": [
      "Proszę podać liczbę całkowitą aa\n",
      "Proszę podać liczbę całkowitą, nie ciąg znaków, liczbę zmiennoprzecinkową itp.:  99\n"
     ]
    },
    {
     "name": "stdout",
     "output_type": "stream",
     "text": [
      "99.0\n",
      "<class 'float'>\n"
     ]
    }
   ],
   "source": [
    "def input_check(x):\n",
    "    try:\n",
    "        return(int(x))\n",
    "    except ValueError:\n",
    "        return False\n",
    "a = input(\"Proszę podać liczbę całkowitą\")\n",
    "while input_check(a) == False:\n",
    "    a = input(\"Proszę podać liczbę całkowitą, nie ciąg znaków, liczbę zmiennoprzecinkową itp.: \")\n",
    "a = float(a)\n",
    "print(a, type(a), sep='\\n')"
   ]
  },
  {
   "cell_type": "markdown",
   "metadata": {},
   "source": [
    "<h4> Zadanie 15 </h4>"
   ]
  },
  {
   "cell_type": "code",
   "execution_count": 38,
   "metadata": {},
   "outputs": [
    {
     "ename": "KeyboardInterrupt",
     "evalue": "Interrupted by user",
     "output_type": "error",
     "traceback": [
      "\u001b[1;31m---------------------------------------------------------------------------\u001b[0m",
      "\u001b[1;31mKeyboardInterrupt\u001b[0m                         Traceback (most recent call last)",
      "\u001b[1;32m<ipython-input-38-59c905cf9ef9>\u001b[0m in \u001b[0;36m<module>\u001b[1;34m\u001b[0m\n\u001b[0;32m      7\u001b[0m         \u001b[1;32mreturn\u001b[0m \u001b[1;32mFalse\u001b[0m\u001b[1;33m\u001b[0m\u001b[1;33m\u001b[0m\u001b[0m\n\u001b[0;32m      8\u001b[0m \u001b[1;32mwhile\u001b[0m \u001b[0ma\u001b[0m \u001b[1;33m==\u001b[0m \u001b[1;32mFalse\u001b[0m\u001b[1;33m:\u001b[0m\u001b[1;33m\u001b[0m\u001b[1;33m\u001b[0m\u001b[0m\n\u001b[1;32m----> 9\u001b[1;33m     \u001b[0ma\u001b[0m \u001b[1;33m=\u001b[0m \u001b[0minput_check\u001b[0m\u001b[1;33m(\u001b[0m\u001b[0minput\u001b[0m\u001b[1;33m(\u001b[0m\u001b[1;34m\"Długosc podstawy trapezu: \"\u001b[0m\u001b[1;33m)\u001b[0m\u001b[1;33m)\u001b[0m\u001b[1;33m\u001b[0m\u001b[1;33m\u001b[0m\u001b[0m\n\u001b[0m\u001b[0;32m     10\u001b[0m \u001b[1;32mwhile\u001b[0m \u001b[0mb\u001b[0m \u001b[1;33m==\u001b[0m \u001b[1;32mFalse\u001b[0m\u001b[1;33m:\u001b[0m\u001b[1;33m\u001b[0m\u001b[1;33m\u001b[0m\u001b[0m\n\u001b[0;32m     11\u001b[0m     \u001b[0mb\u001b[0m \u001b[1;33m=\u001b[0m \u001b[0minput_check\u001b[0m\u001b[1;33m(\u001b[0m\u001b[0minput\u001b[0m\u001b[1;33m(\u001b[0m\u001b[1;34m\"Długosc drugiej podstawy trapezu: \"\u001b[0m\u001b[1;33m)\u001b[0m\u001b[1;33m)\u001b[0m\u001b[1;33m\u001b[0m\u001b[1;33m\u001b[0m\u001b[0m\n",
      "\u001b[1;32m~\\miniconda3\\envs\\bootcamp\\lib\\site-packages\\ipykernel\\kernelbase.py\u001b[0m in \u001b[0;36mraw_input\u001b[1;34m(self, prompt)\u001b[0m\n\u001b[0;32m    861\u001b[0m             \u001b[0mself\u001b[0m\u001b[1;33m.\u001b[0m\u001b[0m_parent_ident\u001b[0m\u001b[1;33m,\u001b[0m\u001b[1;33m\u001b[0m\u001b[1;33m\u001b[0m\u001b[0m\n\u001b[0;32m    862\u001b[0m             \u001b[0mself\u001b[0m\u001b[1;33m.\u001b[0m\u001b[0m_parent_header\u001b[0m\u001b[1;33m,\u001b[0m\u001b[1;33m\u001b[0m\u001b[1;33m\u001b[0m\u001b[0m\n\u001b[1;32m--> 863\u001b[1;33m             \u001b[0mpassword\u001b[0m\u001b[1;33m=\u001b[0m\u001b[1;32mFalse\u001b[0m\u001b[1;33m,\u001b[0m\u001b[1;33m\u001b[0m\u001b[1;33m\u001b[0m\u001b[0m\n\u001b[0m\u001b[0;32m    864\u001b[0m         )\n\u001b[0;32m    865\u001b[0m \u001b[1;33m\u001b[0m\u001b[0m\n",
      "\u001b[1;32m~\\miniconda3\\envs\\bootcamp\\lib\\site-packages\\ipykernel\\kernelbase.py\u001b[0m in \u001b[0;36m_input_request\u001b[1;34m(self, prompt, ident, parent, password)\u001b[0m\n\u001b[0;32m    902\u001b[0m             \u001b[1;32mexcept\u001b[0m \u001b[0mKeyboardInterrupt\u001b[0m\u001b[1;33m:\u001b[0m\u001b[1;33m\u001b[0m\u001b[1;33m\u001b[0m\u001b[0m\n\u001b[0;32m    903\u001b[0m                 \u001b[1;31m# re-raise KeyboardInterrupt, to truncate traceback\u001b[0m\u001b[1;33m\u001b[0m\u001b[1;33m\u001b[0m\u001b[1;33m\u001b[0m\u001b[0m\n\u001b[1;32m--> 904\u001b[1;33m                 \u001b[1;32mraise\u001b[0m \u001b[0mKeyboardInterrupt\u001b[0m\u001b[1;33m(\u001b[0m\u001b[1;34m\"Interrupted by user\"\u001b[0m\u001b[1;33m)\u001b[0m \u001b[1;32mfrom\u001b[0m \u001b[1;32mNone\u001b[0m\u001b[1;33m\u001b[0m\u001b[1;33m\u001b[0m\u001b[0m\n\u001b[0m\u001b[0;32m    905\u001b[0m             \u001b[1;32mexcept\u001b[0m \u001b[0mException\u001b[0m \u001b[1;32mas\u001b[0m \u001b[0me\u001b[0m\u001b[1;33m:\u001b[0m\u001b[1;33m\u001b[0m\u001b[1;33m\u001b[0m\u001b[0m\n\u001b[0;32m    906\u001b[0m                 \u001b[0mself\u001b[0m\u001b[1;33m.\u001b[0m\u001b[0mlog\u001b[0m\u001b[1;33m.\u001b[0m\u001b[0mwarning\u001b[0m\u001b[1;33m(\u001b[0m\u001b[1;34m\"Invalid Message:\"\u001b[0m\u001b[1;33m,\u001b[0m \u001b[0mexc_info\u001b[0m\u001b[1;33m=\u001b[0m\u001b[1;32mTrue\u001b[0m\u001b[1;33m)\u001b[0m\u001b[1;33m\u001b[0m\u001b[1;33m\u001b[0m\u001b[0m\n",
      "\u001b[1;31mKeyboardInterrupt\u001b[0m: Interrupted by user"
     ]
    }
   ],
   "source": [
    "a, b, h = False, False, False\n",
    "def input_check(x):\n",
    "    try:\n",
    "        return(float(x))\n",
    "    except ValueError:\n",
    "        print (\"Podanych danych nie da się przekonwertować na liczbę. \")\n",
    "        return False\n",
    "while a == False:\n",
    "    a = input_check(input(\"Długosc podstawy trapezu: \"))\n",
    "while b == False:\n",
    "    b = input_check(input(\"Długosc drugiej podstawy trapezu: \"))\n",
    "while h == False:\n",
    "    h = input_check(input(\"Wysokość trapezu: \"))\n",
    "print(\"Pole trapezu: \", ((a*b)/2)*h)"
   ]
  },
  {
   "cell_type": "markdown",
   "metadata": {},
   "source": [
    "<h4> Zadanie 16 </h4>"
   ]
  },
  {
   "cell_type": "code",
   "execution_count": 40,
   "metadata": {},
   "outputs": [
    {
     "name": "stdout",
     "output_type": "stream",
     "text": [
      "Podaj rok Twoich urodzin"
     ]
    },
    {
     "name": "stdin",
     "output_type": "stream",
     "text": [
      " 2003\n"
     ]
    },
    {
     "name": "stdout",
     "output_type": "stream",
     "text": [
      "Podaj miesiąc Twoich urodzin"
     ]
    },
    {
     "name": "stdin",
     "output_type": "stream",
     "text": [
      " 2\n"
     ]
    },
    {
     "name": "stdout",
     "output_type": "stream",
     "text": [
      "Podaj dzien Twoich urodzin"
     ]
    },
    {
     "name": "stdin",
     "output_type": "stream",
     "text": [
      " 99\n"
     ]
    },
    {
     "name": "stdout",
     "output_type": "stream",
     "text": [
      "Nie jest to rok przystępny. Luty ma tylko 28 dni.\n",
      "Podaj dzien Twoich urodzin"
     ]
    },
    {
     "name": "stdin",
     "output_type": "stream",
     "text": [
      " 0\n"
     ]
    },
    {
     "name": "stdout",
     "output_type": "stream",
     "text": [
      "Dane są niepoprawnie podane.\n",
      "Podaj dzien Twoich urodzin"
     ]
    },
    {
     "name": "stdin",
     "output_type": "stream",
     "text": [
      " 232\n"
     ]
    },
    {
     "name": "stdout",
     "output_type": "stream",
     "text": [
      "Nie jest to rok przystępny. Luty ma tylko 28 dni.\n",
      "Podaj dzien Twoich urodzin"
     ]
    },
    {
     "name": "stdin",
     "output_type": "stream",
     "text": [
      " 33\n"
     ]
    },
    {
     "name": "stdout",
     "output_type": "stream",
     "text": [
      "Nie jest to rok przystępny. Luty ma tylko 28 dni.\n",
      "Podaj dzien Twoich urodzin"
     ]
    },
    {
     "name": "stdin",
     "output_type": "stream",
     "text": [
      " 4\n"
     ]
    },
    {
     "name": "stdout",
     "output_type": "stream",
     "text": [
      "Jesteś niepełnoletni!\n"
     ]
    }
   ],
   "source": [
    "from datetime import date\n",
    "dic = {1:\"rok\", 2:\"miesiąc\", 3:\"dzien\"}\n",
    "\n",
    "a = []\n",
    "def input_check(x):\n",
    "    try:\n",
    "        return(int(x))\n",
    "    except ValueError:\n",
    "        return False\n",
    "def data(y):     \n",
    "    ch1 = False\n",
    "    while ch1 == False:\n",
    "        print(\"Podaj\", dic[y], \"Twoich urodzin\", end = \"\")\n",
    "        dmr = input_check(input())\n",
    "        if dmr == False:\n",
    "            print(\"Dane są niepoprawnie podane.\")\n",
    "            continue\n",
    "        if y == 2:\n",
    "            if dmr < 1 or dmr > 12:\n",
    "                print(\"W roku jest 12 miesięcy, proszę podać liczbę od 1 do 12\")\n",
    "                continue\n",
    "        elif y == 3:\n",
    "            if a[1] == 1 or a[1] == 3 or a[1] == 5 or a[1] == 7 or a[1] == 8 or a[1] == 10 or a[1] == 12:\n",
    "                if dmr < 1 or dmr > 31:\n",
    "                    print (\"W danym miesiącu jest 31 dni.\")\n",
    "                    continue\n",
    "            elif a[1] == 2:\n",
    "                if a[0] % 4 == 0 and (a[0] % 100 != 0 or a[0] % 400 == 0):\n",
    "                    if dmr < 1 or dmr > 29:\n",
    "                        print (\"Jest to rok przystępny z Lutym mającym 29 dni.\")\n",
    "                        continue\n",
    "                else:\n",
    "                    if dmr < 1 or dmr > 28:\n",
    "                        print (\"Nie jest to rok przystępny. Luty ma tylko 28 dni.\")\n",
    "                        continue\n",
    "            else:\n",
    "                if dmr < 1 or dmr > 30:\n",
    "                    print (\"W danym miesiącu jest 30 dni.\")\n",
    "                    continue\n",
    "        return(dmr)\n",
    "\n",
    "for i in range (1,4):\n",
    "    a.append(data(i))\n",
    "    \n",
    "dzis = date.today()\n",
    "dl = []\n",
    "dl.append(int(dzis.strftime(\"%Y\"))); dl.append(int(dzis.strftime(\"%m\"))); dl.append(int(dzis.strftime(\"%d\")))\n",
    "if dl[0] - a[0] == 18:\n",
    "    if dl[1] - a[1] == 0:\n",
    "        if dl[2] - a[2] == 0:\n",
    "            print(\"Dzisiaj są Twoje 18 urodziny!\")\n",
    "        elif dl[2] - a[2] < 0:\n",
    "            print(\"Jesteś pełnoletni!\")\n",
    "        else:\n",
    "            print(\"Jesteś niepełnoletni!\")\n",
    "    elif dl[1] - a[1] < 0:\n",
    "        print(\"Jesteś pełnoletni!\")\n",
    "    else:\n",
    "        print(\"Jesteś niepełnoletni!\")\n",
    "elif dl[0] - a[0] < 18:\n",
    "    print(\"Jesteś niepełnoletni!\")\n",
    "else:\n",
    "    print(\"Jesteś pełnoletni!\")"
   ]
  },
  {
   "cell_type": "markdown",
   "metadata": {},
   "source": [
    "<h4> Zadanie 17 </h4>"
   ]
  },
  {
   "cell_type": "code",
   "execution_count": null,
   "metadata": {},
   "outputs": [
    {
     "name": "stdin",
     "output_type": "stream",
     "text": [
      " 4 1000\n"
     ]
    },
    {
     "name": "stdout",
     "output_type": "stream",
     "text": [
      "260\n"
     ]
    }
   ],
   "source": [
    "def switch():\n",
    "# Sprawdzenie czy lista \"n\" jest w podanym w zadaniu zbiorze, jak jest to kod idzie dalej, albo się przerywa jak liczba n jest równa 0)\n",
    "    while True:\n",
    "        n = -1\n",
    "        n = list(map(int, input().split()))\n",
    "        if n[0] == 0:\n",
    "            break\n",
    "        elif len(n) != 2:\n",
    "            print(\"Podano niepoprawną długość listy. Proszę podać 2 liczby, pierwszą mniejszą od drugiej, albo 0 by przerwać program. \\n\")   \n",
    "        elif 1 <= (n[0] <= 1000000 or 1 <= n[1] <= 1000000) and n[0] >= n[1]:\n",
    "            print(\"Podano niepoprawnie dane. Proszę podać 2 liczby, pierwszą mniejszą od drugiej, albo 0 by przerwać program. \\n\")\n",
    "        else:\n",
    "            break\n",
    "    if n[0] == 0:\n",
    "        return False\n",
    "        \n",
    "#Rozwiązuje równanie\n",
    "    a = 0\n",
    "    for i in range (n[0], n[1]+1):\n",
    "        x = 0\n",
    "        if i % 7 == 0:\n",
    "            a += 1\n",
    "        else:\n",
    "            while i // 10 != 0:\n",
    "                x = x + ( i % 10 )\n",
    "                i = i // 10\n",
    "            x += i\n",
    "            if x % 7 == 0:\n",
    "                 a += 1\n",
    "    print(a)\n",
    "    return True    \n",
    "\n",
    "while switch() != False:\n",
    "    continue\n"
   ]
  },
  {
   "cell_type": "code",
   "execution_count": null,
   "metadata": {},
   "outputs": [],
   "source": []
  }
 ],
 "metadata": {
  "kernelspec": {
   "display_name": "Python 3",
   "language": "python",
   "name": "python3"
  },
  "language_info": {
   "codemirror_mode": {
    "name": "ipython",
    "version": 3
   },
   "file_extension": ".py",
   "mimetype": "text/x-python",
   "name": "python",
   "nbconvert_exporter": "python",
   "pygments_lexer": "ipython3",
   "version": "3.7.9"
  }
 },
 "nbformat": 4,
 "nbformat_minor": 4
}
