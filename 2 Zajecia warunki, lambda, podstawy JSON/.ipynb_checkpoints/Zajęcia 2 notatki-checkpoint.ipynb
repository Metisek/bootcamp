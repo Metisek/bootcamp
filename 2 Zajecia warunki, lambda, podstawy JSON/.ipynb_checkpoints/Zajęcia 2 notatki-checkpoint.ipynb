{
 "cells": [
  {
   "cell_type": "markdown",
   "metadata": {},
   "source": [
    "<h1> Mateusz Bojarski </h1>"
   ]
  },
  {
   "cell_type": "markdown",
   "metadata": {},
   "source": [
    "<h3> Sprawdzanie wartosci </h3>"
   ]
  },
  {
   "cell_type": "code",
   "execution_count": 9,
   "metadata": {},
   "outputs": [
    {
     "name": "stdout",
     "output_type": "stream",
     "text": [
      "Sprawdzanie czy są równe: False\n",
      "Sprawdzanie nierówności: True\n",
      "Sprawdzanie większości/mniejszości: False\n",
      "Sprawdzanie większosci/mniejszości z równością: False\n",
      "False\n",
      "True\n",
      "False\n",
      "True\n",
      "True\n",
      "False\n",
      "False\n",
      "87544944\n",
      "87544944\n",
      "87495728\n",
      "87561416\n",
      "87561416\n",
      "87561416\n"
     ]
    }
   ],
   "source": [
    "a = 1\n",
    "b = 2\n",
    "print(\"Sprawdzanie czy są równe:\", a == b)\n",
    "print(\"Sprawdzanie nierówności:\", a != b)\n",
    "print(\"Sprawdzanie większości/mniejszości:\", a > b)\n",
    "print(\"Sprawdzanie większosci/mniejszości z równością:\", a >= b)\n",
    "\n",
    "c = 3\n",
    "d = 4\n",
    "e = 5\n",
    "f = 6\n",
    "liczby = [1, 2, 3, 4]\n",
    "\n",
    "print(c == d and f > e)\n",
    "print(c == d or f > 3)\n",
    "\n",
    "print(f in liczby)\n",
    "print(c in liczby)\n",
    "\n",
    "print(f not in liczby)\n",
    "print(c not in liczby)\n",
    "\n",
    "print(c is f)\n",
    "\n",
    "# niezmienna (inmutable)\n",
    "\n",
    "a = \"Mateusz\"\n",
    "print(id(a))\n",
    "b = \"Mateusz\"\n",
    "print(id(b))\n",
    "b += \"a\"\n",
    "print(id(b))\n",
    "\n",
    "a = [1, 2, 3, 4, 5, 6]\n",
    "print(id(a))\n",
    "b = a\n",
    "print(id(b))\n",
    "b.append(7)\n",
    "print(id(b))\n",
    "\n",
    "#Płapka: lista a i b mają ten sam identyfikator i dzielą wspólne wartości\n",
    "\n",
    "a = [1, 2, 3, 4, 5, 6]\n",
    "print(id(a))\n",
    "b = a.copy()\n",
    "print(id(b))\n",
    "b.append(7)\n",
    "print(id(b))\n",
    "\n",
    "#Tu identyfikatory list są różne\n",
    "\n"
   ]
  },
  {
   "cell_type": "markdown",
   "metadata": {},
   "source": [
    "<h3> Instrukcje warunkowe if </h3>"
   ]
  },
  {
   "cell_type": "code",
   "execution_count": 18,
   "metadata": {},
   "outputs": [
    {
     "name": "stdout",
     "output_type": "stream",
     "text": [
      "9 jest większe lub równe 8\n",
      "To jest dorosły\n",
      "Ma na imie Mateusz\n",
      "Wiaj nieznajomy\n"
     ]
    }
   ],
   "source": [
    "g = 9\n",
    "h = 8\n",
    "\n",
    "if g < h:\n",
    "    print(\"{} jest mniejsze od {}\".format(g,h))\n",
    "else:\n",
    "    print(\"{} jest większe lub równe {}\".format(g,h))\n",
    "    \n",
    "wiek = 18\n",
    "imie = \"Mateusz\"\n",
    "\n",
    "if wiek >= 18:\n",
    "    print(\"To jest dorosły\")\n",
    "    if imie == \"Mateusz\":\n",
    "        print(\"Ma na imie\", imie)\n",
    "elif 10 <= wiek < 18:\n",
    "    print(\"To jest nastolatek\")\n",
    "else:\n",
    "    print(\"To jest dziecko\")\n",
    "    \n",
    "# Short hand if\n",
    "imie = \"Jan\"\n",
    "print(\"Witaj Janie\") if imie == \"Jan\" else print(\"Wiaj nieznajomy\")\n"
   ]
  },
  {
   "cell_type": "markdown",
   "metadata": {},
   "source": [
    "<h2> Switch case </h2>"
   ]
  },
  {
   "cell_type": "code",
   "execution_count": 25,
   "metadata": {},
   "outputs": [
    {
     "name": "stdin",
     "output_type": "stream",
     "text": [
      "Podaj nazwę produktu:  baton\n"
     ]
    },
    {
     "name": "stdout",
     "output_type": "stream",
     "text": [
      "Baton kosztuje 3.4\n"
     ]
    }
   ],
   "source": [
    "switcher = {\n",
    "    \"czekolada\" : 3.8,\n",
    "    \"baton\" : 3.4,\n",
    "    \"cola\" : 8.75,\n",
    "    \"paluszki\" : 4.5\n",
    "}\n",
    "\n",
    "produkt = input(\"Podaj nazwę produktu: \")\n",
    "if produkt in switcher.keys():\n",
    "    print(\"{} kosztuje {}\".format(produkt.title(), switcher[produkt]))\n",
    "else:\n",
    "    print(\"Produktu nie ma na liście cen\")"
   ]
  },
  {
   "cell_type": "markdown",
   "metadata": {},
   "source": [
    "<h2> Funkcja lambda </h2>"
   ]
  },
  {
   "cell_type": "code",
   "execution_count": 45,
   "metadata": {},
   "outputs": [
    {
     "name": "stdout",
     "output_type": "stream",
     "text": [
      "16\n",
      "True\n",
      "False\n"
     ]
    }
   ],
   "source": [
    "x2 = lambda x: x**2\n",
    "print(x2(-4))\n",
    "\n",
    "czyJPG = lambda file: file.endswith(\".jpg\")\n",
    "print(czyJPG(\"zdjęcie.jpg\"))\n",
    "print(czyJPG(\"zdjęcie.png\"))"
   ]
  },
  {
   "cell_type": "code",
   "execution_count": 46,
   "metadata": {},
   "outputs": [
    {
     "name": "stdout",
     "output_type": "stream",
     "text": [
      "False\n",
      "True\n"
     ]
    }
   ],
   "source": [
    "czyListaJestDluga = lambda lista: len(lista) > 10\n",
    "print(czyListaJestDluga([1,2,3,4,5,6,7,8,9]))\n",
    "print(czyListaJestDluga([1,2,3,4,5,6,7,8,9,10,11]))"
   ]
  },
  {
   "cell_type": "code",
   "execution_count": 51,
   "metadata": {},
   "outputs": [
    {
     "name": "stdout",
     "output_type": "stream",
     "text": [
      "[1, 4, 9, 16, 25, 36, 49]\n"
     ]
    }
   ],
   "source": [
    "numery = [1, 2, 3, 4, 5, 6, 7]\n",
    "numeryDoKwadratu = list(map(lambda liczba: liczba **2, numery))\n",
    "print(numeryDoKwadratu)"
   ]
  },
  {
   "cell_type": "code",
   "execution_count": 57,
   "metadata": {},
   "outputs": [
    {
     "name": "stdout",
     "output_type": "stream",
     "text": [
      "[('Kraków', 'ciepło'), ('Warszawa', 'ciepło'), ('Suwałki', 'zimno'), ('Gdańsk', 'zimno'), ('Rzeszów', 'ciepło'), ('Wrocław', 'ciepło')]\n",
      "[{'city': 'Kraków', 'province_id': 8, 'current_temp': 3.5}, {'city': 'Warszawa', 'province_id': 1, 'current_temp': 2.8}, {'city': 'Rzeszów', 'province_id': 7, 'current_temp': 3.9}, {'city': 'Wrocław', 'province_id': 2, 'current_temp': 5.0}]\n"
     ]
    }
   ],
   "source": [
    "data_from_api = [\n",
    "{'city': 'Kraków', 'province_id': 8, 'current_temp': 3.5},\n",
    "{'city': 'Warszawa', 'province_id': 1, 'current_temp': 2.8},\n",
    "{'city': 'Suwałki', 'province_id': 9, 'current_temp': -0.5},\n",
    "{'city': 'Gdańsk', 'province_id': 3, 'current_temp': -0.1},\n",
    "{'city': 'Rzeszów', 'province_id': 7, 'current_temp': 3.9},\n",
    "{'city': 'Wrocław', 'province_id': 2, 'current_temp': 5.0},\n",
    "]\n",
    "czyCieplo = list(map(lambda obj: (obj['city'], \"ciepło\" if obj['current_temp'] > 0 else \"zimno\"), data_from_api))\n",
    "print(czyCieplo)\n",
    "\n",
    "ciepleMiasta = list(filter(lambda city: city['current_temp'] >= 0, data_from_api))\n",
    "print(ciepleMiasta)\n"
   ]
  },
  {
   "cell_type": "markdown",
   "metadata": {},
   "source": [
    "<h3> Funkcje </h3>"
   ]
  },
  {
   "cell_type": "code",
   "execution_count": 1,
   "metadata": {},
   "outputs": [],
   "source": [
    "# Liniowa\n",
    "a = int(input(\"Podaj współczynik a: \"))\n",
    "b = int(input(\"Podaj współczynik b: \"))\n",
    "x0 = -b/a\n",
    "print(x0)"
   ]
  },
  {
   "cell_type": "code",
   "execution_count": null,
   "metadata": {},
   "outputs": [],
   "source": [
    "# Kwadratowa\n",
    "a = int(input(\"Podaj wspolczynnik a: \"))\n",
    "b = int(input(\"Podaj wspolczynnik b: \"))\n",
    "c = int(input(\"Podaj wspolczynnik c: \"))\n",
    "delta = b**2 - 4*a*c\n",
    "if delta < 0:\n",
    "    print(\"Delta jest ujemna\")\n",
    "elif delta == 0:\n",
    "    print(\"Pierwiastkiem rownania jest: \", -b/(2*a))\n",
    "else:\n",
    "    pierwiastek1 = (-b-delta**(1/2))/(2*a)\n",
    "    pierwiastek2 = (-b+delta**(1/2))/(2*a)\n",
    "    print(\"Pierwiastkami rownania kwadratowego sa: \", pierwiastek1, pierwiastek2)"
   ]
  },
  {
   "cell_type": "code",
   "execution_count": 3,
   "metadata": {},
   "outputs": [
    {
     "name": "stdin",
     "output_type": "stream",
     "text": [
      "Podaj wspolczynnik a1:  2 \n",
      "Podaj wspolczynnik b1:  2\n",
      "Podaj wspolczynnik a2:  3\n",
      "Podaj wspolczynnik b2:  4\n"
     ]
    },
    {
     "name": "stdout",
     "output_type": "stream",
     "text": [
      "8.0 1.0\n"
     ]
    }
   ],
   "source": [
    "# Punkt przecięcia się 2 prostych\n",
    "a1 = int(input(\"Podaj wspolczynnik a1: \"))\n",
    "b1 = int(input(\"Podaj wspolczynnik b1: \"))\n",
    "a2 = int(input(\"Podaj wspolczynnik a2: \"))\n",
    "b2 = int(input(\"Podaj wspolczynnik b2: \"))\n",
    "if a1 == a2:\n",
    "    print(\"Proste są równoległe\")\n",
    "else:\n",
    "    wyznacznik = a1* -1 - a2 * -1\n",
    "    wyznacznikx = b1 * -1 * b2 * -1\n",
    "    wyznaczniky = a1 * -1 - a2 * -1\n",
    "    x = wyznacznikx / wyznacznik\n",
    "    y = wyznaczniky / wyznacznik\n",
    "    \n",
    "print(x, y)\n",
    "    \n",
    "    "
   ]
  },
  {
   "cell_type": "code",
   "execution_count": 5,
   "metadata": {},
   "outputs": [
    {
     "name": "stdin",
     "output_type": "stream",
     "text": [
      "Podaj liczbę:  -2\n"
     ]
    },
    {
     "name": "stdout",
     "output_type": "stream",
     "text": [
      "2\n"
     ]
    }
   ],
   "source": [
    "# Liczba bezwzględna\n",
    "a = int(input(\"Podaj liczbę: \"))\n",
    "if a < 0:\n",
    "    print(-a)\n",
    "else:\n",
    "    print(a)"
   ]
  },
  {
   "cell_type": "code",
   "execution_count": 8,
   "metadata": {},
   "outputs": [
    {
     "name": "stdin",
     "output_type": "stream",
     "text": [
      "Podaj współczynnik przy x^4:  2\n",
      "Podaj współczynnik przy x^3:  3\n",
      "Podaj współczynnik przy x^2:  44\n",
      "Podaj współczynnik przy x:  1\n",
      "Podaj wyraz wolny:  2\n",
      "Podaj a w dwumianie:  3\n"
     ]
    }
   ],
   "source": [
    "# Sprawdzenie podzielności wielomianów\n",
    "\n",
    "a4 = int(input(\"Podaj współczynnik przy x^4: \"))\n",
    "a3 = int(input(\"Podaj współczynnik przy x^3: \"))\n",
    "a2 = int(input(\"Podaj współczynnik przy x^2: \"))\n",
    "a1 = int(input(\"Podaj współczynnik przy x: \"))\n",
    "ww = int(input(\"Podaj wyraz wolny: \"))\n",
    "\n",
    "a = int(input(\"Podaj a w dwumianie: \"))\n",
    "\n",
    "if a4 * a**4 + a3 * a**3 + a2 * a**2 + a1 * a + ww == 0: print(\"Jest podzielny\")"
   ]
  },
  {
   "cell_type": "markdown",
   "metadata": {},
   "source": [
    "<h2> Zadania wspólne pomijam ze względu na ich łatwosć wykonania oraz to, że zgubiłem od nich dane </h2>"
   ]
  },
  {
   "cell_type": "code",
   "execution_count": null,
   "metadata": {},
   "outputs": [],
   "source": []
  }
 ],
 "metadata": {
  "kernelspec": {
   "display_name": "Python 3",
   "language": "python",
   "name": "python3"
  },
  "language_info": {
   "codemirror_mode": {
    "name": "ipython",
    "version": 3
   },
   "file_extension": ".py",
   "mimetype": "text/x-python",
   "name": "python",
   "nbconvert_exporter": "python",
   "pygments_lexer": "ipython3",
   "version": "3.7.9"
  }
 },
 "nbformat": 4,
 "nbformat_minor": 4
}
