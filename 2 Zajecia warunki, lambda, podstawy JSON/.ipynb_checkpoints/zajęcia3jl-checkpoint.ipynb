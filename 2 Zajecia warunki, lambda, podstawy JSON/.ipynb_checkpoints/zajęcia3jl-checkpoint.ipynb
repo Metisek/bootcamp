{
 "cells": [
  {
   "cell_type": "markdown",
   "metadata": {},
   "source": [
    "<h1> Mateusz Bojarski </h1>"
   ]
  },
  {
   "cell_type": "markdown",
   "metadata": {},
   "source": [
    "<h4> Zadanie 1 </h4>"
   ]
  },
  {
   "cell_type": "code",
   "execution_count": 19,
   "metadata": {},
   "outputs": [
    {
     "name": "stdin",
     "output_type": "stream",
     "text": [
      "Podaj godzinę  23\n"
     ]
    },
    {
     "name": "stdout",
     "output_type": "stream",
     "text": [
      "Za godzine jest godzina 12 PM\n"
     ]
    }
   ],
   "source": [
    "def input_check(x):\n",
    "    try:\n",
    "        return(int(x))\n",
    "    except ValueError:\n",
    "        return False\n",
    "    \n",
    "while True:\n",
    "    a = input(\"Podaj godzinę \")\n",
    "    if a != \"0\":\n",
    "        if input_check(a) == False:\n",
    "            print(\"Podano niepoprawną wartość\")\n",
    "            continue\n",
    "    a=int(a)\n",
    "    if a >= 24 or a < 0:\n",
    "        print(\"Podanio zły przedział godzin\")\n",
    "    else:\n",
    "        if a == 12:\n",
    "            print(\"Za godzine jest godzina\", int(a/12), \"PM\")\n",
    "        elif a // 12 == 0:\n",
    "            print(\"Za godzine jest godzina\", int(a%12 + 1), \"AM\")\n",
    "        else:\n",
    "            print(\"Za godzine jest godzina\", int(a%12 + 1), \"PM\")\n",
    "        break\n",
    "                    "
   ]
  },
  {
   "cell_type": "markdown",
   "metadata": {},
   "source": [
    "<h4> Zadanie 2 </h4>"
   ]
  },
  {
   "cell_type": "code",
   "execution_count": 28,
   "metadata": {},
   "outputs": [
    {
     "name": "stdin",
     "output_type": "stream",
     "text": [
      "Podaj imię:  rut\n"
     ]
    },
    {
     "name": "stdout",
     "output_type": "stream",
     "text": [
      "Imię żeńskie\n"
     ]
    }
   ],
   "source": [
    "imie = input(\"Podaj imię: \"); imie = imie.title()\n",
    "if imie ==\"Kuba\":\n",
    "    print(\"Imię męskie\")\n",
    "elif imie==\"Rut\":\n",
    "    print(\"Imię żeńskie\")\n",
    "else:\n",
    "    if imie.endswith('a') == True:\n",
    "        print(\"Imię żeńskie\") \n",
    "    else:\n",
    "        print(\"Imię męskie\")"
   ]
  },
  {
   "cell_type": "markdown",
   "metadata": {},
   "source": [
    "<h4> Zadanie 3 </h4>"
   ]
  },
  {
   "cell_type": "code",
   "execution_count": 41,
   "metadata": {},
   "outputs": [
    {
     "name": "stdin",
     "output_type": "stream",
     "text": [
      "Podaj numer rejestracyjny:  owi1\n"
     ]
    },
    {
     "name": "stdout",
     "output_type": "stream",
     "text": [
      "OWI1\n",
      "1\n",
      "Auto nie należy do Warszawa Śródmieście\n"
     ]
    }
   ],
   "source": [
    "a = input(\"Podaj numer rejestracyjny: \"); a = a.upper()\n",
    "\n",
    "#b = list(map(str, a))\n",
    "#if b[0] == \"W\" and b[1] == \"I\":\n",
    "#    print(\"Auto należy do Warszawa Śródmieście\")\n",
    "#else:\n",
    "#    print(\"Auto nie należy do Warszawa Śródmieście\")\n",
    "\n",
    "if a.find('WI') == 0:\n",
    "    print(\"Auto należy do Warszawa Śródmieście\")\n",
    "else:\n",
    "    print(\"Auto nie należy do Warszawa Śródmieście\")"
   ]
  },
  {
   "cell_type": "markdown",
   "metadata": {},
   "source": [
    "<h4> Zadanie 4 </h4>"
   ]
  },
  {
   "cell_type": "code",
   "execution_count": 44,
   "metadata": {},
   "outputs": [
    {
     "name": "stdout",
     "output_type": "stream",
     "text": [
      "Sprawdzenie równania (x-2)^2 + (y-1)^2 = 9\n"
     ]
    },
    {
     "name": "stdin",
     "output_type": "stream",
     "text": [
      "Podaj pierwszą współrzędną (x): 1\n",
      "Podaj drugą współrzędną (y): 1\n"
     ]
    },
    {
     "name": "stdout",
     "output_type": "stream",
     "text": [
      "Punkt nie należy do tego równania\n"
     ]
    }
   ],
   "source": [
    "print(\"Sprawdzenie równania (x-2)^2 + (y-1)^2 = 9\")\n",
    "x = int(input(\"Podaj pierwszą współrzędną (x):\" ))\n",
    "y = int(input(\"Podaj drugą współrzędną (y):\" ))\n",
    "if (x-2)**2 + (y-1)**2 == 9:\n",
    "    print(\"Punkt należy do tego równania\")\n",
    "else:\n",
    "    print(\"Punkt nie należy do tego równania\")"
   ]
  },
  {
   "cell_type": "markdown",
   "metadata": {},
   "source": [
    "<h4> Zadanie 5 </h4>"
   ]
  },
  {
   "cell_type": "code",
   "execution_count": 52,
   "metadata": {},
   "outputs": [
    {
     "name": "stdout",
     "output_type": "stream",
     "text": [
      "Sprawdzenie równania (x+4)^2 + (y-4)^2 <= 25\n"
     ]
    },
    {
     "name": "stdin",
     "output_type": "stream",
     "text": [
      "Podaj pierwszą współrzędną (x): -4\n",
      "Podaj drugą współrzędną (y): 4\n"
     ]
    },
    {
     "name": "stdout",
     "output_type": "stream",
     "text": [
      "0\n",
      "Punkt należy do tego równania\n"
     ]
    }
   ],
   "source": [
    "print(\"Sprawdzenie równania (x+4)^2 + (y-4)^2 <= 25\")\n",
    "x = int(input(\"Podaj pierwszą współrzędną (x):\" ))\n",
    "y = int(input(\"Podaj drugą współrzędną (y):\" ))\n",
    "if (x+4)**2 + (y-4)**2 <= 25:\n",
    "    print(\"Punkt należy do tego równania\")\n",
    "else:\n",
    "    print(\"Punkt nie należy do tego równania\")"
   ]
  },
  {
   "cell_type": "markdown",
   "metadata": {},
   "source": [
    "<h4> Zadanie 6 </h4>"
   ]
  },
  {
   "cell_type": "code",
   "execution_count": null,
   "metadata": {},
   "outputs": [],
   "source": [
    "print(\"Wzór Herona: √[p(p-a)(p-b)(p-c)]\")\n",
    "print(\"p = (a+b+c)/2\")\n",
    "a = list(map(float,input(\"Podaj 3 długości boków trójkąta oddzielone spacją\")))\n",
    "if len(a) != 3:\n",
    "    print(\"Niepoprawna ilość danych\")\n",
    "else:\n",
    "    a.sort()\n",
    "    if a[1] + a[2] <= a[0]:\n",
    "\n"
   ]
  }
 ],
 "metadata": {
  "kernelspec": {
   "display_name": "Python 3",
   "language": "python",
   "name": "python3"
  },
  "language_info": {
   "codemirror_mode": {
    "name": "ipython",
    "version": 3
   },
   "file_extension": ".py",
   "mimetype": "text/x-python",
   "name": "python",
   "nbconvert_exporter": "python",
   "pygments_lexer": "ipython3",
   "version": "3.7.9"
  }
 },
 "nbformat": 4,
 "nbformat_minor": 4
}
