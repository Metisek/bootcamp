{
 "cells": [
  {
   "cell_type": "markdown",
   "metadata": {},
   "source": [
    "<h1> Mateusz Bojarski </h1>"
   ]
  },
  {
   "cell_type": "markdown",
   "metadata": {},
   "source": [
    "<h4> Zadanie 1 </h4>"
   ]
  },
  {
   "cell_type": "code",
   "execution_count": 1,
   "metadata": {},
   "outputs": [
    {
     "name": "stdout",
     "output_type": "stream",
     "text": [
      "Za godzine jest godzina 11 PM\n"
     ]
    }
   ],
   "source": [
    "def input_check(x):\n",
    "    try:\n",
    "        return(int(x))\n",
    "    except ValueError:\n",
    "        return False\n",
    "    \n",
    "while True:\n",
    "    a = input(\"Podaj godzinę \")\n",
    "    if a != \"0\":\n",
    "        if input_check(a) == False:\n",
    "            print(\"Podano niepoprawną wartość\")\n",
    "            continue\n",
    "    a=int(a)\n",
    "    if a >= 24 or a < 0:\n",
    "        print(\"Podanio zły przedział godzin\")\n",
    "    else:\n",
    "        if a == 12:\n",
    "            print(\"Za godzine jest godzina\", int(a/12), \"PM\")\n",
    "        elif a // 12 == 0:\n",
    "            print(\"Za godzine jest godzina\", int(a%12 + 1), \"AM\")\n",
    "        else:\n",
    "            print(\"Za godzine jest godzina\", int(a%12 + 1), \"PM\")\n",
    "        break\n",
    "                    "
   ]
  },
  {
   "cell_type": "markdown",
   "metadata": {},
   "source": [
    "<h4> Zadanie 2 </h4>"
   ]
  },
  {
   "cell_type": "code",
   "execution_count": 28,
   "metadata": {},
   "outputs": [
    {
     "name": "stdin",
     "output_type": "stream",
     "text": [
      "Podaj imię:  rut\n"
     ]
    },
    {
     "name": "stdout",
     "output_type": "stream",
     "text": [
      "Imię żeńskie\n"
     ]
    }
   ],
   "source": [
    "imie = input(\"Podaj imię: \"); imie = imie.title()\n",
    "if imie ==\"Kuba\":\n",
    "    print(\"Imię męskie\")\n",
    "elif imie==\"Rut\":\n",
    "    print(\"Imię żeńskie\")\n",
    "else:\n",
    "    if imie.endswith('a') == True:\n",
    "        print(\"Imię żeńskie\") \n",
    "    else:\n",
    "        print(\"Imię męskie\")"
   ]
  },
  {
   "cell_type": "markdown",
   "metadata": {},
   "source": [
    "<h4> Zadanie 3 </h4>"
   ]
  },
  {
   "cell_type": "code",
   "execution_count": 41,
   "metadata": {},
   "outputs": [
    {
     "name": "stdin",
     "output_type": "stream",
     "text": [
      "Podaj numer rejestracyjny:  owi1\n"
     ]
    },
    {
     "name": "stdout",
     "output_type": "stream",
     "text": [
      "OWI1\n",
      "1\n",
      "Auto nie należy do Warszawa Śródmieście\n"
     ]
    }
   ],
   "source": [
    "a = input(\"Podaj numer rejestracyjny: \"); a = a.upper()\n",
    "\n",
    "#b = list(map(str, a))\n",
    "#if b[0] == \"W\" and b[1] == \"I\":\n",
    "#    print(\"Auto należy do Warszawa Śródmieście\")\n",
    "#else:\n",
    "#    print(\"Auto nie należy do Warszawa Śródmieście\")\n",
    "\n",
    "if a.find('WI') == 0:\n",
    "    print(\"Auto należy do Warszawa Śródmieście\")\n",
    "else:\n",
    "    print(\"Auto nie należy do Warszawa Śródmieście\")"
   ]
  },
  {
   "cell_type": "markdown",
   "metadata": {},
   "source": [
    "<h4> Zadanie 4 </h4>"
   ]
  },
  {
   "cell_type": "code",
   "execution_count": 44,
   "metadata": {},
   "outputs": [
    {
     "name": "stdout",
     "output_type": "stream",
     "text": [
      "Sprawdzenie równania (x-2)^2 + (y-1)^2 = 9\n"
     ]
    },
    {
     "name": "stdin",
     "output_type": "stream",
     "text": [
      "Podaj pierwszą współrzędną (x): 1\n",
      "Podaj drugą współrzędną (y): 1\n"
     ]
    },
    {
     "name": "stdout",
     "output_type": "stream",
     "text": [
      "Punkt nie należy do tego równania\n"
     ]
    }
   ],
   "source": [
    "print(\"Sprawdzenie równania (x-2)^2 + (y-1)^2 = 9\")\n",
    "x = int(input(\"Podaj pierwszą współrzędną (x):\" ))\n",
    "y = int(input(\"Podaj drugą współrzędną (y):\" ))\n",
    "if (x-2)**2 + (y-1)**2 == 9:\n",
    "    print(\"Punkt należy do tego równania\")\n",
    "else:\n",
    "    print(\"Punkt nie należy do tego równania\")"
   ]
  },
  {
   "cell_type": "markdown",
   "metadata": {},
   "source": [
    "<h4> Zadanie 5 </h4>"
   ]
  },
  {
   "cell_type": "code",
   "execution_count": 52,
   "metadata": {},
   "outputs": [
    {
     "name": "stdout",
     "output_type": "stream",
     "text": [
      "Sprawdzenie równania (x+4)^2 + (y-4)^2 <= 25\n"
     ]
    },
    {
     "name": "stdin",
     "output_type": "stream",
     "text": [
      "Podaj pierwszą współrzędną (x): -4\n",
      "Podaj drugą współrzędną (y): 4\n"
     ]
    },
    {
     "name": "stdout",
     "output_type": "stream",
     "text": [
      "0\n",
      "Punkt należy do tego równania\n"
     ]
    }
   ],
   "source": [
    "print(\"Sprawdzenie równania (x+4)^2 + (y-4)^2 <= 25\")\n",
    "x = int(input(\"Podaj pierwszą współrzędną (x):\" ))\n",
    "y = int(input(\"Podaj drugą współrzędną (y):\" ))\n",
    "if (x+4)**2 + (y-4)**2 <= 25:\n",
    "    print(\"Punkt należy do tego równania\")\n",
    "else:\n",
    "    print(\"Punkt nie należy do tego równania\")"
   ]
  },
  {
   "cell_type": "markdown",
   "metadata": {},
   "source": [
    "<h4> Zadanie 6 </h4>"
   ]
  },
  {
   "cell_type": "code",
   "execution_count": 8,
   "metadata": {},
   "outputs": [
    {
     "name": "stdout",
     "output_type": "stream",
     "text": [
      "Wzór Herona: √[p(p-a)(p-b)(p-c)]\n",
      "p = (a+b+c)/2\n",
      "15.0\n",
      "Pole trójkąta wynosi 30.0 (cm)\n"
     ]
    }
   ],
   "source": [
    "def input_check(x):\n",
    "    try:\n",
    "        return(float(x))\n",
    "    except ValueError:\n",
    "        return False\n",
    "print(\"Wzór Herona: √[p(p-a)(p-b)(p-c)]\")\n",
    "print(\"p = (a+b+c)/2\")\n",
    "while True:\n",
    "    a = list(input(\"Podaj 3 długości boków trójkąta oddzielone spacją w centymetrach: \").split())\n",
    "    if len(a) != 3:\n",
    "        print(\"Niepoprawna ilość danych\")\n",
    "        continue\n",
    "    elif input_check(a[0]) == False or input_check(a[1]) == False or input_check(a[2]) == False:\n",
    "        print(\"Co najmniej jedna ze zmiennych nie może zostać przekonwertowana na float.\")\n",
    "        continue\n",
    "    else:\n",
    "        for i in range(0, len(a)):\n",
    "            a[i] = float(a[i])\n",
    "        a.sort()\n",
    "        if a[1] + a[0] <= a[2]:\n",
    "            print(\"Z podanych zmiennych nie można wykonać trójkąta.\")\n",
    "            continue\n",
    "        else:\n",
    "            p = (a[0]+a[1]+a[2])/2\n",
    "            pole = (p*(p-a[0])*(p-a[1])*(p-a[2]))**(1/2)\n",
    "            print(\"Pole trójkąta wynosi {} (cm^2)\".format(pole))\n",
    "            break\n",
    "\n"
   ]
  },
  {
   "cell_type": "markdown",
   "metadata": {},
   "source": [
    "<h4> Zadanie 7 </h4>"
   ]
  },
  {
   "cell_type": "code",
   "execution_count": 7,
   "metadata": {},
   "outputs": [
    {
     "name": "stdout",
     "output_type": "stream",
     "text": [
      "Obie cyfry tej liczby są parzyste oraz ich suma jest równa 6.\n"
     ]
    }
   ],
   "source": [
    "def input_check(x):\n",
    "    try:\n",
    "        return(int(x))\n",
    "    except ValueError:\n",
    "        return False\n",
    "while True:\n",
    "    a = input(\"Podaj liczbę dwucyfrową: \")\n",
    "    if input_check(a) == False:\n",
    "        print(\"Podana zmienna nie jest liczbą całkowitą.\"); continue\n",
    "    a = list(map(int, a))\n",
    "    if len(a) != 2:\n",
    "        print(\"Liczba ta nie jest dwucyfrowa\"); continue\n",
    "# Każda cyfra tej liczby ma być parzysta i ich suma ma być równa 6 (5 nie jest możliwe do sprawdzenia)\n",
    "    if a[0] % 2 == 0 and a[1] % 2 == 0 and a[0] + a[1] == 6:\n",
    "        print(\"Obie cyfry tej liczby są parzyste oraz ich suma jest równa 6.\")\n",
    "    else:\n",
    "        print(\"Warunek nie został spełniony\")\n",
    "    break\n"
   ]
  },
  {
   "cell_type": "markdown",
   "metadata": {},
   "source": [
    "<h3> Zadanie 9 </h3>"
   ]
  },
  {
   "cell_type": "code",
   "execution_count": null,
   "metadata": {},
   "outputs": [
    {
     "name": "stdout",
     "output_type": "stream",
     "text": [
      "Prosty kalkulator sumujący 2 zmienne.\n",
      " Dostępne działania: \n",
      "mnożenie: *\n",
      "dzielenie: /\n",
      "dodawanie: +\n",
      "odejmowanie: -\n"
     ]
    },
    {
     "name": "stdin",
     "output_type": "stream",
     "text": [
      "Proszę podać jeden znak z listy powyżej:  +\n",
      "Podaj 2 zmienne albo samą cyfrę 0 by powrócić do zmiany znaku:  22 10\n"
     ]
    },
    {
     "name": "stdout",
     "output_type": "stream",
     "text": [
      "32\n"
     ]
    }
   ],
   "source": [
    "def input_check(x):\n",
    "    try: return(int(x))\n",
    "    except ValueError: return False\n",
    "dzialania = [\n",
    "    {\"dzialanie\":\"mnożenie\",\"znak\":\"*\"},\n",
    "    {\"dzialanie\":\"dzielenie\",\"znak\":\"/\"},\n",
    "    {\"dzialanie\":\"dodawanie\",\"znak\":\"+\"},\n",
    "    {\"dzialanie\":\"odejmowanie\",\"znak\":\"-\"},\n",
    "]\n",
    "znaki = list(map(lambda obj: (obj['dzialanie'], obj['znak']), dzialania))\n",
    "print(\"Prosty kalkulator sumujący 2 zmienne.\\n Dostępne działania: \")\n",
    "for i in range(0, len(znaki)):\n",
    "    print(\"{}: {}\".format(znaki[i][0], znaki[i][1]))\n",
    "def func():\n",
    "    while True:\n",
    "        a = input(\"Proszę podać jeden znak z listy powyżej: \")\n",
    "        b = (list(filter(lambda obj: obj[1] == a, znaki)))\n",
    "        if len(b) == 0:\n",
    "            print(\"Podano niepoprawny znak.\")\n",
    "            continue\n",
    "        else:\n",
    "             while True:\n",
    "                checksum = 0\n",
    "                c = list(input(\"Podaj 2 zmienne albo samą cyfrę 0 by powrócić do zmiany znaku: \").split())\n",
    "                if len(c) == 1 and c[0] == \"0\":\n",
    "                    checksum = 1\n",
    "                    break\n",
    "                elif len(c) == 2:\n",
    "                    if input_check(c[0]) == False or input_check(c[1]) == False:\n",
    "                        print(\"Podanych zmiennych nie można przekształcić na liczby\")\n",
    "                        continue\n",
    "                    else: \n",
    "                        c[0] = float(c[0])\n",
    "                        c[1] = float(c[1])\n",
    "                        w = eval(\"int({}{}{})\".format(c[0], b[0][1], c[1]))\n",
    "                        print(w)\n",
    "                        break\n",
    "                else:\n",
    "                    print(\"Podano niepoprawną ilość zmiennych.\")\n",
    "                    continue\n",
    "                continue\n",
    "        if checksum == 1:\n",
    "            continue\n",
    "        break\n",
    "\n",
    "while 1:\n",
    "    func()"
   ]
  },
  {
   "cell_type": "markdown",
   "metadata": {},
   "source": [
    "<h2> Zadanie 10 </h2>"
   ]
  },
  {
   "cell_type": "code",
   "execution_count": 3,
   "metadata": {},
   "outputs": [
    {
     "name": "stdout",
     "output_type": "stream",
     "text": [
      "95\n",
      "92\n"
     ]
    }
   ],
   "source": [
    "data = [{\"type\": \"Feature\", \"geometry\": {\"type\": \"Point\", \"coordinates\": [21.0112, 52.235619]}, \"properties\": {\"PM25\": 10.29}}, {\"type\": \"Feature\", \"geometry\": {\"type\": \"Point\", \"coordinates\": [21.017904, 52.223896]}, \"properties\": {\"PM25\": 10.37}}, {\"type\": \"Feature\", \"geometry\": {\"type\": \"Point\", \"coordinates\": [21.024308, 52.227118]}, \"properties\": {\"PM25\": 10.42}}, {\"type\": \"Feature\", \"geometry\": {\"type\": \"Point\", \"coordinates\": [21.009337, 52.221714]}, \"properties\": {\"PM25\": 10.12}}, {\"type\": \"Feature\", \"geometry\": {\"type\": \"Point\", \"coordinates\": [20.997247, 52.228359]}, \"properties\": {\"PM25\": 10.63}}, {\"type\": \"Feature\", \"geometry\": {\"type\": \"Point\", \"coordinates\": [21.004724, 52.219298]}, \"properties\": {\"PM25\": 10.34}}, {\"type\": \"Feature\", \"geometry\": {\"type\": \"Point\", \"coordinates\": [20.994392, 52.236885]}, \"properties\": {\"PM25\": 8.88}}, {\"type\": \"Feature\", \"geometry\": {\"type\": \"Point\", \"coordinates\": [21.027345, 52.241686]}, \"properties\": {\"PM25\": 10.36}}, {\"type\": \"Feature\", \"geometry\": {\"type\": \"Point\", \"coordinates\": [21.004206, 52.244349]}, \"properties\": {\"PM25\": 13.68}}, {\"type\": \"Feature\", \"geometry\": {\"type\": \"Point\", \"coordinates\": [20.995433, 52.242335]}, \"properties\": {\"PM25\": 9.48}}, {\"type\": \"Feature\", \"geometry\": {\"type\": \"Point\", \"coordinates\": [21.018223, 52.24577]}, \"properties\": {\"PM25\": 6.65}}, {\"type\": \"Feature\", \"geometry\": {\"type\": \"Point\", \"coordinates\": [20.98926, 52.239665]}, \"properties\": {\"PM25\": 8.53}}, {\"type\": \"Feature\", \"geometry\": {\"type\": \"Point\", \"coordinates\": [20.984078, 52.226959]}, \"properties\": {\"PM25\": 11.25}}, {\"type\": \"Feature\", \"geometry\": {\"type\": \"Point\", \"coordinates\": [20.989127, 52.219005]}, \"properties\": {\"PM25\": 10.55}}, {\"type\": \"Feature\", \"geometry\": {\"type\": \"Point\", \"coordinates\": [21.023867, 52.212736]}, \"properties\": {\"PM25\": 9.51}}, {\"type\": \"Feature\", \"geometry\": {\"type\": \"Point\", \"coordinates\": [20.989544, 52.244328]}, \"properties\": {\"PM25\": 8.6}}, {\"type\": \"Feature\", \"geometry\": {\"type\": \"Point\", \"coordinates\": [20.984679, 52.241858]}, \"properties\": {\"PM25\": 9.18}}, {\"type\": \"Feature\", \"geometry\": {\"type\": \"Point\", \"coordinates\": [21.008987, 52.209193]}, \"properties\": {\"PM25\": 12.04}}, {\"type\": \"Feature\", \"geometry\": {\"type\": \"Point\", \"coordinates\": [20.977679, 52.229645]}, \"properties\": {\"PM25\": 18.67}}, {\"type\": \"Feature\", \"geometry\": {\"type\": \"Point\", \"coordinates\": [20.977428, 52.21567]}, \"properties\": {\"PM25\": 11.02}}, {\"type\": \"Feature\", \"geometry\": {\"type\": \"Point\", \"coordinates\": [21.01341, 52.203123]}, \"properties\": {\"PM25\": 9.65}}, {\"type\": \"Feature\", \"geometry\": {\"type\": \"Point\", \"coordinates\": [20.968602, 52.235559]}, \"properties\": {\"PM25\": 11.12}}, {\"type\": \"Feature\", \"geometry\": {\"type\": \"Point\", \"coordinates\": [20.99337, 52.255737]}, \"properties\": {\"PM25\": 9.29}}, {\"type\": \"Feature\", \"geometry\": {\"type\": \"Point\", \"coordinates\": [21.058685, 52.231808]}, \"properties\": {\"PM25\": 8.18}}, {\"type\": \"Feature\", \"geometry\": {\"type\": \"Point\", \"coordinates\": [20.99424, 52.256621]}, \"properties\": {\"PM25\": 9.33}}, {\"type\": \"Feature\", \"geometry\": {\"type\": \"Point\", \"coordinates\": [20.984535, 52.254452]}, \"properties\": {\"PM25\": 9.02}}, {\"type\": \"Feature\", \"geometry\": {\"type\": \"Point\", \"coordinates\": [21.061707, 52.227011]}, \"properties\": {\"PM25\": 8.16}}, {\"type\": \"Feature\", \"geometry\": {\"type\": \"Point\", \"coordinates\": [21.021538, 52.198466]}, \"properties\": {\"PM25\": 9.12}}, {\"type\": \"Feature\", \"geometry\": {\"type\": \"Point\", \"coordinates\": [20.959527, 52.228574]}, \"properties\": {\"PM25\": 8.81}}, {\"type\": \"Feature\", \"geometry\": {\"type\": \"Point\", \"coordinates\": [20.961501, 52.24454]}, \"properties\": {\"PM25\": 11.09}}, {\"type\": \"Feature\", \"geometry\": {\"type\": \"Point\", \"coordinates\": [21.048137, 52.203759]}, \"properties\": {\"PM25\": 7.68}}, {\"type\": \"Feature\", \"geometry\": {\"type\": \"Point\", \"coordinates\": [21.02368, 52.195252]}, \"properties\": {\"PM25\": 9.19}}, {\"type\": \"Feature\", \"geometry\": {\"type\": \"Point\", \"coordinates\": [21.064052, 52.211664]}, \"properties\": {\"PM25\": 8.97}}, {\"type\": \"Feature\", \"geometry\": {\"type\": \"Point\", \"coordinates\": [20.98856, 52.264248]}, \"properties\": {\"PM25\": 8.29}}, {\"type\": \"Feature\", \"geometry\": {\"type\": \"Point\", \"coordinates\": [21.075555, 52.228907]}, \"properties\": {\"PM25\": 8.28}}, {\"type\": \"Feature\", \"geometry\": {\"type\": \"Point\", \"coordinates\": [21.076899, 52.222063]}, \"properties\": {\"PM25\": 7.01}}, {\"type\": \"Feature\", \"geometry\": {\"type\": \"Point\", \"coordinates\": [21.002559, 52.189464]}, \"properties\": {\"PM25\": 10.95}}, {\"type\": \"Feature\", \"geometry\": {\"type\": \"Point\", \"coordinates\": [20.990787, 52.190856]}, \"properties\": {\"PM25\": 10.23}}, {\"type\": \"Feature\", \"geometry\": {\"type\": \"Point\", \"coordinates\": [20.983302, 52.190187]}, \"properties\": {\"PM25\": 11.0}}, {\"type\": \"Feature\", \"geometry\": {\"type\": \"Point\", \"coordinates\": [20.983253, 52.269964]}, \"properties\": {\"PM25\": 8.88}}, {\"type\": \"Feature\", \"geometry\": {\"type\": \"Point\", \"coordinates\": [21.08169, 52.240593]}, \"properties\": {\"PM25\": 8.28}}, {\"type\": \"Feature\", \"geometry\": {\"type\": \"Point\", \"coordinates\": [20.942926, 52.245753]}, \"properties\": {\"PM25\": 10.0}}, {\"type\": \"Feature\", \"geometry\": {\"type\": \"Point\", \"coordinates\": [21.011328, 52.1846]}, \"properties\": {\"PM25\": 10.86}}, {\"type\": \"Feature\", \"geometry\": {\"type\": \"Point\", \"coordinates\": [20.964611, 52.264694]}, \"properties\": {\"PM25\": 8.54}}, {\"type\": \"Feature\", \"geometry\": {\"type\": \"Point\", \"coordinates\": [20.986347, 52.272411]}, \"properties\": {\"PM25\": 9.64}}, {\"type\": \"Feature\", \"geometry\": {\"type\": \"Point\", \"coordinates\": [20.93878, 52.221628]}, \"properties\": {\"PM25\": 11.75}}, {\"type\": \"Feature\", \"geometry\": {\"type\": \"Point\", \"coordinates\": [20.95192, 52.202286]}, \"properties\": {\"PM25\": 40.22}}, {\"type\": \"Feature\", \"geometry\": {\"type\": \"Point\", \"coordinates\": [21.063551, 52.195232]}, \"properties\": {\"PM25\": 10.21}}, {\"type\": \"Feature\", \"geometry\": {\"type\": \"Point\", \"coordinates\": [21.051957, 52.269894]}, \"properties\": {\"PM25\": 13.92}}, {\"type\": \"Feature\", \"geometry\": {\"type\": \"Point\", \"coordinates\": [20.989829, 52.183767]}, \"properties\": {\"PM25\": 12.05}}, {\"type\": \"Feature\", \"geometry\": {\"type\": \"Point\", \"coordinates\": [21.055497, 52.189181]}, \"properties\": {\"PM25\": 10.49}}, {\"type\": \"Feature\", \"geometry\": {\"type\": \"Point\", \"coordinates\": [20.993516, 52.181088]}, \"properties\": {\"PM25\": 12.92}}, {\"type\": \"Feature\", \"geometry\": {\"type\": \"Point\", \"coordinates\": [21.041604, 52.18316]}, \"properties\": {\"PM25\": 9.64}}, {\"type\": \"Feature\", \"geometry\": {\"type\": \"Point\", \"coordinates\": [21.046044, 52.277683]}, \"properties\": {\"PM25\": 16.24}}, {\"type\": \"Feature\", \"geometry\": {\"type\": \"Point\", \"coordinates\": [21.05581, 52.182459]}, \"properties\": {\"PM25\": 11.54}}, {\"type\": \"Feature\", \"geometry\": {\"type\": \"Point\", \"coordinates\": [20.971243, 52.278438]}, \"properties\": {\"PM25\": 8.82}}, {\"type\": \"Feature\", \"geometry\": {\"type\": \"Point\", \"coordinates\": [20.928622, 52.209938]}, \"properties\": {\"PM25\": 13.75}}, {\"type\": \"Feature\", \"geometry\": {\"type\": \"Point\", \"coordinates\": [21.049136, 52.27975]}, \"properties\": {\"PM25\": 10.12}}, {\"type\": \"Feature\", \"geometry\": {\"type\": \"Point\", \"coordinates\": [20.941128, 52.193941]}, \"properties\": {\"PM25\": 26.74}}, {\"type\": \"Feature\", \"geometry\": {\"type\": \"Point\", \"coordinates\": [21.10284, 52.24012]}, \"properties\": {\"PM25\": 12.9}}, {\"type\": \"Feature\", \"geometry\": {\"type\": \"Point\", \"coordinates\": [20.933955, 52.198854]}, \"properties\": {\"PM25\": 15.64}}, {\"type\": \"Feature\", \"geometry\": {\"type\": \"Point\", \"coordinates\": [21.06826, 52.18459]}, \"properties\": {\"PM25\": 9.72}}, {\"type\": \"Feature\", \"geometry\": {\"type\": \"Point\", \"coordinates\": [20.946154, 52.270405]}, \"properties\": {\"PM25\": 8.54}}, {\"type\": \"Feature\", \"geometry\": {\"type\": \"Point\", \"coordinates\": [20.962155, 52.280938]}, \"properties\": {\"PM25\": 8.82}}, {\"type\": \"Feature\", \"geometry\": {\"type\": \"Point\", \"coordinates\": [20.963361, 52.281472]}, \"properties\": {\"PM25\": 8.82}}, {\"type\": \"Feature\", \"geometry\": {\"type\": \"Point\", \"coordinates\": [21.063364, 52.178598]}, \"properties\": {\"PM25\": 9.08}}, {\"type\": \"Feature\", \"geometry\": {\"type\": \"Point\", \"coordinates\": [20.924695, 52.201979]}, \"properties\": {\"PM25\": 13.81}}, {\"type\": \"Feature\", \"geometry\": {\"type\": \"Point\", \"coordinates\": [21.110292, 52.23099]}, \"properties\": {\"PM25\": 12.9}}, {\"type\": \"Feature\", \"geometry\": {\"type\": \"Point\", \"coordinates\": [21.06329, 52.281549]}, \"properties\": {\"PM25\": 11.86}}, {\"type\": \"Feature\", \"geometry\": {\"type\": \"Point\", \"coordinates\": [20.923576, 52.196339]}, \"properties\": {\"PM25\": 13.38}}, {\"type\": \"Feature\", \"geometry\": {\"type\": \"Point\", \"coordinates\": [21.042458, 52.290864]}, \"properties\": {\"PM25\": 10.52}}, {\"type\": \"Feature\", \"geometry\": {\"type\": \"Point\", \"coordinates\": [20.909821, 52.250287]}, \"properties\": {\"PM25\": 11.09}}, {\"type\": \"Feature\", \"geometry\": {\"type\": \"Point\", \"coordinates\": [21.06926, 52.173458]}, \"properties\": {\"PM25\": 7.68}}, {\"type\": \"Feature\", \"geometry\": {\"type\": \"Point\", \"coordinates\": [20.906073, 52.207742]}, \"properties\": {\"PM25\": 13.81}}, {\"type\": \"Feature\", \"geometry\": {\"type\": \"Point\", \"coordinates\": [21.075857, 52.172454]}, \"properties\": {\"PM25\": 8.29}}, {\"type\": \"Feature\", \"geometry\": {\"type\": \"Point\", \"coordinates\": [21.079491, 52.174017]}, \"properties\": {\"PM25\": 8.52}}, {\"type\": \"Feature\", \"geometry\": {\"type\": \"Point\", \"coordinates\": [21.027901, 52.160613]}, \"properties\": {\"PM25\": 9.67}}, {\"type\": \"Feature\", \"geometry\": {\"type\": \"Point\", \"coordinates\": [21.033819, 52.160772]}, \"properties\": {\"PM25\": 9.6}}, {\"type\": \"Feature\", \"geometry\": {\"type\": \"Point\", \"coordinates\": [20.895262, 52.238789]}, \"properties\": {\"PM25\": 12.74}}, {\"type\": \"Feature\", \"geometry\": {\"type\": \"Point\", \"coordinates\": [21.02684, 52.15712]}, \"properties\": {\"PM25\": 9.34}}, {\"type\": \"Feature\", \"geometry\": {\"type\": \"Point\", \"coordinates\": [21.08727, 52.170769]}, \"properties\": {\"PM25\": 8.48}}, {\"type\": \"Feature\", \"geometry\": {\"type\": \"Point\", \"coordinates\": [20.896432, 52.257638]}, \"properties\": {\"PM25\": 10.0}}, {\"type\": \"Feature\", \"geometry\": {\"type\": \"Point\", \"coordinates\": [21.020275, 52.153793]}, \"properties\": {\"PM25\": 11.12}}, {\"type\": \"Feature\", \"geometry\": {\"type\": \"Point\", \"coordinates\": [21.08311, 52.164708]}, \"properties\": {\"PM25\": 8.13}}, {\"type\": \"Feature\", \"geometry\": {\"type\": \"Point\", \"coordinates\": [21.106142, 52.173463]}, \"properties\": {\"PM25\": 5.76}}, {\"type\": \"Feature\", \"geometry\": {\"type\": \"Point\", \"coordinates\": [21.069116, 52.156298]}, \"properties\": {\"PM25\": 8.99}}, {\"type\": \"Feature\", \"geometry\": {\"type\": \"Point\", \"coordinates\": [21.108757, 52.287217]}, \"properties\": {\"PM25\": 14.72}}, {\"type\": \"Feature\", \"geometry\": {\"type\": \"Point\", \"coordinates\": [21.058409, 52.151499]}, \"properties\": {\"PM25\": 9.23}}, {\"type\": \"Feature\", \"geometry\": {\"type\": \"Point\", \"coordinates\": [21.127087, 52.277968]}, \"properties\": {\"PM25\": 13.95}}, {\"type\": \"Feature\", \"geometry\": {\"type\": \"Point\", \"coordinates\": [21.103861, 52.294529]}, \"properties\": {\"PM25\": 13.52}}, {\"type\": \"Feature\", \"geometry\": {\"type\": \"Point\", \"coordinates\": [21.095949, 52.159827]}, \"properties\": {\"PM25\": 20.36}}, {\"type\": \"Feature\", \"geometry\": {\"type\": \"Point\", \"coordinates\": [21.033467, 52.143302]}, \"properties\": {\"PM25\": 11.45}}, {\"type\": \"Feature\", \"geometry\": {\"type\": \"Point\", \"coordinates\": [21.115628, 52.168882]}, \"properties\": {\"PM25\": 5.81}}, {\"type\": \"Feature\", \"geometry\": {\"type\": \"Point\", \"coordinates\": [21.153463, 52.20966]}, \"properties\": {\"PM25\": 16.98}}, {\"type\": \"Feature\", \"geometry\": {\"type\": \"Point\", \"coordinates\": [21.113508, 52.294594]}, \"properties\": {\"PM25\": 15.5}}]\n",
    "# Koordynaty oraz wskazanie PM\n",
    "koPM = list(map(lambda obj: [(obj[\"geometry\"][\"coordinates\"]), obj[\"properties\"][\"PM25\"], \"Niski\" if float(obj[\"properties\"][\"PM25\"]) <= 20.0 else \"Wysoki\"], data ))\n",
    "print(len(koPM))\n",
    "#print(koPM)\n",
    "#Przefiltrowanie wyników spoza centrum Warszawy\n",
    "centrum = list(filter(lambda obj: True if (20.74768066 <= float(obj[0][0]) <= 21.12 and 52.14781604 <= float(obj[0][1]) <= 52.3185532) else False, koPM))\n",
    "print(len(centrum))\n",
    "#print(centrum)"
   ]
  },
  {
   "cell_type": "code",
   "execution_count": null,
   "metadata": {},
   "outputs": [],
   "source": []
  }
 ],
 "metadata": {
  "kernelspec": {
   "display_name": "Python 3",
   "language": "python",
   "name": "python3"
  },
  "language_info": {
   "codemirror_mode": {
    "name": "ipython",
    "version": 3
   },
   "file_extension": ".py",
   "mimetype": "text/x-python",
   "name": "python",
   "nbconvert_exporter": "python",
   "pygments_lexer": "ipython3",
   "version": "3.7.10"
  }
 },
 "nbformat": 4,
 "nbformat_minor": 4
}
