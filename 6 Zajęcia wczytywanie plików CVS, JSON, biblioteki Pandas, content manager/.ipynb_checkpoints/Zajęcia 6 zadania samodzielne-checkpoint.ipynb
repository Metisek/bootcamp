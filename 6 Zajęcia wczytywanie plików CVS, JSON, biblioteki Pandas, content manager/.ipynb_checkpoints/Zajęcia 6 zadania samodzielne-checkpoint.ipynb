{
 "cells": [
  {
   "cell_type": "markdown",
   "metadata": {},
   "source": [
    "<h2> Zadanie 1 </h2>"
   ]
  },
  {
   "cell_type": "code",
   "execution_count": 82,
   "metadata": {},
   "outputs": [
    {
     "name": "stdout",
     "output_type": "stream",
     "text": [
      "[{'typ': 'dane', 'zmienne': {'parametr': 'opad', 'wartosc': '6', 'jednostka': 'mm'}}, {'typ': 'dane', 'zmienne': {'parametr': 'temperatura', 'wartosc': '25', 'jednostka': 'C'}}, {'typ': 'dane', 'zmienne': {'parametr': 'wilgotnoĹ›c', 'wartosc': '35', 'jednostka': '%'}}, {'typ': 'dane', 'zmienne': {'parametr': 'ciĹ›nienie', 'wartosc': 'null', 'jednostka': 'hPa'}}]\n"
     ]
    }
   ],
   "source": [
    "plik = open(r'Pliki\\zadanie1.txt')\n",
    "data = []\n",
    "wynik = []\n",
    "\n",
    "for i in plik.readlines():\n",
    "    i = i.rstrip()\n",
    "    data.append(i)\n",
    "\n",
    "odczyt = False\n",
    "b = 0\n",
    "for i in data:\n",
    "    if b == 1:\n",
    "        b -= 1\n",
    "        continue\n",
    "    if i.find('UTC') >= 0: \n",
    "        odczyt = True\n",
    "        b = 1\n",
    "        continue\n",
    "    elif i == (''):\n",
    "        odczyt = False\n",
    "        continue\n",
    "    if odczyt == True:\n",
    "        a = i.split()\n",
    "        wynik.append({'typ':'dane', 'zmienne':{'parametr': str(a[0]), 'wartosc':str(a[1]), 'jednostka':str(a[2])}})\n",
    "\n",
    "print(wynik)"
   ]
  },
  {
   "cell_type": "code",
   "execution_count": null,
   "metadata": {},
   "outputs": [],
   "source": []
  },
  {
   "cell_type": "code",
   "execution_count": null,
   "metadata": {},
   "outputs": [],
   "source": []
  },
  {
   "cell_type": "code",
   "execution_count": null,
   "metadata": {},
   "outputs": [],
   "source": []
  }
 ],
 "metadata": {
  "kernelspec": {
   "display_name": "Python 3",
   "language": "python",
   "name": "python3"
  },
  "language_info": {
   "codemirror_mode": {
    "name": "ipython",
    "version": 3
   },
   "file_extension": ".py",
   "mimetype": "text/x-python",
   "name": "python",
   "nbconvert_exporter": "python",
   "pygments_lexer": "ipython3",
   "version": "3.7.10"
  }
 },
 "nbformat": 4,
 "nbformat_minor": 4
}
