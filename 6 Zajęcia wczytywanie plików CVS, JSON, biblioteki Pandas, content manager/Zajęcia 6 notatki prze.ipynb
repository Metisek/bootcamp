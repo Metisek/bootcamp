{
 "cells": [
  {
   "source": [
    "<h2> Klasyczna obsługa pliku .txt jako zmienna w Pythonie </h2>\n",
    "<h3> Otwieranie pliku: ścieżka względna (katalog, w którym znajduje się ten notatnik jest \"korzeniem\" drzewa katalogów), odwołanie się bezpośrednio do folderu oraz pliku w danym folderze: </h3>"
   ],
   "cell_type": "markdown",
   "metadata": {}
  },
  {
   "cell_type": "code",
   "execution_count": 4,
   "metadata": {},
   "outputs": [],
   "source": [
    "plikWzgledny = open(r'Pliki\\przyklad1.txt')\n",
    "#\n",
    "#### Obrabianie pliku ####\n",
    "#\n",
    "plikWzgledny.close()"
   ]
  },
  {
   "source": [
    "<h3> Otwieranie pliku: ścieżka bezpośrednia </h3>"
   ],
   "cell_type": "markdown",
   "metadata": {}
  },
  {
   "cell_type": "code",
   "execution_count": 5,
   "metadata": {},
   "outputs": [],
   "source": [
    "plikBezposredni = open(r'C:\\Users\\User\\Projekty\\bootcamp\\6 Zajęcia wczytywanie plików CVS, JSON, biblioteki Pandas, content manager\\Pliki\\przyklad1.txt')\n",
    "#\n",
    "#### Obrabianie pliku ####\n",
    "#\n",
    "plikBezposredni.close()"
   ]
  },
  {
   "cell_type": "code",
   "execution_count": null,
   "metadata": {},
   "outputs": [],
   "source": [
    "\n",
    "\n",
    "myFile = open(r'C:\\Users\\User\\Projekty\\bootcamp\\6 Zajęcia wczytywanie plików CVS, JSON, biblioteki Pandas, content manager\\Pliki\\przyklad1.txt')\n",
    "\n",
    "print(myFile.mode)\n",
    "linia = myFile.readline()\n",
    "print(linia)\n",
    "linia = myFile.readline()\n",
    "print(linia)\n",
    "linia = myFile.readline()\n",
    "print(linia)\n",
    "\n",
    "myFile.close()\n",
    "\n",
    "\n",
    "myFile = open(r'C:\\Users\\User\\Projekty\\bootcamp\\6 Zajęcia wczytywanie plików CVS, JSON, biblioteki Pandas, content manager\\Pliki\\przyklad1.txt')\n",
    "\n",
    "print(myFile.mode)\n",
    "linia = myFile.readline()\n",
    "print(linia)\n",
    "linia = myFile.readline()\n",
    "print(linia)\n",
    "linia = myFile.readline()\n",
    "print(linia)\n",
    "linie = myFile.readlines()\n",
    "countLines = len(linie)\n",
    "myFile.close()\n",
    "\n",
    "\n",
    "myFile = open('przyklad1.txt')\n",
    "\n",
    "for _ in range(countLines):\n",
    "    linia = myFile.readline()\n",
    "    print(linia)\n",
    "    \n",
    "myFile.close()\n",
    "\n",
    "myFile = open(r'C:\\Users\\User\\Projekty\\bootcamp\\6 Zajęcia wczytywanie plików CVS, JSON, biblioteki Pandas, content manager\\Pliki\\przyklad1.txt', mode='r')\n",
    "print(\"Tryb pracy:\", myFile.mode)\n",
    "myFile.close()\n",
    "\n",
    "myFile = open(r'C:\\Users\\User\\Projekty\\bootcamp\\6 Zajęcia wczytywanie plików CVS, JSON, biblioteki Pandas, content manager\\Pliki\\przykladdodatnia1.txt', mode='w')\n",
    "print(\"Tryb pracy:\", myFile.mode)\n",
    "myFile.close()\n",
    "\n",
    "myFile = open('przyklad1.txt')\n",
    "for line in myFile.readlines():\n",
    "    print(line)\n",
    "myFile.close()"
   ]
  },
  {
   "cell_type": "code",
   "execution_count": null,
   "metadata": {},
   "outputs": [],
   "source": [
    "myFile = open(\"przyklad1.txt\")\n",
    "\n",
    "linie = myFile.readlines()\n",
    "\n",
    "myFile.close()\n",
    "\n",
    "poprawne_linie = list()\n",
    "\n",
    "czyZaczynamyOdczyt = False\n",
    "\n",
    "for linia in linie:\n",
    "    if czyZaczynamyOdczyt:\n",
    "        poprawne_linie.append(linia)\n",
    "    if \":\" in linia:\n",
    "        czyZaczynamyOdczyt = True"
   ]
  },
  {
   "cell_type": "code",
   "execution_count": null,
   "metadata": {},
   "outputs": [],
   "source": [
    "myFile = open(r'Pliki/przyklad1.txt', mode=\"r\")\n",
    "data=[]\n",
    "for line in myFile.readlines():\n",
    "    if line.startswith(\"T\"): continue\n",
    "    data.append([x .rstrip() for x in line.split(\" \")])\n",
    "myFile.close()\n",
    "print(data)"
   ]
  },
  {
   "cell_type": "code",
   "execution_count": null,
   "metadata": {},
   "outputs": [],
   "source": [
    "myFile = open(r'Pliki/przyklad.txt', mode=\"w\")\n",
    "for _ in range (30):\n",
    "    myFile.write(\"Lubię Pythona! Mateusz\")\n",
    "myFile.close()\n",
    "\n",
    "myFile = open(r'Pliki/przyklad.txt', mode=\"a\")\n",
    "for _ in range (30):\n",
    "    myFile.write(\"Bardzo lubię Pythona! Mateusz\")\n",
    "myFile.close()"
   ]
  },
  {
   "cell_type": "markdown",
   "metadata": {},
   "source": [
    "Pliki CSV, biblioteka Pandas"
   ]
  },
  {
   "cell_type": "code",
   "execution_count": null,
   "metadata": {},
   "outputs": [],
   "source": [
    "import pandas as pd\n",
    "\n",
    "myData = pd.read_csv(r'Pliki\\netflix_titles.csv')\n",
    "cast = myData['cast']\n",
    "\n",
    "for actors in cast:\n",
    "    if \"Keanu Reeves\" in str(actors):\n",
    "        print(actors)\n",
    "        print(15*'-x-')"
   ]
  },
  {
   "cell_type": "code",
   "execution_count": null,
   "metadata": {},
   "outputs": [],
   "source": [
    "import pandas as pd\n",
    "\n",
    "myData = pd.read_csv(r'Pliki\\netflix_titles.csv')\n",
    "cast = myData['cast']\n",
    "\n",
    "aktorzy = []\n",
    "\n",
    "for actors in cast:\n",
    "    if \"Keanu Reeves\" in str(actors):\n",
    "        print(actors)\n",
    "        for osoba in actors.split(', '):\n",
    "            aktorzy.append(osoba)\n",
    "        print(15*'-x-')\n",
    "aktorzy = set(aktorzy)\n",
    "aktorzy = list(aktorzy)\n",
    "print(aktorzy)"
   ]
  },
  {
   "cell_type": "markdown",
   "metadata": {},
   "source": [
    "Pliki (geo)pandas"
   ]
  },
  {
   "cell_type": "code",
   "execution_count": null,
   "metadata": {},
   "outputs": [],
   "source": [
    "fireStations = open(r'Pliki\\fireStations.geojson')\n",
    "\n",
    "myData = fireStations.read()\n",
    "\n",
    "fireStations.close()\n",
    "\n",
    "null = None\n",
    "myData = eval(myData)"
   ]
  },
  {
   "cell_type": "code",
   "execution_count": 4,
   "metadata": {},
   "outputs": [],
   "source": [
    "wynik = eval(\"5 + 7\")\n",
    "\n",
    "wynik = eval(\"{'pies':'dog'}, {'kot':'cat'}\")"
   ]
  },
  {
   "cell_type": "code",
   "execution_count": 7,
   "metadata": {},
   "outputs": [],
   "source": [
    "import json\n",
    "\n",
    "fireStation = open(r'Pliki\\fireStations.geojson')\n",
    "myData = json.load(fireStation)\n",
    "\n",
    "fireStation.close()\n"
   ]
  },
  {
   "cell_type": "markdown",
   "metadata": {},
   "source": [
    "geopandas, pliki shp"
   ]
  },
  {
   "cell_type": "code",
   "execution_count": 2,
   "metadata": {},
   "outputs": [
    {
     "output_type": "error",
     "ename": "ImportError",
     "evalue": "DLL load failed: Nie można odnaleźć określonego modułu.",
     "traceback": [
      "\u001b[1;31m---------------------------------------------------------------------------\u001b[0m",
      "\u001b[1;31mImportError\u001b[0m                               Traceback (most recent call last)",
      "\u001b[1;32m<ipython-input-2-0eb244e14be0>\u001b[0m in \u001b[0;36m<module>\u001b[1;34m\u001b[0m\n\u001b[0;32m      1\u001b[0m \u001b[1;31m# Nie może kod ten zaimportować biblioteki geopandas w VS code, w zwykłym jupyterze powinno działać\u001b[0m\u001b[1;33m\u001b[0m\u001b[1;33m\u001b[0m\u001b[1;33m\u001b[0m\u001b[0m\n\u001b[1;32m----> 2\u001b[1;33m \u001b[1;32mimport\u001b[0m \u001b[0mgeopandas\u001b[0m \u001b[1;32mas\u001b[0m \u001b[0mgp\u001b[0m\u001b[1;33m\u001b[0m\u001b[1;33m\u001b[0m\u001b[0m\n\u001b[0m\u001b[0;32m      3\u001b[0m \u001b[1;33m\u001b[0m\u001b[0m\n\u001b[0;32m      4\u001b[0m \u001b[0mwarszawa\u001b[0m \u001b[1;33m=\u001b[0m \u001b[0mgp\u001b[0m\u001b[1;33m.\u001b[0m\u001b[0mread_file\u001b[0m\u001b[1;33m(\u001b[0m\u001b[1;34mr'C:\\Users\\User\\Projekty\\bootcamp\\6 Zajęcia wczytywanie plików CVS, JSON, biblioteki Pandas, content manager\\Pliki\\graniceWarszawyWGS84.shp'\u001b[0m\u001b[1;33m)\u001b[0m\u001b[1;33m\u001b[0m\u001b[1;33m\u001b[0m\u001b[0m\n\u001b[0;32m      5\u001b[0m \u001b[0mwarszawa\u001b[0m\u001b[1;33m.\u001b[0m\u001b[0mplot\u001b[0m\u001b[1;33m(\u001b[0m\u001b[0mfigsize\u001b[0m\u001b[1;33m=\u001b[0m\u001b[1;33m(\u001b[0m\u001b[1;36m12\u001b[0m\u001b[1;33m,\u001b[0m \u001b[1;36m12\u001b[0m\u001b[1;33m)\u001b[0m\u001b[1;33m,\u001b[0m \u001b[0mcolor\u001b[0m\u001b[1;33m=\u001b[0m\u001b[1;34m'#c5d4c9'\u001b[0m\u001b[1;33m)\u001b[0m\u001b[1;33m\u001b[0m\u001b[1;33m\u001b[0m\u001b[0m\n",
      "\u001b[1;32m~\\miniconda3\\envs\\bootcamp\\lib\\site-packages\\geopandas\\__init__.py\u001b[0m in \u001b[0;36m<module>\u001b[1;34m\u001b[0m\n\u001b[0;32m      1\u001b[0m \u001b[1;32mfrom\u001b[0m \u001b[0mgeopandas\u001b[0m\u001b[1;33m.\u001b[0m\u001b[0m_config\u001b[0m \u001b[1;32mimport\u001b[0m \u001b[0moptions\u001b[0m  \u001b[1;31m# noqa\u001b[0m\u001b[1;33m\u001b[0m\u001b[1;33m\u001b[0m\u001b[0m\n\u001b[0;32m      2\u001b[0m \u001b[1;33m\u001b[0m\u001b[0m\n\u001b[1;32m----> 3\u001b[1;33m \u001b[1;32mfrom\u001b[0m \u001b[0mgeopandas\u001b[0m\u001b[1;33m.\u001b[0m\u001b[0mgeoseries\u001b[0m \u001b[1;32mimport\u001b[0m \u001b[0mGeoSeries\u001b[0m  \u001b[1;31m# noqa\u001b[0m\u001b[1;33m\u001b[0m\u001b[1;33m\u001b[0m\u001b[0m\n\u001b[0m\u001b[0;32m      4\u001b[0m \u001b[1;32mfrom\u001b[0m \u001b[0mgeopandas\u001b[0m\u001b[1;33m.\u001b[0m\u001b[0mgeodataframe\u001b[0m \u001b[1;32mimport\u001b[0m \u001b[0mGeoDataFrame\u001b[0m  \u001b[1;31m# noqa\u001b[0m\u001b[1;33m\u001b[0m\u001b[1;33m\u001b[0m\u001b[0m\n\u001b[0;32m      5\u001b[0m \u001b[1;32mfrom\u001b[0m \u001b[0mgeopandas\u001b[0m\u001b[1;33m.\u001b[0m\u001b[0marray\u001b[0m \u001b[1;32mimport\u001b[0m \u001b[0mpoints_from_xy\u001b[0m  \u001b[1;31m# noqa\u001b[0m\u001b[1;33m\u001b[0m\u001b[1;33m\u001b[0m\u001b[0m\n",
      "\u001b[1;32m~\\miniconda3\\envs\\bootcamp\\lib\\site-packages\\geopandas\\geoseries.py\u001b[0m in \u001b[0;36m<module>\u001b[1;34m\u001b[0m\n\u001b[0;32m      7\u001b[0m \u001b[1;32mfrom\u001b[0m \u001b[0mpandas\u001b[0m\u001b[1;33m.\u001b[0m\u001b[0mcore\u001b[0m\u001b[1;33m.\u001b[0m\u001b[0minternals\u001b[0m \u001b[1;32mimport\u001b[0m \u001b[0mSingleBlockManager\u001b[0m\u001b[1;33m\u001b[0m\u001b[1;33m\u001b[0m\u001b[0m\n\u001b[0;32m      8\u001b[0m \u001b[1;33m\u001b[0m\u001b[0m\n\u001b[1;32m----> 9\u001b[1;33m \u001b[1;32mfrom\u001b[0m \u001b[0mpyproj\u001b[0m \u001b[1;32mimport\u001b[0m \u001b[0mCRS\u001b[0m\u001b[1;33m,\u001b[0m \u001b[0mTransformer\u001b[0m\u001b[1;33m\u001b[0m\u001b[1;33m\u001b[0m\u001b[0m\n\u001b[0m\u001b[0;32m     10\u001b[0m \u001b[1;32mfrom\u001b[0m \u001b[0mshapely\u001b[0m\u001b[1;33m.\u001b[0m\u001b[0mgeometry\u001b[0m\u001b[1;33m.\u001b[0m\u001b[0mbase\u001b[0m \u001b[1;32mimport\u001b[0m \u001b[0mBaseGeometry\u001b[0m\u001b[1;33m\u001b[0m\u001b[1;33m\u001b[0m\u001b[0m\n\u001b[0;32m     11\u001b[0m \u001b[1;33m\u001b[0m\u001b[0m\n",
      "\u001b[1;32m~\\miniconda3\\envs\\bootcamp\\lib\\site-packages\\pyproj\\__init__.py\u001b[0m in \u001b[0;36m<module>\u001b[1;34m\u001b[0m\n\u001b[0;32m     47\u001b[0m \u001b[1;32mimport\u001b[0m \u001b[0mwarnings\u001b[0m\u001b[1;33m\u001b[0m\u001b[1;33m\u001b[0m\u001b[0m\n\u001b[0;32m     48\u001b[0m \u001b[1;33m\u001b[0m\u001b[0m\n\u001b[1;32m---> 49\u001b[1;33m \u001b[1;32mimport\u001b[0m \u001b[0mpyproj\u001b[0m\u001b[1;33m.\u001b[0m\u001b[0mnetwork\u001b[0m\u001b[1;33m\u001b[0m\u001b[1;33m\u001b[0m\u001b[0m\n\u001b[0m\u001b[0;32m     50\u001b[0m from pyproj._datadir import (  # noqa: F401\n\u001b[0;32m     51\u001b[0m     \u001b[0m_pyproj_global_context_initialize\u001b[0m\u001b[1;33m,\u001b[0m\u001b[1;33m\u001b[0m\u001b[1;33m\u001b[0m\u001b[0m\n",
      "\u001b[1;32m~\\miniconda3\\envs\\bootcamp\\lib\\site-packages\\pyproj\\network.py\u001b[0m in \u001b[0;36m<module>\u001b[1;34m\u001b[0m\n\u001b[0;32m      8\u001b[0m \u001b[1;32mimport\u001b[0m \u001b[0mcertifi\u001b[0m\u001b[1;33m\u001b[0m\u001b[1;33m\u001b[0m\u001b[0m\n\u001b[0;32m      9\u001b[0m \u001b[1;33m\u001b[0m\u001b[0m\n\u001b[1;32m---> 10\u001b[1;33m from pyproj._network import (  # noqa: F401\n\u001b[0m\u001b[0;32m     11\u001b[0m     \u001b[0m_set_ca_bundle_path\u001b[0m\u001b[1;33m,\u001b[0m\u001b[1;33m\u001b[0m\u001b[1;33m\u001b[0m\u001b[0m\n\u001b[0;32m     12\u001b[0m     \u001b[0mis_network_enabled\u001b[0m\u001b[1;33m,\u001b[0m\u001b[1;33m\u001b[0m\u001b[1;33m\u001b[0m\u001b[0m\n",
      "\u001b[1;31mImportError\u001b[0m: DLL load failed: Nie można odnaleźć określonego modułu."
     ]
    }
   ],
   "source": [
    "# Nie może kod ten zaimportować biblioteki geopandas w VS code, w zwykłym jupyterze powinno działać\n",
    "\n",
    "import geopandas as gp\n",
    "\n",
    "warszawa = gp.read_file(r'C:\\Users\\User\\Projekty\\bootcamp\\6 Zajęcia wczytywanie plików CVS, JSON, biblioteki Pandas, content manager\\Pliki\\graniceWarszawyWGS84.shp')\n",
    "warszawa.plot(figsize=(12, 12), color='#c5d4c9')\n",
    "\n",
    "import matplotlib.pyplot as plt\n",
    "\n",
    "plt.savefig('zdjęcie.svg')"
   ]
  },
  {
   "cell_type": "code",
   "execution_count": 2,
   "metadata": {},
   "outputs": [
    {
     "name": "stdout",
     "output_type": "stream",
     "text": [
      "To jest pierwsza linia\n",
      "\n",
      "To jest druga linia\n",
      "\n",
      "Tu siÄ™ zaczynajÄ… dane:\n",
      "\n",
      "34 56 23\n",
      "\n",
      "23 67 54\n",
      "\n",
      "94 53 70\n",
      "\n",
      "23 53 64\n",
      "\n",
      "254 53 644\n"
     ]
    }
   ],
   "source": [
    "with open(r'Pliki\\przyklad1.txt', mode='r') as myFile:\n",
    "    lines = myFile.readlines()\n",
    "    for line in lines: print(line)"
   ]
  },
  {
   "cell_type": "code",
   "execution_count": 10,
   "metadata": {},
   "outputs": [
    {
     "name": "stdout",
     "output_type": "stream",
     "text": [
      "Rozpoczynam pracę. \n",
      "Koniec pracy.\n",
      "Upłynęło:  10.0035719871521\n"
     ]
    }
   ],
   "source": [
    "import time\n",
    "\n",
    "class TimeMeasure:\n",
    "    def __init__(self):\n",
    "        pass\n",
    "    def __enter__(self):\n",
    "        print(\"Rozpoczynam pracę. \")\n",
    "        self.start = time.time()\n",
    "\n",
    "    def __exit__(self, exc_type, exc_val, exc_tb):\n",
    "        print(\"Koniec pracy.\")\n",
    "        self.koniec = time.time()\n",
    "        print(\"Upłynęło: \", self.koniec - self.start)\n",
    "        raport = open('raport.txt', 'w')\n",
    "        raport.write('Proces przebiegł domyślnie')\n",
    "        raport.close\n",
    "\n",
    "with TimeMeasure():\n",
    "    time.sleep(10)"
   ]
  },
  {
   "cell_type": "code",
   "execution_count": null,
   "metadata": {},
   "outputs": [],
   "source": [
    "import numpy as np\n",
    "x = np.random.rand(100, 3)\n",
    "import pptk\n",
    "v = pptk.viewer(x)\n",
    "v.set(point_size=0.01)\n"
   ]
  },
  {
   "cell_type": "code",
   "execution_count": null,
   "metadata": {},
   "outputs": [],
   "source": []
  }
 ],
 "metadata": {
  "kernelspec": {
   "display_name": "Python 3",
   "language": "python",
   "name": "python3"
  },
  "language_info": {
   "codemirror_mode": {
    "name": "ipython",
    "version": 3
   },
   "file_extension": ".py",
   "mimetype": "text/x-python",
   "name": "python",
   "nbconvert_exporter": "python",
   "pygments_lexer": "ipython3",
   "version": "3.7.10-final"
  }
 },
 "nbformat": 4,
 "nbformat_minor": 4
}