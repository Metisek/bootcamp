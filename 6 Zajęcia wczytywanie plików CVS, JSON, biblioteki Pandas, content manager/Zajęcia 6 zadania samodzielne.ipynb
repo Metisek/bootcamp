{
 "cells": [
  {
   "cell_type": "markdown",
   "metadata": {},
   "source": [
    "<h2> Zadanie 1 </h2>"
   ]
  },
  {
   "cell_type": "code",
   "execution_count": 88,
   "metadata": {},
   "outputs": [
    {
     "name": "stdout",
     "output_type": "stream",
     "text": [
      "{'typ': 'dane', 'zmienne': {'parametr': 'opad', 'wartosc': '6', 'jednostka': 'mm'}}\n",
      "{'typ': 'dane', 'zmienne': {'parametr': 'temperatura', 'wartosc': '25', 'jednostka': 'C'}}\n",
      "{'typ': 'dane', 'zmienne': {'parametr': 'wilgotnoĹ›c', 'wartosc': '35', 'jednostka': '%'}}\n",
      "{'typ': 'dane', 'zmienne': {'parametr': 'ciĹ›nienie', 'wartosc': 'null', 'jednostka': 'hPa'}}\n"
     ]
    }
   ],
   "source": [
    "plik = open(r'Pliki\\zadanie1.txt')\n",
    "data = []\n",
    "wynik = []\n",
    "\n",
    "for i in plik.readlines():\n",
    "    i = i.rstrip()\n",
    "    data.append(i)\n",
    "    \n",
    "plik.close()\n",
    "odczyt = False\n",
    "b = 0\n",
    "\n",
    "for i in data:\n",
    "    if b == 1:\n",
    "        b -= 1\n",
    "        continue\n",
    "    if i.find('UTC') >= 0: \n",
    "        odczyt = True\n",
    "        b = 1\n",
    "        continue\n",
    "    elif i == (''):\n",
    "        odczyt = False\n",
    "        continue\n",
    "    if odczyt == True:\n",
    "        a = i.split()\n",
    "        wynik.append({'typ':'dane', 'zmienne' :{'parametr':str(a[0]), 'wartosc' :str(a[1]), 'jednostka':str(a[2])}})\n",
    "\n",
    "for i in wynik:\n",
    "    print(i)"
   ]
  },
  {
   "cell_type": "markdown",
   "metadata": {},
   "source": [
    "<h2> Zadanie 1 wersja alternatywna (jako plik CSV)</h2>"
   ]
  },
  {
   "cell_type": "code",
   "execution_count": 96,
   "metadata": {},
   "outputs": [],
   "source": [
    "plik = open(r'Pliki\\zadanie1.txt')\n",
    "data = []\n",
    "wynik = []\n",
    "\n",
    "for i in plik.readlines():\n",
    "    i = i.rstrip()\n",
    "    data.append(i)\n",
    "\n",
    "plik.close()\n",
    "odczyt = False\n",
    "\n",
    "for i in data:\n",
    "    if i.find('UTC') >= 0: \n",
    "        odczyt = True\n",
    "        continue\n",
    "    elif i == (''):\n",
    "        odczyt = False\n",
    "        continue\n",
    "    if odczyt == True:\n",
    "        a = i.split()\n",
    "        b = (\"{},{},{}\\n\".format(a[0], a[1], a[2]))\n",
    "        wynik.append(b)\n",
    "\n",
    "nowyPlik = open(r'zadanie1AlternatywneWykonanie.csv', mode='w')\n",
    "for i in wynik:\n",
    "    nowyPlik.write(i)\n",
    "nowyPlik.close()"
   ]
  },
  {
   "cell_type": "markdown",
   "metadata": {},
   "source": [
    "<h2> Zadanie 2 </h2>"
   ]
  },
  {
   "cell_type": "code",
   "execution_count": 120,
   "metadata": {},
   "outputs": [],
   "source": [
    "# Funkca ponizej powstała z pomocą stack overflow, gdyż range nie przyjmuje zmiennych float\n",
    "\n",
    "def float_range(start, stop, stepsize):\n",
    "    val = start\n",
    "    while val<stop:\n",
    "        yield val\n",
    "        val += stepsize\n",
    "\n",
    "nowyPlik = open(r'zadanie2GłówneWykonanie.txt', mode='w')\n",
    "\n",
    "for x in float_range(-100.0, 100.0, 0.5):\n",
    "    a = ((2*x)**2+0.5*x-1)\n",
    "    nowyPlik.write(\"{}\\n\".format(a))\n",
    "\n",
    "nowyPlik.close()"
   ]
  },
  {
   "cell_type": "markdown",
   "metadata": {},
   "source": [
    "<h2> Zadanie 2 wersja alternatywna (wygenerowanie wykresu w pliku .svg) </h2>"
   ]
  },
  {
   "cell_type": "code",
   "execution_count": 150,
   "metadata": {},
   "outputs": [
    {
     "data": {
      "image/png": "[encoded data removed]",
      "text/plain": [
       "<Figure size 720x720 with 2 Axes>"
      ]
     },
     "metadata": {
      "needs_background": "light"
     },
     "output_type": "display_data"
    }
   ],
   "source": [
    "import numpy as np\n",
    "import matplotlib.pyplot as plt\n",
    "\n",
    "# define a list of markevery cases to plot\n",
    "cases = [1]\n",
    "# define the figure size and grid layout properties\n",
    "figsize = (10, 10)\n",
    "cols = 1\n",
    "rows = 2\n",
    "x = np.linspace(-100, 100, 400)\n",
    "y = (2*x)**2+0.5*x-1\n",
    "\n",
    "\n",
    "def trim_axs(axs, N):\n",
    "    axs = axs.flat\n",
    "    for ax in axs[N:]:\n",
    "        ax.remove()\n",
    "    return axs[:N]\n",
    "axs = plt.figure(figsize=figsize, constrained_layout=True).subplots(rows, cols)\n",
    "axs = trim_axs(axs, len(cases))\n",
    "for ax, case in zip(axs, cases):\n",
    "    ax.plot(x, y, 'o', ls='-', ms=4, markevery=case)\n",
    "\n",
    "plt.savefig(r'zadanie2AlternatywneWykonanie.svg')\n",
    "plt.show()"
   ]
  },
  {
   "cell_type": "markdown",
   "metadata": {},
   "source": [
    "<h2> Zadanie 3 </h2>"
   ]
  },
  {
   "source": [
    "import json\n",
    "\n",
    "myFile = open(r'Pliki\\zadanie3.geojson')\n",
    "myData = json.load(myFile)\n",
    "\n",
    "myFile.close()\n",
    "\n",
    "newFile = open(r'zadanie3GłówneWykonanie.json', mode='w')\n",
    "newFile.write(str(myData))\n",
    "\n",
    "newFile.close()"
   ],
   "cell_type": "code",
   "metadata": {},
   "execution_count": 5,
   "outputs": []
  },
  {
   "source": [
    "<h2> Zadanie 4 </h2>"
   ],
   "cell_type": "markdown",
   "metadata": {}
  },
  {
   "cell_type": "code",
   "execution_count": 8,
   "metadata": {},
   "outputs": [
    {
     "output_type": "stream",
     "name": "stdout",
     "text": [
      "Rozpoczynam pracę. \nKoniec pracy.\nUpłynęło:  0.03000164031982422\n"
     ]
    }
   ],
   "source": [
    "import time\n",
    "import random\n",
    "\n",
    "class gen:\n",
    "    def __init__(self):\n",
    "        print(\"Rozpoczynam pracę. \")\n",
    "        self.start = time.time()\n",
    "\n",
    "    def __enter__(self):\n",
    "        liczby = open(r'Zadanie4.txt', mode='w')\n",
    "        for _ in range(5000):\n",
    "            liczby.write(\"{}\\n\".format(random.randint(0, 100)))\n",
    "        liczby.close()\n",
    "    def __exit__(self, exc_type, exc_val, exc_tb):\n",
    "        print(\"Koniec pracy.\")\n",
    "        self.koniec = time.time()\n",
    "        print(\"Upłynęło: \", self.koniec - self.start)\n",
    "        \n",
    "\n",
    "with gen():\n",
    "    pass"
   ]
  },
  {
   "cell_type": "code",
   "execution_count": null,
   "metadata": {},
   "outputs": [],
   "source": []
  }
 ],
 "metadata": {
  "kernelspec": {
   "display_name": "Python 3",
   "language": "python",
   "name": "python3"
  },
  "language_info": {
   "codemirror_mode": {
    "name": "ipython",
    "version": 3
   },
   "file_extension": ".py",
   "mimetype": "text/x-python",
   "name": "python",
   "nbconvert_exporter": "python",
   "pygments_lexer": "ipython3",
   "version": "3.7.10-final"
  }
 },
 "nbformat": 4,
 "nbformat_minor": 4
}