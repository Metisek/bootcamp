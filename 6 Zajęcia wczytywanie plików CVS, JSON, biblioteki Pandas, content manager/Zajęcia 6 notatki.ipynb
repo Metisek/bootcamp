{
 "cells": [
  {
   "source": [
    "<h2> Klasyczna obsługa pliku .txt jako zmienna w Pythonie </h2>\n",
    "<h3> Otwieranie pliku: ścieżka względna (katalog, w którym znajduje się ten notatnik jest \"korzeniem\" drzewa katalogów), odwołanie się bezpośrednio do folderu oraz pliku w danym folderze: </h3>"
   ],
   "cell_type": "markdown",
   "metadata": {}
  },
  {
   "cell_type": "code",
   "execution_count": 4,
   "metadata": {},
   "outputs": [],
   "source": [
    "plikWzgledny = open(r'Pliki\\przyklad1.txt')\n",
    "#\n",
    "#### Obrabianie pliku ####\n",
    "#\n",
    "plikWzgledny.close()"
   ]
  },
  {
   "source": [
    "<h3> Otwieranie pliku: ścieżka bezpośrednia </h3>"
   ],
   "cell_type": "markdown",
   "metadata": {}
  },
  {
   "cell_type": "code",
   "execution_count": 5,
   "metadata": {},
   "outputs": [],
   "source": [
    "plikBezposredni = open(r'C:\\Users\\User\\Projekty\\bootcamp\\6 Zajęcia wczytywanie plików CVS, JSON, biblioteki Pandas, content manager\\Pliki\\przyklad1.txt')\n",
    "#\n",
    "#### Obrabianie pliku ####\n",
    "#\n",
    "plikBezposredni.close()"
   ]
  },
  {
   "source": [
    "<h3>Podstawowe operacje na plikach</h3>"
   ],
   "cell_type": "markdown",
   "metadata": {}
  },
  {
   "cell_type": "code",
   "execution_count": 16,
   "metadata": {},
   "outputs": [
    {
     "output_type": "stream",
     "name": "stdout",
     "text": [
      "Tryb edycji pliku: r\n\nTo jest pierwsza linia\n\nTo jest druga linia\n\nTu siÄ™ zaczynajÄ… dane:\n\n"
     ]
    }
   ],
   "source": [
    "# Odczytywanie kolejnych linii z pliku (w tym przypadku 3) + odczytywanie trybu edycji pliku\n",
    "\n",
    "myFile = open(r'Pliki\\przyklad1.txt')\n",
    "\n",
    "print(\"Tryb edycji pliku:\",myFile.mode, end='\\n\\n')\n",
    "linia = myFile.readline()\n",
    "print(linia)\n",
    "linia = myFile.readline()\n",
    "print(linia)\n",
    "linia = myFile.readline()\n",
    "print(linia)\n",
    "\n",
    "myFile.close()\n"
   ]
  },
  {
   "cell_type": "code",
   "execution_count": 32,
   "metadata": {},
   "outputs": [
    {
     "output_type": "stream",
     "name": "stdout",
     "text": [
      "To jest pierwsza linia\nTo jest druga linia\nTu siÄ™ zaczynajÄ… dane:\n34 56 23\n23 67 54\n94 53 70\n23 53 64\n254 53 644"
     ]
    }
   ],
   "source": [
    "# Odczytywanie zawartosci pliku TXT: przykład 1, zgodny z lekcją na bootcampie\n",
    "\n",
    "myFile = open(r'Pliki\\przyklad1.txt')\n",
    "\n",
    "linie = myFile.readlines()\n",
    "countLines = len(linie)\n",
    "\n",
    "myFile.close()\n",
    "\n",
    "# Z jakiegoś powodu należy zamknąć i otworzyć ponownie plik TXT, by program odczytał dane poprawnie\n",
    "\n",
    "myFile = open(r'Pliki\\przyklad1.txt')\n",
    "\n",
    "for _ in range(countLines):\n",
    "    linia = myFile.readline()\n",
    "    print(linia, end=\"\")\n",
    "    \n",
    "myFile.close()"
   ]
  },
  {
   "cell_type": "code",
   "execution_count": 34,
   "metadata": {},
   "outputs": [
    {
     "output_type": "stream",
     "name": "stdout",
     "text": [
      "To jest pierwsza linia\nTo jest druga linia\nTu siÄ™ zaczynajÄ… dane:\n34 56 23\n23 67 54\n94 53 70\n23 53 64\n254 53 644"
     ]
    }
   ],
   "source": [
    "# Odczytywanie zawartosci pliku TXT: przykład 2, po mojemu z indeksowaniem list (Zmienna lines jest listą)\n",
    "\n",
    "myFile = open(r'Pliki\\przyklad1.txt')\n",
    "\n",
    "linie = myFile.readlines()\n",
    "countLines = len(linie)\n",
    "\n",
    "for i in range(countLines):\n",
    "    print(linie[i], end=\"\")\n",
    "    \n",
    "myFile.close()"
   ]
  },
  {
   "cell_type": "code",
   "execution_count": 6,
   "metadata": {},
   "outputs": [
    {
     "output_type": "stream",
     "name": "stdout",
     "text": [
      "To jest pierwsza linia\nTo jest druga linia\nTu siÄ™ zaczynajÄ… dane:\n34 56 23\n23 67 54\n94 53 70\n23 53 64\n254 53 644"
     ]
    }
   ],
   "source": [
    "# Odczytywanie zawartosci pliku TXT: przykład 3, branie kolejnych linii tekstu jako zmienna line i ich odczytywanie\n",
    "\n",
    "myFile = open(r'Pliki\\przyklad1.txt')\n",
    "\n",
    "for line in myFile.readlines():\n",
    "    print(line, end=\"\")\n",
    "\n",
    "myFile.close()"
   ]
  },
  {
   "cell_type": "code",
   "execution_count": 1,
   "metadata": {},
   "outputs": [
    {
     "output_type": "stream",
     "name": "stdout",
     "text": [
      "Tryb pracy: r\nW tym trybie plik moze zostać jedynie odczytany\n\nTryb pracy: w\nW tym trybie W przypadku użycia na istniejącym pliku, CAŁY plik zostaje usunięty i utworzony ponownie, w przeciwnym przypadku plik zostanie po prostu utworzony\nLokalizacja pliku: Pliki\\NowyPlikNotatki.txt\n\n"
     ]
    }
   ],
   "source": [
    "# Przykładowe tryby pracy. Tworzenie nowych plików.\n",
    "import datetime as dt\n",
    "\n",
    "myFile = open(r'Pliki\\przyklad1.txt', mode='r')\n",
    "print(\"Tryb pracy:\", myFile.mode)\n",
    "print(\"W tym trybie plik moze zostać jedynie odczytany\", end='\\n\\n')\n",
    "myFile.close()\n",
    "\n",
    "myFile = open(r'Pliki\\NowyPlikNotatki.txt', mode='w')\n",
    "print(\"Tryb pracy:\", myFile.mode)\n",
    "print(\"W tym trybie W przypadku użycia na istniejącym pliku, CAŁY plik zostaje usunięty i utworzony ponownie, w przeciwnym przypadku plik zostanie po prostu utworzony\\nLokalizacja pliku: Pliki\\\\NowyPlikNotatki.txt\", end='\\n\\n')\n",
    "myFile.write(\"Ten plik został utworzony: {}\".format(dt.datetime.now()))\n",
    "\n",
    "myFile.close()"
   ]
  },
  {
   "source": [
    "<h3> Nieco bardziej zaawansowane sposoby na odczyt danych"
   ],
   "cell_type": "markdown",
   "metadata": {}
  },
  {
   "cell_type": "code",
   "execution_count": 8,
   "metadata": {},
   "outputs": [
    {
     "output_type": "stream",
     "name": "stdout",
     "text": [
      "34 56 23\n23 67 54\n94 53 70\n23 53 64\n254 53 644"
     ]
    }
   ],
   "source": [
    "# Przykład, w którym odczytują się dane po linii, w której w ciągu znaków wystąpi znak \":\"\n",
    "\n",
    "myFile = open(\"Pliki\\przyklad1.txt\")\n",
    "linie = myFile.readlines()\n",
    "myFile.close()\n",
    "\n",
    "poprawne_linie = list()\n",
    "czyZaczynamyOdczyt = False\n",
    "\n",
    "for linia in linie:\n",
    "    if czyZaczynamyOdczyt:\n",
    "        poprawne_linie.append(linia)\n",
    "    if \":\" in linia:\n",
    "        czyZaczynamyOdczyt = True\n",
    "\n",
    "for i in poprawne_linie:\n",
    "    print(i, end=\"\")"
   ]
  },
  {
   "cell_type": "code",
   "execution_count": 6,
   "metadata": {},
   "outputs": [
    {
     "output_type": "stream",
     "name": "stdout",
     "text": [
      "[['34', '56', '23'], ['23', '67', '54'], ['94', '53', '70'], ['23', '53', '64'], ['254', '53', '644']]\n"
     ]
    }
   ],
   "source": [
    "# Tutaj skrypt tworzy listę z listami, w której to w przypadku, gdy zdanie zaczyna się literą \"T\", pomija ją, jak jej nie znajdzie to appenduje listę ze stringami liczb (każdy element jest oddzielony spacją) i usuwa znak \"\\n\" z każdej zmiennej w liście wewnątrz listy, jak takowy wykryje\n",
    "\n",
    "myFile = open(r'Pliki/przyklad1.txt', mode=\"r\")\n",
    "data=[]\n",
    "\n",
    "for line in myFile.readlines():\n",
    "    if line.startswith(\"T\"): continue\n",
    "    \n",
    "    data.append([x.rstrip() for x in line.split(\" \")])\n",
    "\n",
    "myFile.close()\n",
    "print(data)"
   ]
  },
  {
   "source": [
    "<h3> Tworzenie i dodawanie nowych linii do już istniejącego pliku (Tryb edycji pliku \"a\")</h3>"
   ],
   "cell_type": "markdown",
   "metadata": {}
  },
  {
   "cell_type": "code",
   "execution_count": null,
   "metadata": {},
   "outputs": [],
   "source": [
    "# Tworzenie/nadpisanie pliku przyklad.txt w katalogu pliki\n",
    "\n",
    "myFile = open(r'Pliki/przyklad.txt', mode=\"w\")\n",
    "for _ in range (3):\n",
    "    myFile.write(\"Lubię Pythona! Mateusz\\n\")\n",
    "myFile.close()\n",
    "\n",
    "myFile = open(r'Pliki/przyklad.txt', mode=\"a\")\n",
    "for _ in range (3):\n",
    "    myFile.write(\"Bardzo lubię Pythona! Mateusz\\n\")\n",
    "myFile.close()\n",
    "\n",
    "myFile = open(r'Pliki/przyklad.txt', mode=\"r\")\n",
    "linie = myFile.readlines()\n",
    "for i in linie:\n",
    "    print(i.strip())"
   ]
  },
  {
   "cell_type": "markdown",
   "metadata": {},
   "source": [
    "<h2> Pliki CSV, biblioteka Pandas </h2>"
   ]
  },
  {
   "source": [
    "# Utworzenie zbioru aktorów w różnych filmach, w których gra Keanu Reeves\n",
    "\n",
    "import pandas as pd\n",
    "\n",
    "myData = pd.read_csv(r'Pliki\\netflix_titles.csv')\n",
    "cast = myData['cast'] # Branie z CSV'ki tylko zmienne, które są po 6'tym niezacudzysłówowanym przecinku (w tym przypadku lista aktorów)\n",
    "\n",
    "for actors in cast:\n",
    "    if \"Keanu Reeves\" in str(actors):\n",
    "        print(actors)\n",
    "        print(15*'-x-')"
   ],
   "cell_type": "code",
   "metadata": {},
   "execution_count": 27,
   "outputs": [
    {
     "output_type": "stream",
     "name": "stdout",
     "text": [
      "Keanu Reeves, Lorenza Izzo, Ana de Armas, Aaron Burns, Ignacia Allamand, Dan Baily, Megan Baily, Colleen Camp, Antonio Quercia\n-x--x--x--x--x--x--x--x--x--x--x--x--x--x--x-\nKeanu Reeves, Tiger Chen, Karen Mok, Simon Yam, Qing Ye, Hai Yu, Sam Lee, Iko Uwais\n-x--x--x--x--x--x--x--x--x--x--x--x--x--x--x-\nJack Nicholson, Diane Keaton, Keanu Reeves, Frances McDormand, Amanda Peet, Jon Favreau, Paul Michael Glaser, Rachel Ticotin\n-x--x--x--x--x--x--x--x--x--x--x--x--x--x--x-\nCarson Meyer, Noah Centineo, Bianca Santos, Jackson White, Sean Russel Herman, Rosanna Arquette, Molly Ringwald, Pamela Anderson, Keanu Reeves, Goldie Hawn\n-x--x--x--x--x--x--x--x--x--x--x--x--x--x--x-\nSuki Waterhouse, Jason Momoa, Keanu Reeves, Jim Carrey, Giovanni Ribisi, Yolonda Ross\n-x--x--x--x--x--x--x--x--x--x--x--x--x--x--x-\nKeanu Reeves, Sandra Bullock, Dylan Walsh, Shohreh Aghdashloo, Ebon Moss-Bachrach, Lynn Collins, Willeke van Ammelrooy, Christopher Plummer\n-x--x--x--x--x--x--x--x--x--x--x--x--x--x--x-\nKeanu Reeves, Laurence Fishburne, Carrie-Anne Moss, Hugo Weaving, Gloria Foster, Joe Pantoliano, Marcus Chong, Julian Arahanga, Matt Doran, Belinda McClory\n-x--x--x--x--x--x--x--x--x--x--x--x--x--x--x-\nKeanu Reeves, Laurence Fishburne, Carrie-Anne Moss, Hugo Weaving, Jada Pinkett Smith, Gloria Foster, Harold Perrineau, Monica Bellucci, Harry Lennix, Lambert Wilson, Randall Duk Kim, Nona Gaye\n-x--x--x--x--x--x--x--x--x--x--x--x--x--x--x-\nKeanu Reeves, Laurence Fishburne, Carrie-Anne Moss, Hugo Weaving, Jada Pinkett Smith, Mary Alice, Harold Perrineau, Monica Bellucci, Harry Lennix, Lambert Wilson, Nona Gaye\n-x--x--x--x--x--x--x--x--x--x--x--x--x--x--x-\nLily Collins, Keanu Reeves, Carrie Preston, Lili Taylor, Alex Sharp, Liana Liberato, Brooke Smith, Leslie Bibb, Kathryn Prescott\n-x--x--x--x--x--x--x--x--x--x--x--x--x--x--x-\n"
     ]
    }
   ]
  },
  {
   "cell_type": "code",
   "execution_count": 29,
   "metadata": {},
   "outputs": [
    {
     "output_type": "stream",
     "name": "stdout",
     "text": [
      "Ilość aktorów: 68\n['Jackson White', 'Carrie Preston', 'Lily Collins', 'Rosanna Arquette', 'Suki Waterhouse', 'Noah Centineo', 'Belinda McClory', 'Harry Lennix', 'Carrie-Anne Moss', 'Lorenza Izzo', 'Dylan Walsh', 'Hai Yu', 'Ana de Armas', 'Simon Yam', 'Diane Keaton', 'Sandra Bullock', 'Laurence Fishburne', 'Joe Pantoliano', 'Lynn Collins', 'Nona Gaye', 'Mary Alice', 'Christopher Plummer', 'Marcus Chong', 'Willeke van Ammelrooy', 'Shohreh Aghdashloo', 'Hugo Weaving', 'Amanda Peet', 'Jack Nicholson', 'Jada Pinkett Smith', 'Liana Liberato', 'Bianca Santos', 'Gloria Foster', 'Monica Bellucci', 'Keanu Reeves', 'Colleen Camp', 'Jason Momoa', 'Jim Carrey', 'Brooke Smith', 'Ignacia Allamand', 'Jon Favreau', 'Lambert Wilson', 'Qing Ye', 'Carson Meyer', 'Julian Arahanga', 'Ebon Moss-Bachrach', 'Giovanni Ribisi', 'Alex Sharp', 'Tiger Chen', 'Rachel Ticotin', 'Pamela Anderson', 'Sean Russel Herman', 'Goldie Hawn', 'Antonio Quercia', 'Megan Baily', 'Paul Michael Glaser', 'Lili Taylor', 'Molly Ringwald', 'Karen Mok', 'Aaron Burns', 'Sam Lee', 'Harold Perrineau', 'Yolonda Ross', 'Frances McDormand', 'Randall Duk Kim', 'Dan Baily', 'Kathryn Prescott', 'Leslie Bibb', 'Iko Uwais', 'Matt Doran']\n"
     ]
    }
   ],
   "source": [
    "# Skrypt, który wyszukuje Wszystkich aktorów, z którymi grał Keanu Reeves i daje ich do listy, którą następnie przekształca na zbiór (by nie było duplikaów), a następnie ponownie na listę\n",
    "\n",
    "import pandas as pd\n",
    "\n",
    "myData = pd.read_csv(r'Pliki\\netflix_titles.csv')\n",
    "cast = myData['cast']\n",
    "\n",
    "aktorzy = []\n",
    "\n",
    "for actors in cast:\n",
    "    if \"Keanu Reeves\" in str(actors):\n",
    "        for osoba in actors.split(', '):\n",
    "            aktorzy.append(osoba)\n",
    "aktorzy = set(aktorzy)\n",
    "aktorzy = list(aktorzy)\n",
    "print(\"Ilość aktorów:\", len(aktorzy) - 1)\n",
    "print(aktorzy)"
   ]
  },
  {
   "source": [
    "Funkcja <i> eval </i> (pozwala na egzekucję danego stringa tak, jakby to były po prostu zmienne (jak w przypadku liczb, czy słowników), działa podobnie jak funkcja exec)"
   ],
   "cell_type": "markdown",
   "metadata": {}
  },
  {
   "cell_type": "code",
   "execution_count": 36,
   "metadata": {},
   "outputs": [
    {
     "output_type": "stream",
     "name": "stdout",
     "text": [
      "({'pies': 'dog'}, {'kot': 'cat'})\n"
     ]
    }
   ],
   "source": [
    "wynik = eval(\"{'pies':'dog'}, {'kot':'cat'}\")\n",
    "print(wynik)"
   ]
  },
  {
   "cell_type": "markdown",
   "metadata": {},
   "source": [
    "<h2> Pliki (geo)pandas </h2>"
   ]
  },
  {
   "cell_type": "code",
   "execution_count": 37,
   "metadata": {},
   "outputs": [],
   "source": [
    "# Przykładowe otworzenie pliku geojson i jego \"egzekucja\"\n",
    "\n",
    "fireStations = open(r'Pliki\\fireStations.geojson')\n",
    "\n",
    "myFire = fireStations.read()\n",
    "\n",
    "fireStations.close()\n",
    "\n",
    "null = None\n",
    "myFire = eval(myFire)"
   ]
  },
  {
   "cell_type": "code",
   "execution_count": 39,
   "metadata": {},
   "outputs": [],
   "source": [
    "# Wczytywanie pliku geojson z pomocą json.load\n",
    "\n",
    "import json\n",
    "\n",
    "fireStation = open(r'Pliki\\fireStations.geojson')\n",
    "myData = json.load(fireStation)\n",
    "\n",
    "fireStation.close()"
   ]
  },
  {
   "cell_type": "markdown",
   "metadata": {},
   "source": [
    "geopandas, pliki shp"
   ]
  },
  {
   "cell_type": "code",
   "execution_count": 1,
   "metadata": {},
   "outputs": [
    {
     "output_type": "error",
     "ename": "ImportError",
     "evalue": "DLL load failed: Nie można odnaleźć określonego modułu.",
     "traceback": [
      "\u001b[1;31m---------------------------------------------------------------------------\u001b[0m",
      "\u001b[1;31mImportError\u001b[0m                               Traceback (most recent call last)",
      "\u001b[1;32m<ipython-input-1-39a4c3338217>\u001b[0m in \u001b[0;36m<module>\u001b[1;34m\u001b[0m\n\u001b[0;32m      1\u001b[0m \u001b[1;31m# Nie może kod ten zaimportować biblioteki geopandas w VS code, w zwykłym jupyterze powinno działać\u001b[0m\u001b[1;33m\u001b[0m\u001b[1;33m\u001b[0m\u001b[1;33m\u001b[0m\u001b[0m\n\u001b[0;32m      2\u001b[0m \u001b[1;33m\u001b[0m\u001b[0m\n\u001b[1;32m----> 3\u001b[1;33m \u001b[1;32mimport\u001b[0m \u001b[0mgeopandas\u001b[0m \u001b[1;32mas\u001b[0m \u001b[0mgp\u001b[0m\u001b[1;33m\u001b[0m\u001b[1;33m\u001b[0m\u001b[0m\n\u001b[0m\u001b[0;32m      4\u001b[0m \u001b[1;33m\u001b[0m\u001b[0m\n\u001b[0;32m      5\u001b[0m \u001b[0mwarszawa\u001b[0m \u001b[1;33m=\u001b[0m \u001b[0mgp\u001b[0m\u001b[1;33m.\u001b[0m\u001b[0mread_file\u001b[0m\u001b[1;33m(\u001b[0m\u001b[1;34mr'Pliki\\graniceWarszawyWGS84.shp'\u001b[0m\u001b[1;33m)\u001b[0m\u001b[1;33m\u001b[0m\u001b[1;33m\u001b[0m\u001b[0m\n",
      "\u001b[1;32m~\\miniconda3\\envs\\bootcamp\\lib\\site-packages\\geopandas\\__init__.py\u001b[0m in \u001b[0;36m<module>\u001b[1;34m\u001b[0m\n\u001b[0;32m      1\u001b[0m \u001b[1;32mfrom\u001b[0m \u001b[0mgeopandas\u001b[0m\u001b[1;33m.\u001b[0m\u001b[0m_config\u001b[0m \u001b[1;32mimport\u001b[0m \u001b[0moptions\u001b[0m  \u001b[1;31m# noqa\u001b[0m\u001b[1;33m\u001b[0m\u001b[1;33m\u001b[0m\u001b[0m\n\u001b[0;32m      2\u001b[0m \u001b[1;33m\u001b[0m\u001b[0m\n\u001b[1;32m----> 3\u001b[1;33m \u001b[1;32mfrom\u001b[0m \u001b[0mgeopandas\u001b[0m\u001b[1;33m.\u001b[0m\u001b[0mgeoseries\u001b[0m \u001b[1;32mimport\u001b[0m \u001b[0mGeoSeries\u001b[0m  \u001b[1;31m# noqa\u001b[0m\u001b[1;33m\u001b[0m\u001b[1;33m\u001b[0m\u001b[0m\n\u001b[0m\u001b[0;32m      4\u001b[0m \u001b[1;32mfrom\u001b[0m \u001b[0mgeopandas\u001b[0m\u001b[1;33m.\u001b[0m\u001b[0mgeodataframe\u001b[0m \u001b[1;32mimport\u001b[0m \u001b[0mGeoDataFrame\u001b[0m  \u001b[1;31m# noqa\u001b[0m\u001b[1;33m\u001b[0m\u001b[1;33m\u001b[0m\u001b[0m\n\u001b[0;32m      5\u001b[0m \u001b[1;32mfrom\u001b[0m \u001b[0mgeopandas\u001b[0m\u001b[1;33m.\u001b[0m\u001b[0marray\u001b[0m \u001b[1;32mimport\u001b[0m \u001b[0mpoints_from_xy\u001b[0m  \u001b[1;31m# noqa\u001b[0m\u001b[1;33m\u001b[0m\u001b[1;33m\u001b[0m\u001b[0m\n",
      "\u001b[1;32m~\\miniconda3\\envs\\bootcamp\\lib\\site-packages\\geopandas\\geoseries.py\u001b[0m in \u001b[0;36m<module>\u001b[1;34m\u001b[0m\n\u001b[0;32m      7\u001b[0m \u001b[1;32mfrom\u001b[0m \u001b[0mpandas\u001b[0m\u001b[1;33m.\u001b[0m\u001b[0mcore\u001b[0m\u001b[1;33m.\u001b[0m\u001b[0minternals\u001b[0m \u001b[1;32mimport\u001b[0m \u001b[0mSingleBlockManager\u001b[0m\u001b[1;33m\u001b[0m\u001b[1;33m\u001b[0m\u001b[0m\n\u001b[0;32m      8\u001b[0m \u001b[1;33m\u001b[0m\u001b[0m\n\u001b[1;32m----> 9\u001b[1;33m \u001b[1;32mfrom\u001b[0m \u001b[0mpyproj\u001b[0m \u001b[1;32mimport\u001b[0m \u001b[0mCRS\u001b[0m\u001b[1;33m,\u001b[0m \u001b[0mTransformer\u001b[0m\u001b[1;33m\u001b[0m\u001b[1;33m\u001b[0m\u001b[0m\n\u001b[0m\u001b[0;32m     10\u001b[0m \u001b[1;32mfrom\u001b[0m \u001b[0mshapely\u001b[0m\u001b[1;33m.\u001b[0m\u001b[0mgeometry\u001b[0m\u001b[1;33m.\u001b[0m\u001b[0mbase\u001b[0m \u001b[1;32mimport\u001b[0m \u001b[0mBaseGeometry\u001b[0m\u001b[1;33m\u001b[0m\u001b[1;33m\u001b[0m\u001b[0m\n\u001b[0;32m     11\u001b[0m \u001b[1;33m\u001b[0m\u001b[0m\n",
      "\u001b[1;32m~\\miniconda3\\envs\\bootcamp\\lib\\site-packages\\pyproj\\__init__.py\u001b[0m in \u001b[0;36m<module>\u001b[1;34m\u001b[0m\n\u001b[0;32m     47\u001b[0m \u001b[1;32mimport\u001b[0m \u001b[0mwarnings\u001b[0m\u001b[1;33m\u001b[0m\u001b[1;33m\u001b[0m\u001b[0m\n\u001b[0;32m     48\u001b[0m \u001b[1;33m\u001b[0m\u001b[0m\n\u001b[1;32m---> 49\u001b[1;33m \u001b[1;32mimport\u001b[0m \u001b[0mpyproj\u001b[0m\u001b[1;33m.\u001b[0m\u001b[0mnetwork\u001b[0m\u001b[1;33m\u001b[0m\u001b[1;33m\u001b[0m\u001b[0m\n\u001b[0m\u001b[0;32m     50\u001b[0m from pyproj._datadir import (  # noqa: F401\n\u001b[0;32m     51\u001b[0m     \u001b[0m_pyproj_global_context_initialize\u001b[0m\u001b[1;33m,\u001b[0m\u001b[1;33m\u001b[0m\u001b[1;33m\u001b[0m\u001b[0m\n",
      "\u001b[1;32m~\\miniconda3\\envs\\bootcamp\\lib\\site-packages\\pyproj\\network.py\u001b[0m in \u001b[0;36m<module>\u001b[1;34m\u001b[0m\n\u001b[0;32m      8\u001b[0m \u001b[1;32mimport\u001b[0m \u001b[0mcertifi\u001b[0m\u001b[1;33m\u001b[0m\u001b[1;33m\u001b[0m\u001b[0m\n\u001b[0;32m      9\u001b[0m \u001b[1;33m\u001b[0m\u001b[0m\n\u001b[1;32m---> 10\u001b[1;33m from pyproj._network import (  # noqa: F401\n\u001b[0m\u001b[0;32m     11\u001b[0m     \u001b[0m_set_ca_bundle_path\u001b[0m\u001b[1;33m,\u001b[0m\u001b[1;33m\u001b[0m\u001b[1;33m\u001b[0m\u001b[0m\n\u001b[0;32m     12\u001b[0m     \u001b[0mis_network_enabled\u001b[0m\u001b[1;33m,\u001b[0m\u001b[1;33m\u001b[0m\u001b[1;33m\u001b[0m\u001b[0m\n",
      "\u001b[1;31mImportError\u001b[0m: DLL load failed: Nie można odnaleźć określonego modułu."
     ]
    }
   ],
   "source": [
    "# Nie może kod ten zaimportować biblioteki geopandas w VS code, w zwykłym jupyterze powinno działać\n",
    "\n",
    "import geopandas as gp\n",
    "\n",
    "warszawa = gp.read_file(r'Pliki\\graniceWarszawyWGS84.shp')\n",
    "warszawa.plot(figsize=(12, 12), color='#c5d4c9')\n",
    "\n",
    "import matplotlib.pyplot as plt\n",
    "\n",
    "plt.savefig('Wygenerowane obiekt wektorowy.svg')\n",
    "plt.show()"
   ]
  },
  {
   "cell_type": "code",
   "execution_count": 62,
   "metadata": {},
   "outputs": [
    {
     "output_type": "stream",
     "name": "stdout",
     "text": [
      "To jest pierwsza linia\n\nTo jest druga linia\n\nTu siÄ™ zaczynajÄ… dane:\n\n34 56 23\n\n23 67 54\n\n94 53 70\n\n23 53 64\n\n254 53 644\n"
     ]
    }
   ],
   "source": [
    "with open(r'Pliki\\przyklad1.txt', mode='r') as myFile:\n",
    "    lines = myFile.readlines()\n",
    "    for line in lines: print(line)"
   ]
  },
  {
   "source": [
    "<h1> Przykładowy content manager </h1>"
   ],
   "cell_type": "markdown",
   "metadata": {}
  },
  {
   "cell_type": "code",
   "execution_count": 10,
   "metadata": {},
   "outputs": [
    {
     "name": "stdout",
     "output_type": "stream",
     "text": [
      "Rozpoczynam pracę. \n",
      "Koniec pracy.\n",
      "Upłynęło:  10.0035719871521\n"
     ]
    }
   ],
   "source": [
    "import time\n",
    "\n",
    "class TimeMeasure:\n",
    "    def __init__(self):\n",
    "        pass\n",
    "    def __enter__(self):\n",
    "        print(\"Rozpoczynam pracę. \")\n",
    "        self.start = time.time()\n",
    "\n",
    "    def __exit__(self, exc_type, exc_val, exc_tb):\n",
    "        print(\"Koniec pracy.\")\n",
    "        self.koniec = time.time()\n",
    "        print(\"Upłynęło: \", self.koniec - self.start)\n",
    "        raport = open('raport.txt', 'w')\n",
    "        raport.write('Proces przebiegł domyślnie')\n",
    "        raport.close\n",
    "\n",
    "with TimeMeasure():\n",
    "    time.sleep(10)"
   ]
  },
  {
   "source": [
    "<h2> Przykładowe generowanie i wyświetlenie punktów dzięki pptk </h2>"
   ],
   "cell_type": "markdown",
   "metadata": {}
  },
  {
   "cell_type": "code",
   "execution_count": 60,
   "metadata": {},
   "outputs": [],
   "source": [
    "import numpy as np\n",
    "x = np.random.rand(1000, 3)\n",
    "import pptk\n",
    "v = pptk.viewer(x)\n",
    "v.set(point_size=0.001)"
   ]
  },
  {
   "cell_type": "code",
   "execution_count": null,
   "metadata": {},
   "outputs": [],
   "source": []
  }
 ],
 "metadata": {
  "kernelspec": {
   "display_name": "Python 3",
   "language": "python",
   "name": "python3"
  },
  "language_info": {
   "codemirror_mode": {
    "name": "ipython",
    "version": 3
   },
   "file_extension": ".py",
   "mimetype": "text/x-python",
   "name": "python",
   "nbconvert_exporter": "python",
   "pygments_lexer": "ipython3",
   "version": "3.7.10-final"
  }
 },
 "nbformat": 4,
 "nbformat_minor": 4
}