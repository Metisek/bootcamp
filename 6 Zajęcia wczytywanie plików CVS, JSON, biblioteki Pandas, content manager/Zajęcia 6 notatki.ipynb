{
 "cells": [
  {
   "cell_type": "markdown",
   "metadata": {},
   "source": [
    "<h2> Klasyczna obsługa pliku .txt jako zmienna w Pythonie </h2>"
   ]
  },
  {
   "cell_type": "markdown",
   "metadata": {},
   "source": [
    "Kontynuacja po zabawie w Spyderze. W tym miejscu będzie więcej notatek."
   ]
  },
  {
   "cell_type": "code",
   "execution_count": 2,
   "metadata": {},
   "outputs": [
    {
     "name": "stdout",
     "output_type": "stream",
     "text": [
      "[['34', '56', '23'], ['23', '67', '54'], ['94', '53', '70'], ['23', '53', '64'], ['254', '53', '644']]\n"
     ]
    }
   ],
   "source": [
    "myFile = open(r'Pliki/przyklad1.txt', mode=\"r\")\n",
    "data=[]\n",
    "for line in myFile.readlines():\n",
    "    if line.startswith(\"T\"): continue\n",
    "    data.append([x .rstrip() for x in line.split(\" \")])\n",
    "myFile.close()\n",
    "print(data)"
   ]
  },
  {
   "cell_type": "code",
   "execution_count": 18,
   "metadata": {},
   "outputs": [],
   "source": [
    "myFile = open(r'Pliki/przyklad.txt', mode=\"w\")\n",
    "for _ in range (30):\n",
    "    myFile.write(\"Lubię Pythona! Mateusz\")\n",
    "myFile.close()\n",
    "\n",
    "myFile = open(r'Pliki/przyklad.txt', mode=\"a\")\n",
    "for _ in range (30):\n",
    "    myFile.write(\"Bardzo lubię Pythona! Mateusz\")\n",
    "myFile.close()\n"
   ]
  },
  {
   "cell_type": "code",
   "execution_count": null,
   "metadata": {},
   "outputs": [],
   "source": [
    "Pliki CSV, biblioteka Pandas"
   ]
  },
  {
   "cell_type": "code",
   "execution_count": 26,
   "metadata": {},
   "outputs": [
    {
     "name": "stdout",
     "output_type": "stream",
     "text": [
      "Keanu Reeves, Lorenza Izzo, Ana de Armas, Aaron Burns, Ignacia Allamand, Dan Baily, Megan Baily, Colleen Camp, Antonio Quercia\n",
      "-x--x--x--x--x--x--x--x--x--x--x--x--x--x--x-\n",
      "Keanu Reeves, Tiger Chen, Karen Mok, Simon Yam, Qing Ye, Hai Yu, Sam Lee, Iko Uwais\n",
      "-x--x--x--x--x--x--x--x--x--x--x--x--x--x--x-\n",
      "Jack Nicholson, Diane Keaton, Keanu Reeves, Frances McDormand, Amanda Peet, Jon Favreau, Paul Michael Glaser, Rachel Ticotin\n",
      "-x--x--x--x--x--x--x--x--x--x--x--x--x--x--x-\n",
      "Carson Meyer, Noah Centineo, Bianca Santos, Jackson White, Sean Russel Herman, Rosanna Arquette, Molly Ringwald, Pamela Anderson, Keanu Reeves, Goldie Hawn\n",
      "-x--x--x--x--x--x--x--x--x--x--x--x--x--x--x-\n",
      "Suki Waterhouse, Jason Momoa, Keanu Reeves, Jim Carrey, Giovanni Ribisi, Yolonda Ross\n",
      "-x--x--x--x--x--x--x--x--x--x--x--x--x--x--x-\n",
      "Keanu Reeves, Sandra Bullock, Dylan Walsh, Shohreh Aghdashloo, Ebon Moss-Bachrach, Lynn Collins, Willeke van Ammelrooy, Christopher Plummer\n",
      "-x--x--x--x--x--x--x--x--x--x--x--x--x--x--x-\n",
      "Keanu Reeves, Laurence Fishburne, Carrie-Anne Moss, Hugo Weaving, Gloria Foster, Joe Pantoliano, Marcus Chong, Julian Arahanga, Matt Doran, Belinda McClory\n",
      "-x--x--x--x--x--x--x--x--x--x--x--x--x--x--x-\n",
      "Keanu Reeves, Laurence Fishburne, Carrie-Anne Moss, Hugo Weaving, Jada Pinkett Smith, Gloria Foster, Harold Perrineau, Monica Bellucci, Harry Lennix, Lambert Wilson, Randall Duk Kim, Nona Gaye\n",
      "-x--x--x--x--x--x--x--x--x--x--x--x--x--x--x-\n",
      "Keanu Reeves, Laurence Fishburne, Carrie-Anne Moss, Hugo Weaving, Jada Pinkett Smith, Mary Alice, Harold Perrineau, Monica Bellucci, Harry Lennix, Lambert Wilson, Nona Gaye\n",
      "-x--x--x--x--x--x--x--x--x--x--x--x--x--x--x-\n",
      "Lily Collins, Keanu Reeves, Carrie Preston, Lili Taylor, Alex Sharp, Liana Liberato, Brooke Smith, Leslie Bibb, Kathryn Prescott\n",
      "-x--x--x--x--x--x--x--x--x--x--x--x--x--x--x-\n"
     ]
    }
   ],
   "source": [
    "import pandas as pd\n",
    "\n",
    "myData = pd.read_csv(r'Pliki\\netflix_titles.csv')\n",
    "cast = myData['cast']\n",
    "\n",
    "for actors in cast:\n",
    "    if \"Keanu Reeves\" in str(actors):\n",
    "        print(actors)\n",
    "        print(15*'-x-')\n"
   ]
  },
  {
   "cell_type": "code",
   "execution_count": 31,
   "metadata": {},
   "outputs": [
    {
     "name": "stdout",
     "output_type": "stream",
     "text": [
      "Keanu Reeves, Lorenza Izzo, Ana de Armas, Aaron Burns, Ignacia Allamand, Dan Baily, Megan Baily, Colleen Camp, Antonio Quercia\n",
      "-x--x--x--x--x--x--x--x--x--x--x--x--x--x--x-\n",
      "Keanu Reeves, Tiger Chen, Karen Mok, Simon Yam, Qing Ye, Hai Yu, Sam Lee, Iko Uwais\n",
      "-x--x--x--x--x--x--x--x--x--x--x--x--x--x--x-\n",
      "Jack Nicholson, Diane Keaton, Keanu Reeves, Frances McDormand, Amanda Peet, Jon Favreau, Paul Michael Glaser, Rachel Ticotin\n",
      "-x--x--x--x--x--x--x--x--x--x--x--x--x--x--x-\n",
      "Carson Meyer, Noah Centineo, Bianca Santos, Jackson White, Sean Russel Herman, Rosanna Arquette, Molly Ringwald, Pamela Anderson, Keanu Reeves, Goldie Hawn\n",
      "-x--x--x--x--x--x--x--x--x--x--x--x--x--x--x-\n",
      "Suki Waterhouse, Jason Momoa, Keanu Reeves, Jim Carrey, Giovanni Ribisi, Yolonda Ross\n",
      "-x--x--x--x--x--x--x--x--x--x--x--x--x--x--x-\n",
      "Keanu Reeves, Sandra Bullock, Dylan Walsh, Shohreh Aghdashloo, Ebon Moss-Bachrach, Lynn Collins, Willeke van Ammelrooy, Christopher Plummer\n",
      "-x--x--x--x--x--x--x--x--x--x--x--x--x--x--x-\n",
      "Keanu Reeves, Laurence Fishburne, Carrie-Anne Moss, Hugo Weaving, Gloria Foster, Joe Pantoliano, Marcus Chong, Julian Arahanga, Matt Doran, Belinda McClory\n",
      "-x--x--x--x--x--x--x--x--x--x--x--x--x--x--x-\n",
      "Keanu Reeves, Laurence Fishburne, Carrie-Anne Moss, Hugo Weaving, Jada Pinkett Smith, Gloria Foster, Harold Perrineau, Monica Bellucci, Harry Lennix, Lambert Wilson, Randall Duk Kim, Nona Gaye\n",
      "-x--x--x--x--x--x--x--x--x--x--x--x--x--x--x-\n",
      "Keanu Reeves, Laurence Fishburne, Carrie-Anne Moss, Hugo Weaving, Jada Pinkett Smith, Mary Alice, Harold Perrineau, Monica Bellucci, Harry Lennix, Lambert Wilson, Nona Gaye\n",
      "-x--x--x--x--x--x--x--x--x--x--x--x--x--x--x-\n",
      "Lily Collins, Keanu Reeves, Carrie Preston, Lili Taylor, Alex Sharp, Liana Liberato, Brooke Smith, Leslie Bibb, Kathryn Prescott\n",
      "-x--x--x--x--x--x--x--x--x--x--x--x--x--x--x-\n",
      "['Tiger Chen', 'Frances McDormand', 'Belinda McClory', 'Lynn Collins', 'Keanu Reeves', 'Kathryn Prescott', 'Giovanni Ribisi', 'Diane Keaton', 'Dylan Walsh', 'Shohreh Aghdashloo', 'Monica Bellucci', 'Harry Lennix', 'Mary Alice', 'Lili Taylor', 'Hai Yu', 'Lorenza Izzo', 'Simon Yam', 'Jackson White', 'Joe Pantoliano', 'Liana Liberato', 'Carrie-Anne Moss', 'Laurence Fishburne', 'Gloria Foster', 'Leslie Bibb', 'Rosanna Arquette', 'Julian Arahanga', 'Harold Perrineau', 'Ebon Moss-Bachrach', 'Megan Baily', 'Noah Centineo', 'Brooke Smith', 'Jack Nicholson', 'Randall Duk Kim', 'Paul Michael Glaser', 'Lily Collins', 'Iko Uwais', 'Jon Favreau', 'Bianca Santos', 'Colleen Camp', 'Amanda Peet', 'Christopher Plummer', 'Aaron Burns', 'Willeke van Ammelrooy', 'Jada Pinkett Smith', 'Sam Lee', 'Sandra Bullock', 'Dan Baily', 'Hugo Weaving', 'Carson Meyer', 'Marcus Chong', 'Suki Waterhouse', 'Nona Gaye', 'Goldie Hawn', 'Ignacia Allamand', 'Jim Carrey', 'Yolonda Ross', 'Molly Ringwald', 'Alex Sharp', 'Rachel Ticotin', 'Sean Russel Herman', 'Karen Mok', 'Qing Ye', 'Ana de Armas', 'Jason Momoa', 'Antonio Quercia', 'Carrie Preston', 'Lambert Wilson', 'Matt Doran', 'Pamela Anderson']\n"
     ]
    }
   ],
   "source": [
    "import pandas as pd\n",
    "\n",
    "myData = pd.read_csv(r'Pliki\\netflix_titles.csv')\n",
    "cast = myData['cast']\n",
    "\n",
    "aktorzy = []\n",
    "\n",
    "for actors in cast:\n",
    "    if \"Keanu Reeves\" in str(actors):\n",
    "        print(actors)\n",
    "        for osoba in actors.split(', '):\n",
    "            aktorzy.append(osoba)\n",
    "        print(15*'-x-')\n",
    "aktorzy = set(aktorzy)\n",
    "aktorzy = list(aktorzy)\n",
    "print(aktorzy)"
   ]
  },
  {
   "cell_type": "markdown",
   "metadata": {},
   "source": [
    "Stronka: www.kaggle.com , zbiory, dane, uczenie maszynowe, do nauki Pandas"
   ]
  },
  {
   "cell_type": "markdown",
   "metadata": {},
   "source": [
    "Pliki (geo)pandas"
   ]
  },
  {
   "cell_type": "code",
   "execution_count": 36,
   "metadata": {},
   "outputs": [],
   "source": [
    "fireStations = open(r'Pliki\\fireStations.geojson')\n",
    "\n",
    "myData = fireStations.read()\n",
    "\n",
    "fireStations.close()\n",
    "\n",
    "null = None\n",
    "myData = eval(myData)"
   ]
  },
  {
   "cell_type": "code",
   "execution_count": 35,
   "metadata": {},
   "outputs": [],
   "source": [
    "wynik = eval(\"5 + 7\")\n",
    "\n",
    "wynik = eval(\"{'pies':'dog'}, {'kot':'cat'}\")"
   ]
  },
  {
   "cell_type": "code",
   "execution_count": 37,
   "metadata": {},
   "outputs": [],
   "source": [
    "import json\n",
    "\n",
    "fireStation = open(r'Pliki\\fireStations.geojson')\n",
    "myData = json.load(fireStation)\n",
    "\n",
    "fireStations.close()\n",
    "\n"
   ]
  },
  {
   "cell_type": "markdown",
   "metadata": {},
   "source": [
    "geopandas, pliki shp"
   ]
  },
  {
   "cell_type": "code",
   "execution_count": 2,
   "metadata": {},
   "outputs": [
    {
     "ename": "ImportError",
     "evalue": "DLL load failed: Nie można odnaleźć określonego modułu.",
     "output_type": "error",
     "traceback": [
      "\u001b[1;31m---------------------------------------------------------------------------\u001b[0m",
      "\u001b[1;31mImportError\u001b[0m                               Traceback (most recent call last)",
      "\u001b[1;32m<ipython-input-2-2244f1581f3c>\u001b[0m in \u001b[0;36m<module>\u001b[1;34m\u001b[0m\n\u001b[1;32m----> 1\u001b[1;33m \u001b[1;32mimport\u001b[0m \u001b[0mgeopandas\u001b[0m \u001b[1;32mas\u001b[0m \u001b[0mgp\u001b[0m\u001b[1;33m\u001b[0m\u001b[1;33m\u001b[0m\u001b[0m\n\u001b[0m\u001b[0;32m      2\u001b[0m \u001b[1;33m\u001b[0m\u001b[0m\n\u001b[0;32m      3\u001b[0m \u001b[0mwarszawa\u001b[0m \u001b[1;33m=\u001b[0m \u001b[0mgp\u001b[0m\u001b[1;33m.\u001b[0m\u001b[0mread_file\u001b[0m\u001b[1;33m(\u001b[0m\u001b[1;34mr'C:\\Users\\User\\Projekty\\bootcamp\\6 Zajęcia wczytywanie plików CVS, JSON, biblioteki Pandas, content manager\\Pliki\\graniceWarszawyWGS84.shp'\u001b[0m\u001b[1;33m)\u001b[0m\u001b[1;33m\u001b[0m\u001b[1;33m\u001b[0m\u001b[0m\n\u001b[0;32m      4\u001b[0m \u001b[0mwarszawa\u001b[0m\u001b[1;33m.\u001b[0m\u001b[0mplot\u001b[0m\u001b[1;33m(\u001b[0m\u001b[0mfigsize\u001b[0m\u001b[1;33m=\u001b[0m\u001b[1;33m(\u001b[0m\u001b[1;36m12\u001b[0m\u001b[1;33m,\u001b[0m \u001b[1;36m12\u001b[0m\u001b[1;33m)\u001b[0m\u001b[1;33m,\u001b[0m \u001b[0mcolor\u001b[0m\u001b[1;33m=\u001b[0m\u001b[1;34m'#c5d4c9'\u001b[0m\u001b[1;33m)\u001b[0m\u001b[1;33m\u001b[0m\u001b[1;33m\u001b[0m\u001b[0m\n\u001b[0;32m      5\u001b[0m \u001b[1;33m\u001b[0m\u001b[0m\n",
      "\u001b[1;32m~\\miniconda3\\envs\\bootcamp\\lib\\site-packages\\geopandas\\__init__.py\u001b[0m in \u001b[0;36m<module>\u001b[1;34m\u001b[0m\n\u001b[0;32m      1\u001b[0m \u001b[1;32mfrom\u001b[0m \u001b[0mgeopandas\u001b[0m\u001b[1;33m.\u001b[0m\u001b[0m_config\u001b[0m \u001b[1;32mimport\u001b[0m \u001b[0moptions\u001b[0m  \u001b[1;31m# noqa\u001b[0m\u001b[1;33m\u001b[0m\u001b[1;33m\u001b[0m\u001b[0m\n\u001b[0;32m      2\u001b[0m \u001b[1;33m\u001b[0m\u001b[0m\n\u001b[1;32m----> 3\u001b[1;33m \u001b[1;32mfrom\u001b[0m \u001b[0mgeopandas\u001b[0m\u001b[1;33m.\u001b[0m\u001b[0mgeoseries\u001b[0m \u001b[1;32mimport\u001b[0m \u001b[0mGeoSeries\u001b[0m  \u001b[1;31m# noqa\u001b[0m\u001b[1;33m\u001b[0m\u001b[1;33m\u001b[0m\u001b[0m\n\u001b[0m\u001b[0;32m      4\u001b[0m \u001b[1;32mfrom\u001b[0m \u001b[0mgeopandas\u001b[0m\u001b[1;33m.\u001b[0m\u001b[0mgeodataframe\u001b[0m \u001b[1;32mimport\u001b[0m \u001b[0mGeoDataFrame\u001b[0m  \u001b[1;31m# noqa\u001b[0m\u001b[1;33m\u001b[0m\u001b[1;33m\u001b[0m\u001b[0m\n\u001b[0;32m      5\u001b[0m \u001b[1;32mfrom\u001b[0m \u001b[0mgeopandas\u001b[0m\u001b[1;33m.\u001b[0m\u001b[0marray\u001b[0m \u001b[1;32mimport\u001b[0m \u001b[0mpoints_from_xy\u001b[0m  \u001b[1;31m# noqa\u001b[0m\u001b[1;33m\u001b[0m\u001b[1;33m\u001b[0m\u001b[0m\n",
      "\u001b[1;32m~\\miniconda3\\envs\\bootcamp\\lib\\site-packages\\geopandas\\geoseries.py\u001b[0m in \u001b[0;36m<module>\u001b[1;34m\u001b[0m\n\u001b[0;32m      7\u001b[0m \u001b[1;32mfrom\u001b[0m \u001b[0mpandas\u001b[0m\u001b[1;33m.\u001b[0m\u001b[0mcore\u001b[0m\u001b[1;33m.\u001b[0m\u001b[0minternals\u001b[0m \u001b[1;32mimport\u001b[0m \u001b[0mSingleBlockManager\u001b[0m\u001b[1;33m\u001b[0m\u001b[1;33m\u001b[0m\u001b[0m\n\u001b[0;32m      8\u001b[0m \u001b[1;33m\u001b[0m\u001b[0m\n\u001b[1;32m----> 9\u001b[1;33m \u001b[1;32mfrom\u001b[0m \u001b[0mpyproj\u001b[0m \u001b[1;32mimport\u001b[0m \u001b[0mCRS\u001b[0m\u001b[1;33m,\u001b[0m \u001b[0mTransformer\u001b[0m\u001b[1;33m\u001b[0m\u001b[1;33m\u001b[0m\u001b[0m\n\u001b[0m\u001b[0;32m     10\u001b[0m \u001b[1;32mfrom\u001b[0m \u001b[0mshapely\u001b[0m\u001b[1;33m.\u001b[0m\u001b[0mgeometry\u001b[0m\u001b[1;33m.\u001b[0m\u001b[0mbase\u001b[0m \u001b[1;32mimport\u001b[0m \u001b[0mBaseGeometry\u001b[0m\u001b[1;33m\u001b[0m\u001b[1;33m\u001b[0m\u001b[0m\n\u001b[0;32m     11\u001b[0m \u001b[1;33m\u001b[0m\u001b[0m\n",
      "\u001b[1;32m~\\miniconda3\\envs\\bootcamp\\lib\\site-packages\\pyproj\\__init__.py\u001b[0m in \u001b[0;36m<module>\u001b[1;34m\u001b[0m\n\u001b[0;32m     47\u001b[0m \u001b[1;32mimport\u001b[0m \u001b[0mwarnings\u001b[0m\u001b[1;33m\u001b[0m\u001b[1;33m\u001b[0m\u001b[0m\n\u001b[0;32m     48\u001b[0m \u001b[1;33m\u001b[0m\u001b[0m\n\u001b[1;32m---> 49\u001b[1;33m \u001b[1;32mimport\u001b[0m \u001b[0mpyproj\u001b[0m\u001b[1;33m.\u001b[0m\u001b[0mnetwork\u001b[0m\u001b[1;33m\u001b[0m\u001b[1;33m\u001b[0m\u001b[0m\n\u001b[0m\u001b[0;32m     50\u001b[0m from pyproj._datadir import (  # noqa: F401\n\u001b[0;32m     51\u001b[0m     \u001b[0m_pyproj_global_context_initialize\u001b[0m\u001b[1;33m,\u001b[0m\u001b[1;33m\u001b[0m\u001b[1;33m\u001b[0m\u001b[0m\n",
      "\u001b[1;32m~\\miniconda3\\envs\\bootcamp\\lib\\site-packages\\pyproj\\network.py\u001b[0m in \u001b[0;36m<module>\u001b[1;34m\u001b[0m\n\u001b[0;32m      8\u001b[0m \u001b[1;32mimport\u001b[0m \u001b[0mcertifi\u001b[0m\u001b[1;33m\u001b[0m\u001b[1;33m\u001b[0m\u001b[0m\n\u001b[0;32m      9\u001b[0m \u001b[1;33m\u001b[0m\u001b[0m\n\u001b[1;32m---> 10\u001b[1;33m from pyproj._network import (  # noqa: F401\n\u001b[0m\u001b[0;32m     11\u001b[0m     \u001b[0m_set_ca_bundle_path\u001b[0m\u001b[1;33m,\u001b[0m\u001b[1;33m\u001b[0m\u001b[1;33m\u001b[0m\u001b[0m\n\u001b[0;32m     12\u001b[0m     \u001b[0mis_network_enabled\u001b[0m\u001b[1;33m,\u001b[0m\u001b[1;33m\u001b[0m\u001b[1;33m\u001b[0m\u001b[0m\n",
      "\u001b[1;31mImportError\u001b[0m: DLL load failed: Nie można odnaleźć określonego modułu."
     ]
    }
   ],
   "source": [
    "import geopandas as gp\n",
    "\n",
    "warszawa = gp.read_file(r'C:\\Users\\User\\Projekty\\bootcamp\\6 Zajęcia wczytywanie plików CVS, JSON, biblioteki Pandas, content manager\\Pliki\\graniceWarszawyWGS84.shp')\n",
    "warszawa.plot(figsize=(12, 12), color='#c5d4c9')\n",
    "\n",
    "import matplotlib.pyplot as plt\n",
    "\n",
    "plt.savefig('zdjęcie.svg')"
   ]
  },
  {
   "cell_type": "code",
   "execution_count": 3,
   "metadata": {},
   "outputs": [
    {
     "name": "stdout",
     "output_type": "stream",
     "text": [
      "To jest pierwsza linia\n",
      "\n",
      "To jest druga linia\n",
      "\n",
      "Tu siÄ™ zaczynajÄ… dane:\n",
      "\n",
      "34 56 23\n",
      "\n",
      "23 67 54\n",
      "\n",
      "94 53 70\n",
      "\n",
      "23 53 64\n",
      "\n",
      "254 53 644\n"
     ]
    }
   ],
   "source": [
    "with open(r'Pliki\\przyklad1.txt', mode='r') as myFile:\n",
    "    lines = myFile.readlines()\n",
    "    for line in lines: print(line)"
   ]
  },
  {
   "cell_type": "code",
   "execution_count": 47,
   "metadata": {},
   "outputs": [
    {
     "ename": "SyntaxError",
     "evalue": "invalid syntax (<ipython-input-47-4c0e7f1141d7>, line 10)",
     "output_type": "error",
     "traceback": [
      "\u001b[1;36m  File \u001b[1;32m\"<ipython-input-47-4c0e7f1141d7>\"\u001b[1;36m, line \u001b[1;32m10\u001b[0m\n\u001b[1;33m    def __exit__(self, False, False, False):\u001b[0m\n\u001b[1;37m                           ^\u001b[0m\n\u001b[1;31mSyntaxError\u001b[0m\u001b[1;31m:\u001b[0m invalid syntax\n"
     ]
    }
   ],
   "source": [
    "import time\n",
    "\n",
    "class TimeMeasure:\n",
    "    def __init__(self):\n",
    "        pass\n",
    "    def __enter__(self):\n",
    "        print(\"Rozpoczynam pracę. \")\n",
    "        self.start = time.time()\n",
    "\n",
    "    def __exit__(self, exc_type, exc_val, exc_tb):\n",
    "        print(\"Koniec pracy.\")\n",
    "        self.koniec = time.time()\n",
    "        print(\"Upłynęło: \", self.koniec - self.start)\n",
    "        raport = open('raport.txt', 'w')\n",
    "        raport.write('Proces przebiegł domyślnie')\n",
    "        raport.close\n",
    "\n",
    "with TimeMeasure():\n",
    "    time.sleep(10)\n"
   ]
  },
  {
   "cell_type": "code",
   "execution_count": 18,
   "metadata": {},
   "outputs": [
    {
     "ename": "ImportError",
     "evalue": "DLL load failed: Nie można odnaleźć określonego modułu.",
     "output_type": "error",
     "traceback": [
      "\u001b[1;31m---------------------------------------------------------------------------\u001b[0m",
      "\u001b[1;31mImportError\u001b[0m                               Traceback (most recent call last)",
      "\u001b[1;32m<ipython-input-18-fc7d1d298f0c>\u001b[0m in \u001b[0;36m<module>\u001b[1;34m\u001b[0m\n\u001b[1;32m----> 1\u001b[1;33m \u001b[1;32mimport\u001b[0m \u001b[0mgeopandas\u001b[0m\u001b[1;33m\u001b[0m\u001b[1;33m\u001b[0m\u001b[0m\n\u001b[0m",
      "\u001b[1;32m~\\miniconda3\\envs\\bootcamp\\lib\\site-packages\\geopandas\\__init__.py\u001b[0m in \u001b[0;36m<module>\u001b[1;34m\u001b[0m\n\u001b[0;32m      1\u001b[0m \u001b[1;32mfrom\u001b[0m \u001b[0mgeopandas\u001b[0m\u001b[1;33m.\u001b[0m\u001b[0m_config\u001b[0m \u001b[1;32mimport\u001b[0m \u001b[0moptions\u001b[0m  \u001b[1;31m# noqa\u001b[0m\u001b[1;33m\u001b[0m\u001b[1;33m\u001b[0m\u001b[0m\n\u001b[0;32m      2\u001b[0m \u001b[1;33m\u001b[0m\u001b[0m\n\u001b[1;32m----> 3\u001b[1;33m \u001b[1;32mfrom\u001b[0m \u001b[0mgeopandas\u001b[0m\u001b[1;33m.\u001b[0m\u001b[0mgeoseries\u001b[0m \u001b[1;32mimport\u001b[0m \u001b[0mGeoSeries\u001b[0m  \u001b[1;31m# noqa\u001b[0m\u001b[1;33m\u001b[0m\u001b[1;33m\u001b[0m\u001b[0m\n\u001b[0m\u001b[0;32m      4\u001b[0m \u001b[1;32mfrom\u001b[0m \u001b[0mgeopandas\u001b[0m\u001b[1;33m.\u001b[0m\u001b[0mgeodataframe\u001b[0m \u001b[1;32mimport\u001b[0m \u001b[0mGeoDataFrame\u001b[0m  \u001b[1;31m# noqa\u001b[0m\u001b[1;33m\u001b[0m\u001b[1;33m\u001b[0m\u001b[0m\n\u001b[0;32m      5\u001b[0m \u001b[1;32mfrom\u001b[0m \u001b[0mgeopandas\u001b[0m\u001b[1;33m.\u001b[0m\u001b[0marray\u001b[0m \u001b[1;32mimport\u001b[0m \u001b[0mpoints_from_xy\u001b[0m  \u001b[1;31m# noqa\u001b[0m\u001b[1;33m\u001b[0m\u001b[1;33m\u001b[0m\u001b[0m\n",
      "\u001b[1;32m~\\miniconda3\\envs\\bootcamp\\lib\\site-packages\\geopandas\\geoseries.py\u001b[0m in \u001b[0;36m<module>\u001b[1;34m\u001b[0m\n\u001b[0;32m      7\u001b[0m \u001b[1;32mfrom\u001b[0m \u001b[0mpandas\u001b[0m\u001b[1;33m.\u001b[0m\u001b[0mcore\u001b[0m\u001b[1;33m.\u001b[0m\u001b[0minternals\u001b[0m \u001b[1;32mimport\u001b[0m \u001b[0mSingleBlockManager\u001b[0m\u001b[1;33m\u001b[0m\u001b[1;33m\u001b[0m\u001b[0m\n\u001b[0;32m      8\u001b[0m \u001b[1;33m\u001b[0m\u001b[0m\n\u001b[1;32m----> 9\u001b[1;33m \u001b[1;32mfrom\u001b[0m \u001b[0mpyproj\u001b[0m \u001b[1;32mimport\u001b[0m \u001b[0mCRS\u001b[0m\u001b[1;33m,\u001b[0m \u001b[0mTransformer\u001b[0m\u001b[1;33m\u001b[0m\u001b[1;33m\u001b[0m\u001b[0m\n\u001b[0m\u001b[0;32m     10\u001b[0m \u001b[1;32mfrom\u001b[0m \u001b[0mshapely\u001b[0m\u001b[1;33m.\u001b[0m\u001b[0mgeometry\u001b[0m\u001b[1;33m.\u001b[0m\u001b[0mbase\u001b[0m \u001b[1;32mimport\u001b[0m \u001b[0mBaseGeometry\u001b[0m\u001b[1;33m\u001b[0m\u001b[1;33m\u001b[0m\u001b[0m\n\u001b[0;32m     11\u001b[0m \u001b[1;33m\u001b[0m\u001b[0m\n",
      "\u001b[1;32m~\\miniconda3\\envs\\bootcamp\\lib\\site-packages\\pyproj\\__init__.py\u001b[0m in \u001b[0;36m<module>\u001b[1;34m\u001b[0m\n\u001b[0;32m     47\u001b[0m \u001b[1;32mimport\u001b[0m \u001b[0mwarnings\u001b[0m\u001b[1;33m\u001b[0m\u001b[1;33m\u001b[0m\u001b[0m\n\u001b[0;32m     48\u001b[0m \u001b[1;33m\u001b[0m\u001b[0m\n\u001b[1;32m---> 49\u001b[1;33m \u001b[1;32mimport\u001b[0m \u001b[0mpyproj\u001b[0m\u001b[1;33m.\u001b[0m\u001b[0mnetwork\u001b[0m\u001b[1;33m\u001b[0m\u001b[1;33m\u001b[0m\u001b[0m\n\u001b[0m\u001b[0;32m     50\u001b[0m from pyproj._datadir import (  # noqa: F401\n\u001b[0;32m     51\u001b[0m     \u001b[0m_pyproj_global_context_initialize\u001b[0m\u001b[1;33m,\u001b[0m\u001b[1;33m\u001b[0m\u001b[1;33m\u001b[0m\u001b[0m\n",
      "\u001b[1;32m~\\miniconda3\\envs\\bootcamp\\lib\\site-packages\\pyproj\\network.py\u001b[0m in \u001b[0;36m<module>\u001b[1;34m\u001b[0m\n\u001b[0;32m      8\u001b[0m \u001b[1;32mimport\u001b[0m \u001b[0mcertifi\u001b[0m\u001b[1;33m\u001b[0m\u001b[1;33m\u001b[0m\u001b[0m\n\u001b[0;32m      9\u001b[0m \u001b[1;33m\u001b[0m\u001b[0m\n\u001b[1;32m---> 10\u001b[1;33m from pyproj._network import (  # noqa: F401\n\u001b[0m\u001b[0;32m     11\u001b[0m     \u001b[0m_set_ca_bundle_path\u001b[0m\u001b[1;33m,\u001b[0m\u001b[1;33m\u001b[0m\u001b[1;33m\u001b[0m\u001b[0m\n\u001b[0;32m     12\u001b[0m     \u001b[0mis_network_enabled\u001b[0m\u001b[1;33m,\u001b[0m\u001b[1;33m\u001b[0m\u001b[1;33m\u001b[0m\u001b[0m\n",
      "\u001b[1;31mImportError\u001b[0m: DLL load failed: Nie można odnaleźć określonego modułu."
     ]
    }
   ],
   "source": [
    "import geopandas"
   ]
  },
  {
   "cell_type": "code",
   "execution_count": null,
   "metadata": {},
   "outputs": [],
   "source": []
  }
 ],
 "metadata": {
  "kernelspec": {
   "display_name": "Python 3",
   "language": "python",
   "name": "python3"
  },
  "language_info": {
   "codemirror_mode": {
    "name": "ipython",
    "version": 3
   },
   "file_extension": ".py",
   "mimetype": "text/x-python",
   "name": "python",
   "nbconvert_exporter": "python",
   "pygments_lexer": "ipython3",
   "version": "3.7.10"
  }
 },
 "nbformat": 4,
 "nbformat_minor": 4
}
