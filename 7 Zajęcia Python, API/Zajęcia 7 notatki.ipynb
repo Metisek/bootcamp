{
 "metadata": {
  "language_info": {
   "codemirror_mode": {
    "name": "ipython",
    "version": 3
   },
   "file_extension": ".py",
   "mimetype": "text/x-python",
   "name": "python",
   "nbconvert_exporter": "python",
   "pygments_lexer": "ipython3",
   "version": "3.7.10-final"
  },
  "orig_nbformat": 2,
  "kernelspec": {
   "name": "python3",
   "display_name": "Python 3.7.10 64-bit ('bootcamp': conda)",
   "metadata": {
    "interpreter": {
     "hash": "2fec4edc1429c0b0ab5d9b2e5c4f5e84226191a7c9385fb78ee37cfe586946c1"
    }
   }
  }
 },
 "nbformat": 4,
 "nbformat_minor": 2,
 "cells": [
  {
   "source": [
    "<h1> Zajecia 7 </h1>"
   ],
   "cell_type": "markdown",
   "metadata": {}
  },
  {
   "source": [
    "<h2>Gdzie i jak szukać danych</h2>\n",
    "<p>- Blogi, artykuły, np. Get Bitcoin Price In Real Time Using Python | by randerson112358</p> \n",
    "<p>- Fora internetowe</p>\n",
    "<p>- Zwykłe wyszukiwanie w Google</p>\n",
    "<p>- Publikacje, projekty społecznościowe, np. Luftdaten</p>"
   ],
   "cell_type": "markdown",
   "metadata": {}
  },
  {
   "cell_type": "code",
   "execution_count": 7,
   "metadata": {
    "tags": [
     "outputPrepend"
    ]
   },
   "outputs": [
    {
     "output_type": "stream",
     "name": "stdout",
     "text": [
      "me': 'TEMPERATURE', 'value': -1.81}], 'indexes': [{'name': 'AIRLY_CAQI', 'value': 65.16, 'level': 'MEDIUM', 'description': \"Well... It's been better.\", 'advice': \"It's better to limit your outside physical activity today.\", 'color': '#EFBB0F'}], 'standards': [{'name': 'WHO', 'pollutant': 'PM25', 'limit': 25.0, 'percent': 180.63, 'averaging': '24h'}, {'name': 'WHO', 'pollutant': 'PM10', 'limit': 50.0, 'percent': 116.79, 'averaging': '24h'}]}, {'fromDateTime': '2021-03-10T02:00:00.000Z', 'tillDateTime': '2021-03-10T03:00:00.000Z', 'values': [{'name': 'PM1', 'value': 31.07}, {'name': 'PM25', 'value': 46.15}, {'name': 'PM10', 'value': 59.46}, {'name': 'PRESSURE', 'value': 1019.13}, {'name': 'HUMIDITY', 'value': 83.5}, {'name': 'TEMPERATURE', 'value': -1.74}], 'indexes': [{'name': 'AIRLY_CAQI', 'value': 66.15, 'level': 'MEDIUM', 'description': \"Well... It's been better.\", 'advice': 'Neither good nor bad. Think before leaving the house.', 'color': '#EFBB0F'}], 'standards': [{'name': 'WHO', 'pollutant': 'PM25', 'limit': 25.0, 'percent': 184.59, 'averaging': '24h'}, {'name': 'WHO', 'pollutant': 'PM10', 'limit': 50.0, 'percent': 118.93, 'averaging': '24h'}]}, {'fromDateTime': '2021-03-10T03:00:00.000Z', 'tillDateTime': '2021-03-10T04:00:00.000Z', 'values': [{'name': 'PM1', 'value': 34.97}, {'name': 'PM25', 'value': 51.78}, {'name': 'PM10', 'value': 67.63}, {'name': 'PRESSURE', 'value': 1019.19}, {'name': 'HUMIDITY', 'value': 83.5}, {'name': 'TEMPERATURE', 'value': -2.52}], 'indexes': [{'name': 'AIRLY_CAQI', 'value': 71.78, 'level': 'MEDIUM', 'description': \"Well... It's been better.\", 'advice': \"The air doesn't encourage walking today.\", 'color': '#EFBB0F'}], 'standards': [{'name': 'WHO', 'pollutant': 'PM25', 'limit': 25.0, 'percent': 207.11, 'averaging': '24h'}, {'name': 'WHO', 'pollutant': 'PM10', 'limit': 50.0, 'percent': 135.26, 'averaging': '24h'}]}, {'fromDateTime': '2021-03-10T04:00:00.000Z', 'tillDateTime': '2021-03-10T05:00:00.000Z', 'values': [{'name': 'PM1', 'value': 34.55}, {'name': 'PM25', 'value': 51.05}, {'name': 'PM10', 'value': 66.75}, {'name': 'PRESSURE', 'value': 1019.29}, {'name': 'HUMIDITY', 'value': 84.23}, {'name': 'TEMPERATURE', 'value': -2.66}], 'indexes': [{'name': 'AIRLY_CAQI', 'value': 71.05, 'level': 'MEDIUM', 'description': \"Well... It's been better.\", 'advice': 'Sadly, the air is not quite as clean as it looks today.', 'color': '#EFBB0F'}], 'standards': [{'name': 'WHO', 'pollutant': 'PM25', 'limit': 25.0, 'percent': 204.22, 'averaging': '24h'}, {'name': 'WHO', 'pollutant': 'PM10', 'limit': 50.0, 'percent': 133.5, 'averaging': '24h'}]}, {'fromDateTime': '2021-03-10T05:00:00.000Z', 'tillDateTime': '2021-03-10T06:00:00.000Z', 'values': [{'name': 'PM1', 'value': 34.3}, {'name': 'PM25', 'value': 50.75}, {'name': 'PM10', 'value': 66.08}, {'name': 'PRESSURE', 'value': 1019.52}, {'name': 'HUMIDITY', 'value': 84.97}, {'name': 'TEMPERATURE', 'value': -2.5}], 'indexes': [{'name': 'AIRLY_CAQI', 'value': 70.75, 'level': 'MEDIUM', 'description': \"Well... It's been better.\", 'advice': 'Try to stay with your family at home.', 'color': '#EFBB0F'}], 'standards': [{'name': 'WHO', 'pollutant': 'PM25', 'limit': 25.0, 'percent': 203.01, 'averaging': '24h'}, {'name': 'WHO', 'pollutant': 'PM10', 'limit': 50.0, 'percent': 132.15, 'averaging': '24h'}]}, {'fromDateTime': '2021-03-10T06:00:00.000Z', 'tillDateTime': '2021-03-10T07:00:00.000Z', 'values': [{'name': 'PM1', 'value': 36.98}, {'name': 'PM25', 'value': 54.38}, {'name': 'PM10', 'value': 70.75}, {'name': 'PRESSURE', 'value': 1019.91}, {'name': 'HUMIDITY', 'value': 82.13}, {'name': 'TEMPERATURE', 'value': -2.31}], 'indexes': [{'name': 'AIRLY_CAQI', 'value': 74.38, 'level': 'MEDIUM', 'description': \"Well... It's been better.\", 'advice': 'The air is slightly polluted.', 'color': '#EFBB0F'}], 'standards': [{'name': 'WHO', 'pollutant': 'PM25', 'limit': 25.0, 'percent': 217.53, 'averaging': '24h'}, {'name': 'WHO', 'pollutant': 'PM10', 'limit': 50.0, 'percent': 141.5, 'averaging': '24h'}]}, {'fromDateTime': '2021-03-10T07:00:00.000Z', 'tillDateTime': '2021-03-10T08:00:00.000Z', 'values': [{'name': 'PM1', 'value': 36.19}, {'name': 'PM25', 'value': 53.24}, {'name': 'PM10', 'value': 68.86}, {'name': 'PRESSURE', 'value': 1020.38}, {'name': 'HUMIDITY', 'value': 78.4}, {'name': 'TEMPERATURE', 'value': -1.38}], 'indexes': [{'name': 'AIRLY_CAQI', 'value': 73.24, 'level': 'MEDIUM', 'description': \"Well... It's been better.\", 'advice': \"The air doesn't encourage walking today.\", 'color': '#EFBB0F'}], 'standards': [{'name': 'WHO', 'pollutant': 'PM25', 'limit': 25.0, 'percent': 212.98, 'averaging': '24h'}, {'name': 'WHO', 'pollutant': 'PM10', 'limit': 50.0, 'percent': 137.71, 'averaging': '24h'}]}, {'fromDateTime': '2021-03-10T08:00:00.000Z', 'tillDateTime': '2021-03-10T09:00:00.000Z', 'values': [{'name': 'PM1', 'value': 23.75}, {'name': 'PM25', 'value': 35.09}, {'name': 'PM10', 'value': 44.41}, {'name': 'PRESSURE', 'value': 1020.52}, {'name': 'HUMIDITY', 'value': 73.96}, {'name': 'TEMPERATURE', 'value': 0.04}], 'indexes': [{'name': 'AIRLY_CAQI', 'value': 55.09, 'level': 'MEDIUM', 'description': \"Well... It's been better.\", 'advice': \"Something's hanging in the air. Take care!\", 'color': '#EFBB0F'}], 'standards': [{'name': 'WHO', 'pollutant': 'PM25', 'limit': 25.0, 'percent': 140.37, 'averaging': '24h'}, {'name': 'WHO', 'pollutant': 'PM10', 'limit': 50.0, 'percent': 88.81, 'averaging': '24h'}]}, {'fromDateTime': '2021-03-10T09:00:00.000Z', 'tillDateTime': '2021-03-10T10:00:00.000Z', 'values': [{'name': 'PM1', 'value': 12.15}, {'name': 'PM25', 'value': 17.52}, {'name': 'PM10', 'value': 20.31}, {'name': 'PRESSURE', 'value': 1020.36}, {'name': 'HUMIDITY', 'value': 65.8}, {'name': 'TEMPERATURE', 'value': 1.18}], 'indexes': [{'name': 'AIRLY_CAQI', 'value': 29.21, 'level': 'LOW', 'description': 'Air is quite good.', 'advice': \"Don't miss this day! The clean air calls!\", 'color': '#D1CF1E'}], 'standards': [{'name': 'WHO', 'pollutant': 'PM25', 'limit': 25.0, 'percent': 70.09, 'averaging': '24h'}, {'name': 'WHO', 'pollutant': 'PM10', 'limit': 50.0, 'percent': 40.63, 'averaging': '24h'}]}, {'fromDateTime': '2021-03-10T10:00:00.000Z', 'tillDateTime': '2021-03-10T11:00:00.000Z', 'values': [{'name': 'PM1', 'value': 11.49}, {'name': 'PM25', 'value': 16.37}, {'name': 'PM10', 'value': 19.19}, {'name': 'PRESSURE', 'value': 1020.34}, {'name': 'HUMIDITY', 'value': 61.63}, {'name': 'TEMPERATURE', 'value': 1.88}], 'indexes': [{'name': 'AIRLY_CAQI', 'value': 27.28, 'level': 'LOW', 'description': 'Air is quite good.', 'advice': 'Take a breath!', 'color': '#D1CF1E'}], 'standards': [{'name': 'WHO', 'pollutant': 'PM25', 'limit': 25.0, 'percent': 65.47, 'averaging': '24h'}, {'name': 'WHO', 'pollutant': 'PM10', 'limit': 50.0, 'percent': 38.37, 'averaging': '24h'}]}], 'forecast': [{'fromDateTime': '2021-03-10T11:00:00.000Z', 'tillDateTime': '2021-03-10T12:00:00.000Z', 'values': [{'name': 'PM25', 'value': 15.74}, {'name': 'PM10', 'value': 18.53}], 'indexes': [{'name': 'AIRLY_CAQI', 'value': 26.24, 'level': 'LOW', 'description': 'Air is quite good.', 'advice': 'The air quality is good today!', 'color': '#D1CF1E'}], 'standards': [{'name': 'WHO', 'pollutant': 'PM25', 'limit': 25.0, 'percent': 62.98, 'averaging': '24h'}, {'name': 'WHO', 'pollutant': 'PM10', 'limit': 50.0, 'percent': 37.06, 'averaging': '24h'}]}, {'fromDateTime': '2021-03-10T12:00:00.000Z', 'tillDateTime': '2021-03-10T13:00:00.000Z', 'values': [{'name': 'PM25', 'value': 18.16}, {'name': 'PM10', 'value': 19.96}], 'indexes': [{'name': 'AIRLY_CAQI', 'value': 30.26, 'level': 'LOW', 'description': 'Air is quite good.', 'advice': 'The air quality is good today!', 'color': '#D1CF1E'}], 'standards': [{'name': 'WHO', 'pollutant': 'PM25', 'limit': 25.0, 'percent': 72.63, 'averaging': '24h'}, {'name': 'WHO', 'pollutant': 'PM10', 'limit': 50.0, 'percent': 39.92, 'averaging': '24h'}]}, {'fromDateTime': '2021-03-10T13:00:00.000Z', 'tillDateTime': '2021-03-10T14:00:00.000Z', 'values': [{'name': 'PM25', 'value': 18.64}, {'name': 'PM10', 'value': 19.43}], 'indexes': [{'name': 'AIRLY_CAQI', 'value': 31.07, 'level': 'LOW', 'description': 'Air is quite good.', 'advice': \"Yes, yes - it's true. The air quality is good today!\", 'color': '#D1CF1E'}], 'standards': [{'name': 'WHO', 'pollutant': 'PM25', 'limit': 25.0, 'percent': 74.56, 'averaging': '24h'}, {'name': 'WHO', 'pollutant': 'PM10', 'limit': 50.0, 'percent': 38.86, 'averaging': '24h'}]}, {'fromDateTime': '2021-03-10T14:00:00.000Z', 'tillDateTime': '2021-03-10T15:00:00.000Z', 'values': [{'name': 'PM25', 'value': 19.35}, {'name': 'PM10', 'value': 20.51}], 'indexes': [{'name': 'AIRLY_CAQI', 'value': 32.26, 'level': 'LOW', 'description': 'Air is quite good.', 'advice': 'The air is nice and clean today!', 'color': '#D1CF1E'}], 'standards': [{'name': 'WHO', 'pollutant': 'PM25', 'limit': 25.0, 'percent': 77.42, 'averaging': '24h'}, {'name': 'WHO', 'pollutant': 'PM10', 'limit': 50.0, 'percent': 41.01, 'averaging': '24h'}]}, {'fromDateTime': '2021-03-10T15:00:00.000Z', 'tillDateTime': '2021-03-10T16:00:00.000Z', 'values': [{'name': 'PM25', 'value': 21.99}, {'name': 'PM10', 'value': 23.55}], 'indexes': [{'name': 'AIRLY_CAQI', 'value': 36.64, 'level': 'LOW', 'description': 'Air is quite good.', 'advice': \"Do you smell it? That's the smell of clean air. :)\", 'color': '#D1CF1E'}], 'standards': [{'name': 'WHO', 'pollutant': 'PM25', 'limit': 25.0, 'percent': 87.95, 'averaging': '24h'}, {'name': 'WHO', 'pollutant': 'PM10', 'limit': 50.0, 'percent': 47.11, 'averaging': '24h'}]}, {'fromDateTime': '2021-03-10T16:00:00.000Z', 'tillDateTime': '2021-03-10T17:00:00.000Z', 'values': [{'name': 'PM25', 'value': 25.18}, {'name': 'PM10', 'value': 32.91}], 'indexes': [{'name': 'AIRLY_CAQI', 'value': 41.97, 'level': 'LOW', 'description': 'Air is quite good.', 'advice': 'The air is nice and clean today!', 'color': '#D1CF1E'}], 'standards': [{'name': 'WHO', 'pollutant': 'PM25', 'limit': 25.0, 'percent': 100.73, 'averaging': '24h'}, {'name': 'WHO', 'pollutant': 'PM10', 'limit': 50.0, 'percent': 65.82, 'averaging': '24h'}]}, {'fromDateTime': '2021-03-10T17:00:00.000Z', 'tillDateTime': '2021-03-10T18:00:00.000Z', 'values': [{'name': 'PM25', 'value': 31.53}, {'name': 'PM10', 'value': 49.5}], 'indexes': [{'name': 'AIRLY_CAQI', 'value': 51.53, 'level': 'MEDIUM', 'description': \"Well... It's been better.\", 'advice': 'Try to stay with your family at home.', 'color': '#EFBB0F'}], 'standards': [{'name': 'WHO', 'pollutant': 'PM25', 'limit': 25.0, 'percent': 126.12, 'averaging': '24h'}, {'name': 'WHO', 'pollutant': 'PM10', 'limit': 50.0, 'percent': 99.01, 'averaging': '24h'}]}, {'fromDateTime': '2021-03-10T18:00:00.000Z', 'tillDateTime': '2021-03-10T19:00:00.000Z', 'values': [{'name': 'PM25', 'value': 41.06}, {'name': 'PM10', 'value': 67.83}], 'indexes': [{'name': 'AIRLY_CAQI', 'value': 61.14, 'level': 'MEDIUM', 'description': \"Well... It's been better.\", 'advice': 'Protect your lungs!', 'color': '#EFBB0F'}], 'standards': [{'name': 'WHO', 'pollutant': 'PM25', 'limit': 25.0, 'percent': 164.24, 'averaging': '24h'}, {'name': 'WHO', 'pollutant': 'PM10', 'limit': 50.0, 'percent': 135.66, 'averaging': '24h'}]}, {'fromDateTime': '2021-03-10T19:00:00.000Z', 'tillDateTime': '2021-03-10T20:00:00.000Z', 'values': [{'name': 'PM25', 'value': 50.68}, {'name': 'PM10', 'value': 81.69}], 'indexes': [{'name': 'AIRLY_CAQI', 'value': 70.68, 'level': 'MEDIUM', 'description': \"Well... It's been better.\", 'advice': 'Watch out - a few signs of smog today.', 'color': '#EFBB0F'}], 'standards': [{'name': 'WHO', 'pollutant': 'PM25', 'limit': 25.0, 'percent': 202.71, 'averaging': '24h'}, {'name': 'WHO', 'pollutant': 'PM10', 'limit': 50.0, 'percent': 163.39, 'averaging': '24h'}]}, {'fromDateTime': '2021-03-10T20:00:00.000Z', 'tillDateTime': '2021-03-10T21:00:00.000Z', 'values': [{'name': 'PM25', 'value': 56.93}, {'name': 'PM10', 'value': 94.43}], 'indexes': [{'name': 'AIRLY_CAQI', 'value': 76.23, 'level': 'HIGH', 'description': 'Poor air quality!', 'advice': 'Avoid being outside if possible.', 'color': '#EF7120'}], 'standards': [{'name': 'WHO', 'pollutant': 'PM25', 'limit': 25.0, 'percent': 227.74, 'averaging': '24h'}, {'name': 'WHO', 'pollutant': 'PM10', 'limit': 50.0, 'percent': 188.86, 'averaging': '24h'}]}, {'fromDateTime': '2021-03-10T21:00:00.000Z', 'tillDateTime': '2021-03-10T22:00:00.000Z', 'values': [{'name': 'PM25', 'value': 61.34}, {'name': 'PM10', 'value': 102.49}], 'indexes': [{'name': 'AIRLY_CAQI', 'value': 78.47, 'level': 'HIGH', 'description': 'Poor air quality!', 'advice': 'Keep your windows closed today!', 'color': '#EF7120'}], 'standards': [{'name': 'WHO', 'pollutant': 'PM25', 'limit': 25.0, 'percent': 245.37, 'averaging': '24h'}, {'name': 'WHO', 'pollutant': 'PM10', 'limit': 50.0, 'percent': 204.98, 'averaging': '24h'}]}, {'fromDateTime': '2021-03-10T22:00:00.000Z', 'tillDateTime': '2021-03-10T23:00:00.000Z', 'values': [{'name': 'PM25', 'value': 61.01}, {'name': 'PM10', 'value': 105.51}], 'indexes': [{'name': 'AIRLY_CAQI', 'value': 79.31, 'level': 'HIGH', 'description': 'Poor air quality!', 'advice': 'Careful! Dust is hanging over the city.', 'color': '#EF7120'}], 'standards': [{'name': 'WHO', 'pollutant': 'PM25', 'limit': 25.0, 'percent': 244.05, 'averaging': '24h'}, {'name': 'WHO', 'pollutant': 'PM10', 'limit': 50.0, 'percent': 211.03, 'averaging': '24h'}]}, {'fromDateTime': '2021-03-10T23:00:00.000Z', 'tillDateTime': '2021-03-11T00:00:00.000Z', 'values': [{'name': 'PM25', 'value': 58.93}, {'name': 'PM10', 'value': 107.14}], 'indexes': [{'name': 'AIRLY_CAQI', 'value': 79.76, 'level': 'HIGH', 'description': 'Poor air quality!', 'advice': \"Taking long walks on a day like today isn't advisable.\", 'color': '#EF7120'}], 'standards': [{'name': 'WHO', 'pollutant': 'PM25', 'limit': 25.0, 'percent': 235.73, 'averaging': '24h'}, {'name': 'WHO', 'pollutant': 'PM10', 'limit': 50.0, 'percent': 214.28, 'averaging': '24h'}]}, {'fromDateTime': '2021-03-11T00:00:00.000Z', 'tillDateTime': '2021-03-11T01:00:00.000Z', 'values': [{'name': 'PM25', 'value': 56.8}, {'name': 'PM10', 'value': 105.3}], 'indexes': [{'name': 'AIRLY_CAQI', 'value': 79.25, 'level': 'HIGH', 'description': 'Poor air quality!', 'advice': \"It's not good, oh no!\", 'color': '#EF7120'}], 'standards': [{'name': 'WHO', 'pollutant': 'PM25', 'limit': 25.0, 'percent': 227.19, 'averaging': '24h'}, {'name': 'WHO', 'pollutant': 'PM10', 'limit': 50.0, 'percent': 210.6, 'averaging': '24h'}]}, {'fromDateTime': '2021-03-11T01:00:00.000Z', 'tillDateTime': '2021-03-11T02:00:00.000Z', 'values': [{'name': 'PM25', 'value': 54.36}, {'name': 'PM10', 'value': 100.41}], 'indexes': [{'name': 'AIRLY_CAQI', 'value': 77.89, 'level': 'HIGH', 'description': 'Poor air quality!', 'advice': 'Dust particles are suspended in the air. Watch out!', 'color': '#EF7120'}], 'standards': [{'name': 'WHO', 'pollutant': 'PM25', 'limit': 25.0, 'percent': 217.43, 'averaging': '24h'}, {'name': 'WHO', 'pollutant': 'PM10', 'limit': 50.0, 'percent': 200.82, 'averaging': '24h'}]}, {'fromDateTime': '2021-03-11T02:00:00.000Z', 'tillDateTime': '2021-03-11T03:00:00.000Z', 'values': [{'name': 'PM25', 'value': 51.36}, {'name': 'PM10', 'value': 95.53}], 'indexes': [{'name': 'AIRLY_CAQI', 'value': 76.53, 'level': 'HIGH', 'description': 'Poor air quality!', 'advice': 'Dust particles are suspended in the air. Watch out!', 'color': '#EF7120'}], 'standards': [{'name': 'WHO', 'pollutant': 'PM25', 'limit': 25.0, 'percent': 205.46, 'averaging': '24h'}, {'name': 'WHO', 'pollutant': 'PM10', 'limit': 50.0, 'percent': 191.05, 'averaging': '24h'}]}, {'fromDateTime': '2021-03-11T03:00:00.000Z', 'tillDateTime': '2021-03-11T04:00:00.000Z', 'values': [{'name': 'PM25', 'value': 49.79}, {'name': 'PM10', 'value': 89.75}], 'indexes': [{'name': 'AIRLY_CAQI', 'value': 74.84, 'level': 'MEDIUM', 'description': \"Well... It's been better.\", 'advice': \"Things were good once... Let's hope it doesn't get worse!\", 'color': '#EFBB0F'}], 'standards': [{'name': 'WHO', 'pollutant': 'PM25', 'limit': 25.0, 'percent': 199.15, 'averaging': '24h'}, {'name': 'WHO', 'pollutant': 'PM10', 'limit': 50.0, 'percent': 179.5, 'averaging': '24h'}]}, {'fromDateTime': '2021-03-11T04:00:00.000Z', 'tillDateTime': '2021-03-11T05:00:00.000Z', 'values': [{'name': 'PM25', 'value': 48.71}, {'name': 'PM10', 'value': 87.43}], 'indexes': [{'name': 'AIRLY_CAQI', 'value': 73.39, 'level': 'MEDIUM', 'description': \"Well... It's been better.\", 'advice': 'Sadly, the air is not quite as clean as it looks today.', 'color': '#EFBB0F'}], 'standards': [{'name': 'WHO', 'pollutant': 'PM25', 'limit': 25.0, 'percent': 194.82, 'averaging': '24h'}, {'name': 'WHO', 'pollutant': 'PM10', 'limit': 50.0, 'percent': 174.86, 'averaging': '24h'}]}, {'fromDateTime': '2021-03-11T05:00:00.000Z', 'tillDateTime': '2021-03-11T06:00:00.000Z', 'values': [{'name': 'PM25', 'value': 48.81}, {'name': 'PM10', 'value': 87.41}], 'indexes': [{'name': 'AIRLY_CAQI', 'value': 73.38, 'level': 'MEDIUM', 'description': \"Well... It's been better.\", 'advice': \"It's better to limit your outside physical activity today.\", 'color': '#EFBB0F'}], 'standards': [{'name': 'WHO', 'pollutant': 'PM25', 'limit': 25.0, 'percent': 195.22, 'averaging': '24h'}, {'name': 'WHO', 'pollutant': 'PM10', 'limit': 50.0, 'percent': 174.82, 'averaging': '24h'}]}, {'fromDateTime': '2021-03-11T06:00:00.000Z', 'tillDateTime': '2021-03-11T07:00:00.000Z', 'values': [{'name': 'PM25', 'value': 48.19}, {'name': 'PM10', 'value': 83.04}], 'indexes': [{'name': 'AIRLY_CAQI', 'value': 70.65, 'level': 'MEDIUM', 'description': \"Well... It's been better.\", 'advice': 'The air is slightly polluted.', 'color': '#EFBB0F'}], 'standards': [{'name': 'WHO', 'pollutant': 'PM25', 'limit': 25.0, 'percent': 192.76, 'averaging': '24h'}, {'name': 'WHO', 'pollutant': 'PM10', 'limit': 50.0, 'percent': 166.09, 'averaging': '24h'}]}, {'fromDateTime': '2021-03-11T07:00:00.000Z', 'tillDateTime': '2021-03-11T08:00:00.000Z', 'values': [{'name': 'PM25', 'value': 43.74}, {'name': 'PM10', 'value': 72.82}], 'indexes': [{'name': 'AIRLY_CAQI', 'value': 64.27, 'level': 'MEDIUM', 'description': \"Well... It's been better.\", 'advice': 'Protect your lungs!', 'color': '#EFBB0F'}], 'standards': [{'name': 'WHO', 'pollutant': 'PM25', 'limit': 25.0, 'percent': 174.94, 'averaging': '24h'}, {'name': 'WHO', 'pollutant': 'PM10', 'limit': 50.0, 'percent': 145.65, 'averaging': '24h'}]}, {'fromDateTime': '2021-03-11T08:00:00.000Z', 'tillDateTime': '2021-03-11T09:00:00.000Z', 'values': [{'name': 'PM25', 'value': 34.18}, {'name': 'PM10', 'value': 57.89}], 'indexes': [{'name': 'AIRLY_CAQI', 'value': 54.93, 'level': 'MEDIUM', 'description': \"Well... It's been better.\", 'advice': 'The air is slightly polluted.', 'color': '#EFBB0F'}], 'standards': [{'name': 'WHO', 'pollutant': 'PM25', 'limit': 25.0, 'percent': 136.71, 'averaging': '24h'}, {'name': 'WHO', 'pollutant': 'PM10', 'limit': 50.0, 'percent': 115.79, 'averaging': '24h'}]}, {'fromDateTime': '2021-03-11T09:00:00.000Z', 'tillDateTime': '2021-03-11T10:00:00.000Z', 'values': [{'name': 'PM25', 'value': 24.07}, {'name': 'PM10', 'value': 43.2}], 'indexes': [{'name': 'AIRLY_CAQI', 'value': 43.2, 'level': 'LOW', 'description': 'Air is quite good.', 'advice': 'Take a deep breath. Today, you can. ;)', 'color': '#D1CF1E'}], 'standards': [{'name': 'WHO', 'pollutant': 'PM25', 'limit': 25.0, 'percent': 96.27, 'averaging': '24h'}, {'name': 'WHO', 'pollutant': 'PM10', 'limit': 50.0, 'percent': 86.4, 'averaging': '24h'}]}, {'fromDateTime': '2021-03-11T10:00:00.000Z', 'tillDateTime': '2021-03-11T11:00:00.000Z', 'values': [{'name': 'PM25', 'value': 18.42}, {'name': 'PM10', 'value': 33.07}], 'indexes': [{'name': 'AIRLY_CAQI', 'value': 33.07, 'level': 'LOW', 'description': 'Air is quite good.', 'advice': 'Take a breath!', 'color': '#D1CF1E'}], 'standards': [{'name': 'WHO', 'pollutant': 'PM25', 'limit': 25.0, 'percent': 73.69, 'averaging': '24h'}, {'name': 'WHO', 'pollutant': 'PM10', 'limit': 50.0, 'percent': 66.15, 'averaging': '24h'}]}]}\n"
     ]
    }
   ],
   "source": [
    "import urllib\n",
    "import json\n",
    "import requests\n",
    "\n",
    "# Praca z Airly\n",
    "\n",
    "apikey = 'xZTN60Vo93VwbDBtVKq5AmTUSaumkIJm'\n",
    "\n",
    "url = 'https://airapi.airly.eu/v2/measurements/installation?installationId=204'\n",
    "\n",
    "req = urllib.request.Request(url, headers={'apikey':apikey})\n",
    "resp = urllib.request.urlopen(req)\n",
    "content = resp.read()\n",
    "\n",
    "data = json.loads(content)\n",
    "print(data)"
   ]
  },
  {
   "cell_type": "code",
   "execution_count": 5,
   "metadata": {},
   "outputs": [],
   "source": [
    "apikey = 'xZTN60Vo93VwbDBtVKq5AmTUSaumkIJm'\n",
    "\n",
    "url = 'https://airapi.airly.eu/v2/measurements/nearest?lat=49.4705&lng=22.4602&maxDistanceKM=50'\n",
    "\n",
    "req = urllib.request.Request(url, headers={'apikey':apikey})\n",
    "resp = urllib.request.urlopen(req)\n",
    "content = resp.read()\n",
    "\n",
    "data = json.loads(content)\n",
    "\n",
    "currentParameters = data['current']['values']"
   ]
  },
  {
   "cell_type": "code",
   "execution_count": null,
   "metadata": {},
   "outputs": [],
   "source": [
    "lat = 49 + 47/60 + 5/3600\n",
    "lon = 22 + 46/60 + 2/3600\n",
    "\n",
    "url = 'https://airapi.airly.eu/v2/installations/nearest?lat={}&lng={}&maxDistanceKM=30&maxResults=10'\\\n",
    "    .format(str(lat), str(lon))\n",
    "    \n",
    "req = urllib.request.Request(url, headers={'apikey':apikey})\n",
    "resp = urllib.request.urlopen(req)\n",
    "content = resp.read()\n",
    "\n",
    "data = json.loads(content)\n",
    "print(data)\n",
    "\n",
    "for obj in data:\n",
    "    lan = obj['location']['latitude']\n",
    "    lon = obj['location']['longitude']\n",
    "    print(lan, lon)\n",
    "    url = 'https://airapi.airly.eu/v2/measurements/point?lat={}&lng={}'.format(str(lat), str(lon))\n",
    "    req = urllib.request.Request(url, headers={'apikey':apikey})\n",
    "    resp = urllib.request.urlopen(req)\n",
    "    content = resp.read()\n",
    "    data = json.loads(content)\n",
    "    print(data['current']['values'])\n",
    "    print(30*\"=\")"
   ]
  }
 ]
}