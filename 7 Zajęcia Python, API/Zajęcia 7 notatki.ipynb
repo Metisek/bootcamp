{
 "metadata": {
  "language_info": {
   "codemirror_mode": {
    "name": "ipython",
    "version": 3
   },
   "file_extension": ".py",
   "mimetype": "text/x-python",
   "name": "python",
   "nbconvert_exporter": "python",
   "pygments_lexer": "ipython3",
   "version": "3.7.10-final"
  },
  "orig_nbformat": 2,
  "kernelspec": {
   "name": "python3",
   "display_name": "Python 3.7.10 64-bit ('bootcamp': conda)",
   "metadata": {
    "interpreter": {
     "hash": "2fec4edc1429c0b0ab5d9b2e5c4f5e84226191a7c9385fb78ee37cfe586946c1"
    }
   }
  }
 },
 "nbformat": 4,
 "nbformat_minor": 2,
 "cells": [
  {
   "source": [
    "<h1> Zajecia 7 </h1>\n",
    "\n",
    "<h3> Należy dodatkowo zaznaczyć, że warto w przypadku Data Science, jak tutaj, korzystać ze Spydera zamiast Jupyter Laba czy VS code</h3>"
   ],
   "cell_type": "markdown",
   "metadata": {}
  },
  {
   "source": [
    "import urllib\n",
    "import json\n",
    "import requests\n",
    "\n",
    "airyAPI = 'xZTN60Vo93VwbDBtVKq5AmTUSaumkIJm' # Klucze znajduje się w pliku TXT"
   ],
   "cell_type": "markdown",
   "metadata": {}
  },
  {
   "source": [
    "<h2>Gdzie i jak szukać danych</h2>\n",
    "<p>- Blogi, artykuły, np. Get Bitcoin Price In Real Time Using Python | by randerson112358</p> \n",
    "<p>- Fora internetowe</p>\n",
    "<p>- Zwykłe wyszukiwanie w Google</p>\n",
    "<p>- Publikacje, projekty społecznościowe, np. Luftdaten</p>"
   ],
   "cell_type": "markdown",
   "metadata": {}
  },
  {
   "cell_type": "code",
   "execution_count": 2,
   "metadata": {},
   "outputs": [],
   "source": [
    "import urllib\n",
    "import json\n",
    "import requests\n",
    "airyAPI = '' "
   ]
  },
  {
   "source": [
    "<h1> Praca z Airly"
   ],
   "cell_type": "markdown",
   "metadata": {}
  },
  {
   "cell_type": "code",
   "execution_count": 13,
   "metadata": {
    "tags": []
   },
   "outputs": [
    {
     "output_type": "stream",
     "name": "stdout",
     "text": [
      "<class 'dict'>\n"
     ]
    }
   ],
   "source": [
    "# Praca z Airly, wyświetlanie danych z danej instalacji po ID\n",
    "\n",
    "apikey = airyAPI\n",
    "\n",
    "url = 'https://airapi.airly.eu/v2/measurements/installation?installationId=204'\n",
    "\n",
    "req = urllib.request.Request(url, headers={'apikey':apikey})\n",
    "resp = urllib.request.urlopen(req)\n",
    "content = resp.read()\n",
    "\n",
    "data = json.loads(content)\n",
    "print(type(data)) # Dane są w file explorerze ze względu na ich ilość"
   ]
  },
  {
   "cell_type": "code",
   "execution_count": 14,
   "metadata": {},
   "outputs": [
    {
     "output_type": "stream",
     "name": "stdout",
     "text": [
      "[{'name': 'PM1', 'value': 14.15}, {'name': 'PM25', 'value': 22.37}, {'name': 'PM10', 'value': 27.43}, {'name': 'PRESSURE', 'value': 1007.58}, {'name': 'HUMIDITY', 'value': 92.25}, {'name': 'TEMPERATURE', 'value': 3.2}]\n"
     ]
    }
   ],
   "source": [
    "# Wyświetlanie danych jednego, najbliższego czujnika w danym obszarze i wyświetlenie z niego danych.\n",
    "\n",
    "apikey = airyAPI\n",
    "\n",
    "url = 'https://airapi.airly.eu/v2/measurements/nearest?lat=49.4705&lng=22.4602&maxDistanceKM=50'\n",
    "\n",
    "req = urllib.request.Request(url, headers={'apikey':apikey})\n",
    "resp = urllib.request.urlopen(req)\n",
    "content = resp.read()\n",
    "\n",
    "data = json.loads(content)\n",
    "\n",
    "currentParameters = data['current']['values']\n",
    "print(currentParameters)"
   ]
  },
  {
   "cell_type": "code",
   "execution_count": 18,
   "metadata": {},
   "outputs": [
    {
     "output_type": "stream",
     "name": "stdout",
     "text": [
      "49.782899 22.769219\n",
      "[{'name': 'PM1', 'value': 28.36}, {'name': 'PM25', 'value': 46.09}, {'name': 'PM10', 'value': 57.52}, {'name': 'PRESSURE', 'value': 1008.25}, {'name': 'HUMIDITY', 'value': 77.44}, {'name': 'TEMPERATURE', 'value': 5.7}]\n",
      "==============================\n",
      "49.782108 22.764149\n",
      "[{'name': 'PM1', 'value': 41.74}, {'name': 'PM25', 'value': 69.37}, {'name': 'PM10', 'value': 86.85}, {'name': 'PRESSURE', 'value': 1008.2}, {'name': 'HUMIDITY', 'value': 79.88}, {'name': 'TEMPERATURE', 'value': 5.58}]\n",
      "==============================\n",
      "49.790092 22.764219\n",
      "[{'name': 'PM1', 'value': 41.59}, {'name': 'PM25', 'value': 69.11}, {'name': 'PM10', 'value': 86.52}, {'name': 'PRESSURE', 'value': 1008.2}, {'name': 'HUMIDITY', 'value': 79.85}, {'name': 'TEMPERATURE', 'value': 5.58}]\n",
      "==============================\n",
      "49.785359 22.777245\n",
      "[{'name': 'PM1', 'value': 21.0}, {'name': 'PM25', 'value': 34.16}, {'name': 'PM10', 'value': 42.99}, {'name': 'PRESSURE', 'value': 1008.4}, {'name': 'HUMIDITY', 'value': 65.57}, {'name': 'TEMPERATURE', 'value': 5.6}]\n",
      "==============================\n",
      "49.784339 22.756239\n",
      "[{'name': 'PM1', 'value': 48.27}, {'name': 'PM25', 'value': 80.59}, {'name': 'PM10', 'value': 100.98}, {'name': 'PRESSURE', 'value': 1008.16}, {'name': 'HUMIDITY', 'value': 81.65}, {'name': 'TEMPERATURE', 'value': 5.52}]\n",
      "==============================\n",
      "49.780142 22.777301\n",
      "[{'name': 'PM1', 'value': 20.99}, {'name': 'PM25', 'value': 34.14}, {'name': 'PM10', 'value': 42.97}, {'name': 'PRESSURE', 'value': 1008.4}, {'name': 'HUMIDITY', 'value': 65.57}, {'name': 'TEMPERATURE', 'value': 5.6}]\n",
      "==============================\n",
      "49.782506 22.784399\n",
      "[{'name': 'PM1', 'value': 21.41}, {'name': 'PM25', 'value': 34.24}, {'name': 'PM10', 'value': 42.54}, {'name': 'PRESSURE', 'value': 1008.15}, {'name': 'HUMIDITY', 'value': 73.46}, {'name': 'TEMPERATURE', 'value': 5.75}]\n",
      "==============================\n",
      "49.591738 22.627888\n",
      "50.012083 22.674772\n",
      "50.017176 22.681201\n"
     ]
    }
   ],
   "source": [
    "# Przykład podobny, pobranie danych z 10 czujników będących najbliżej Przemyśla i ich wyświetlenie (Należy pamiętać, że 3600 sekund = 60 minut = 1 stopień)\n",
    "\n",
    "lat = 49 + 47/60 + 5/3600\n",
    "lon = 22 + 46/60 + 2/3600\n",
    "\n",
    "# Część pobierająca dane O czujnikach\n",
    "\n",
    "url = 'https://airapi.airly.eu/v2/installations/nearest?lat={}&lng={}&maxDistanceKM=30&maxResults=10'\\\n",
    "    .format(str(lat), str(lon))\n",
    "\n",
    "apikey = airyAPI \n",
    "\n",
    "req = urllib.request.Request(url, headers={'apikey':apikey})\n",
    "resp = urllib.request.urlopen(req)\n",
    "content = resp.read()\n",
    "\n",
    "data = json.loads(content)\n",
    "\n",
    "# Część pobierająca i wysyłająca dane Z czujników\n",
    "\n",
    "for obj in data:\n",
    "    lan = obj['location']['latitude']\n",
    "    lon = obj['location']['longitude']\n",
    "    url = 'https://airapi.airly.eu/v2/measurements/point?lat={}&lng={}'.format(str(lat), str(lon))\n",
    "    req = urllib.request.Request(url, headers={'apikey':apikey})\n",
    "    resp = urllib.request.urlopen(req)\n",
    "    content = resp.read()\n",
    "    data = json.loads(content)\n",
    "    if len(data['current']['values']) >= 1:\n",
    "        print(lan, lon)\n",
    "        print(data['current']['values'])\n",
    "        print(30*\"=\")"
   ]
  },
  {
   "source": [
    "<h1> Praca z Luftdafen </h1>"
   ],
   "cell_type": "markdown",
   "metadata": {}
  },
  {
   "cell_type": "code",
   "execution_count": 26,
   "metadata": {
    "tags": []
   },
   "outputs": [
    {
     "output_type": "stream",
     "name": "stdout",
     "text": [
      "{'id': 4264059883, 'sampling_rate': None, 'timestamp': '2021-03-14 20:46:41', 'location': {'id': 31113, 'latitude': '49.92610239847', 'longitude': '22.70082771778', 'altitude': '216.3', 'country': 'PL', 'exact_location': 1, 'indoor': 0}, 'sensor': {'id': 45377, 'pin': '11', 'sensor_type': {'id': 17, 'name': 'BME280', 'manufacturer': 'Bosch'}}, 'sensordatavalues': [{'id': 9273663641, 'value': '7.31', 'value_type': 'temperature'}, {'id': 9273663643, 'value': '58.28', 'value_type': 'humidity'}, {'id': 9273663645, 'value': '98292.59', 'value_type': 'pressure'}, {'value': 100909.72, 'value_type': 'pressure_at_sealevel'}]}\n{'id': 4264059829, 'sampling_rate': None, 'timestamp': '2021-03-14 20:46:41', 'location': {'id': 31113, 'latitude': '49.92610239847', 'longitude': '22.70082771778', 'altitude': '216.3', 'country': 'PL', 'exact_location': 1, 'indoor': 0}, 'sensor': {'id': 45376, 'pin': '1', 'sensor_type': {'id': 14, 'name': 'SDS011', 'manufacturer': 'Nova Fitness'}}, 'sensordatavalues': [{'id': 9273663507, 'value': '16.32', 'value_type': 'P1'}, {'id': 9273663509, 'value': '11.45', 'value_type': 'P2'}]}\n{'id': 4264057102, 'sampling_rate': None, 'timestamp': '2021-03-14 20:46:28', 'location': {'id': 32089, 'latitude': '49.94899007253', 'longitude': '22.02867954969', 'altitude': '252.0', 'country': 'PL', 'exact_location': 1, 'indoor': 0}, 'sensor': {'id': 46386, 'pin': '19', 'sensor_type': {'id': 35, 'name': 'Radiation SBM-19', 'manufacturer': 'EcoCurious'}}, 'sensordatavalues': [{'id': 9273657461, 'value': '24', 'value_type': 'counts_per_minute'}]}\n{'id': 4264053803, 'sampling_rate': None, 'timestamp': '2021-03-14 20:46:08', 'location': {'id': 31113, 'latitude': '49.92610239847', 'longitude': '22.70082771778', 'altitude': '216.3', 'country': 'PL', 'exact_location': 1, 'indoor': 0}, 'sensor': {'id': 45377, 'pin': '11', 'sensor_type': {'id': 17, 'name': 'BME280', 'manufacturer': 'Bosch'}}, 'sensordatavalues': [{'id': 9273650133, 'value': '7.33', 'value_type': 'temperature'}, {'id': 9273650156, 'value': '58.29', 'value_type': 'humidity'}, {'id': 9273650165, 'value': '98285.41', 'value_type': 'pressure'}, {'value': 100902.16, 'value_type': 'pressure_at_sealevel'}]}\n{'id': 4264053657, 'sampling_rate': None, 'timestamp': '2021-03-14 20:46:07', 'location': {'id': 31113, 'latitude': '49.92610239847', 'longitude': '22.70082771778', 'altitude': '216.3', 'country': 'PL', 'exact_location': 1, 'indoor': 0}, 'sensor': {'id': 45376, 'pin': '1', 'sensor_type': {'id': 14, 'name': 'SDS011', 'manufacturer': 'Nova Fitness'}}, 'sensordatavalues': [{'id': 9273649831, 'value': '14.65', 'value_type': 'P1'}, {'id': 9273649840, 'value': '10.58', 'value_type': 'P2'}]}\n{'id': 4264052230, 'sampling_rate': None, 'timestamp': '2021-03-14 20:46:00', 'location': {'id': 42864, 'latitude': '49.84656196582', 'longitude': '22.76378452778', 'altitude': '230.9', 'country': 'PL', 'exact_location': 1, 'indoor': 0}, 'sensor': {'id': 56973, 'pin': '1', 'sensor_type': {'id': 14, 'name': 'SDS011', 'manufacturer': 'Nova Fitness'}}, 'sensordatavalues': [{'id': 9273646669, 'value': '18.73', 'value_type': 'P1'}, {'id': 9273646672, 'value': '10.15', 'value_type': 'P2'}]}\n{'id': 4264047409, 'sampling_rate': None, 'timestamp': '2021-03-14 20:45:34', 'location': {'id': 31113, 'latitude': '49.92610239847', 'longitude': '22.70082771778', 'altitude': '216.3', 'country': 'PL', 'exact_location': 1, 'indoor': 0}, 'sensor': {'id': 45377, 'pin': '11', 'sensor_type': {'id': 17, 'name': 'BME280', 'manufacturer': 'Bosch'}}, 'sensordatavalues': [{'id': 9273636102, 'value': '7.33', 'value_type': 'temperature'}, {'id': 9273636140, 'value': '58.32', 'value_type': 'humidity'}, {'id': 9273636150, 'value': '98287.53', 'value_type': 'pressure'}, {'value': 100904.33, 'value_type': 'pressure_at_sealevel'}]}\n{'id': 4264047318, 'sampling_rate': None, 'timestamp': '2021-03-14 20:45:34', 'location': {'id': 31113, 'latitude': '49.92610239847', 'longitude': '22.70082771778', 'altitude': '216.3', 'country': 'PL', 'exact_location': 1, 'indoor': 0}, 'sensor': {'id': 45376, 'pin': '1', 'sensor_type': {'id': 14, 'name': 'SDS011', 'manufacturer': 'Nova Fitness'}}, 'sensordatavalues': [{'id': 9273635859, 'value': '15.40', 'value_type': 'P1'}, {'id': 9273635870, 'value': '10.78', 'value_type': 'P2'}]}\n{'id': 4264046119, 'sampling_rate': None, 'timestamp': '2021-03-14 20:45:28', 'location': {'id': 32089, 'latitude': '49.94899007253', 'longitude': '22.02867954969', 'altitude': '252.0', 'country': 'PL', 'exact_location': 1, 'indoor': 0}, 'sensor': {'id': 46386, 'pin': '19', 'sensor_type': {'id': 35, 'name': 'Radiation SBM-19', 'manufacturer': 'EcoCurious'}}, 'sensordatavalues': [{'id': 9273633230, 'value': '20', 'value_type': 'counts_per_minute'}]}\n{'id': 4264044518, 'sampling_rate': None, 'timestamp': '2021-03-14 20:45:18', 'location': {'id': 30501, 'latitude': '50.01369959096', 'longitude': '22.01811701059', 'altitude': '205.2', 'country': 'PL', 'exact_location': 1, 'indoor': 1}, 'sensor': {'id': 40251, 'pin': '11', 'sensor_type': {'id': 17, 'name': 'BME280', 'manufacturer': 'Bosch'}}, 'sensordatavalues': [{'id': 9273629749, 'value': '4.94', 'value_type': 'temperature'}, {'id': 9273629751, 'value': '98450.75', 'value_type': 'pressure'}, {'id': 9273629752, 'value': '67.09', 'value_type': 'humidity'}, {'value': 100957.6, 'value_type': 'pressure_at_sealevel'}]}\n{'id': 4264044507, 'sampling_rate': None, 'timestamp': '2021-03-14 20:45:18', 'location': {'id': 30501, 'latitude': '50.01369959096', 'longitude': '22.01811701059', 'altitude': '205.2', 'country': 'PL', 'exact_location': 1, 'indoor': 1}, 'sensor': {'id': 40250, 'pin': '1', 'sensor_type': {'id': 14, 'name': 'SDS011', 'manufacturer': 'Nova Fitness'}}, 'sensordatavalues': [{'id': 9273629725, 'value': '15.30', 'value_type': 'P1'}, {'id': 9273629726, 'value': '8.55', 'value_type': 'P2'}]}\n{'id': 4264043138, 'sampling_rate': None, 'timestamp': '2021-03-14 20:45:12', 'location': {'id': 32088, 'latitude': '49.94902113907', 'longitude': '22.02868491411', 'altitude': '252.2', 'country': 'PL', 'exact_location': 1, 'indoor': 0}, 'sensor': {'id': 46384, 'pin': '2', 'sensor_type': {'id': 17, 'name': 'BME280', 'manufacturer': 'Bosch'}}, 'sensordatavalues': [{'id': 9273626720, 'value': '4.26', 'value_type': 'temperature'}, {'id': 9273626737, 'value': '82.1865', 'value_type': 'humidity'}, {'id': 9273626742, 'value': '100817.18', 'value_type': 'pressure'}, {'value': 103987.51, 'value_type': 'pressure_at_sealevel'}]}\n{'id': 4264041914, 'sampling_rate': None, 'timestamp': '2021-03-14 20:45:05', 'location': {'id': 32048, 'latitude': '49.902', 'longitude': '22.508', 'altitude': '244.4', 'country': 'PL', 'exact_location': 0, 'indoor': 0}, 'sensor': {'id': 37634, 'pin': '11', 'sensor_type': {'id': 17, 'name': 'BME280', 'manufacturer': 'Bosch'}}, 'sensordatavalues': [{'id': 9273623989, 'value': '4.86', 'value_type': 'temperature'}, {'id': 9273623992, 'value': '97887.09', 'value_type': 'pressure'}, {'id': 9273624017, 'value': '67.48', 'value_type': 'humidity'}, {'value': 100862.4, 'value_type': 'pressure_at_sealevel'}]}\n{'id': 4264041672, 'sampling_rate': None, 'timestamp': '2021-03-14 20:45:04', 'location': {'id': 32048, 'latitude': '49.902', 'longitude': '22.508', 'altitude': '244.4', 'country': 'PL', 'exact_location': 0, 'indoor': 0}, 'sensor': {'id': 37633, 'pin': '1', 'sensor_type': {'id': 14, 'name': 'SDS011', 'manufacturer': 'Nova Fitness'}}, 'sensordatavalues': [{'id': 9273623392, 'value': '20.83', 'value_type': 'P1'}, {'id': 9273623428, 'value': '10.67', 'value_type': 'P2'}]}\n{'id': 4264041032, 'sampling_rate': None, 'timestamp': '2021-03-14 20:45:01', 'location': {'id': 31113, 'latitude': '49.92610239847', 'longitude': '22.70082771778', 'altitude': '216.3', 'country': 'PL', 'exact_location': 1, 'indoor': 0}, 'sensor': {'id': 45377, 'pin': '11', 'sensor_type': {'id': 17, 'name': 'BME280', 'manufacturer': 'Bosch'}}, 'sensordatavalues': [{'id': 9273622062, 'value': '7.34', 'value_type': 'temperature'}, {'id': 9273622069, 'value': '58.40', 'value_type': 'humidity'}, {'id': 9273622071, 'value': '98288.31', 'value_type': 'pressure'}, {'value': 100905.04, 'value_type': 'pressure_at_sealevel'}]}\n{'id': 4264040954, 'sampling_rate': None, 'timestamp': '2021-03-14 20:45:00', 'location': {'id': 31113, 'latitude': '49.92610239847', 'longitude': '22.70082771778', 'altitude': '216.3', 'country': 'PL', 'exact_location': 1, 'indoor': 0}, 'sensor': {'id': 45376, 'pin': '1', 'sensor_type': {'id': 14, 'name': 'SDS011', 'manufacturer': 'Nova Fitness'}}, 'sensordatavalues': [{'id': 9273621868, 'value': '15.63', 'value_type': 'P1'}, {'id': 9273621870, 'value': '10.43', 'value_type': 'P2'}]}\n{'id': 4264036095, 'sampling_rate': None, 'timestamp': '2021-03-14 20:44:28', 'location': {'id': 32089, 'latitude': '49.94899007253', 'longitude': '22.02867954969', 'altitude': '252.0', 'country': 'PL', 'exact_location': 1, 'indoor': 0}, 'sensor': {'id': 46386, 'pin': '19', 'sensor_type': {'id': 35, 'name': 'Radiation SBM-19', 'manufacturer': 'EcoCurious'}}, 'sensordatavalues': [{'id': 9273611165, 'value': '13', 'value_type': 'counts_per_minute'}]}\n{'id': 4264036054, 'sampling_rate': None, 'timestamp': '2021-03-14 20:44:28', 'location': {'id': 31113, 'latitude': '49.92610239847', 'longitude': '22.70082771778', 'altitude': '216.3', 'country': 'PL', 'exact_location': 1, 'indoor': 0}, 'sensor': {'id': 45377, 'pin': '11', 'sensor_type': {'id': 17, 'name': 'BME280', 'manufacturer': 'Bosch'}}, 'sensordatavalues': [{'id': 9273611077, 'value': '7.35', 'value_type': 'temperature'}, {'id': 9273611078, 'value': '58.42', 'value_type': 'humidity'}, {'id': 9273611079, 'value': '98291.23', 'value_type': 'pressure'}, {'value': 100907.94, 'value_type': 'pressure_at_sealevel'}]}\n{'id': 4264036015, 'sampling_rate': None, 'timestamp': '2021-03-14 20:44:28', 'location': {'id': 31113, 'latitude': '49.92610239847', 'longitude': '22.70082771778', 'altitude': '216.3', 'country': 'PL', 'exact_location': 1, 'indoor': 0}, 'sensor': {'id': 45376, 'pin': '1', 'sensor_type': {'id': 14, 'name': 'SDS011', 'manufacturer': 'Nova Fitness'}}, 'sensordatavalues': [{'id': 9273610983, 'value': '16.42', 'value_type': 'P1'}, {'id': 9273610985, 'value': '10.88', 'value_type': 'P2'}]}\n{'id': 4264030023, 'sampling_rate': None, 'timestamp': '2021-03-14 20:43:56', 'location': {'id': 31113, 'latitude': '49.92610239847', 'longitude': '22.70082771778', 'altitude': '216.3', 'country': 'PL', 'exact_location': 1, 'indoor': 0}, 'sensor': {'id': 45377, 'pin': '11', 'sensor_type': {'id': 17, 'name': 'BME280', 'manufacturer': 'Bosch'}}, 'sensordatavalues': [{'id': 9273597750, 'value': '7.35', 'value_type': 'temperature'}, {'id': 9273597751, 'value': '58.44', 'value_type': 'humidity'}, {'id': 9273597752, 'value': '98292.54', 'value_type': 'pressure'}, {'value': 100909.29, 'value_type': 'pressure_at_sealevel'}]}\n{'id': 4264029975, 'sampling_rate': None, 'timestamp': '2021-03-14 20:43:55', 'location': {'id': 31113, 'latitude': '49.92610239847', 'longitude': '22.70082771778', 'altitude': '216.3', 'country': 'PL', 'exact_location': 1, 'indoor': 0}, 'sensor': {'id': 45376, 'pin': '1', 'sensor_type': {'id': 14, 'name': 'SDS011', 'manufacturer': 'Nova Fitness'}}, 'sensordatavalues': [{'id': 9273597646, 'value': '16.95', 'value_type': 'P1'}, {'id': 9273597647, 'value': '11.25', 'value_type': 'P2'}]}\n{'id': 4264025154, 'sampling_rate': None, 'timestamp': '2021-03-14 20:43:28', 'location': {'id': 32089, 'latitude': '49.94899007253', 'longitude': '22.02867954969', 'altitude': '252.0', 'country': 'PL', 'exact_location': 1, 'indoor': 0}, 'sensor': {'id': 46386, 'pin': '19', 'sensor_type': {'id': 35, 'name': 'Radiation SBM-19', 'manufacturer': 'EcoCurious'}}, 'sensordatavalues': [{'id': 9273586946, 'value': '17', 'value_type': 'counts_per_minute'}]}\n{'id': 4264025028, 'sampling_rate': None, 'timestamp': '2021-03-14 20:43:28', 'location': {'id': 42864, 'latitude': '49.84656196582', 'longitude': '22.76378452778', 'altitude': '230.9', 'country': 'PL', 'exact_location': 1, 'indoor': 0}, 'sensor': {'id': 56973, 'pin': '1', 'sensor_type': {'id': 14, 'name': 'SDS011', 'manufacturer': 'Nova Fitness'}}, 'sensordatavalues': [{'id': 9273586683, 'value': '21.60', 'value_type': 'P1'}, {'id': 9273586687, 'value': '10.35', 'value_type': 'P2'}]}\n{'id': 4264024323, 'sampling_rate': None, 'timestamp': '2021-03-14 20:43:23', 'location': {'id': 31113, 'latitude': '49.92610239847', 'longitude': '22.70082771778', 'altitude': '216.3', 'country': 'PL', 'exact_location': 1, 'indoor': 0}, 'sensor': {'id': 45377, 'pin': '11', 'sensor_type': {'id': 17, 'name': 'BME280', 'manufacturer': 'Bosch'}}, 'sensordatavalues': [{'id': 9273585116, 'value': '7.35', 'value_type': 'temperature'}, {'id': 9273585122, 'value': '58.47', 'value_type': 'humidity'}, {'id': 9273585128, 'value': '98293.36', 'value_type': 'pressure'}, {'value': 100910.13, 'value_type': 'pressure_at_sealevel'}]}\n{'id': 4264024258, 'sampling_rate': None, 'timestamp': '2021-03-14 20:43:23', 'location': {'id': 31113, 'latitude': '49.92610239847', 'longitude': '22.70082771778', 'altitude': '216.3', 'country': 'PL', 'exact_location': 1, 'indoor': 0}, 'sensor': {'id': 45376, 'pin': '1', 'sensor_type': {'id': 14, 'name': 'SDS011', 'manufacturer': 'Nova Fitness'}}, 'sensordatavalues': [{'id': 9273584978, 'value': '15.08', 'value_type': 'P1'}, {'id': 9273584979, 'value': '10.60', 'value_type': 'P2'}]}\n{'id': 4264023578, 'sampling_rate': None, 'timestamp': '2021-03-14 20:43:18', 'location': {'id': 30501, 'latitude': '50.01369959096', 'longitude': '22.01811701059', 'altitude': '205.2', 'country': 'PL', 'exact_location': 1, 'indoor': 1}, 'sensor': {'id': 40251, 'pin': '11', 'sensor_type': {'id': 17, 'name': 'BME280', 'manufacturer': 'Bosch'}}, 'sensordatavalues': [{'id': 9273583476, 'value': '5.26', 'value_type': 'temperature'}, {'id': 9273583477, 'value': '98440.38', 'value_type': 'pressure'}, {'id': 9273583478, 'value': '66.48', 'value_type': 'humidity'}, {'value': 100944.06, 'value_type': 'pressure_at_sealevel'}]}\n{'id': 4264023559, 'sampling_rate': None, 'timestamp': '2021-03-14 20:43:18', 'location': {'id': 30501, 'latitude': '50.01369959096', 'longitude': '22.01811701059', 'altitude': '205.2', 'country': 'PL', 'exact_location': 1, 'indoor': 1}, 'sensor': {'id': 40250, 'pin': '1', 'sensor_type': {'id': 14, 'name': 'SDS011', 'manufacturer': 'Nova Fitness'}}, 'sensordatavalues': [{'id': 9273583437, 'value': '15.02', 'value_type': 'P1'}, {'id': 9273583438, 'value': '7.82', 'value_type': 'P2'}]}\n{'id': 4264018125, 'sampling_rate': None, 'timestamp': '2021-03-14 20:42:50', 'location': {'id': 31113, 'latitude': '49.92610239847', 'longitude': '22.70082771778', 'altitude': '216.3', 'country': 'PL', 'exact_location': 1, 'indoor': 0}, 'sensor': {'id': 45377, 'pin': '11', 'sensor_type': {'id': 17, 'name': 'BME280', 'manufacturer': 'Bosch'}}, 'sensordatavalues': [{'id': 9273571484, 'value': '7.34', 'value_type': 'temperature'}, {'id': 9273571492, 'value': '58.51', 'value_type': 'humidity'}, {'id': 9273571504, 'value': '98287.81', 'value_type': 'pressure'}, {'value': 100904.53, 'value_type': 'pressure_at_sealevel'}]}\n{'id': 4264018040, 'sampling_rate': None, 'timestamp': '2021-03-14 20:42:50', 'location': {'id': 31113, 'latitude': '49.92610239847', 'longitude': '22.70082771778', 'altitude': '216.3', 'country': 'PL', 'exact_location': 1, 'indoor': 0}, 'sensor': {'id': 45376, 'pin': '1', 'sensor_type': {'id': 14, 'name': 'SDS011', 'manufacturer': 'Nova Fitness'}}, 'sensordatavalues': [{'id': 9273571303, 'value': '18.27', 'value_type': 'P1'}, {'id': 9273571306, 'value': '11.88', 'value_type': 'P2'}]}\n{'id': 4264015762, 'sampling_rate': None, 'timestamp': '2021-03-14 20:42:37', 'location': {'id': 32048, 'latitude': '49.902', 'longitude': '22.508', 'altitude': '244.4', 'country': 'PL', 'exact_location': 0, 'indoor': 0}, 'sensor': {'id': 37634, 'pin': '11', 'sensor_type': {'id': 17, 'name': 'BME280', 'manufacturer': 'Bosch'}}, 'sensordatavalues': [{'id': 9273566280, 'value': '4.89', 'value_type': 'temperature'}, {'id': 9273566282, 'value': '97890.44', 'value_type': 'pressure'}, {'id': 9273566284, 'value': '67.16', 'value_type': 'humidity'}, {'value': 100865.53, 'value_type': 'pressure_at_sealevel'}]}\n{'id': 4264015724, 'sampling_rate': None, 'timestamp': '2021-03-14 20:42:37', 'location': {'id': 32048, 'latitude': '49.902', 'longitude': '22.508', 'altitude': '244.4', 'country': 'PL', 'exact_location': 0, 'indoor': 0}, 'sensor': {'id': 37633, 'pin': '1', 'sensor_type': {'id': 14, 'name': 'SDS011', 'manufacturer': 'Nova Fitness'}}, 'sensordatavalues': [{'id': 9273566179, 'value': '22.83', 'value_type': 'P1'}, {'id': 9273566180, 'value': '12.57', 'value_type': 'P2'}]}\n{'id': 4264014070, 'sampling_rate': None, 'timestamp': '2021-03-14 20:42:30', 'location': {'id': 32089, 'latitude': '49.94899007253', 'longitude': '22.02867954969', 'altitude': '252.0', 'country': 'PL', 'exact_location': 1, 'indoor': 0}, 'sensor': {'id': 46385, 'pin': '1', 'sensor_type': {'id': 23, 'name': 'PMS5003', 'manufacturer': 'Plantower'}}, 'sensordatavalues': [{'id': 9273562586, 'value': '23', 'value_type': 'P1'}, {'id': 9273562596, 'value': '24', 'value_type': 'P2'}, {'id': 9273562619, 'value': '17', 'value_type': 'P0'}]}\n{'id': 4264013837, 'sampling_rate': None, 'timestamp': '2021-03-14 20:42:29', 'location': {'id': 32088, 'latitude': '49.94902113907', 'longitude': '22.02868491411', 'altitude': '252.2', 'country': 'PL', 'exact_location': 1, 'indoor': 0}, 'sensor': {'id': 46383, 'pin': '1', 'sensor_type': {'id': 14, 'name': 'SDS011', 'manufacturer': 'Nova Fitness'}}, 'sensordatavalues': [{'id': 9273562055, 'value': '8.6', 'value_type': 'P1'}, {'id': 9273562056, 'value': '14.01', 'value_type': 'P2'}]}\n{'id': 4264013722, 'sampling_rate': None, 'timestamp': '2021-03-14 20:42:28', 'location': {'id': 32089, 'latitude': '49.94899007253', 'longitude': '22.02867954969', 'altitude': '252.0', 'country': 'PL', 'exact_location': 1, 'indoor': 0}, 'sensor': {'id': 46386, 'pin': '19', 'sensor_type': {'id': 35, 'name': 'Radiation SBM-19', 'manufacturer': 'EcoCurious'}}, 'sensordatavalues': [{'id': 9273561809, 'value': '18', 'value_type': 'counts_per_minute'}]}\n{'id': 4264012462, 'sampling_rate': None, 'timestamp': '2021-03-14 20:42:18', 'location': {'id': 31113, 'latitude': '49.92610239847', 'longitude': '22.70082771778', 'altitude': '216.3', 'country': 'PL', 'exact_location': 1, 'indoor': 0}, 'sensor': {'id': 45377, 'pin': '11', 'sensor_type': {'id': 17, 'name': 'BME280', 'manufacturer': 'Bosch'}}, 'sensordatavalues': [{'id': 9273559013, 'value': '7.34', 'value_type': 'temperature'}, {'id': 9273559017, 'value': '58.54', 'value_type': 'humidity'}, {'id': 9273559018, 'value': '98290.91', 'value_type': 'pressure'}, {'value': 100907.71, 'value_type': 'pressure_at_sealevel'}]}\n{'id': 4264012425, 'sampling_rate': None, 'timestamp': '2021-03-14 20:42:17', 'location': {'id': 31113, 'latitude': '49.92610239847', 'longitude': '22.70082771778', 'altitude': '216.3', 'country': 'PL', 'exact_location': 1, 'indoor': 0}, 'sensor': {'id': 45376, 'pin': '1', 'sensor_type': {'id': 14, 'name': 'SDS011', 'manufacturer': 'Nova Fitness'}}, 'sensordatavalues': [{'id': 9273558931, 'value': '18.37', 'value_type': 'P1'}, {'id': 9273558932, 'value': '12.03', 'value_type': 'P2'}]}\n"
     ]
    }
   ],
   "source": [
    "#Filtrowanie czujni9ków z okolic Przemyśla\n",
    "\n",
    "url = 'http://api.luftdaten.info/static/v1/data.json'\n",
    "\n",
    "req = urllib.request.Request(url)\n",
    "resp = urllib.request.urlopen(req)\n",
    "content = resp.read()\n",
    "\n",
    "data = json.loads(content)\n",
    "\n",
    "sz2 = 50.041229\n",
    "dl1 = 21.9927\n",
    "sz1 = 49.8253\n",
    "dl2 = 22.8065\n",
    "\n",
    "lista = []\n",
    "\n",
    "for d in data:\n",
    "    try:\n",
    "        if sz1 <= float(d['location']['latitude']) <= sz2 and dl1 <= float(d['location']['longitude']) <= dl2 :\n",
    "            print(d)\n",
    "    except:\n",
    "        pass"
   ]
  },
  {
   "source": [
    "<h1> Praca z API USGS  </h1>"
   ],
   "cell_type": "markdown",
   "metadata": {}
  },
  {
   "cell_type": "code",
   "execution_count": 5,
   "metadata": {
    "tags": [
     "outputPrepend"
    ]
   },
   "outputs": [
    {
     "output_type": "stream",
     "name": "stdout",
     "text": [
      "de': '37319996', 'ids': ',ci37319996,', 'sources': ',ci,', 'types': ',nearby-cities,origin,phase-data,scitech-link,', 'nst': 21, 'dmin': 0.01548, 'rms': 0.34, 'gap': 58, 'magType': 'ml', 'type': 'earthquake', 'title': 'M 2.0 - 10km WNW of Calipatria, CA'}, 'geometry': {'type': 'Point', 'coordinates': [-115.6171667, 33.162, 3.08]}, 'id': 'ci37319996'}, {'type': 'Feature', 'properties': {'mag': 1.96, 'place': '12km WNW of Calipatria, CA', 'time': 1615902342260, 'updated': 1615931870630, 'tz': None, 'url': 'https://earthquake.usgs.gov/earthquakes/eventpage/ci39581471', 'detail': 'https://earthquake.usgs.gov/earthquakes/feed/v1.0/detail/ci39581471.geojson', 'felt': None, 'cdi': None, 'mmi': None, 'alert': None, 'status': 'reviewed', 'tsunami': 0, 'sig': 59, 'net': 'ci', 'code': '39581471', 'ids': ',ci39581471,', 'sources': ',ci,', 'types': ',focal-mechanism,nearby-cities,origin,phase-data,scitech-link,', 'nst': 50, 'dmin': 0.02379, 'rms': 0.2, 'gap': 31, 'magType': 'ml', 'type': 'earthquake', 'title': 'M 2.0 - 12km WNW of Calipatria, CA'}, 'geometry': {'type': 'Point', 'coordinates': [-115.6351667, 33.1601667, 5.12]}, 'id': 'ci39581471'}, {'type': 'Feature', 'properties': {'mag': 1.08, 'place': '10km WSW of Morongo Valley, CA', 'time': 1615902169560, 'updated': 1615929257922, 'tz': None, 'url': 'https://earthquake.usgs.gov/earthquakes/eventpage/ci39581463', 'detail': 'https://earthquake.usgs.gov/earthquakes/feed/v1.0/detail/ci39581463.geojson', 'felt': None, 'cdi': None, 'mmi': None, 'alert': None, 'status': 'reviewed', 'tsunami': 0, 'sig': 18, 'net': 'ci', 'code': '39581463', 'ids': ',ci39581463,', 'sources': ',ci,', 'types': ',nearby-cities,origin,phase-data,scitech-link,', 'nst': 23, 'dmin': 0.03732, 'rms': 0.07, 'gap': 128, 'magType': 'ml', 'type': 'earthquake', 'title': 'M 1.1 - 10km WSW of Morongo Valley, CA'}, 'geometry': {'type': 'Point', 'coordinates': [-116.6861667, 34.0188333, 11.81]}, 'id': 'ci39581463'}, {'type': 'Feature', 'properties': {'mag': 2.66, 'place': '12km WNW of Calipatria, CA', 'time': 1615901977090, 'updated': 1615929014326, 'tz': None, 'url': 'https://earthquake.usgs.gov/earthquakes/eventpage/ci37319988', 'detail': 'https://earthquake.usgs.gov/earthquakes/feed/v1.0/detail/ci37319988.geojson', 'felt': 2, 'cdi': 2.2, 'mmi': None, 'alert': None, 'status': 'reviewed', 'tsunami': 0, 'sig': 109, 'net': 'ci', 'code': '37319988', 'ids': ',ci37319988,', 'sources': ',ci,', 'types': ',dyfi,nearby-cities,origin,phase-data,scitech-link,', 'nst': 27, 'dmin': 0.01719, 'rms': 0.18, 'gap': 54, 'magType': 'ml', 'type': 'earthquake', 'title': 'M 2.7 - 12km WNW of Calipatria, CA'}, 'geometry': {'type': 'Point', 'coordinates': [-115.63, 33.1651667, 5.06]}, 'id': 'ci37319988'}, {'type': 'Feature', 'properties': {'mag': 2.55, 'place': '12km WNW of Calipatria, CA', 'time': 1615901969490, 'updated': 1615929020939, 'tz': None, 'url': 'https://earthquake.usgs.gov/earthquakes/eventpage/ci39581455', 'detail': 'https://earthquake.usgs.gov/earthquakes/feed/v1.0/detail/ci39581455.geojson', 'felt': 5, 'cdi': 2.9, 'mmi': None, 'alert': None, 'status': 'reviewed', 'tsunami': 0, 'sig': 101, 'net': 'ci', 'code': '39581455', 'ids': ',ci39581455,us7000djxd,', 'sources': ',ci,us,', 'types': ',dyfi,focal-mechanism,nearby-cities,origin,phase-data,scitech-link,', 'nst': 59, 'dmin': 0.0262, 'rms': 0.21, 'gap': 25, 'magType': 'ml', 'type': 'earthquake', 'title': 'M 2.6 - 12km WNW of Calipatria, CA'}, 'geometry': {'type': 'Point', 'coordinates': [-115.6361667, 33.1576667, 5.14]}, 'id': 'ci39581455'}, {'type': 'Feature', 'properties': {'mag': 1.9, 'place': '66 km E of Lovelock, Nevada', 'time': 1615901595078, 'updated': 1615948335314, 'tz': None, 'url': 'https://earthquake.usgs.gov/earthquakes/eventpage/nn00802707', 'detail': 'https://earthquake.usgs.gov/earthquakes/feed/v1.0/detail/nn00802707.geojson', 'felt': None, 'cdi': None, 'mmi': None, 'alert': None, 'status': 'reviewed', 'tsunami': 0, 'sig': 56, 'net': 'nn', 'code': '00802707', 'ids': ',nn00802707,', 'sources': ',nn,', 'types': ',origin,phase-data,', 'nst': 6, 'dmin': 0.509, 'rms': 0.1246, 'gap': 131.7, 'magType': 'ml', 'type': 'earthquake', 'title': 'M 1.9 - 66 km E of Lovelock, Nevada'}, 'geometry': {'type': 'Point', 'coordinates': [-117.7005, 40.0772, 12.1]}, 'id': 'nn00802707'}, {'type': 'Feature', 'properties': {'mag': 1.09, 'place': '27km ENE of Pine Valley, CA', 'time': 1615901455410, 'updated': 1615927157156, 'tz': None, 'url': 'https://earthquake.usgs.gov/earthquakes/eventpage/ci39581439', 'detail': 'https://earthquake.usgs.gov/earthquakes/feed/v1.0/detail/ci39581439.geojson', 'felt': None, 'cdi': None, 'mmi': None, 'alert': None, 'status': 'reviewed', 'tsunami': 0, 'sig': 18, 'net': 'ci', 'code': '39581439', 'ids': ',ci39581439,', 'sources': ',ci,', 'types': ',nearby-cities,origin,phase-data,scitech-link,', 'nst': 26, 'dmin': 0.04874, 'rms': 0.17, 'gap': 66, 'magType': 'ml', 'type': 'earthquake', 'title': 'M 1.1 - 27km ENE of Pine Valley, CA'}, 'geometry': {'type': 'Point', 'coordinates': [-116.2673333, 32.9163333, 11.22]}, 'id': 'ci39581439'}, {'type': 'Feature', 'properties': {'mag': 0.66, 'place': '13km WNW of Anza, CA', 'time': 1615900923770, 'updated': 1615902557734, 'tz': None, 'url': 'https://earthquake.usgs.gov/earthquakes/eventpage/ci39581431', 'detail': 'https://earthquake.usgs.gov/earthquakes/feed/v1.0/detail/ci39581431.geojson', 'felt': None, 'cdi': None, 'mmi': None, 'alert': None, 'status': 'reviewed', 'tsunami': 0, 'sig': 7, 'net': 'ci', 'code': '39581431', 'ids': ',ci39581431,', 'sources': ',ci,', 'types': ',nearby-cities,origin,phase-data,scitech-link,', 'nst': 21, 'dmin': 0.03791, 'rms': 0.2, 'gap': 71, 'magType': 'ml', 'type': 'earthquake', 'title': 'M 0.7 - 13km WNW of Anza, CA'}, 'geometry': {'type': 'Point', 'coordinates': [-116.8093333, 33.5971667, 6.68]}, 'id': 'ci39581431'}, {'type': 'Feature', 'properties': {'mag': 2.46, 'place': '13km WNW of Anza, CA', 'time': 1615900838830, 'updated': 1615927406360, 'tz': None, 'url': 'https://earthquake.usgs.gov/earthquakes/eventpage/ci39581423', 'detail': 'https://earthquake.usgs.gov/earthquakes/feed/v1.0/detail/ci39581423.geojson', 'felt': 4, 'cdi': 3.1, 'mmi': None, 'alert': None, 'status': 'reviewed', 'tsunami': 0, 'sig': 94, 'net': 'ci', 'code': '39581423', 'ids': ',ci39581423,', 'sources': ',ci,', 'types': ',dyfi,focal-mechanism,nearby-cities,origin,phase-data,scitech-link,', 'nst': 102, 'dmin': 0.04224, 'rms': 0.19, 'gap': 14, 'magType': 'ml', 'type': 'earthquake', 'title': 'M 2.5 - 13km WNW of Anza, CA'}, 'geometry': {'type': 'Point', 'coordinates': [-116.8131667, 33.5833333, 6.76]}, 'id': 'ci39581423'}, {'type': 'Feature', 'properties': {'mag': 1.47, 'place': '12km WNW of Calipatria, CA', 'time': 1615900806180, 'updated': 1615906291156, 'tz': None, 'url': 'https://earthquake.usgs.gov/earthquakes/eventpage/ci39581415', 'detail': 'https://earthquake.usgs.gov/earthquakes/feed/v1.0/detail/ci39581415.geojson', 'felt': None, 'cdi': None, 'mmi': None, 'alert': None, 'status': 'reviewed', 'tsunami': 0, 'sig': 33, 'net': 'ci', 'code': '39581415', 'ids': ',ci39581415,', 'sources': ',ci,', 'types': ',nearby-cities,origin,phase-data,scitech-link,', 'nst': 20, 'dmin': 0.0254, 'rms': 0.19, 'gap': 37, 'magType': 'ml', 'type': 'earthquake', 'title': 'M 1.5 - 12km WNW of Calipatria, CA'}, 'geometry': {'type': 'Point', 'coordinates': [-115.6336667, 33.157, 5.18]}, 'id': 'ci39581415'}, {'type': 'Feature', 'properties': {'mag': 0.11, 'place': '8km E of Mammoth Lakes, CA', 'time': 1615900577490, 'updated': 1615919647149, 'tz': None, 'url': 'https://earthquake.usgs.gov/earthquakes/eventpage/nc73535841', 'detail': 'https://earthquake.usgs.gov/earthquakes/feed/v1.0/detail/nc73535841.geojson', 'felt': None, 'cdi': None, 'mmi': None, 'alert': None, 'status': 'reviewed', 'tsunami': 0, 'sig': 0, 'net': 'nc', 'code': '73535841', 'ids': ',nc73535841,', 'sources': ',nc,', 'types': ',nearby-cities,origin,phase-data,scitech-link,', 'nst': 6, 'dmin': 0.02106, 'rms': 0.09, 'gap': 168, 'magType': 'md', 'type': 'earthquake', 'title': 'M 0.1 - 8km E of Mammoth Lakes, CA'}, 'geometry': {'type': 'Point', 'coordinates': [-118.8886667, 37.6241667, 5.01]}, 'id': 'nc73535841'}, {'type': 'Feature', 'properties': {'mag': 4.6, 'place': '145 km NE of Saga, China', 'time': 1615900568846, 'updated': 1615914202040, 'tz': None, 'url': 'https://earthquake.usgs.gov/earthquakes/eventpage/us7000djtf', 'detail': 'https://earthquake.usgs.gov/earthquakes/feed/v1.0/detail/us7000djtf.geojson', 'felt': None, 'cdi': None, 'mmi': None, 'alert': None, 'status': 'reviewed', 'tsunami': 0, 'sig': 326, 'net': 'us', 'code': '7000djtf', 'ids': ',us7000djtf,', 'sources': ',us,', 'types': ',origin,phase-data,', 'nst': None, 'dmin': 6.656, 'rms': 0.43, 'gap': 145, 'magType': 'mb', 'type': 'earthquake', 'title': 'M 4.6 - 145 km NE of Saga, China'}, 'geometry': {'type': 'Point', 'coordinates': [86.3879, 30.1556, 10]}, 'id': 'us7000djtf'}, {'type': 'Feature', 'properties': {'mag': 1.88999999, 'place': '3 km SE of Pāhala, Hawaii', 'time': 1615900476390, 'updated': 1615900672960, 'tz': None, 'url': 'https://earthquake.usgs.gov/earthquakes/eventpage/hv72385582', 'detail': 'https://earthquake.usgs.gov/earthquakes/feed/v1.0/detail/hv72385582.geojson', 'felt': None, 'cdi': None, 'mmi': None, 'alert': None, 'status': 'automatic', 'tsunami': 0, 'sig': 55, 'net': 'hv', 'code': '72385582', 'ids': ',hv72385582,', 'sources': ',hv,', 'types': ',origin,phase-data,', 'nst': 46, 'dmin': None, 'rms': 0.180000007, 'gap': 123, 'magType': 'md', 'type': 'earthquake', 'title': 'M 1.9 - 3 km SE of Pāhala, Hawaii'}, 'geometry': {'type': 'Point', 'coordinates': [-155.457000732422, 19.1763324737549, 34.7799987792969]}, 'id': 'hv72385582'}, {'type': 'Feature', 'properties': {'mag': 2, 'place': '40 km E of Pedro Bay, Alaska', 'time': 1615900450567, 'updated': 1615901019907, 'tz': None, 'url': 'https://earthquake.usgs.gov/earthquakes/eventpage/ak0213g94oqs', 'detail': 'https://earthquake.usgs.gov/earthquakes/feed/v1.0/detail/ak0213g94oqs.geojson', 'felt': None, 'cdi': None, 'mmi': None, 'alert': None, 'status': 'automatic', 'tsunami': 0, 'sig': 62, 'net': 'ak', 'code': '0213g94oqs', 'ids': ',us7000djrx,ak0213g94oqs,', 'sources': ',us,ak,', 'types': ',origin,phase-data,', 'nst': None, 'dmin': None, 'rms': 0.6, 'gap': None, 'magType': 'ml', 'type': 'earthquake', 'title': 'M 2.0 - 40 km E of Pedro Bay, Alaska'}, 'geometry': {'type': 'Point', 'coordinates': [-153.3898, 59.8494, 115.9]}, 'id': 'ak0213g94oqs'}, {'type': 'Feature', 'properties': {'mag': 1.87, 'place': '12km WNW of Calipatria, CA', 'time': 1615900223960, 'updated': 1615920345135, 'tz': None, 'url': 'https://earthquake.usgs.gov/earthquakes/eventpage/ci39581407', 'detail': 'https://earthquake.usgs.gov/earthquakes/feed/v1.0/detail/ci39581407.geojson', 'felt': None, 'cdi': None, 'mmi': None, 'alert': None, 'status': 'reviewed', 'tsunami': 0, 'sig': 54, 'net': 'ci', 'code': '39581407', 'ids': ',ci39581407,', 'sources': ',ci,', 'types': ',nearby-cities,origin,phase-data,scitech-link,', 'nst': 42, 'dmin': 0.02048, 'rms': 0.23, 'gap': 27, 'magType': 'ml', 'type': 'earthquake', 'title': 'M 1.9 - 12km WNW of Calipatria, CA'}, 'geometry': {'type': 'Point', 'coordinates': [-115.6363333, 33.1661667, 3.11]}, 'id': 'ci39581407'}, {'type': 'Feature', 'properties': {'mag': 1.6, 'place': '39 km SE of Mina, Nevada', 'time': 1615899939481, 'updated': 1615948330346, 'tz': None, 'url': 'https://earthquake.usgs.gov/earthquakes/eventpage/nn00802705', 'detail': 'https://earthquake.usgs.gov/earthquakes/feed/v1.0/detail/nn00802705.geojson', 'felt': None, 'cdi': None, 'mmi': None, 'alert': None, 'status': 'reviewed', 'tsunami': 0, 'sig': 39, 'net': 'nn', 'code': '00802705', 'ids': ',nn00802705,', 'sources': ',nn,', 'types': ',origin,phase-data,', 'nst': 22, 'dmin': 0.044, 'rms': 0.1311, 'gap': 109.43, 'magType': 'ml', 'type': 'earthquake', 'title': 'M 1.6 - 39 km SE of Mina, Nevada'}, 'geometry': {'type': 'Point', 'coordinates': [-117.7418, 38.1842, 10.6]}, 'id': 'nn00802705'}, {'type': 'Feature', 'properties': {'mag': 1.94, 'place': '12km WNW of Calipatria, CA', 'time': 1615899676700, 'updated': 1615905744102, 'tz': None, 'url': 'https://earthquake.usgs.gov/earthquakes/eventpage/ci39581399', 'detail': 'https://earthquake.usgs.gov/earthquakes/feed/v1.0/detail/ci39581399.geojson', 'felt': None, 'cdi': None, 'mmi': None, 'alert': None, 'status': 'reviewed', 'tsunami': 0, 'sig': 58, 'net': 'ci', 'code': '39581399', 'ids': ',ci39581399,', 'sources': ',ci,', 'types': ',nearby-cities,origin,phase-data,scitech-link,', 'nst': 37, 'dmin': 0.02046, 'rms': 0.22, 'gap': 28, 'magType': 'ml', 'type': 'earthquake', 'title': 'M 1.9 - 12km WNW of Calipatria, CA'}, 'geometry': {'type': 'Point', 'coordinates': [-115.6335, 33.1635, 4.43]}, 'id': 'ci39581399'}, {'type': 'Feature', 'properties': {'mag': 1.78, 'place': '14km SSW of Olancha, CA', 'time': 1615899630180, 'updated': 1615919737850, 'tz': None, 'url': 'https://earthquake.usgs.gov/earthquakes/eventpage/ci39581391', 'detail': 'https://earthquake.usgs.gov/earthquakes/feed/v1.0/detail/ci39581391.geojson', 'felt': None, 'cdi': None, 'mmi': None, 'alert': None, 'status': 'reviewed', 'tsunami': 0, 'sig': 49, 'net': 'ci', 'code': '39581391', 'ids': ',ci39581391,', 'sources': ',ci,', 'types': ',focal-mechanism,nearby-cities,origin,phase-data,scitech-link,', 'nst': 26, 'dmin': 0.1039, 'rms': 0.11, 'gap': 53, 'magType': 'ml', 'type': 'earthquake', 'title': 'M 1.8 - 14km SSW of Olancha, CA'}, 'geometry': {'type': 'Point', 'coordinates': [-118.0675, 36.1618333, 2.25]}, 'id': 'ci39581391'}, {'type': 'Feature', 'properties': {'mag': 1.2, 'place': '9 km N of Houston, Alaska', 'time': 1615899595806, 'updated': 1615899977448, 'tz': None, 'url': 'https://earthquake.usgs.gov/earthquakes/eventpage/ak0213g8szuk', 'detail': 'https://earthquake.usgs.gov/earthquakes/feed/v1.0/detail/ak0213g8szuk.geojson', 'felt': None, 'cdi': None, 'mmi': None, 'alert': None, 'status': 'automatic', 'tsunami': 0, 'sig': 22, 'net': 'ak', 'code': '0213g8szuk', 'ids': ',ak0213g8szuk,', 'sources': ',ak,', 'types': ',origin,', 'nst': None, 'dmin': None, 'rms': 0.49, 'gap': None, 'magType': 'ml', 'type': 'earthquake', 'title': 'M 1.2 - 9 km N of Houston, Alaska'}, 'geometry': {'type': 'Point', 'coordinates': [-149.8002, 61.7175, 41.2]}, 'id': 'ak0213g8szuk'}, {'type': 'Feature', 'properties': {'mag': 0.44, 'place': '22km ESE of Little Lake, CA', 'time': 1615899448850, 'updated': 1615915979686, 'tz': None, 'url': 'https://earthquake.usgs.gov/earthquakes/eventpage/ci39581383', 'detail': 'https://earthquake.usgs.gov/earthquakes/feed/v1.0/detail/ci39581383.geojson', 'felt': None, 'cdi': None, 'mmi': None, 'alert': None, 'status': 'reviewed', 'tsunami': 0, 'sig': 3, 'net': 'ci', 'code': '39581383', 'ids': ',ci39581383,', 'sources': ',ci,', 'types': ',nearby-cities,origin,phase-data,scitech-link,', 'nst': 9, 'dmin': 0.07305, 'rms': 0.06, 'gap': 84, 'magType': 'ml', 'type': 'earthquake', 'title': 'M 0.4 - 22km ESE of Little Lake, CA'}, 'geometry': {'type': 'Point', 'coordinates': [-117.6905, 35.8496667, 6.96]}, 'id': 'ci39581383'}, {'type': 'Feature', 'properties': {'mag': 1.2, 'place': '29 km SSE of Mina, Nevada', 'time': 1615899151920, 'updated': 1615918447307, 'tz': None, 'url': 'https://earthquake.usgs.gov/earthquakes/eventpage/nn00802699', 'detail': 'https://earthquake.usgs.gov/earthquakes/feed/v1.0/detail/nn00802699.geojson', 'felt': None, 'cdi': None, 'mmi': None, 'alert': None, 'status': 'reviewed', 'tsunami': 0, 'sig': 22, 'net': 'nn', 'code': '00802699', 'ids': ',nn00802699,', 'sources': ',nn,', 'types': ',origin,phase-data,', 'nst': 20, 'dmin': 0.015, 'rms': 0.1709, 'gap': 120.25, 'magType': 'ml', 'type': 'earthquake', 'title': 'M 1.2 - 29 km SSE of Mina, Nevada'}, 'geometry': {'type': 'Point', 'coordinates': [-117.9771, 38.1451, 11.4]}, 'id': 'nn00802699'}, {'type': 'Feature', 'properties': {'mag': 1.6, 'place': '55 km S of Whites City, New Mexico', 'time': 1615899036152, 'updated': 1615925845151, 'tz': None, 'url': 'https://earthquake.usgs.gov/earthquakes/eventpage/tx2021fger', 'detail': 'https://earthquake.usgs.gov/earthquakes/feed/v1.0/detail/tx2021fger.geojson', 'felt': None, 'cdi': None, 'mmi': None, 'alert': None, 'status': 'reviewed', 'tsunami': 0, 'sig': 39, 'net': 'tx', 'code': '2021fger', 'ids': ',tx2021fger,', 'sources': ',tx,', 'types': ',origin,phase-data,', 'nst': 11, 'dmin': 0.08071430036, 'rms': 0.3, 'gap': 69, 'magType': 'ml', 'type': 'earthquake', 'title': 'M 1.6 - 55 km S of Whites City, New Mexico'}, 'geometry': {'type': 'Point', 'coordinates': [-104.4061857, 31.67217452, 6.979931641]}, 'id': 'tx2021fger'}, {'type': 'Feature', 'properties': {'mag': 1.7, 'place': '7 km SE of Gardendale, Texas', 'time': 1615899021629, 'updated': 1615924471003, 'tz': None, 'url': 'https://earthquake.usgs.gov/earthquakes/eventpage/tx2021fgeq', 'detail': 'https://earthquake.usgs.gov/earthquakes/feed/v1.0/detail/tx2021fgeq.geojson', 'felt': None, 'cdi': None, 'mmi': None, 'alert': None, 'status': 'reviewed', 'tsunami': 0, 'sig': 44, 'net': 'tx', 'code': '2021fgeq', 'ids': ',tx2021fgeq,', 'sources': ',tx,', 'types': ',origin,phase-data,', 'nst': 17, 'dmin': 0.0225764645, 'rms': 0.2, 'gap': 65, 'magType': 'ml', 'type': 'earthquake', 'title': 'M 1.7 - 7 km SE of Gardendale, Texas'}, 'geometry': {'type': 'Point', 'coordinates': [-102.3186214, 31.97662354, 8.681437174]}, 'id': 'tx2021fgeq'}, {'type': 'Feature', 'properties': {'mag': 5, 'place': 'south of the Fiji Islands', 'time': 1615898898751, 'updated': 1615900626040, 'tz': None, 'url': 'https://earthquake.usgs.gov/earthquakes/eventpage/us7000djrn', 'detail': 'https://earthquake.usgs.gov/earthquakes/feed/v1.0/detail/us7000djrn.geojson', 'felt': None, 'cdi': None, 'mmi': None, 'alert': None, 'status': 'reviewed', 'tsunami': 0, 'sig': 385, 'net': 'us', 'code': '7000djrn', 'ids': ',us7000djrn,', 'sources': ',us,', 'types': ',origin,phase-data,', 'nst': None, 'dmin': 10.05, 'rms': 1.07, 'gap': 177, 'magType': 'mb', 'type': 'earthquake', 'title': 'M 5.0 - south of the Fiji Islands'}, 'geometry': {'type': 'Point', 'coordinates': [-176.9663, -26.7201, 10]}, 'id': 'us7000djrn'}, {'type': 'Feature', 'properties': {'mag': 1.98, 'place': '12km WNW of Calipatria, CA', 'time': 1615898012700, 'updated': 1615915431090, 'tz': None, 'url': 'https://earthquake.usgs.gov/earthquakes/eventpage/ci39581375', 'detail': 'https://earthquake.usgs.gov/earthquakes/feed/v1.0/detail/ci39581375.geojson', 'felt': None, 'cdi': None, 'mmi': None, 'alert': None, 'status': 'reviewed', 'tsunami': 0, 'sig': 60, 'net': 'ci', 'code': '39581375', 'ids': ',ci39581375,', 'sources': ',ci,', 'types': ',nearby-cities,origin,phase-data,scitech-link,', 'nst': 45, 'dmin': 0.02004, 'rms': 0.18, 'gap': 27, 'magType': 'ml', 'type': 'earthquake', 'title': 'M 2.0 - 12km WNW of Calipatria, CA'}, 'geometry': {'type': 'Point', 'coordinates': [-115.6348333, 33.1655, 3.84]}, 'id': 'ci39581375'}, {'type': 'Feature', 'properties': {'mag': 0.9, 'place': '6 km SW of Ninilchik, Alaska', 'time': 1615897835000, 'updated': 1615920196962, 'tz': None, 'url': 'https://earthquake.usgs.gov/earthquakes/eventpage/ak0213g8mpkt', 'detail': 'https://earthquake.usgs.gov/earthquakes/feed/v1.0/detail/ak0213g8mpkt.geojson', 'felt': None, 'cdi': None, 'mmi': None, 'alert': None, 'status': 'reviewed', 'tsunami': 0, 'sig': 12, 'net': 'ak', 'code': '0213g8mpkt', 'ids': ',ak0213g8mpkt,', 'sources': ',ak,', 'types': ',origin,phase-data,', 'nst': None, 'dmin': None, 'rms': 0.16, 'gap': None, 'magType': 'ml', 'type': 'earthquake', 'title': 'M 0.9 - 6 km SW of Ninilchik, Alaska'}, 'geometry': {'type': 'Point', 'coordinates': [-151.7601, 60.0145, 59.4]}, 'id': 'ak0213g8mpkt'}, {'type': 'Feature', 'properties': {'mag': 0.6, 'place': '41 km ENE of Adak, Alaska', 'time': 1615897695740, 'updated': 1615941353200, 'tz': None, 'url': 'https://earthquake.usgs.gov/earthquakes/eventpage/av91209156', 'detail': 'https://earthquake.usgs.gov/earthquakes/feed/v1.0/detail/av91209156.geojson', 'felt': None, 'cdi': None, 'mmi': None, 'alert': None, 'status': 'reviewed', 'tsunami': 0, 'sig': 6, 'net': 'av', 'code': '91209156', 'ids': ',av91209156,', 'sources': ',av,', 'types': ',origin,phase-data,', 'nst': 5, 'dmin': None, 'rms': 0.2, 'gap': 125, 'magType': 'ml', 'type': 'earthquake', 'title': 'M 0.6 - 41 km ENE of Adak, Alaska'}, 'geometry': {'type': 'Point', 'coordinates': [-176.123166666667, 52.0745, 5.95]}, 'id': 'av91209156'}, {'type': 'Feature', 'properties': {'mag': 0.86, 'place': '11km W of Round Valley, CA', 'time': 1615897129200, 'updated': 1615940586737, 'tz': None, 'url': 'https://earthquake.usgs.gov/earthquakes/eventpage/nc73535831', 'detail': 'https://earthquake.usgs.gov/earthquakes/feed/v1.0/detail/nc73535831.geojson', 'felt': None, 'cdi': None, 'mmi': None, 'alert': None, 'status': 'reviewed', 'tsunami': 0, 'sig': 11, 'net': 'nc', 'code': '73535831', 'ids': ',nc73535831,', 'sources': ',nc,', 'types': ',nearby-cities,origin,phase-data,scitech-link,', 'nst': 17, 'dmin': 0.1942, 'rms': 0.05, 'gap': 280, 'magType': 'md', 'type': 'earthquake', 'title': 'M 0.9 - 11km W of Round Valley, CA'}, 'geometry': {'type': 'Point', 'coordinates': [-118.7181667, 37.4166667, 8.26]}, 'id': 'nc73535831'}, {'type': 'Feature', 'properties': {'mag': 3.49, 'place': '58 km NW of Aguadilla, Puerto Rico', 'time': 1615896359640, 'updated': 1615898640545, 'tz': None, 'url': 'https://earthquake.usgs.gov/earthquakes/eventpage/pr2021075005', 'detail': 'https://earthquake.usgs.gov/earthquakes/feed/v1.0/detail/pr2021075005.geojson', 'felt': None, 'cdi': None, 'mmi': None, 'alert': None, 'status': 'reviewed', 'tsunami': 0, 'sig': 187, 'net': 'pr', 'code': '2021075005', 'ids': ',us7000djre,pr2021075005,', 'sources': ',us,pr,', 'types': ',origin,phase-data,', 'nst': 23, 'dmin': 0.4077, 'rms': 0.58, 'gap': 215, 'magType': 'md', 'type': 'earthquake', 'title': 'M 3.5 - 58 km NW of Aguadilla, Puerto Rico'}, 'geometry': {'type': 'Point', 'coordinates': [-67.5636, 18.7833, 7]}, 'id': 'pr2021075005'}, {'type': 'Feature', 'properties': {'mag': 1.35, 'place': '11 km NW of Riverside, Washington', 'time': 1615896160450, 'updated': 1615914871050, 'tz': None, 'url': 'https://earthquake.usgs.gov/earthquakes/eventpage/uw61718251', 'detail': 'https://earthquake.usgs.gov/earthquakes/feed/v1.0/detail/uw61718251.geojson', 'felt': None, 'cdi': None, 'mmi': None, 'alert': None, 'status': 'reviewed', 'tsunami': 0, 'sig': 28, 'net': 'uw', 'code': '61718251', 'ids': ',uw61718251,', 'sources': ',uw,', 'types': ',origin,phase-data,', 'nst': 13, 'dmin': 0.2857, 'rms': 0.21, 'gap': 132, 'magType': 'ml', 'type': 'earthquake', 'title': 'M 1.4 - 11 km NW of Riverside, Washington'}, 'geometry': {'type': 'Point', 'coordinates': [-119.594, 48.5851666666667, 0.37]}, 'id': 'uw61718251'}, {'type': 'Feature', 'properties': {'mag': 1.49, 'place': '8 km NNW of Georgetown, Idaho', 'time': 1615896140200, 'updated': 1615901847470, 'tz': None, 'url': 'https://earthquake.usgs.gov/earthquakes/eventpage/uu60429382', 'detail': 'https://earthquake.usgs.gov/earthquakes/feed/v1.0/detail/uu60429382.geojson', 'felt': None, 'cdi': None, 'mmi': None, 'alert': None, 'status': 'reviewed', 'tsunami': 0, 'sig': 34, 'net': 'uu', 'code': '60429382', 'ids': ',uu60429382,', 'sources': ',uu,', 'types': ',origin,phase-data,', 'nst': 15, 'dmin': 0.3123, 'rms': 0.17, 'gap': 92, 'magType': 'md', 'type': 'earthquake', 'title': 'M 1.5 - 8 km NNW of Georgetown, Idaho'}, 'geometry': {'type': 'Point', 'coordinates': [-111.4128333, 42.5545, 6.4]}, 'id': 'uu60429382'}, {'type': 'Feature', 'properties': {'mag': 0.94, 'place': '7km NW of The Geysers, CA', 'time': 1615895941190, 'updated': 1615896907075, 'tz': None, 'url': 'https://earthquake.usgs.gov/earthquakes/eventpage/nc73535826', 'detail': 'https://earthquake.usgs.gov/earthquakes/feed/v1.0/detail/nc73535826.geojson', 'felt': None, 'cdi': None, 'mmi': None, 'alert': None, 'status': 'automatic', 'tsunami': 0, 'sig': 14, 'net': 'nc', 'code': '73535826', 'ids': ',nc73535826,', 'sources': ',nc,', 'types': ',focal-mechanism,nearby-cities,origin,phase-data,scitech-link,', 'nst': 27, 'dmin': 0.007904, 'rms': 0.02, 'gap': 50, 'magType': 'md', 'type': 'earthquake', 'title': 'M 0.9 - 7km NW of The Geysers, CA'}, 'geometry': {'type': 'Point', 'coordinates': [-122.8216629, 38.814167, 2.87]}, 'id': 'nc73535826'}, {'type': 'Feature', 'properties': {'mag': 2.00999999, 'place': '5 km SE of Pāhala, Hawaii', 'time': 1615895011030, 'updated': 1615895200280, 'tz': None, 'url': 'https://earthquake.usgs.gov/earthquakes/eventpage/hv72385487', 'detail': 'https://earthquake.usgs.gov/earthquakes/feed/v1.0/detail/hv72385487.geojson', 'felt': None, 'cdi': None, 'mmi': None, 'alert': None, 'status': 'automatic', 'tsunami': 0, 'sig': 62, 'net': 'hv', 'code': '72385487', 'ids': ',hv72385487,', 'sources': ',hv,', 'types': ',origin,phase-data,', 'nst': 42, 'dmin': None, 'rms': 0.109999999, 'gap': 161, 'magType': 'md', 'type': 'earthquake', 'title': 'M 2.0 - 5 km SE of Pāhala, Hawaii'}, 'geometry': {'type': 'Point', 'coordinates': [-155.448837280273, 19.1636657714844, 37.4500007629395]}, 'id': 'hv72385487'}, {'type': 'Feature', 'properties': {'mag': 2.68, 'place': '17km SW of Toms Place, CA', 'time': 1615894963130, 'updated': 1615918148530, 'tz': None, 'url': 'https://earthquake.usgs.gov/earthquakes/eventpage/nc73535821', 'detail': 'https://earthquake.usgs.gov/earthquakes/feed/v1.0/detail/nc73535821.geojson', 'felt': 2, 'cdi': 2, 'mmi': None, 'alert': None, 'status': 'reviewed', 'tsunami': 0, 'sig': 111, 'net': 'nc', 'code': '73535821', 'ids': ',nc73535821,nn00802696,', 'sources': ',nc,nn,', 'types': ',dyfi,focal-mechanism,nearby-cities,origin,phase-data,scitech-link,', 'nst': 34, 'dmin': 0.1155, 'rms': 0.06, 'gap': 61, 'magType': 'md', 'type': 'earthquake', 'title': 'M 2.7 - 17km SW of Toms Place, CA'}, 'geometry': {'type': 'Point', 'coordinates': [-118.8426667, 37.4748333, 5.69]}, 'id': 'nc73535821'}, {'type': 'Feature', 'properties': {'mag': 2.27, 'place': '4 km ENE of Pāhala, Hawaii', 'time': 1615894620950, 'updated': 1615897087040, 'tz': None, 'url': 'https://earthquake.usgs.gov/earthquakes/eventpage/hv72385482', 'detail': 'https://earthquake.usgs.gov/earthquakes/feed/v1.0/detail/hv72385482.geojson', 'felt': None, 'cdi': None, 'mmi': None, 'alert': None, 'status': 'automatic', 'tsunami': 0, 'sig': 79, 'net': 'hv', 'code': '72385482', 'ids': ',us7000djr0,hv72385482,', 'sources': ',us,hv,', 'types': ',origin,phase-data,', 'nst': 49, 'dmin': None, 'rms': 0.109999999, 'gap': 131, 'magType': 'ml', 'type': 'earthquake', 'title': 'M 2.3 - 4 km ENE of Pāhala, Hawaii'}, 'geometry': {'type': 'Point', 'coordinates': [-155.432998657227, 19.2138328552246, 36.5900001525879]}, 'id': 'hv72385482'}, {'type': 'Feature', 'properties': {'mag': 0.1, 'place': '29 km NE of Amboy, Washington', 'time': 1615894128170, 'updated': 1615917153630, 'tz': None, 'url': 'https://earthquake.usgs.gov/earthquakes/eventpage/uw61718246', 'detail': 'https://earthquake.usgs.gov/earthquakes/feed/v1.0/detail/uw61718246.geojson', 'felt': None, 'cdi': None, 'mmi': None, 'alert': None, 'status': 'reviewed', 'tsunami': 0, 'sig': 0, 'net': 'uw', 'code': '61718246', 'ids': ',uw61718246,', 'sources': ',uw,', 'types': ',origin,phase-data,', 'nst': 10, 'dmin': 0.0746, 'rms': 0.21, 'gap': 130, 'magType': 'ml', 'type': 'earthquake', 'title': 'M 0.1 - 29 km NE of Amboy, Washington'}, 'geometry': {'type': 'Point', 'coordinates': [-122.160333333333, 46.0903333333333, 8.83]}, 'id': 'uw61718246'}, {'type': 'Feature', 'properties': {'mag': 1.3, 'place': '38 km E of Pedro Bay, Alaska', 'time': 1615893889795, 'updated': 1615894097135, 'tz': None, 'url': 'https://earthquake.usgs.gov/earthquakes/eventpage/ak0213g801pv', 'detail': 'https://earthquake.usgs.gov/earthquakes/feed/v1.0/detail/ak0213g801pv.geojson', 'felt': None, 'cdi': None, 'mmi': None, 'alert': None, 'status': 'automatic', 'tsunami': 0, 'sig': 26, 'net': 'ak', 'code': '0213g801pv', 'ids': ',ak0213g801pv,', 'sources': ',ak,', 'types': ',origin,', 'nst': None, 'dmin': None, 'rms': 0.28, 'gap': None, 'magType': 'ml', 'type': 'earthquake', 'title': 'M 1.3 - 38 km E of Pedro Bay, Alaska'}, 'geometry': {'type': 'Point', 'coordinates': [-153.4143, 59.7667, 111.6]}, 'id': 'ak0213g801pv'}, {'type': 'Feature', 'properties': {'mag': 1.6, 'place': '53 km NW of Toyah, Texas', 'time': 1615893546705, 'updated': 1615924117585, 'tz': None, 'url': 'https://earthquake.usgs.gov/earthquakes/eventpage/tx2021fgbq', 'detail': 'https://earthquake.usgs.gov/earthquakes/feed/v1.0/detail/tx2021fgbq.geojson', 'felt': None, 'cdi': None, 'mmi': None, 'alert': None, 'status': 'reviewed', 'tsunami': 0, 'sig': 39, 'net': 'tx', 'code': '2021fgbq', 'ids': ',tx2021fgbq,', 'sources': ',tx,', 'types': ',origin,phase-data,', 'nst': 14, 'dmin': 0.178997901, 'rms': 0.3, 'gap': 59, 'magType': 'ml', 'type': 'earthquake', 'title': 'M 1.6 - 53 km NW of Toyah, Texas'}, 'geometry': {'type': 'Point', 'coordinates': [-104.2537656, 31.58943759, 6.157275391]}, 'id': 'tx2021fgbq'}, {'type': 'Feature', 'properties': {'mag': 1.51, 'place': '23km ESE of Little Lake, CA', 'time': 1615893056360, 'updated': 1615893278441, 'tz': None, 'url': 'https://earthquake.usgs.gov/earthquakes/eventpage/ci39581319', 'detail': 'https://earthquake.usgs.gov/earthquakes/feed/v1.0/detail/ci39581319.geojson', 'felt': None, 'cdi': None, 'mmi': None, 'alert': None, 'status': 'automatic', 'tsunami': 0, 'sig': 35, 'net': 'ci', 'code': '39581319', 'ids': ',ci39581319,', 'sources': ',ci,', 'types': ',nearby-cities,origin,phase-data,scitech-link,', 'nst': 17, 'dmin': 0.07518, 'rms': 0.17, 'gap': 107, 'magType': 'ml', 'type': 'earthquake', 'title': 'M 1.5 - 23km ESE of Little Lake, CA'}, 'geometry': {'type': 'Point', 'coordinates': [-117.6773333, 35.8538333, 7.53]}, 'id': 'ci39581319'}, {'type': 'Feature', 'properties': {'mag': 0.37, 'place': '6km NW of Cobb, CA', 'time': 1615892996550, 'updated': 1615894387801, 'tz': None, 'url': 'https://earthquake.usgs.gov/earthquakes/eventpage/nc73535811', 'detail': 'https://earthquake.usgs.gov/earthquakes/feed/v1.0/detail/nc73535811.geojson', 'felt': None, 'cdi': None, 'mmi': None, 'alert': None, 'status': 'automatic', 'tsunami': 0, 'sig': 2, 'net': 'nc', 'code': '73535811', 'ids': ',nc73535811,', 'sources': ',nc,', 'types': ',nearby-cities,origin,phase-data,scitech-link,', 'nst': 7, 'dmin': 0.01374, 'rms': 0.01, 'gap': 212, 'magType': 'md', 'type': 'earthquake', 'title': 'M 0.4 - 6km NW of Cobb, CA'}, 'geometry': {'type': 'Point', 'coordinates': [-122.7798309, 38.8573341, 1.8]}, 'id': 'nc73535811'}, {'type': 'Feature', 'properties': {'mag': 1.78, 'place': '8km NE of Aguanga, CA', 'time': 1615892652860, 'updated': 1615893318900, 'tz': None, 'url': 'https://earthquake.usgs.gov/earthquakes/eventpage/ci39581311', 'detail': 'https://earthquake.usgs.gov/earthquakes/feed/v1.0/detail/ci39581311.geojson', 'felt': None, 'cdi': None, 'mmi': None, 'alert': None, 'status': 'automatic', 'tsunami': 0, 'sig': 49, 'net': 'ci', 'code': '39581311', 'ids': ',ci39581311,', 'sources': ',ci,', 'types': ',focal-mechanism,nearby-cities,origin,phase-data,scitech-link,', 'nst': 68, 'dmin': 0.0291, 'rms': 0.21, 'gap': 32, 'magType': 'ml', 'type': 'earthquake', 'title': 'M 1.8 - 8km NE of Aguanga, CA'}, 'geometry': {'type': 'Point', 'coordinates': [-116.7953333, 33.4835, 4.23]}, 'id': 'ci39581311'}, {'type': 'Feature', 'properties': {'mag': 1.73000002, 'place': '12 km ENE of Pāhala, Hawaii', 'time': 1615892437020, 'updated': 1615892627720, 'tz': None, 'url': 'https://earthquake.usgs.gov/earthquakes/eventpage/hv72385427', 'detail': 'https://earthquake.usgs.gov/earthquakes/feed/v1.0/detail/hv72385427.geojson', 'felt': None, 'cdi': None, 'mmi': None, 'alert': None, 'status': 'automatic', 'tsunami': 0, 'sig': 46, 'net': 'hv', 'code': '72385427', 'ids': ',hv72385427,', 'sources': ',hv,', 'types': ',origin,phase-data,', 'nst': 38, 'dmin': None, 'rms': 0.109999999, 'gap': 134, 'magType': 'md', 'type': 'earthquake', 'title': 'M 1.7 - 12 km ENE of Pāhala, Hawaii'}, 'geometry': {'type': 'Point', 'coordinates': [-155.381332397461, 19.2600002288818, 30.7199993133545]}, 'id': 'hv72385427'}, {'type': 'Feature', 'properties': {'mag': 1.8, 'place': '12km SE of Bodfish, CA', 'time': 1615891795410, 'updated': 1615892017312, 'tz': None, 'url': 'https://earthquake.usgs.gov/earthquakes/eventpage/ci39581303', 'detail': 'https://earthquake.usgs.gov/earthquakes/feed/v1.0/detail/ci39581303.geojson', 'felt': None, 'cdi': None, 'mmi': None, 'alert': None, 'status': 'automatic', 'tsunami': 0, 'sig': 50, 'net': 'ci', 'code': '39581303', 'ids': ',ci39581303,', 'sources': ',ci,', 'types': ',nearby-cities,origin,phase-data,scitech-link,', 'nst': 23, 'dmin': 0.1685, 'rms': 0.19, 'gap': 66, 'magType': 'ml', 'type': 'earthquake', 'title': 'M 1.8 - 12km SE of Bodfish, CA'}, 'geometry': {'type': 'Point', 'coordinates': [-118.4078333, 35.5028333, 2.28]}, 'id': 'ci39581303'}, {'type': 'Feature', 'properties': {'mag': 0.82, 'place': '10km NE of Aguanga, CA', 'time': 1615891671220, 'updated': 1615891897046, 'tz': None, 'url': 'https://earthquake.usgs.gov/earthquakes/eventpage/ci39581295', 'detail': 'https://earthquake.usgs.gov/earthquakes/feed/v1.0/detail/ci39581295.geojson', 'felt': None, 'cdi': None, 'mmi': None, 'alert': None, 'status': 'automatic', 'tsunami': 0, 'sig': 10, 'net': 'ci', 'code': '39581295', 'ids': ',ci39581295,', 'sources': ',ci,', 'types': ',nearby-cities,origin,phase-data,scitech-link,', 'nst': 25, 'dmin': 0.01893, 'rms': 0.15, 'gap': 45, 'magType': 'ml', 'type': 'earthquake', 'title': 'M 0.8 - 10km NE of Aguanga, CA'}, 'geometry': {'type': 'Point', 'coordinates': [-116.7831667, 33.5, 3.54]}, 'id': 'ci39581295'}, {'type': 'Feature', 'properties': {'mag': 1.2, 'place': '31 km SE of Mina, Nevada', 'time': 1615891661052, 'updated': 1615917512790, 'tz': None, 'url': 'https://earthquake.usgs.gov/earthquakes/eventpage/nn00802695', 'detail': 'https://earthquake.usgs.gov/earthquakes/feed/v1.0/detail/nn00802695.geojson', 'felt': None, 'cdi': None, 'mmi': None, 'alert': None, 'status': 'reviewed', 'tsunami': 0, 'sig': 22, 'net': 'nn', 'code': '00802695', 'ids': ',nn00802695,', 'sources': ',nn,', 'types': ',origin,phase-data,', 'nst': 12, 'dmin': 0.01, 'rms': 0.1051, 'gap': 99.49, 'magType': 'ml', 'type': 'earthquake', 'title': 'M 1.2 - 31 km SE of Mina, Nevada'}, 'geometry': {'type': 'Point', 'coordinates': [-117.882, 38.1674, 6.5]}, 'id': 'nn00802695'}, {'type': 'Feature', 'properties': {'mag': 1.7, 'place': '52 km WNW of Salamatof, Alaska', 'time': 1615891401158, 'updated': 1615891592899, 'tz': None, 'url': 'https://earthquake.usgs.gov/earthquakes/eventpage/ak0213g7ilad', 'detail': 'https://earthquake.usgs.gov/earthquakes/feed/v1.0/detail/ak0213g7ilad.geojson', 'felt': None, 'cdi': None, 'mmi': None, 'alert': None, 'status': 'automatic', 'tsunami': 0, 'sig': 44, 'net': 'ak', 'code': '0213g7ilad', 'ids': ',ak0213g7ilad,', 'sources': ',ak,', 'types': ',origin,', 'nst': None, 'dmin': None, 'rms': 0.96, 'gap': None, 'magType': 'ml', 'type': 'earthquake', 'title': 'M 1.7 - 52 km WNW of Salamatof, Alaska'}, 'geometry': {'type': 'Point', 'coordinates': [-152.2553, 60.7257, 82.8]}, 'id': 'ak0213g7ilad'}, {'type': 'Feature', 'properties': {'mag': 1.8, 'place': '31 km SE of Mina, Nevada', 'time': 1615891256593, 'updated': 1615913228921, 'tz': None, 'url': 'https://earthquake.usgs.gov/earthquakes/eventpage/nn00802692', 'detail': 'https://earthquake.usgs.gov/earthquakes/feed/v1.0/detail/nn00802692.geojson', 'felt': None, 'cdi': None, 'mmi': None, 'alert': None, 'status': 'reviewed', 'tsunami': 0, 'sig': 50, 'net': 'nn', 'code': '00802692', 'ids': ',nn00802692,', 'sources': ',nn,', 'types': ',origin,phase-data,', 'nst': 26, 'dmin': 0.021, 'rms': 0.1511, 'gap': 66.15, 'magType': 'ml', 'type': 'earthquake', 'title': 'M 1.8 - 31 km SE of Mina, Nevada'}, 'geometry': {'type': 'Point', 'coordinates': [-117.8988, 38.1568, 8.5]}, 'id': 'nn00802692'}, {'type': 'Feature', 'properties': {'mag': 2.12, 'place': '4km NNW of Pinnacles, CA', 'time': 1615890759040, 'updated': 1615898046181, 'tz': None, 'url': 'https://earthquake.usgs.gov/earthquakes/eventpage/nc73535786', 'detail': 'https://earthquake.usgs.gov/earthquakes/feed/v1.0/detail/nc73535786.geojson', 'felt': None, 'cdi': None, 'mmi': None, 'alert': None, 'status': 'automatic', 'tsunami': 0, 'sig': 69, 'net': 'nc', 'code': '73535786', 'ids': ',nc73535786,', 'sources': ',nc,', 'types': ',nearby-cities,origin,phase-data,scitech-link,', 'nst': 20, 'dmin': 0.09634, 'rms': 0.08, 'gap': 119, 'magType': 'md', 'type': 'earthquake', 'title': 'M 2.1 - 4km NNW of Pinnacles, CA'}, 'geometry': {'type': 'Point', 'coordinates': [-121.1586685, 36.5690002, 7.48]}, 'id': 'nc73535786'}, {'type': 'Feature', 'properties': {'mag': 3.51, 'place': '53 km SSE of Boca de Yuma, Dominican Republic', 'time': 1615890743730, 'updated': 1615892533690, 'tz': None, 'url': 'https://earthquake.usgs.gov/earthquakes/eventpage/pr2021075003', 'detail': 'https://earthquake.usgs.gov/earthquakes/feed/v1.0/detail/pr2021075003.geojson', 'felt': None, 'cdi': None, 'mmi': None, 'alert': None, 'status': 'reviewed', 'tsunami': 0, 'sig': 190, 'net': 'pr', 'code': '2021075003', 'ids': ',pr2021075003,', 'sources': ',pr,', 'types': ',origin,phase-data,', 'nst': 15, 'dmin': 0.5615, 'rms': 0.48, 'gap': 213, 'magType': 'md', 'type': 'earthquake', 'title': 'M 3.5 - 53 km SSE of Boca de Yuma, Dominican Republic'}, 'geometry': {'type': 'Point', 'coordinates': [-68.3716, 17.9525, 40]}, 'id': 'pr2021075003'}, {'type': 'Feature', 'properties': {'mag': 1.01, 'place': '36 km W of Adak, Alaska', 'time': 1615889922750, 'updated': 1615941006110, 'tz': None, 'url': 'https://earthquake.usgs.gov/earthquakes/eventpage/av91209121', 'detail': 'https://earthquake.usgs.gov/earthquakes/feed/v1.0/detail/av91209121.geojson', 'felt': None, 'cdi': None, 'mmi': None, 'alert': None, 'status': 'reviewed', 'tsunami': 0, 'sig': 16, 'net': 'av', 'code': '91209121', 'ids': ',av91209121,', 'sources': ',av,', 'types': ',origin,phase-data,', 'nst': 4, 'dmin': None, 'rms': 0.12, 'gap': 261, 'magType': 'ml', 'type': 'earthquake', 'title': 'M 1.0 - 36 km W of Adak, Alaska'}, 'geometry': {'type': 'Point', 'coordinates': [-177.155, 51.9075, 7.84]}, 'id': 'av91209121'}, {'type': 'Feature', 'properties': {'mag': 2.5, 'place': '12km SSW of Cantua Creek, CA', 'time': 1615889712450, 'updated': 1615897145094, 'tz': None, 'url': 'https://earthquake.usgs.gov/earthquakes/eventpage/nc73535771', 'detail': 'https://earthquake.usgs.gov/earthquakes/feed/v1.0/detail/nc73535771.geojson', 'felt': 2, 'cdi': 2, 'mmi': None, 'alert': None, 'status': 'automatic', 'tsunami': 0, 'sig': 97, 'net': 'nc', 'code': '73535771', 'ids': ',nc73535771,', 'sources': ',nc,', 'types': ',dyfi,focal-mechanism,nearby-cities,origin,phase-data,scitech-link,', 'nst': 48, 'dmin': 0.2348, 'rms': 0.31, 'gap': 52, 'magType': 'md', 'type': 'earthquake', 'title': 'M 2.5 - 12km SSW of Cantua Creek, CA'}, 'geometry': {'type': 'Point', 'coordinates': [-120.3919983, 36.4128342, 15.59]}, 'id': 'nc73535771'}, {'type': 'Feature', 'properties': {'mag': 0.46, 'place': '23 km ENE of Ashford, Washington', 'time': 1615889567510, 'updated': 1615916164030, 'tz': None, 'url': 'https://earthquake.usgs.gov/earthquakes/eventpage/uw61718241', 'detail': 'https://earthquake.usgs.gov/earthquakes/feed/v1.0/detail/uw61718241.geojson', 'felt': None, 'cdi': None, 'mmi': None, 'alert': None, 'status': 'reviewed', 'tsunami': 0, 'sig': 3, 'net': 'uw', 'code': '61718241', 'ids': ',uw61718241,', 'sources': ',uw,', 'types': ',origin,phase-data,', 'nst': 9, 'dmin': 0.01003, 'rms': 0.15, 'gap': 103, 'magType': 'ml', 'type': 'earthquake', 'title': 'M 0.5 - 23 km ENE of Ashford, Washington'}, 'geometry': {'type': 'Point', 'coordinates': [-121.743166666667, 46.8428333333333, -1.58]}, 'id': 'uw61718241'}], 'bbox': [-179.3472, -40.7195, -2.66, 163.3279, 79.508, 592.25]}\n"
     ]
    }
   ],
   "source": [
    "r = requests.get('https://earthquake.usgs.gov/earthquakes/feed/v1.0/summary/all_day.geojson')\n",
    "print(r.status_code)\n",
    "print(r.encoding)\n",
    "print(r.text)\n",
    "data = r.json()\n",
    "print(data)\n",
    "\n",
    "import functools\n",
    "\n",
    "@functools.lru_cache()\n",
    "def myRequest(url, myheaders=None):\n",
    "    if myheaders == None:\n",
    "        req = urllib.request.Request(url)\n",
    "        resp = urllib.request.urlopen(req)\n",
    "        content = resp.read()\n",
    "        return json.loads(content)\n",
    "    else:\n",
    "        req = urllib.request.Request(url, headers=myheaders)\n",
    "        resp = urllib.request.urlopen(req)\n",
    "        content = resp.read()\n",
    "        return json.loads(content)\n",
    "    \n",
    "data = myRequest('https://api.exchangeratesapi.io/2010-01-12')"
   ]
  },
  {
   "cell_type": "code",
   "execution_count": null,
   "metadata": {},
   "outputs": [],
   "source": [
    "url  = 'https://earthquake.usgs.gov/earthquakes/feed/v1.0/summary/all_day.geojson'\n",
    "\n",
    "req = urllib.request.Request(url)\n",
    "resp = urllib.request.urlopen(req)\n",
    "content = resp.read()\n",
    "\n",
    "data = json.loads(content)\n",
    "\n",
    "# * do zrobienia *\n",
    "\n",
    "\n",
    "# Praca z API USGS\n",
    "\n",
    "import functools\n",
    "\n",
    "\n",
    "@functools.lru_cache(maxsize=None)\n",
    "def kurs():\n",
    "    req = urllib.request.Request(url)\n",
    "    resp = urllib.request.urlopen(req)\n",
    "    content = resp.read()\n",
    "    data = json.loads(content)\n",
    "    return None\n",
    "\n",
    "kurs()\n",
    "print(data['rates'].keys())\n",
    "\n",
    "for i in data['rates'].keys():\n",
    "    print(\"1 EUR to\", data['rates'].get(i), i)"
   ]
  },
  {
   "source": [
    "<h2> Wysyłanie maili </h2>"
   ],
   "cell_type": "markdown",
   "metadata": {}
  },
  {
   "cell_type": "code",
   "execution_count": null,
   "metadata": {},
   "outputs": [],
   "source": [
    "import smtplib\n",
    "\n",
    "MailFrom = 'Uczestnik Bootcampu'\n",
    "MailTo = 'matboj5@gmail.com'\n",
    "MailSubject = 'TEST TEST TEST'\n",
    "\n",
    "MailBody =\\\n",
    "    '''Czesc\n",
    "    \n",
    "    przesylam probnego maila.'''\n",
    "    \n",
    "message = '''From: {}\n",
    "    Subject: {}\n",
    "    \n",
    "    {}'''.format(MailFrom, MailSubject, MailBody)\n",
    "    \n",
    "user = 'matboj10@gmail.com'\n",
    "password = input(\"Podaj hasło: \")\n",
    "server = smtplib.SMTP_SSL('smtp.gmail.com', 465)\n",
    "server.ehlo()\n",
    "server.login(user, password)\n",
    "server.sendmail(user, MailTo, message)\n",
    "server.close()\n",
    "\n",
    "print(\"Podano maila pomylnie\")"
   ]
  },
  {
   "source": [
    "<h3> Pobieranie stron internetowych </h3>"
   ],
   "cell_type": "markdown",
   "metadata": {}
  },
  {
   "cell_type": "code",
   "execution_count": null,
   "metadata": {},
   "outputs": [],
   "source": [
    "def pobierzStroneWWW(url, directory, fileName):\n",
    "    import os\n",
    "    \n",
    "    print(\"Rozpoczęto proces pobierania strony\")\n",
    "    \n",
    "    r = requests.get(url, stream = True)\n",
    "    file_path = os.path.join(directory, fileName)\n",
    "    with open(file_path, 'wb') as f:\n",
    "        f.write(r.content)\n",
    "        \n",
    "pobierzStroneWWW(r'https://www.programcreek.com/python/example/6443/smtplib.SMTP_SSL',\n",
    "                 r'C:\\Users\\User\\Projekty\\bootcamp\\7 Zajęcia Python, API\\',\n",
    "                 'index.html')"
   ]
  },
  {
   "source": [
    "<h1> Biblioteka Shapely </h1>"
   ],
   "cell_type": "markdown",
   "metadata": {}
  },
  {
   "cell_type": "code",
   "execution_count": 1,
   "metadata": {},
   "outputs": [
    {
     "output_type": "stream",
     "name": "stdout",
     "text": [
      "False\narray('d', [24.0, 22.0, 20.0, 24.0])\narray('d', [25.0, 21.0, 23.0, 25.0])\n6.0\n1.0\n18.5\nTrue\n"
     ]
    }
   ],
   "source": [
    "from shapely.geometry import Point, Polygon\n",
    "import matplotlib.pyplot as plt\n",
    "\n",
    "p1 = Point(24, 60)\n",
    "p2 = Point(25, 65)\n",
    "\n",
    "coords = [(24,25), (22,21), (20,23)]\n",
    "Poligon = Polygon(coords)\n",
    "\n",
    "print(p1.within(Poligon))\n",
    "\n",
    "x,y = Poligon.exterior.xy\n",
    "print(x)\n",
    "print(y)\n",
    "\n",
    "print(Poligon.area)\n",
    "\n",
    "\n",
    "cords2 = [(0, 0), (1,0), (1,1), (0,1)]\n",
    "kwadrat = Polygon(cords2)\n",
    "\n",
    "print(kwadrat.area)\n",
    "\n",
    "cords3 = [(-1,0), (0,2), (2,5), (5, -2)]\n",
    "trojkat = Polygon(cords3)\n",
    "\n",
    "print(trojkat.area)\n",
    "\n",
    "print(trojkat.intersects(kwadrat))"
   ]
  },
  {
   "cell_type": "code",
   "execution_count": null,
   "metadata": {},
   "outputs": [],
   "source": []
  }
 ]
}