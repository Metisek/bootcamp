{
 "metadata": {
  "language_info": {
   "codemirror_mode": {
    "name": "ipython",
    "version": 3
   },
   "file_extension": ".py",
   "mimetype": "text/x-python",
   "name": "python",
   "nbconvert_exporter": "python",
   "pygments_lexer": "ipython3",
   "version": "3.7.10-final"
  },
  "orig_nbformat": 2,
  "kernelspec": {
   "name": "python3",
   "display_name": "Python 3.7.10 64-bit ('bootcamp': conda)",
   "metadata": {
    "interpreter": {
     "hash": "2fec4edc1429c0b0ab5d9b2e5c4f5e84226191a7c9385fb78ee37cfe586946c1"
    }
   }
  }
 },
 "nbformat": 4,
 "nbformat_minor": 2,
 "cells": [
  {
   "source": [
    "<h1> Zajecia 7 </h1>\n",
    "\n",
    "<h3> Należy dodatkowo zaznaczyć, że warto w przypadku Data Science, jak tutaj, korzystać ze Spydera zamiast Jupyter Laba czy VS code</h3>"
   ],
   "cell_type": "markdown",
   "metadata": {}
  },
  {
   "source": [
    "import urllib\n",
    "import json\n",
    "import requests\n",
    "\n",
    "airyAPI = 'xZTN60Vo93VwbDBtVKq5AmTUSaumkIJm' # Klucze znajduje się w pliku TXT"
   ],
   "cell_type": "markdown",
   "metadata": {}
  },
  {
   "cell_type": "code",
   "execution_count": 10,
   "metadata": {},
   "outputs": [],
   "source": [
    "<h2>Gdzie i jak szukać danych</h2>\n",
    "<p>- Blogi, artykuły, np. Get Bitcoin Price In Real Time Using Python | by randerson112358</p> \n",
    "<p>- Fora internetowe</p>\n",
    "<p>- Zwykłe wyszukiwanie w Google</p>\n",
    "<p>- Publikacje, projekty społecznościowe, np. Luftdaten</p>"
   ]
  },
  {
   "source": [
    "<h1> Praca z Airly"
   ],
   "cell_type": "markdown",
   "metadata": {}
  },
  {
   "cell_type": "code",
   "execution_count": 13,
   "metadata": {
    "tags": []
   },
   "outputs": [
    {
     "output_type": "stream",
     "name": "stdout",
     "text": [
      "<class 'dict'>\n"
     ]
    }
   ],
   "source": [
    "# Praca z Airly, wyświetlanie danych z danej instalacji po ID\n",
    "\n",
    "apikey = airyAPI\n",
    "\n",
    "url = 'https://airapi.airly.eu/v2/measurements/installation?installationId=204'\n",
    "\n",
    "req = urllib.request.Request(url, headers={'apikey':apikey})\n",
    "resp = urllib.request.urlopen(req)\n",
    "content = resp.read()\n",
    "\n",
    "data = json.loads(content)\n",
    "print(type(data)) # Dane są w file explorerze ze względu na ich ilość"
   ]
  },
  {
   "cell_type": "code",
   "execution_count": 14,
   "metadata": {},
   "outputs": [
    {
     "output_type": "stream",
     "name": "stdout",
     "text": [
      "[{'name': 'PM1', 'value': 14.15}, {'name': 'PM25', 'value': 22.37}, {'name': 'PM10', 'value': 27.43}, {'name': 'PRESSURE', 'value': 1007.58}, {'name': 'HUMIDITY', 'value': 92.25}, {'name': 'TEMPERATURE', 'value': 3.2}]\n"
     ]
    }
   ],
   "source": [
    "# Wyświetlanie danych jednego, najbliższego czujnika w danym obszarze i wyświetlenie z niego danych.\n",
    "\n",
    "apikey = airyAPI\n",
    "\n",
    "url = 'https://airapi.airly.eu/v2/measurements/nearest?lat=49.4705&lng=22.4602&maxDistanceKM=50'\n",
    "\n",
    "req = urllib.request.Request(url, headers={'apikey':apikey})\n",
    "resp = urllib.request.urlopen(req)\n",
    "content = resp.read()\n",
    "\n",
    "data = json.loads(content)\n",
    "\n",
    "currentParameters = data['current']['values']\n",
    "print(currentParameters)"
   ]
  },
  {
   "cell_type": "code",
   "execution_count": 18,
   "metadata": {},
   "outputs": [
    {
     "output_type": "stream",
     "name": "stdout",
     "text": [
      "49.782899 22.769219\n",
      "[{'name': 'PM1', 'value': 28.36}, {'name': 'PM25', 'value': 46.09}, {'name': 'PM10', 'value': 57.52}, {'name': 'PRESSURE', 'value': 1008.25}, {'name': 'HUMIDITY', 'value': 77.44}, {'name': 'TEMPERATURE', 'value': 5.7}]\n",
      "==============================\n",
      "49.782108 22.764149\n",
      "[{'name': 'PM1', 'value': 41.74}, {'name': 'PM25', 'value': 69.37}, {'name': 'PM10', 'value': 86.85}, {'name': 'PRESSURE', 'value': 1008.2}, {'name': 'HUMIDITY', 'value': 79.88}, {'name': 'TEMPERATURE', 'value': 5.58}]\n",
      "==============================\n",
      "49.790092 22.764219\n",
      "[{'name': 'PM1', 'value': 41.59}, {'name': 'PM25', 'value': 69.11}, {'name': 'PM10', 'value': 86.52}, {'name': 'PRESSURE', 'value': 1008.2}, {'name': 'HUMIDITY', 'value': 79.85}, {'name': 'TEMPERATURE', 'value': 5.58}]\n",
      "==============================\n",
      "49.785359 22.777245\n",
      "[{'name': 'PM1', 'value': 21.0}, {'name': 'PM25', 'value': 34.16}, {'name': 'PM10', 'value': 42.99}, {'name': 'PRESSURE', 'value': 1008.4}, {'name': 'HUMIDITY', 'value': 65.57}, {'name': 'TEMPERATURE', 'value': 5.6}]\n",
      "==============================\n",
      "49.784339 22.756239\n",
      "[{'name': 'PM1', 'value': 48.27}, {'name': 'PM25', 'value': 80.59}, {'name': 'PM10', 'value': 100.98}, {'name': 'PRESSURE', 'value': 1008.16}, {'name': 'HUMIDITY', 'value': 81.65}, {'name': 'TEMPERATURE', 'value': 5.52}]\n",
      "==============================\n",
      "49.780142 22.777301\n",
      "[{'name': 'PM1', 'value': 20.99}, {'name': 'PM25', 'value': 34.14}, {'name': 'PM10', 'value': 42.97}, {'name': 'PRESSURE', 'value': 1008.4}, {'name': 'HUMIDITY', 'value': 65.57}, {'name': 'TEMPERATURE', 'value': 5.6}]\n",
      "==============================\n",
      "49.782506 22.784399\n",
      "[{'name': 'PM1', 'value': 21.41}, {'name': 'PM25', 'value': 34.24}, {'name': 'PM10', 'value': 42.54}, {'name': 'PRESSURE', 'value': 1008.15}, {'name': 'HUMIDITY', 'value': 73.46}, {'name': 'TEMPERATURE', 'value': 5.75}]\n",
      "==============================\n",
      "49.591738 22.627888\n",
      "50.012083 22.674772\n",
      "50.017176 22.681201\n"
     ]
    }
   ],
   "source": [
    "# Przykład podobny, pobranie danych z 10 czujników będących najbliżej Przemyśla i ich wyświetlenie (Należy pamiętać, że 3600 sekund = 60 minut = 1 stopień)\n",
    "\n",
    "lat = 49 + 47/60 + 5/3600\n",
    "lon = 22 + 46/60 + 2/3600\n",
    "\n",
    "# Część pobierająca dane O czujnikach\n",
    "\n",
    "url = 'https://airapi.airly.eu/v2/installations/nearest?lat={}&lng={}&maxDistanceKM=30&maxResults=10'\\\n",
    "    .format(str(lat), str(lon))\n",
    "\n",
    "apikey = airyAPI \n",
    "\n",
    "req = urllib.request.Request(url, headers={'apikey':apikey})\n",
    "resp = urllib.request.urlopen(req)\n",
    "content = resp.read()\n",
    "\n",
    "data = json.loads(content)\n",
    "\n",
    "# Część pobierająca i wysyłająca dane Z czujników\n",
    "\n",
    "for obj in data:\n",
    "    lan = obj['location']['latitude']\n",
    "    lon = obj['location']['longitude']\n",
    "    url = 'https://airapi.airly.eu/v2/measurements/point?lat={}&lng={}'.format(str(lat), str(lon))\n",
    "    req = urllib.request.Request(url, headers={'apikey':apikey})\n",
    "    resp = urllib.request.urlopen(req)\n",
    "    content = resp.read()\n",
    "    data = json.loads(content)\n",
    "    if len(data['current']['values']) >= 1:\n",
    "        print(lan, lon)\n",
    "        print(data['current']['values'])\n",
    "        print(30*\"=\")"
   ]
  },
  {
   "source": [
    "<h1> Praca z Luftdafen </h1>"
   ],
   "cell_type": "markdown",
   "metadata": {}
  },
  {
   "cell_type": "code",
   "execution_count": 26,
   "metadata": {
    "tags": []
   },
   "outputs": [
    {
     "output_type": "stream",
     "name": "stdout",
     "text": [
      "{'id': 4264059883, 'sampling_rate': None, 'timestamp': '2021-03-14 20:46:41', 'location': {'id': 31113, 'latitude': '49.92610239847', 'longitude': '22.70082771778', 'altitude': '216.3', 'country': 'PL', 'exact_location': 1, 'indoor': 0}, 'sensor': {'id': 45377, 'pin': '11', 'sensor_type': {'id': 17, 'name': 'BME280', 'manufacturer': 'Bosch'}}, 'sensordatavalues': [{'id': 9273663641, 'value': '7.31', 'value_type': 'temperature'}, {'id': 9273663643, 'value': '58.28', 'value_type': 'humidity'}, {'id': 9273663645, 'value': '98292.59', 'value_type': 'pressure'}, {'value': 100909.72, 'value_type': 'pressure_at_sealevel'}]}\n{'id': 4264059829, 'sampling_rate': None, 'timestamp': '2021-03-14 20:46:41', 'location': {'id': 31113, 'latitude': '49.92610239847', 'longitude': '22.70082771778', 'altitude': '216.3', 'country': 'PL', 'exact_location': 1, 'indoor': 0}, 'sensor': {'id': 45376, 'pin': '1', 'sensor_type': {'id': 14, 'name': 'SDS011', 'manufacturer': 'Nova Fitness'}}, 'sensordatavalues': [{'id': 9273663507, 'value': '16.32', 'value_type': 'P1'}, {'id': 9273663509, 'value': '11.45', 'value_type': 'P2'}]}\n{'id': 4264057102, 'sampling_rate': None, 'timestamp': '2021-03-14 20:46:28', 'location': {'id': 32089, 'latitude': '49.94899007253', 'longitude': '22.02867954969', 'altitude': '252.0', 'country': 'PL', 'exact_location': 1, 'indoor': 0}, 'sensor': {'id': 46386, 'pin': '19', 'sensor_type': {'id': 35, 'name': 'Radiation SBM-19', 'manufacturer': 'EcoCurious'}}, 'sensordatavalues': [{'id': 9273657461, 'value': '24', 'value_type': 'counts_per_minute'}]}\n{'id': 4264053803, 'sampling_rate': None, 'timestamp': '2021-03-14 20:46:08', 'location': {'id': 31113, 'latitude': '49.92610239847', 'longitude': '22.70082771778', 'altitude': '216.3', 'country': 'PL', 'exact_location': 1, 'indoor': 0}, 'sensor': {'id': 45377, 'pin': '11', 'sensor_type': {'id': 17, 'name': 'BME280', 'manufacturer': 'Bosch'}}, 'sensordatavalues': [{'id': 9273650133, 'value': '7.33', 'value_type': 'temperature'}, {'id': 9273650156, 'value': '58.29', 'value_type': 'humidity'}, {'id': 9273650165, 'value': '98285.41', 'value_type': 'pressure'}, {'value': 100902.16, 'value_type': 'pressure_at_sealevel'}]}\n{'id': 4264053657, 'sampling_rate': None, 'timestamp': '2021-03-14 20:46:07', 'location': {'id': 31113, 'latitude': '49.92610239847', 'longitude': '22.70082771778', 'altitude': '216.3', 'country': 'PL', 'exact_location': 1, 'indoor': 0}, 'sensor': {'id': 45376, 'pin': '1', 'sensor_type': {'id': 14, 'name': 'SDS011', 'manufacturer': 'Nova Fitness'}}, 'sensordatavalues': [{'id': 9273649831, 'value': '14.65', 'value_type': 'P1'}, {'id': 9273649840, 'value': '10.58', 'value_type': 'P2'}]}\n{'id': 4264052230, 'sampling_rate': None, 'timestamp': '2021-03-14 20:46:00', 'location': {'id': 42864, 'latitude': '49.84656196582', 'longitude': '22.76378452778', 'altitude': '230.9', 'country': 'PL', 'exact_location': 1, 'indoor': 0}, 'sensor': {'id': 56973, 'pin': '1', 'sensor_type': {'id': 14, 'name': 'SDS011', 'manufacturer': 'Nova Fitness'}}, 'sensordatavalues': [{'id': 9273646669, 'value': '18.73', 'value_type': 'P1'}, {'id': 9273646672, 'value': '10.15', 'value_type': 'P2'}]}\n{'id': 4264047409, 'sampling_rate': None, 'timestamp': '2021-03-14 20:45:34', 'location': {'id': 31113, 'latitude': '49.92610239847', 'longitude': '22.70082771778', 'altitude': '216.3', 'country': 'PL', 'exact_location': 1, 'indoor': 0}, 'sensor': {'id': 45377, 'pin': '11', 'sensor_type': {'id': 17, 'name': 'BME280', 'manufacturer': 'Bosch'}}, 'sensordatavalues': [{'id': 9273636102, 'value': '7.33', 'value_type': 'temperature'}, {'id': 9273636140, 'value': '58.32', 'value_type': 'humidity'}, {'id': 9273636150, 'value': '98287.53', 'value_type': 'pressure'}, {'value': 100904.33, 'value_type': 'pressure_at_sealevel'}]}\n{'id': 4264047318, 'sampling_rate': None, 'timestamp': '2021-03-14 20:45:34', 'location': {'id': 31113, 'latitude': '49.92610239847', 'longitude': '22.70082771778', 'altitude': '216.3', 'country': 'PL', 'exact_location': 1, 'indoor': 0}, 'sensor': {'id': 45376, 'pin': '1', 'sensor_type': {'id': 14, 'name': 'SDS011', 'manufacturer': 'Nova Fitness'}}, 'sensordatavalues': [{'id': 9273635859, 'value': '15.40', 'value_type': 'P1'}, {'id': 9273635870, 'value': '10.78', 'value_type': 'P2'}]}\n{'id': 4264046119, 'sampling_rate': None, 'timestamp': '2021-03-14 20:45:28', 'location': {'id': 32089, 'latitude': '49.94899007253', 'longitude': '22.02867954969', 'altitude': '252.0', 'country': 'PL', 'exact_location': 1, 'indoor': 0}, 'sensor': {'id': 46386, 'pin': '19', 'sensor_type': {'id': 35, 'name': 'Radiation SBM-19', 'manufacturer': 'EcoCurious'}}, 'sensordatavalues': [{'id': 9273633230, 'value': '20', 'value_type': 'counts_per_minute'}]}\n{'id': 4264044518, 'sampling_rate': None, 'timestamp': '2021-03-14 20:45:18', 'location': {'id': 30501, 'latitude': '50.01369959096', 'longitude': '22.01811701059', 'altitude': '205.2', 'country': 'PL', 'exact_location': 1, 'indoor': 1}, 'sensor': {'id': 40251, 'pin': '11', 'sensor_type': {'id': 17, 'name': 'BME280', 'manufacturer': 'Bosch'}}, 'sensordatavalues': [{'id': 9273629749, 'value': '4.94', 'value_type': 'temperature'}, {'id': 9273629751, 'value': '98450.75', 'value_type': 'pressure'}, {'id': 9273629752, 'value': '67.09', 'value_type': 'humidity'}, {'value': 100957.6, 'value_type': 'pressure_at_sealevel'}]}\n{'id': 4264044507, 'sampling_rate': None, 'timestamp': '2021-03-14 20:45:18', 'location': {'id': 30501, 'latitude': '50.01369959096', 'longitude': '22.01811701059', 'altitude': '205.2', 'country': 'PL', 'exact_location': 1, 'indoor': 1}, 'sensor': {'id': 40250, 'pin': '1', 'sensor_type': {'id': 14, 'name': 'SDS011', 'manufacturer': 'Nova Fitness'}}, 'sensordatavalues': [{'id': 9273629725, 'value': '15.30', 'value_type': 'P1'}, {'id': 9273629726, 'value': '8.55', 'value_type': 'P2'}]}\n{'id': 4264043138, 'sampling_rate': None, 'timestamp': '2021-03-14 20:45:12', 'location': {'id': 32088, 'latitude': '49.94902113907', 'longitude': '22.02868491411', 'altitude': '252.2', 'country': 'PL', 'exact_location': 1, 'indoor': 0}, 'sensor': {'id': 46384, 'pin': '2', 'sensor_type': {'id': 17, 'name': 'BME280', 'manufacturer': 'Bosch'}}, 'sensordatavalues': [{'id': 9273626720, 'value': '4.26', 'value_type': 'temperature'}, {'id': 9273626737, 'value': '82.1865', 'value_type': 'humidity'}, {'id': 9273626742, 'value': '100817.18', 'value_type': 'pressure'}, {'value': 103987.51, 'value_type': 'pressure_at_sealevel'}]}\n{'id': 4264041914, 'sampling_rate': None, 'timestamp': '2021-03-14 20:45:05', 'location': {'id': 32048, 'latitude': '49.902', 'longitude': '22.508', 'altitude': '244.4', 'country': 'PL', 'exact_location': 0, 'indoor': 0}, 'sensor': {'id': 37634, 'pin': '11', 'sensor_type': {'id': 17, 'name': 'BME280', 'manufacturer': 'Bosch'}}, 'sensordatavalues': [{'id': 9273623989, 'value': '4.86', 'value_type': 'temperature'}, {'id': 9273623992, 'value': '97887.09', 'value_type': 'pressure'}, {'id': 9273624017, 'value': '67.48', 'value_type': 'humidity'}, {'value': 100862.4, 'value_type': 'pressure_at_sealevel'}]}\n{'id': 4264041672, 'sampling_rate': None, 'timestamp': '2021-03-14 20:45:04', 'location': {'id': 32048, 'latitude': '49.902', 'longitude': '22.508', 'altitude': '244.4', 'country': 'PL', 'exact_location': 0, 'indoor': 0}, 'sensor': {'id': 37633, 'pin': '1', 'sensor_type': {'id': 14, 'name': 'SDS011', 'manufacturer': 'Nova Fitness'}}, 'sensordatavalues': [{'id': 9273623392, 'value': '20.83', 'value_type': 'P1'}, {'id': 9273623428, 'value': '10.67', 'value_type': 'P2'}]}\n{'id': 4264041032, 'sampling_rate': None, 'timestamp': '2021-03-14 20:45:01', 'location': {'id': 31113, 'latitude': '49.92610239847', 'longitude': '22.70082771778', 'altitude': '216.3', 'country': 'PL', 'exact_location': 1, 'indoor': 0}, 'sensor': {'id': 45377, 'pin': '11', 'sensor_type': {'id': 17, 'name': 'BME280', 'manufacturer': 'Bosch'}}, 'sensordatavalues': [{'id': 9273622062, 'value': '7.34', 'value_type': 'temperature'}, {'id': 9273622069, 'value': '58.40', 'value_type': 'humidity'}, {'id': 9273622071, 'value': '98288.31', 'value_type': 'pressure'}, {'value': 100905.04, 'value_type': 'pressure_at_sealevel'}]}\n{'id': 4264040954, 'sampling_rate': None, 'timestamp': '2021-03-14 20:45:00', 'location': {'id': 31113, 'latitude': '49.92610239847', 'longitude': '22.70082771778', 'altitude': '216.3', 'country': 'PL', 'exact_location': 1, 'indoor': 0}, 'sensor': {'id': 45376, 'pin': '1', 'sensor_type': {'id': 14, 'name': 'SDS011', 'manufacturer': 'Nova Fitness'}}, 'sensordatavalues': [{'id': 9273621868, 'value': '15.63', 'value_type': 'P1'}, {'id': 9273621870, 'value': '10.43', 'value_type': 'P2'}]}\n{'id': 4264036095, 'sampling_rate': None, 'timestamp': '2021-03-14 20:44:28', 'location': {'id': 32089, 'latitude': '49.94899007253', 'longitude': '22.02867954969', 'altitude': '252.0', 'country': 'PL', 'exact_location': 1, 'indoor': 0}, 'sensor': {'id': 46386, 'pin': '19', 'sensor_type': {'id': 35, 'name': 'Radiation SBM-19', 'manufacturer': 'EcoCurious'}}, 'sensordatavalues': [{'id': 9273611165, 'value': '13', 'value_type': 'counts_per_minute'}]}\n{'id': 4264036054, 'sampling_rate': None, 'timestamp': '2021-03-14 20:44:28', 'location': {'id': 31113, 'latitude': '49.92610239847', 'longitude': '22.70082771778', 'altitude': '216.3', 'country': 'PL', 'exact_location': 1, 'indoor': 0}, 'sensor': {'id': 45377, 'pin': '11', 'sensor_type': {'id': 17, 'name': 'BME280', 'manufacturer': 'Bosch'}}, 'sensordatavalues': [{'id': 9273611077, 'value': '7.35', 'value_type': 'temperature'}, {'id': 9273611078, 'value': '58.42', 'value_type': 'humidity'}, {'id': 9273611079, 'value': '98291.23', 'value_type': 'pressure'}, {'value': 100907.94, 'value_type': 'pressure_at_sealevel'}]}\n{'id': 4264036015, 'sampling_rate': None, 'timestamp': '2021-03-14 20:44:28', 'location': {'id': 31113, 'latitude': '49.92610239847', 'longitude': '22.70082771778', 'altitude': '216.3', 'country': 'PL', 'exact_location': 1, 'indoor': 0}, 'sensor': {'id': 45376, 'pin': '1', 'sensor_type': {'id': 14, 'name': 'SDS011', 'manufacturer': 'Nova Fitness'}}, 'sensordatavalues': [{'id': 9273610983, 'value': '16.42', 'value_type': 'P1'}, {'id': 9273610985, 'value': '10.88', 'value_type': 'P2'}]}\n{'id': 4264030023, 'sampling_rate': None, 'timestamp': '2021-03-14 20:43:56', 'location': {'id': 31113, 'latitude': '49.92610239847', 'longitude': '22.70082771778', 'altitude': '216.3', 'country': 'PL', 'exact_location': 1, 'indoor': 0}, 'sensor': {'id': 45377, 'pin': '11', 'sensor_type': {'id': 17, 'name': 'BME280', 'manufacturer': 'Bosch'}}, 'sensordatavalues': [{'id': 9273597750, 'value': '7.35', 'value_type': 'temperature'}, {'id': 9273597751, 'value': '58.44', 'value_type': 'humidity'}, {'id': 9273597752, 'value': '98292.54', 'value_type': 'pressure'}, {'value': 100909.29, 'value_type': 'pressure_at_sealevel'}]}\n{'id': 4264029975, 'sampling_rate': None, 'timestamp': '2021-03-14 20:43:55', 'location': {'id': 31113, 'latitude': '49.92610239847', 'longitude': '22.70082771778', 'altitude': '216.3', 'country': 'PL', 'exact_location': 1, 'indoor': 0}, 'sensor': {'id': 45376, 'pin': '1', 'sensor_type': {'id': 14, 'name': 'SDS011', 'manufacturer': 'Nova Fitness'}}, 'sensordatavalues': [{'id': 9273597646, 'value': '16.95', 'value_type': 'P1'}, {'id': 9273597647, 'value': '11.25', 'value_type': 'P2'}]}\n{'id': 4264025154, 'sampling_rate': None, 'timestamp': '2021-03-14 20:43:28', 'location': {'id': 32089, 'latitude': '49.94899007253', 'longitude': '22.02867954969', 'altitude': '252.0', 'country': 'PL', 'exact_location': 1, 'indoor': 0}, 'sensor': {'id': 46386, 'pin': '19', 'sensor_type': {'id': 35, 'name': 'Radiation SBM-19', 'manufacturer': 'EcoCurious'}}, 'sensordatavalues': [{'id': 9273586946, 'value': '17', 'value_type': 'counts_per_minute'}]}\n{'id': 4264025028, 'sampling_rate': None, 'timestamp': '2021-03-14 20:43:28', 'location': {'id': 42864, 'latitude': '49.84656196582', 'longitude': '22.76378452778', 'altitude': '230.9', 'country': 'PL', 'exact_location': 1, 'indoor': 0}, 'sensor': {'id': 56973, 'pin': '1', 'sensor_type': {'id': 14, 'name': 'SDS011', 'manufacturer': 'Nova Fitness'}}, 'sensordatavalues': [{'id': 9273586683, 'value': '21.60', 'value_type': 'P1'}, {'id': 9273586687, 'value': '10.35', 'value_type': 'P2'}]}\n{'id': 4264024323, 'sampling_rate': None, 'timestamp': '2021-03-14 20:43:23', 'location': {'id': 31113, 'latitude': '49.92610239847', 'longitude': '22.70082771778', 'altitude': '216.3', 'country': 'PL', 'exact_location': 1, 'indoor': 0}, 'sensor': {'id': 45377, 'pin': '11', 'sensor_type': {'id': 17, 'name': 'BME280', 'manufacturer': 'Bosch'}}, 'sensordatavalues': [{'id': 9273585116, 'value': '7.35', 'value_type': 'temperature'}, {'id': 9273585122, 'value': '58.47', 'value_type': 'humidity'}, {'id': 9273585128, 'value': '98293.36', 'value_type': 'pressure'}, {'value': 100910.13, 'value_type': 'pressure_at_sealevel'}]}\n{'id': 4264024258, 'sampling_rate': None, 'timestamp': '2021-03-14 20:43:23', 'location': {'id': 31113, 'latitude': '49.92610239847', 'longitude': '22.70082771778', 'altitude': '216.3', 'country': 'PL', 'exact_location': 1, 'indoor': 0}, 'sensor': {'id': 45376, 'pin': '1', 'sensor_type': {'id': 14, 'name': 'SDS011', 'manufacturer': 'Nova Fitness'}}, 'sensordatavalues': [{'id': 9273584978, 'value': '15.08', 'value_type': 'P1'}, {'id': 9273584979, 'value': '10.60', 'value_type': 'P2'}]}\n{'id': 4264023578, 'sampling_rate': None, 'timestamp': '2021-03-14 20:43:18', 'location': {'id': 30501, 'latitude': '50.01369959096', 'longitude': '22.01811701059', 'altitude': '205.2', 'country': 'PL', 'exact_location': 1, 'indoor': 1}, 'sensor': {'id': 40251, 'pin': '11', 'sensor_type': {'id': 17, 'name': 'BME280', 'manufacturer': 'Bosch'}}, 'sensordatavalues': [{'id': 9273583476, 'value': '5.26', 'value_type': 'temperature'}, {'id': 9273583477, 'value': '98440.38', 'value_type': 'pressure'}, {'id': 9273583478, 'value': '66.48', 'value_type': 'humidity'}, {'value': 100944.06, 'value_type': 'pressure_at_sealevel'}]}\n{'id': 4264023559, 'sampling_rate': None, 'timestamp': '2021-03-14 20:43:18', 'location': {'id': 30501, 'latitude': '50.01369959096', 'longitude': '22.01811701059', 'altitude': '205.2', 'country': 'PL', 'exact_location': 1, 'indoor': 1}, 'sensor': {'id': 40250, 'pin': '1', 'sensor_type': {'id': 14, 'name': 'SDS011', 'manufacturer': 'Nova Fitness'}}, 'sensordatavalues': [{'id': 9273583437, 'value': '15.02', 'value_type': 'P1'}, {'id': 9273583438, 'value': '7.82', 'value_type': 'P2'}]}\n{'id': 4264018125, 'sampling_rate': None, 'timestamp': '2021-03-14 20:42:50', 'location': {'id': 31113, 'latitude': '49.92610239847', 'longitude': '22.70082771778', 'altitude': '216.3', 'country': 'PL', 'exact_location': 1, 'indoor': 0}, 'sensor': {'id': 45377, 'pin': '11', 'sensor_type': {'id': 17, 'name': 'BME280', 'manufacturer': 'Bosch'}}, 'sensordatavalues': [{'id': 9273571484, 'value': '7.34', 'value_type': 'temperature'}, {'id': 9273571492, 'value': '58.51', 'value_type': 'humidity'}, {'id': 9273571504, 'value': '98287.81', 'value_type': 'pressure'}, {'value': 100904.53, 'value_type': 'pressure_at_sealevel'}]}\n{'id': 4264018040, 'sampling_rate': None, 'timestamp': '2021-03-14 20:42:50', 'location': {'id': 31113, 'latitude': '49.92610239847', 'longitude': '22.70082771778', 'altitude': '216.3', 'country': 'PL', 'exact_location': 1, 'indoor': 0}, 'sensor': {'id': 45376, 'pin': '1', 'sensor_type': {'id': 14, 'name': 'SDS011', 'manufacturer': 'Nova Fitness'}}, 'sensordatavalues': [{'id': 9273571303, 'value': '18.27', 'value_type': 'P1'}, {'id': 9273571306, 'value': '11.88', 'value_type': 'P2'}]}\n{'id': 4264015762, 'sampling_rate': None, 'timestamp': '2021-03-14 20:42:37', 'location': {'id': 32048, 'latitude': '49.902', 'longitude': '22.508', 'altitude': '244.4', 'country': 'PL', 'exact_location': 0, 'indoor': 0}, 'sensor': {'id': 37634, 'pin': '11', 'sensor_type': {'id': 17, 'name': 'BME280', 'manufacturer': 'Bosch'}}, 'sensordatavalues': [{'id': 9273566280, 'value': '4.89', 'value_type': 'temperature'}, {'id': 9273566282, 'value': '97890.44', 'value_type': 'pressure'}, {'id': 9273566284, 'value': '67.16', 'value_type': 'humidity'}, {'value': 100865.53, 'value_type': 'pressure_at_sealevel'}]}\n{'id': 4264015724, 'sampling_rate': None, 'timestamp': '2021-03-14 20:42:37', 'location': {'id': 32048, 'latitude': '49.902', 'longitude': '22.508', 'altitude': '244.4', 'country': 'PL', 'exact_location': 0, 'indoor': 0}, 'sensor': {'id': 37633, 'pin': '1', 'sensor_type': {'id': 14, 'name': 'SDS011', 'manufacturer': 'Nova Fitness'}}, 'sensordatavalues': [{'id': 9273566179, 'value': '22.83', 'value_type': 'P1'}, {'id': 9273566180, 'value': '12.57', 'value_type': 'P2'}]}\n{'id': 4264014070, 'sampling_rate': None, 'timestamp': '2021-03-14 20:42:30', 'location': {'id': 32089, 'latitude': '49.94899007253', 'longitude': '22.02867954969', 'altitude': '252.0', 'country': 'PL', 'exact_location': 1, 'indoor': 0}, 'sensor': {'id': 46385, 'pin': '1', 'sensor_type': {'id': 23, 'name': 'PMS5003', 'manufacturer': 'Plantower'}}, 'sensordatavalues': [{'id': 9273562586, 'value': '23', 'value_type': 'P1'}, {'id': 9273562596, 'value': '24', 'value_type': 'P2'}, {'id': 9273562619, 'value': '17', 'value_type': 'P0'}]}\n{'id': 4264013837, 'sampling_rate': None, 'timestamp': '2021-03-14 20:42:29', 'location': {'id': 32088, 'latitude': '49.94902113907', 'longitude': '22.02868491411', 'altitude': '252.2', 'country': 'PL', 'exact_location': 1, 'indoor': 0}, 'sensor': {'id': 46383, 'pin': '1', 'sensor_type': {'id': 14, 'name': 'SDS011', 'manufacturer': 'Nova Fitness'}}, 'sensordatavalues': [{'id': 9273562055, 'value': '8.6', 'value_type': 'P1'}, {'id': 9273562056, 'value': '14.01', 'value_type': 'P2'}]}\n{'id': 4264013722, 'sampling_rate': None, 'timestamp': '2021-03-14 20:42:28', 'location': {'id': 32089, 'latitude': '49.94899007253', 'longitude': '22.02867954969', 'altitude': '252.0', 'country': 'PL', 'exact_location': 1, 'indoor': 0}, 'sensor': {'id': 46386, 'pin': '19', 'sensor_type': {'id': 35, 'name': 'Radiation SBM-19', 'manufacturer': 'EcoCurious'}}, 'sensordatavalues': [{'id': 9273561809, 'value': '18', 'value_type': 'counts_per_minute'}]}\n{'id': 4264012462, 'sampling_rate': None, 'timestamp': '2021-03-14 20:42:18', 'location': {'id': 31113, 'latitude': '49.92610239847', 'longitude': '22.70082771778', 'altitude': '216.3', 'country': 'PL', 'exact_location': 1, 'indoor': 0}, 'sensor': {'id': 45377, 'pin': '11', 'sensor_type': {'id': 17, 'name': 'BME280', 'manufacturer': 'Bosch'}}, 'sensordatavalues': [{'id': 9273559013, 'value': '7.34', 'value_type': 'temperature'}, {'id': 9273559017, 'value': '58.54', 'value_type': 'humidity'}, {'id': 9273559018, 'value': '98290.91', 'value_type': 'pressure'}, {'value': 100907.71, 'value_type': 'pressure_at_sealevel'}]}\n{'id': 4264012425, 'sampling_rate': None, 'timestamp': '2021-03-14 20:42:17', 'location': {'id': 31113, 'latitude': '49.92610239847', 'longitude': '22.70082771778', 'altitude': '216.3', 'country': 'PL', 'exact_location': 1, 'indoor': 0}, 'sensor': {'id': 45376, 'pin': '1', 'sensor_type': {'id': 14, 'name': 'SDS011', 'manufacturer': 'Nova Fitness'}}, 'sensordatavalues': [{'id': 9273558931, 'value': '18.37', 'value_type': 'P1'}, {'id': 9273558932, 'value': '12.03', 'value_type': 'P2'}]}\n"
     ]
    }
   ],
   "source": [
    "#Filtrowanie czujni9ków z okolic Przemyśla\n",
    "\n",
    "url = 'http://api.luftdaten.info/static/v1/data.json'\n",
    "\n",
    "req = urllib.request.Request(url)\n",
    "resp = urllib.request.urlopen(req)\n",
    "content = resp.read()\n",
    "\n",
    "data = json.loads(content)\n",
    "\n",
    "sz2 = 50.041229\n",
    "dl1 = 21.9927\n",
    "sz1 = 49.8253\n",
    "dl2 = 22.8065\n",
    "\n",
    "lista = []\n",
    "\n",
    "for d in data:\n",
    "    try:\n",
    "        if sz1 <= float(d['location']['latitude']) <= sz2 and dl1 <= float(d['location']['longitude']) <= dl2 :\n",
    "            print(d)\n",
    "    except:\n",
    "        pass"
   ]
  },
  {
   "source": [
    "<h1> Praca z API USGS  </h1>"
   ],
   "cell_type": "markdown",
   "metadata": {}
  },
  {
   "cell_type": "code",
   "execution_count": null,
   "metadata": {},
   "outputs": [],
   "source": [
    "    \n",
    "r = requests.get('https://earthquake.usgs.gov/earthquakes/feed/v1.0/summary/all_day.geojson')\n",
    "print(r.status_code)\n",
    "print(r.encoding)\n",
    "print(r.text)\n",
    "data = r.json()\n",
    "print(data)\n",
    "\n",
    "import functools\n",
    "\n",
    "@functools.lru_cache()\n",
    "def myRequest(url, myheaders=None):\n",
    "    if myheaders == None:\n",
    "        req = urllib.request.Request(url)\n",
    "        resp = urllib.request.urlopen(req)\n",
    "        content = resp.read()\n",
    "        return json.loads(content)\n",
    "    else:\n",
    "        req = urllib.request.Request(url, headers=myheaders)\n",
    "        resp = urllib.request.urlopen(req)\n",
    "        content = resp.read()\n",
    "        return json.loads(content)\n",
    "    \n",
    "data = myRequest('https://api.exchangeratesapi.io/2010-01-12')"
   ]
  },
  {
   "cell_type": "code",
   "execution_count": null,
   "metadata": {},
   "outputs": [],
   "source": [
    "\n",
    "\n",
    "# GEOJSON trzęsienia ziemi\n",
    "\n",
    "url  = 'https://earthquake.usgs.gov/earthquakes/feed/v1.0/summary/all_day.geojson'\n",
    "\n",
    "req = urllib.request.Request(url)\n",
    "resp = urllib.request.urlopen(req)\n",
    "content = resp.read()\n",
    "\n",
    "data = json.loads(content)\n",
    "\n",
    "# * do zrobienia *\n",
    "\n",
    "\n",
    "# Praca z API USGS\n",
    "\n",
    "import functools\n",
    "\n",
    "\n",
    "@functools.lru_cache(maxsize=None)\n",
    "def kurs():\n",
    "    req = urllib.request.Request(url)\n",
    "    resp = urllib.request.urlopen(req)\n",
    "    content = resp.read()\n",
    "    data = json.loads(content)\n",
    "    return None\n",
    "\n",
    "kurs()\n",
    "print(data['rates'].keys())\n",
    "\n",
    "for i in data['rates'].keys():\n",
    "    print(\"1 EUR to\", data['rates'].get(i), i)\n",
    "\n",
    "\n",
    "# Wysyłanie maili\n",
    "\n",
    "import smtplib\n",
    "\n",
    "MailFrom = 'Uczestnik Bootcampu'\n",
    "MailTo = 'matboj5@gmail.com'\n",
    "MailSubject = 'TEST TEST TEST'\n",
    "\n",
    "MailBody =\\\n",
    "    '''Czesc\n",
    "    \n",
    "    przesylam probnego maila.'''\n",
    "    \n",
    "message = '''From: {}\n",
    "    Subject: {}\n",
    "    \n",
    "    {}'''.format(MailFrom, MailSubject, MailBody)\n",
    "    \n",
    "user = 'matboj10@gmail.com'\n",
    "password = input(\"Podaj hasło: \")\n",
    "server = smtplib.SMTP_SSL('smtp.gmail.com', 465)\n",
    "server.ehlo()\n",
    "server.login(user, password)\n",
    "server.sendmail(user, MailTo, message)\n",
    "server.close()\n",
    "\n",
    "print(\"Podano maila pomylnie\")\n",
    "\n",
    "\n",
    "# Pobieranie stron internetowych\n",
    "\n",
    "def pobierzStroneWWW(url, directory, fileName):\n",
    "    import os\n",
    "    \n",
    "    print(\"Rozpoczęto proces pobierania strony\")\n",
    "    \n",
    "    r = requests.get(url, stream = True)\n",
    "    file_path = os.path.join(directory, fileName)\n",
    "    with open(file_path, 'wb') as f:\n",
    "        f.write(r.content)\n",
    "        \n",
    "pobierzStroneWWW(r'https://www.programcreek.com/python/example/6443/smtplib.SMTP_SSL',\n",
    "                 r'C:\\Users\\User\\Projekty\\bootcamp\\7 Zajęcia Python, API\\',\n",
    "                 'index.html')\n",
    "\n",
    "\n",
    "# Biblioteka shapely\n",
    "\n",
    "from shapely.geometry import Point, Polygon\n",
    "import matplotlib.pyplot as plt\n",
    "\n",
    "p1 = Point(24, 60)\n",
    "p2 = Point(25, 65)\n",
    "\n",
    "coords = [(24,25), (22,21), (20,23)]\n",
    "Poligon = Polygon(coords)\n",
    "\n",
    "print(p1.within(Poligon))\n",
    "\n",
    "x,y = Poligon.exterior.xy\n",
    "print(x)\n",
    "print(y)\n",
    "\n",
    "print(Poligon.area)\n",
    "\n",
    "\n",
    "cords2 = [(0, 0), (1,0), (1,1), (0,1)]\n",
    "kwadrat = Polygon(cords2)\n",
    "\n",
    "print(kwadrat.area)\n",
    "\n",
    "\n",
    "cords3 = [(-1,0), (0,2), (2,5), (5, -2)]\n",
    "trojkat = Polygon(cords3)\n",
    "\n",
    "print(trojkat.area)\n",
    "\n",
    "print(trojkat.intersects(kwadrat))"
   ]
  }
 ]
}