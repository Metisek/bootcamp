{
 "metadata": {
  "language_info": {
   "codemirror_mode": {
    "name": "ipython",
    "version": 3
   },
   "file_extension": ".py",
   "mimetype": "text/x-python",
   "name": "python",
   "nbconvert_exporter": "python",
   "pygments_lexer": "ipython3",
   "version": "3.7.10-final"
  },
  "orig_nbformat": 2,
  "kernelspec": {
   "name": "python3",
   "display_name": "Python 3.7.10 64-bit ('bootcamp': conda)",
   "metadata": {
    "interpreter": {
     "hash": "2fec4edc1429c0b0ab5d9b2e5c4f5e84226191a7c9385fb78ee37cfe586946c1"
    }
   }
  }
 },
 "nbformat": 4,
 "nbformat_minor": 2,
 "cells": [
  {
   "source": [
    "<h2> Zadanie 1 </h2>"
   ],
   "cell_type": "markdown",
   "metadata": {}
  },
  {
   "cell_type": "code",
   "execution_count": null,
   "metadata": {},
   "outputs": [],
   "source": [
    "# Użyta strona z API: https://openweathermap.org/current\n",
    "\n",
    "apikey = f11950d3e87b641162e444ae5e114840"
   ]
  },
  {
   "source": [
    "<h2> Zadanie 2 </h2>"
   ],
   "cell_type": "markdown",
   "metadata": {}
  },
  {
   "cell_type": "code",
   "execution_count": 35,
   "metadata": {},
   "outputs": [],
   "source": [
    "import requests\n",
    "\n",
    "def pobieranieWWW(url, nazwaPliku):\n",
    "    site = requests.get(url, stream=True)\n",
    "    with open(nazwaPliku, \"w\") as f:\n",
    "        x = str(site.content)\n",
    "        f.write(x)\n",
    "\n",
    "url = 'http://81.161.205.29/documents/moodle/login/index.php'\n",
    "\n",
    "pobieranieWWW(url, 'plikStrony1.html')"
   ]
  },
  {
   "source": [
    "<h2> Zadanie 3 </h2>\n"
   ],
   "cell_type": "markdown",
   "metadata": {}
  },
  {
   "cell_type": "code",
   "execution_count": 11,
   "metadata": {},
   "outputs": [
    {
     "output_type": "stream",
     "name": "stdout",
     "text": [
      "Podano maila pomylnie\n"
     ]
    }
   ],
   "source": [
    "import smtplib\n",
    "\n",
    "MailFrom = 'Mateusz Bojarski'\n",
    "MailTo = 'antoni.dziedziejko@gmail.com'\n",
    "MailSubject = 'Testowy mail zadania 3'\n",
    "\n",
    "MailBody =\\\n",
    "    '''To jest próbny mail wysłany przez serwer smtplib w Pythonie.\n",
    "    \n",
    "    Dodatkowo, jako bonus dodałem obsługę znaków UTF-8, gdyż domyślnie ten serwer wspiera tylko znaki ASCII, bez polskich znaków. Będzie to w kodzie jak wyślę go w weekend.'''\n",
    "    \n",
    "message = '''From: {}\n",
    "    {}\n",
    "\n",
    "    {}'''.format(MailFrom, MailSubject, MailBody) \n",
    "\n",
    "message = message.encode(\"utf8\")    \n",
    "\n",
    "user = 'matboj10@gmail.com'\n",
    "password = input(\"Podaj hasło: \")\n",
    "server = smtplib.SMTP_SSL('smtp.gmail.com', 465)\n",
    "server.ehlo()\n",
    "server.login(user, password)\n",
    "server.sendmail(user, MailTo, message)\n",
    "server.close()\n",
    "\n",
    "print(\"Podano maila pomylnie\")"
   ]
  },
  {
   "source": [
    "<h2> Zadanie 4 </h2>\n"
   ],
   "cell_type": "markdown",
   "metadata": {}
  },
  {
   "cell_type": "code",
   "execution_count": 5,
   "metadata": {},
   "outputs": [
    {
     "output_type": "stream",
     "name": "stdout",
     "text": [
      "Podano maila pomylnie\n"
     ]
    }
   ],
   "source": [
    "\n"
   ]
  },
  {
   "cell_type": "code",
   "execution_count": null,
   "metadata": {},
   "outputs": [],
   "source": []
  }
 ]
}