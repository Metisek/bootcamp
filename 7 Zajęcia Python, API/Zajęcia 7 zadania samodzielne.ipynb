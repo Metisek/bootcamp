{
 "metadata": {
  "language_info": {
   "codemirror_mode": {
    "name": "ipython",
    "version": 3
   },
   "file_extension": ".py",
   "mimetype": "text/x-python",
   "name": "python",
   "nbconvert_exporter": "python",
   "pygments_lexer": "ipython3",
   "version": "3.7.10-final"
  },
  "orig_nbformat": 2,
  "kernelspec": {
   "name": "python3",
   "display_name": "Python 3.7.10 64-bit ('bootcamp': conda)",
   "metadata": {
    "interpreter": {
     "hash": "2fec4edc1429c0b0ab5d9b2e5c4f5e84226191a7c9385fb78ee37cfe586946c1"
    }
   }
  }
 },
 "nbformat": 4,
 "nbformat_minor": 2,
 "cells": [
  {
   "source": [
    "<h2> Zadanie 1 </h2>"
   ],
   "cell_type": "markdown",
   "metadata": {}
  },
  {
   "cell_type": "code",
   "execution_count": 16,
   "metadata": {},
   "outputs": [],
   "source": [
    "import urllib\n",
    "import json\n",
    "\n",
    "# Użyta strona z API: https://openweathermap.org/current\n",
    "\n",
    "apikey = 'f11950d3e87b641162e444ae5e114840'\n",
    "url = 'http://api.openweathermap.org/data/2.5/box/city?bbox=21,48,24,50,10&appid={}&lang=PL'.format(apikey)\n",
    "\n",
    "req = urllib.request.Request(url)\n",
    "resp = urllib.request.urlopen(req)\n",
    "content = resp.read()\n",
    "\n",
    "file = open(r'Pogoda z okolic podkarpacia.txt', 'w', encoding = 'utf8')\n",
    "\n",
    "data = json.loads(content)\n",
    "data = data['list']\n",
    "for i in data:\n",
    "    x = (str(i['name']) + \" = \" + str(i['main']['temp']) + \"°C, \" + str(i['weather'][0]['description']).title() + '\\n')\n",
    "    file.write(x)\n",
    "    \n",
    "file.close()"
   ]
  },
  {
   "source": [
    "<h2> Zadanie 2 </h2>"
   ],
   "cell_type": "markdown",
   "metadata": {}
  },
  {
   "cell_type": "code",
   "execution_count": 35,
   "metadata": {},
   "outputs": [],
   "source": [
    "import requests\n",
    "\n",
    "def pobieranieWWW(url, nazwaPliku):\n",
    "    site = requests.get(url, stream=True)\n",
    "    with open(nazwaPliku, \"w\") as f:\n",
    "        x = str(site.content)\n",
    "        f.write(x)\n",
    "\n",
    "url = 'http://81.161.205.29/documents/moodle/login/index.php'\n",
    "\n",
    "pobieranieWWW(url, 'plikStrony1.html')"
   ]
  },
  {
   "source": [
    "<h2> Zadanie 3 </h2>\n"
   ],
   "cell_type": "markdown",
   "metadata": {}
  },
  {
   "cell_type": "code",
   "execution_count": 11,
   "metadata": {},
   "outputs": [
    {
     "output_type": "stream",
     "name": "stdout",
     "text": [
      "Podano maila pomylnie\n"
     ]
    }
   ],
   "source": [
    "import smtplib\n",
    "\n",
    "MailFrom = 'Mateusz Bojarski'\n",
    "MailTo = 'antoni.dziedziejko@gmail.com'\n",
    "MailSubject = 'Testowy mail zadania 3'\n",
    "\n",
    "MailBody =\\\n",
    "    '''To jest próbny mail wysłany przez serwer smtplib w Pythonie.\n",
    "    \n",
    "    Dodatkowo, jako bonus dodałem obsługę znaków UTF-8, gdyż domyślnie ten serwer wspiera tylko znaki ASCII, bez polskich znaków. Będzie to w kodzie jak wyślę go w weekend.'''\n",
    "    \n",
    "message = '''From: {}\n",
    "    {}\n",
    "\n",
    "    {}'''.format(MailFrom, MailSubject, MailBody) \n",
    "\n",
    "message = message.encode(\"utf8\")    \n",
    "\n",
    "user = 'matboj10@gmail.com'\n",
    "password = input(\"Podaj hasło: \")\n",
    "server = smtplib.SMTP_SSL('smtp.gmail.com', 465)\n",
    "server.ehlo()\n",
    "server.login(user, password)\n",
    "server.sendmail(user, MailTo, message)\n",
    "server.close()\n",
    "\n",
    "print(\"Podano maila pomylnie\")"
   ]
  },
  {
   "source": [
    "<h2> Zadanie 4 </h2>\n"
   ],
   "cell_type": "markdown",
   "metadata": {}
  },
  {
   "cell_type": "code",
   "execution_count": 21,
   "metadata": {},
   "outputs": [],
   "source": [
    "import matplotlib.pyplot as plt\n",
    "from shapely.geometry import Polygon, Point\n",
    "import urllib\n",
    "import json\n",
    "\n",
    "url = 'http://api.luftdaten.info/static/v1/data.json'\n",
    "req = urllib.request.Request(url)\n",
    "resp = urllib.request.urlopen(req)\n",
    "content = resp.read()\n",
    "data = json.loads(content)\n",
    "\n",
    "g = open('przemyslGranice.geojson', 'r')\n",
    "granice = g.read()\n",
    "granice = json.loads(granice)\n",
    "\n",
    "lista = granice['features'][0]['geometry']['coordinates'][0]\n",
    "polyg = []\n",
    "for i in range(0, len(lista)):\n",
    "    polyg.append(tuple(lista[i]))\n",
    "\n",
    "polyg = Polygon(polyg)\n",
    "file = open('Czujniki_Przemysl.geojson', 'w')\n",
    "for i in data:\n",
    "    lat = i['location']['latitude']\n",
    "    lon = i['location']['longitude']\n",
    "    point = Point(float(lon), float(lat))\n",
    "    if point.within(polyg) == True:\n",
    "        file.write(str(i))\n",
    "\n",
    "file.close()"
   ]
  },
  {
   "cell_type": "code",
   "execution_count": null,
   "metadata": {},
   "outputs": [],
   "source": []
  }
 ]
}